{
 "cells": [
  {
   "cell_type": "markdown",
   "metadata": {},
   "source": [
    "### 1. 함수의 정의\n",
    "\n",
    "+ 일정한 작업을 수행하는 코드 블럭\n",
    "\n",
    "\n",
    "### 2. 함수의 장점\n",
    "\n",
    "+ 반복적인 코드를 없애주어 전체 코드의 길이를 짧게 만들어준다.(재사용)\n",
    "+ 프로그램의 유지 보수를 쉽게 만들어준다.\n",
    "\n",
    "\n",
    "### 3. 함수의 구현\n",
    "\n",
    "    def 함수이름():\n",
    "        코드 정의 \n",
    "        ...\n",
    "        [return ...]\n",
    "\n",
    "\n",
    "### 4. 함수의 호출 방식\n",
    "\n",
    "    1) 인자(인수)가 없는 방식\n",
    "    2) 인자가 있는 방식\n",
    "    3) 반환값(return value)이 있는 방식  \n",
    "    4) return의 두 가지 기능 \n",
    "        - 값을 반환\n",
    "        - 함수의 강제 종료\n",
    "        \n",
    "\n",
    "### 5. 함수의 설계\n",
    "    \n",
    "    1) 단일 기능\n",
    "    2) 재사용성\n",
    "\n",
    "\n",
    "### 6. 함수의 종류\n",
    "    \n",
    "    1) 사용자 정의 함수(User Define Function)\n",
    "    2) 내장 함수(Built~in)\n",
    "    3) 외장 함수\n",
    "    \n",
    "\n",
    "### 7. 모듈화\n",
    "    \n",
    "    1) 조건문\n",
    "    2) 반복문\n",
    "    3) 함수"
   ]
  },
  {
   "cell_type": "code",
   "execution_count": null,
   "metadata": {},
   "outputs": [],
   "source": [
    "def line():\n",
    "    for i in range(30):\n",
    "        print(\"*\",end='')\n",
    "    print()"
   ]
  },
  {
   "cell_type": "code",
   "execution_count": null,
   "metadata": {},
   "outputs": [],
   "source": [
    "line()\n",
    "print(\"       친구 관리 프로그램     \")\n",
    "line()\n",
    "print(\"1. 리스트 출력\")\n",
    "print(\"2. 친구 추가\")\n",
    "print(\"3. 종료\")\n",
    "line()"
   ]
  },
  {
   "cell_type": "code",
   "execution_count": null,
   "metadata": {},
   "outputs": [],
   "source": [
    "# 인자가 없는 방식\n",
    "\n",
    "def line(cnt):\n",
    "    for i in range(cnt):\n",
    "        print(\"*\",end='')\n",
    "    print()"
   ]
  },
  {
   "cell_type": "code",
   "execution_count": null,
   "metadata": {},
   "outputs": [],
   "source": [
    "line(30)\n",
    "print(\"       친구 관리 프로그램     \")\n",
    "line(45)\n",
    "print(\"1. 리스트 출력\")\n",
    "print(\"2. 친구 추가\")\n",
    "print(\"3. 종료\")\n",
    "line(20)"
   ]
  },
  {
   "cell_type": "code",
   "execution_count": null,
   "metadata": {},
   "outputs": [],
   "source": [
    "# 인자가 있는 방식\n",
    "\n",
    "def line(cnt,type):\n",
    "    for i in range(cnt):\n",
    "        print(type, end='')\n",
    "    print()"
   ]
  },
  {
   "cell_type": "code",
   "execution_count": null,
   "metadata": {},
   "outputs": [],
   "source": [
    "line(30,\"-\")\n",
    "print(\"       친구 관리 프로그램     \")\n",
    "line(45,\"=\")\n",
    "print(\"1. 리스트 출력\")\n",
    "print(\"2. 친구 추가\")\n",
    "print(\"3. 종료\")\n",
    "line(20,\"*\")"
   ]
  },
  {
   "cell_type": "code",
   "execution_count": null,
   "metadata": {},
   "outputs": [],
   "source": [
    "# 반환값이 있는 방식\n",
    "\n",
    "def swap(num1,num2):\n",
    "    #temp = num1\n",
    "    #num1 = num2\n",
    "    #num2 = temp\n",
    "    \n",
    "    num1,num2 = num2,num1\n",
    "    \n",
    "    #print(\"결과 : \",num1,num2)\n",
    "    return num1,num2\n",
    "    \n",
    "    print(\"이 문장이 보이는가?\")\n",
    "##############################\n",
    "\n",
    "num1, num2 = 10, 5\n",
    "print(\"두 수의 교환\")\n",
    "n1,n2 = swap(num1,num2)\n",
    "print(\"결과 : \",n1,n2)\n",
    "print(\"결과 : \",swap(num1,num2))"
   ]
  },
  {
   "cell_type": "markdown",
   "metadata": {},
   "source": [
    "---\n",
    "\n",
    "### 파이썬에서 함수를 지원하기 위한 문법"
   ]
  },
  {
   "cell_type": "code",
   "execution_count": null,
   "metadata": {},
   "outputs": [],
   "source": [
    "### 변수의 유효(생존) 범위 : 지역변수, 전역변수 => global\n",
    "\n",
    "\n",
    "player = \"전국 대표\"\n",
    "\n",
    "def funcSoccer():\n",
    "    global player\n",
    "    \n",
    "    name = \"홍길동\"\n",
    "    player = \"지역 대표\"\n",
    "    print(name, player)\n",
    "    \n",
    "######################################\n",
    "\n",
    "print(player)\n",
    "\n",
    "funcSoccer()\n",
    "print(player)"
   ]
  },
  {
   "cell_type": "code",
   "execution_count": null,
   "metadata": {},
   "outputs": [],
   "source": [
    "### default 인수 \n",
    "\n",
    "def line(cnt=10):\n",
    "    for i in range(cnt):\n",
    "        print(\"*\", end='')\n",
    "    print()\n",
    "    \n",
    "def hello(name=input(\"이름을 입력해주세요. : \")):\n",
    "    if name == \"\" or name == \" \":\n",
    "        print(\"반드시 이름을 입력해야 합니다.\")\n",
    "    else:\n",
    "        print(\"안녕하세요 %s님\"%name)\n",
    "\n",
    "def intro(name,age=27,addr=\"서울\"):\n",
    "    print(\"안녕하세요. {}에 사는 {}님...당신의 나이는 {}세 입니다.\".format(addr,name,age))\n",
    "    \n",
    "############################## => default 인수 값은 반드시 뒤에서부터 채워야됨\n",
    "\n",
    "line()\n",
    "\n",
    "hello()\n",
    "\n",
    "intro(\"홍길동\",27,\"서울\")\n",
    "intro(\"임꺽정\",27)\n",
    "intro(\"신동석\")\n",
    "\n",
    "intro(age=27, addr=\"경기\", name = \"유비\")\n",
    "intro(name=\"관우\",addr=\"인천\")\n"
   ]
  },
  {
   "cell_type": "code",
   "execution_count": 116,
   "metadata": {},
   "outputs": [
    {
     "name": "stdout",
     "output_type": "stream",
     "text": [
      "('빅뱅',) 안녕하세요\n",
      "('지디', '탑', '태양', '대성') 안녕하세요\n",
      "[1, 2] [3, 4] [5, 6]\n",
      "([1, 2], [3, 4], [5, 6])\n",
      "[1, 2] [3, 4] [5, 6]\n",
      "65 185 탑\n",
      "{'age': 30, 'addr': '서울', 'blood': 'B'}\n"
     ]
    }
   ],
   "source": [
    "### 가변 인수 => (*매개변수)\n",
    "\n",
    "# * : 곱셈, 반복, 매개변수(가변인수, packing), 일반변수(unpacking)\n",
    "# ** : 거듭제곱, 매개변수(가변인수, dict)\n",
    "\n",
    "def greeting(*name):\n",
    "    print(name, \"안녕하세요\")\n",
    "    \n",
    "def info(weight, height, name, **other):\n",
    "    print(weight, height, name)\n",
    "    print(other)\n",
    "    \n",
    "#################################################\n",
    "\n",
    "greeting(\"빅뱅\")\n",
    "greeting(\"지디\",\"탑\",\"태양\",\"대성\")\n",
    "\n",
    "# unpacking\n",
    "a,b,c = ([1,2],[3,4],[5,6])\n",
    "print(a,b,c)\n",
    "\n",
    "a = ([1,2],[3,4],[5,6])\n",
    "print(a)  # => unpacking x\n",
    "print(*a)\n",
    "\n",
    "info(75, 175,\"지디\")\n",
    "info(65, 185,\"탑\", age=30, addr=\"서울\", blood=\"B\")"
   ]
  },
  {
   "cell_type": "markdown",
   "metadata": {},
   "source": [
    "---\n",
    "### 내장 함수"
   ]
  },
  {
   "cell_type": "code",
   "execution_count": null,
   "metadata": {},
   "outputs": [],
   "source": [
    "#----------------------------------------------------\n",
    "# all(), any() : and, or 연산자(0과 빈값들은 False로 처리)\n",
    "#----------------------------------------------------\n",
    "print(all(([1,2,3,-1,-2])))\n",
    "print(all(([1,2,3,0,-2])))\n",
    "print(all(([1,2,3,\"\",-2])))\n",
    "print(all(([1,2,3,None,-2])))\n",
    "\n",
    "print(any([1,2,3,-1,-2]))\n",
    "print(any([1,2,3,0,-2]))\n",
    "print(any([1,2,3,\"\",-2]))\n",
    "print(any([1,2,3,None,-2]))"
   ]
  },
  {
   "cell_type": "code",
   "execution_count": null,
   "metadata": {},
   "outputs": [],
   "source": [
    "#------------------------------------------------------------------\n",
    "# enumerate(iterator) : 순서가 있는 자료형을 입력받아 인덱스 값을 포함해서 리턴\n",
    "#------------------------------------------------------------------\n",
    "\n",
    "for idx, i in enumerate(['지디','태양','탑','대성'], start = 100):\n",
    "    print(idx,i,end=' ')"
   ]
  },
  {
   "cell_type": "code",
   "execution_count": null,
   "metadata": {},
   "outputs": [],
   "source": [
    "#----------------------------------------------------------\n",
    "# eval(expression) : 표현식을 파이썬에서 실행 가능하게 만들어주는 역할\n",
    "#----------------------------------------------------------\n",
    "print(\"3+4\")\n",
    "print(eval(\"3+4\"))\n",
    "print(int(\"3\")+int(\"4\"))\n",
    "print(eval(\"3\")+eval(\"4\"))\n",
    "\n",
    "expr = input(\"수식 입력 : \")\n",
    "print(eval(expr))\n",
    "\n",
    "eval(\"divmod(10,2)\") # divmod : ((a//b), (a%b))"
   ]
  },
  {
   "cell_type": "code",
   "execution_count": null,
   "metadata": {},
   "outputs": [],
   "source": [
    "#----------------------------------------------------------------------\n",
    "# map(function, interator) : 집합의 각 요소가 함수에 의해 수행된 결과를 묶어서 리턴\n",
    "#----------------------------------------------------------------------\n",
    "\n",
    "def calc(x):\n",
    "    return x+2\n",
    "\n",
    "################\n",
    "\n",
    "a = calc(10)\n",
    "print(a)\n",
    "\n",
    "data = [10,20,30,40,50]\n",
    "result = []\n",
    "for i in data:\n",
    "    temp = calc(i)\n",
    "    result.append(temp)\n",
    "print(result)\n",
    "\n",
    "# map\n",
    "print(list(map(calc, data)))\n",
    "\n",
    "for i in map(calc,data):\n",
    "    print(i,end=' ')"
   ]
  },
  {
   "cell_type": "code",
   "execution_count": null,
   "metadata": {},
   "outputs": [],
   "source": [
    "#----------------------------------------------------\n",
    "# zip(iterator) : 동일한 갯수로 이루어진 자료형을 묶어주는 역할\n",
    "#----------------------------------------------------\n",
    "\n",
    "a = [\"a1\",\"a2\",\"a3\"]\n",
    "b = [\"b1\",\"b2\",\"b3\"]\n",
    "c = [\"c1\",\"c2\",\"c3\"]\n",
    "\n",
    "print(list(zip(a,b,c)))\n",
    "\n",
    "for i in zip(a,b,c):\n",
    "    print(i)\n",
    "    \n",
    "for i,(v1,v2,v3) in enumerate(zip(a,b,c)):\n",
    "    print(i,v1,v2,v3) \n",
    "    "
   ]
  },
  {
   "cell_type": "markdown",
   "metadata": {},
   "source": [
    "---\n",
    "### 외장 함수\n",
    "    \n",
    "   + import 모듈명\n",
    "   + /opt/anaconda3/lib/python3.8/site-packages"
   ]
  },
  {
   "cell_type": "code",
   "execution_count": 4,
   "metadata": {
    "collapsed": true
   },
   "outputs": [
    {
     "name": "stdout",
     "output_type": "stream",
     "text": [
      "['__breakpointhook__', '__displayhook__', '__doc__', '__excepthook__', '__interactivehook__', '__loader__', '__name__', '__package__', '__spec__', '__stderr__', '__stdin__', '__stdout__', '__unraisablehook__', '_base_executable', '_clear_type_cache', '_current_frames', '_debugmallocstats', '_framework', '_getframe', '_git', '_home', '_xoptions', 'abiflags', 'addaudithook', 'api_version', 'argv', 'audit', 'base_exec_prefix', 'base_prefix', 'breakpointhook', 'builtin_module_names', 'byteorder', 'call_tracing', 'callstats', 'copyright', 'displayhook', 'dont_write_bytecode', 'exc_info', 'excepthook', 'exec_prefix', 'executable', 'exit', 'flags', 'float_info', 'float_repr_style', 'get_asyncgen_hooks', 'get_coroutine_origin_tracking_depth', 'getallocatedblocks', 'getcheckinterval', 'getdefaultencoding', 'getdlopenflags', 'getfilesystemencodeerrors', 'getfilesystemencoding', 'getprofile', 'getrecursionlimit', 'getrefcount', 'getsizeof', 'getswitchinterval', 'gettrace', 'hash_info', 'hexversion', 'implementation', 'int_info', 'intern', 'is_finalizing', 'last_traceback', 'last_type', 'last_value', 'maxsize', 'maxunicode', 'meta_path', 'modules', 'path', 'path_hooks', 'path_importer_cache', 'platform', 'prefix', 'ps1', 'ps2', 'ps3', 'pycache_prefix', 'set_asyncgen_hooks', 'set_coroutine_origin_tracking_depth', 'setcheckinterval', 'setdlopenflags', 'setprofile', 'setrecursionlimit', 'setswitchinterval', 'settrace', 'stderr', 'stdin', 'stdout', 'thread_info', 'unraisablehook', 'version', 'version_info', 'warnoptions']\n",
      "-------------------------------------------------------------\n",
      "['/Users/dofany/dofany_study/basic', '/opt/anaconda3/lib/python38.zip', '/opt/anaconda3/lib/python3.8', '/opt/anaconda3/lib/python3.8/lib-dynload', '', '/opt/anaconda3/lib/python3.8/site-packages', '/opt/anaconda3/lib/python3.8/site-packages/aeosa', '/opt/anaconda3/lib/python3.8/site-packages/IPython/extensions', '/Users/dofany/.ipython']\n",
      "darwin\n",
      "3.8.5 (default, Sep  4 2020, 02:22:02) \n",
      "[Clang 10.0.0 ]\n"
     ]
    }
   ],
   "source": [
    "import sys # 인터프리터를 제어\n",
    "print(dir(sys)) # 내장함수()\n",
    "print(\"-------------------------------------------------------------\")\n",
    "print(sys.path) # PATH 경로\n",
    "print(sys.platform) # 사용하는 운영체제\n",
    "print(sys.version) # 파이썬 버전"
   ]
  },
  {
   "cell_type": "code",
   "execution_count": 3,
   "metadata": {
    "collapsed": true
   },
   "outputs": [
    {
     "name": "stdout",
     "output_type": "stream",
     "text": [
      "['CLD_CONTINUED', 'CLD_DUMPED', 'CLD_EXITED', 'CLD_TRAPPED', 'DirEntry', 'EX_CANTCREAT', 'EX_CONFIG', 'EX_DATAERR', 'EX_IOERR', 'EX_NOHOST', 'EX_NOINPUT', 'EX_NOPERM', 'EX_NOUSER', 'EX_OK', 'EX_OSERR', 'EX_OSFILE', 'EX_PROTOCOL', 'EX_SOFTWARE', 'EX_TEMPFAIL', 'EX_UNAVAILABLE', 'EX_USAGE', 'F_LOCK', 'F_OK', 'F_TEST', 'F_TLOCK', 'F_ULOCK', 'MutableMapping', 'NGROUPS_MAX', 'O_ACCMODE', 'O_APPEND', 'O_ASYNC', 'O_CLOEXEC', 'O_CREAT', 'O_DIRECTORY', 'O_DSYNC', 'O_EXCL', 'O_EXLOCK', 'O_NDELAY', 'O_NOCTTY', 'O_NOFOLLOW', 'O_NONBLOCK', 'O_RDONLY', 'O_RDWR', 'O_SHLOCK', 'O_SYNC', 'O_TRUNC', 'O_WRONLY', 'POSIX_SPAWN_CLOSE', 'POSIX_SPAWN_DUP2', 'POSIX_SPAWN_OPEN', 'PRIO_PGRP', 'PRIO_PROCESS', 'PRIO_USER', 'P_ALL', 'P_NOWAIT', 'P_NOWAITO', 'P_PGID', 'P_PID', 'P_WAIT', 'PathLike', 'RTLD_GLOBAL', 'RTLD_LAZY', 'RTLD_LOCAL', 'RTLD_NODELETE', 'RTLD_NOLOAD', 'RTLD_NOW', 'R_OK', 'SCHED_FIFO', 'SCHED_OTHER', 'SCHED_RR', 'SEEK_CUR', 'SEEK_END', 'SEEK_SET', 'ST_NOSUID', 'ST_RDONLY', 'TMP_MAX', 'WCONTINUED', 'WCOREDUMP', 'WEXITED', 'WEXITSTATUS', 'WIFCONTINUED', 'WIFEXITED', 'WIFSIGNALED', 'WIFSTOPPED', 'WNOHANG', 'WNOWAIT', 'WSTOPPED', 'WSTOPSIG', 'WTERMSIG', 'WUNTRACED', 'W_OK', 'X_OK', '_Environ', '__all__', '__builtins__', '__cached__', '__doc__', '__file__', '__loader__', '__name__', '__package__', '__spec__', '_check_methods', '_execvpe', '_exists', '_exit', '_fspath', '_fwalk', '_get_exports_list', '_putenv', '_spawnvef', '_unsetenv', '_wrap_close', 'abc', 'abort', 'access', 'altsep', 'chdir', 'chflags', 'chmod', 'chown', 'chroot', 'close', 'closerange', 'confstr', 'confstr_names', 'cpu_count', 'ctermid', 'curdir', 'defpath', 'device_encoding', 'devnull', 'dup', 'dup2', 'environ', 'environb', 'error', 'execl', 'execle', 'execlp', 'execlpe', 'execv', 'execve', 'execvp', 'execvpe', 'extsep', 'fchdir', 'fchmod', 'fchown', 'fdopen', 'fork', 'forkpty', 'fpathconf', 'fsdecode', 'fsencode', 'fspath', 'fstat', 'fstatvfs', 'fsync', 'ftruncate', 'fwalk', 'get_blocking', 'get_exec_path', 'get_inheritable', 'get_terminal_size', 'getcwd', 'getcwdb', 'getegid', 'getenv', 'getenvb', 'geteuid', 'getgid', 'getgrouplist', 'getgroups', 'getloadavg', 'getlogin', 'getpgid', 'getpgrp', 'getpid', 'getppid', 'getpriority', 'getsid', 'getuid', 'initgroups', 'isatty', 'kill', 'killpg', 'lchflags', 'lchmod', 'lchown', 'linesep', 'link', 'listdir', 'lockf', 'lseek', 'lstat', 'major', 'makedev', 'makedirs', 'minor', 'mkdir', 'mkfifo', 'mknod', 'name', 'nice', 'open', 'openpty', 'pardir', 'path', 'pathconf', 'pathconf_names', 'pathsep', 'pipe', 'popen', 'posix_spawn', 'posix_spawnp', 'pread', 'putenv', 'pwrite', 'read', 'readlink', 'readv', 'register_at_fork', 'remove', 'removedirs', 'rename', 'renames', 'replace', 'rmdir', 'scandir', 'sched_get_priority_max', 'sched_get_priority_min', 'sched_yield', 'sendfile', 'sep', 'set_blocking', 'set_inheritable', 'setegid', 'seteuid', 'setgid', 'setgroups', 'setpgid', 'setpgrp', 'setpriority', 'setregid', 'setreuid', 'setsid', 'setuid', 'spawnl', 'spawnle', 'spawnlp', 'spawnlpe', 'spawnv', 'spawnve', 'spawnvp', 'spawnvpe', 'st', 'stat', 'stat_result', 'statvfs', 'statvfs_result', 'strerror', 'supports_bytes_environ', 'supports_dir_fd', 'supports_effective_ids', 'supports_fd', 'supports_follow_symlinks', 'symlink', 'sync', 'sys', 'sysconf', 'sysconf_names', 'system', 'tcgetpgrp', 'tcsetpgrp', 'terminal_size', 'times', 'times_result', 'truncate', 'ttyname', 'umask', 'uname', 'uname_result', 'unlink', 'unsetenv', 'urandom', 'utime', 'wait', 'wait3', 'wait4', 'waitpid', 'walk', 'write', 'writev']\n",
      "----------------------------------------------------------\n",
      "/Users/dofany/dofany_study/basic\n"
     ]
    }
   ],
   "source": [
    "import os # 운영체제 제어\n",
    "print(dir(os)) \n",
    "print(\"-------------------------------------------------------------\")\n",
    "print(os.getcwd()) # 현재 작업 디렉터리"
   ]
  },
  {
   "cell_type": "code",
   "execution_count": 12,
   "metadata": {},
   "outputs": [
    {
     "name": "stdout",
     "output_type": "stream",
     "text": [
      "['__builtins__', '__cached__', '__doc__', '__file__', '__loader__', '__name__', '__package__', '__spec__', 'company', 'info', 'sum']\n",
      "30\n",
      "키 :  171\n",
      "몸무게 :  75\n",
      "기타 :  {'name': '김도환', 'age': 27, 'addr': '서울시 강남구'}\n",
      "파이썬 주식회사\n"
     ]
    }
   ],
   "source": [
    "import mymodule\n",
    "\n",
    "print(dir(mymodule))\n",
    "\n",
    "print(mymodule.sum(10, 20))\n",
    "mymodule.info(75,171,name=\"김도환\",age = 27, addr = \"서울시 강남구\")\n",
    "print(mymodule.company)"
   ]
  },
  {
   "cell_type": "code",
   "execution_count": 105,
   "metadata": {},
   "outputs": [
    {
     "name": "stdout",
     "output_type": "stream",
     "text": [
      "2021-04-07 .  2021 .  4 .  7\n",
      "-----------------------------------\n",
      "2021-04-07 11:40:13.381118\n",
      "-----------------------------------\n",
      "-737886 days, 0:00:00\n",
      "시초의 1년 : 0001-01-01 \n",
      "-----------------------------------\n",
      "2021-04-07 03:34:03.467126\n",
      "-----------------------------------\n",
      "04/07/2021\n",
      "2021.04.07 11:40:13\n",
      "-----------------------------------\n",
      "<class 'str'>\n",
      "<class 'datetime.datetime'>\n",
      "<class 'str'>\n",
      "-----------------------------------\n",
      "<class 'str'>\n",
      "<class 'datetime.datetime'>\n",
      "-----------------------------------\n"
     ]
    }
   ],
   "source": [
    "import datetime # 날짜 시간 외장함수\n",
    "\n",
    "# 현재 날짜\n",
    "today = datetime.date.today()\n",
    "print(today, \". \", today.year,\". \",today.month,\". \", today.day)\n",
    "print(\"-\"*35)\n",
    "\n",
    "# 현재 시간\n",
    "ctime = datetime.datetime.today()\n",
    "print(ctime)\n",
    "print(\"-\"*35)\n",
    "\n",
    "# 날짜와 시간을 계산\n",
    "today = datetime.date.today()\n",
    "mydays = datetime.timedelta(days = -737886)\n",
    "print(mydays)\n",
    "print(\"시초의 1년 : {} \".format(today + mydays))\n",
    "print(\"-\"*35)\n",
    "\n",
    "# 현재시간부터 8시간 전\n",
    "ctime = datetime.datetime.today()\n",
    "ttime = datetime.timedelta(hours = -8)\n",
    "print(todaytime + ttime)\n",
    "print(\"-\"*35)\n",
    "\n",
    "# 날짜의 형식 지정\n",
    "print(today.strftime(\"%m/%d/%Y\"))\n",
    "print(ctime.strftime(\"%Y.%m.%d %H:%M:%S\"))\n",
    "print(\"-\"*35)\n",
    "\n",
    "# 날짜의 형식 변환\n",
    "# (날짜를 문자열로 : strftime(), 문자열을 날짜로 : strptime())\n",
    "\n",
    "print(type(today.strftime(\"%m/%d/%Y\")))\n",
    "print(type(ctime))\n",
    "t = ctime.strftime(\"%Y.%m.%d %H:%M:%S\")\n",
    "print(type(t))\n",
    "print(\"-\"*35)\n",
    "\n",
    "strDate = \"2021-5-5 11:36:50\"\n",
    "print(type(strDate))\n",
    "d = datetime.datetime.strptime(strDate, \"%Y-%m-%d %H:%M:%S\")\n",
    "print(type(d))\n",
    "print(\"-\"*35)"
   ]
  },
  {
   "cell_type": "markdown",
   "metadata": {},
   "source": [
    "---\n",
    "### 명령행 인자 (Command Line Argument)\n",
    "\n"
   ]
  },
  {
   "cell_type": "code",
   "execution_count": 106,
   "metadata": {},
   "outputs": [
    {
     "name": "stdout",
     "output_type": "stream",
     "text": [
      "명령행 인자 연습\n",
      "/opt/anaconda3/lib/python3.8/site-packages/ipykernel_launcher.py\n"
     ]
    }
   ],
   "source": [
    "import sys\n",
    "print(\"명령행 인자 연습\")\n",
    "print(sys.argv[0]) # 파일이 저장되어있는 주소\n",
    "print(sys.argv[1]) # 명령행 인자[1]\n",
    "print(sys.argv[2]) # 명령행 인자[2]\n",
    "\n",
    "#for arg in sys.argv: # 원하는 만큼의 명령행 인자 입력\n",
    "#\tprint(arg) \n",
    "print(sys.argv[0 : ]) # 원하는 만큼의 명령행 인자 입력\n",
    "\n",
    "print(\"-\"*35)"
   ]
  },
  {
   "cell_type": "code",
   "execution_count": 170,
   "metadata": {},
   "outputs": [],
   "source": [
    "'''\n",
    "파일명 : phoneBook.py\n",
    "데이터 : 임의로 준비\n",
    "실행 예시 : \n",
    "    python phoneBook.py 지디\n",
    "    \n",
    "    이름 : 지디 \n",
    "    전화번호 : 010-111-1111\n",
    "    주소 : 서울시 송파구\n",
    "'''\n",
    "\n",
    "import sys\n",
    "\n",
    "data = [\n",
    "    [\"지디\", \"010-111-1111\", \"서울시 송파구\"],\n",
    "    [\"태양\", \"010-222-2222\", \"서울시 강동구\"],\n",
    "    [\"탑\", \"010-333-3333\", \"서울시 광진구\"],\n",
    "    [\"대성\", \"010-444-4444\", \"서울시 강남구\"],\n",
    "]\n",
    "\n",
    "\n",
    "a = list(data)\n",
    "name = sys.argv[1]\n",
    "\n",
    "for i in range(0,4):\n",
    "        if name == data[i][0]:\n",
    "            print(\"이름 : {}\".format(data[i][0]))\n",
    "            print(\"전화번호 : {}\".format(data[i][1]))\n",
    "            print(\"주소 : {}\".format(data[i][2]))\n"
   ]
  },
  {
   "cell_type": "markdown",
   "metadata": {},
   "source": [
    "---\n",
    "### 재귀 함수(Recursive Function)"
   ]
  },
  {
   "cell_type": "code",
   "execution_count": 115,
   "metadata": {},
   "outputs": [
    {
     "name": "stdout",
     "output_type": "stream",
     "text": [
      "5\n",
      "4\n",
      "3\n",
      "2\n",
      "1\n"
     ]
    }
   ],
   "source": [
    "def countDown(n):\n",
    "    if n == 0:\n",
    "        return\n",
    "    else:\n",
    "        print(n)\n",
    "        countDown(n-1)\n",
    "    \n",
    "#################\n",
    "\n",
    "countDown(5)\n",
    "\n",
    "# for i in range(5,0,-1):\n",
    "#     countDown(i)"
   ]
  },
  {
   "cell_type": "code",
   "execution_count": 139,
   "metadata": {},
   "outputs": [
    {
     "name": "stdout",
     "output_type": "stream",
     "text": [
      "20\n",
      "19\n",
      "18\n",
      "17\n",
      "16\n",
      "15\n",
      "14\n",
      "13\n",
      "12\n",
      "11\n",
      "10\n",
      "9\n",
      "8\n",
      "7\n",
      "6\n",
      "5\n",
      "4\n",
      "3\n",
      "2\n",
      "1\n",
      "2432902008176640000\n",
      "걸린 시간 :  0.0014448165893554688\n",
      "-----------------------------\n",
      "20\n",
      "19\n",
      "18\n",
      "17\n",
      "16\n",
      "15\n",
      "14\n",
      "13\n",
      "12\n",
      "11\n",
      "10\n",
      "9\n",
      "8\n",
      "7\n",
      "6\n",
      "5\n",
      "4\n",
      "3\n",
      "2\n",
      "2432902008176640000\n",
      "걸린 시간 :  0.0016632080078125\n",
      "5\n",
      "4\n",
      "3\n",
      "2\n",
      "1\n",
      "120\n",
      "-----------------------------\n",
      "5\n",
      "4\n",
      "3\n",
      "2\n",
      "120\n"
     ]
    }
   ],
   "source": [
    "import time\n",
    "\n",
    "def fact(n):\n",
    "    result = 1\n",
    "    \n",
    "    while n>0:\n",
    "        print(n)\n",
    "        result *= n\n",
    "        n = n-1\n",
    "        \n",
    "    return result\n",
    "\n",
    "def fact2(n):\n",
    "    if n == 1:\n",
    "        return 1\n",
    "    print(n)\n",
    "    return n * fact2(n-1)\n",
    "\n",
    "##########################\n",
    "\n",
    "start_time = time.time()\n",
    "print(fact(20))\n",
    "end_time = time.time()\n",
    "print(\"걸린 시간 : \",end_time - start_time)\n",
    "\n",
    "print(\"-----------------------------\")\n",
    "\n",
    "start_time = time.time()\n",
    "print(fact2(20))\n",
    "end_time = time.time()\n",
    "print(\"걸린 시간 : \",end_time - start_time)\n",
    "\n",
    "print(fact(5))\n",
    "print(\"-----------------------------\")\n",
    "print(fact2(5))\n",
    "\n"
   ]
  },
  {
   "cell_type": "markdown",
   "metadata": {},
   "source": [
    "---\n",
    "### 파일 처리\n",
    "\n",
    "+ open(파일명(경로 포함), 모드)-mode : r,w,a,rb,wb,ab\n",
    "+ close()\n",
    "+ 읽어올 때 : readline() => 각각의 줄을 읽어옴, readlines() => 리스트로 묶어서 읽음, read() => 전체 줄을 읽어옴\n",
    "+ 저장할 때 : write()\n"
   ]
  },
  {
   "cell_type": "code",
   "execution_count": 151,
   "metadata": {},
   "outputs": [
    {
     "name": "stdout",
     "output_type": "stream",
     "text": [
      "<_io.TextIOWrapper name='mymodule.py' mode='r' encoding='UTF-8'>\n",
      "# mymodule.py (현재 작업위치에 저장)\n",
      "\n",
      "\n",
      "\n",
      "def sum(num1,num2):\n",
      "\n",
      "\thap = num1 + num2\n",
      "\n",
      "\treturn hap\n",
      "\n",
      "\n",
      "\n",
      "\n",
      "\n",
      "def info(weight, height, **other):\n",
      "\n",
      "\tprint(\"키 : \",height)\n",
      "\n",
      "\tprint(\"몸무게 : \",weight)\n",
      "\n",
      "\tprint(\"기타 : \",other)\n",
      "\n",
      "\n",
      "\n",
      "company = \"파이썬 주식회사\"\n"
     ]
    }
   ],
   "source": [
    "f = open(\"mymodule.py\",\"r\")\n",
    "print(f)\n",
    "\n",
    "# print(f.readline())\n",
    "# print(\"-\"*35)\n",
    "# print(f.readline())\n",
    "# print(\"-\"*35)\n",
    "# print(f.readline())\n",
    "# print(\"-\"*35)\n",
    "# print(f.readline())\n",
    "# print(\"-\"*35)\n",
    "# print(f.readline())\n",
    "# print(\"-\"*35)\n",
    "# print(f.readline())\n",
    "# print(\"-\"*35)\n",
    "# print(f.readline())\n",
    "# print(\"-\"*35)\n",
    "# print(f.readline())\n",
    "# print(\"-\"*35)\n",
    "\n",
    "while True:\n",
    "    line = f.readline()\n",
    "    if not line:\n",
    "        break\n",
    "    print(line)\n",
    "f.close()"
   ]
  },
  {
   "cell_type": "code",
   "execution_count": 155,
   "metadata": {},
   "outputs": [
    {
     "name": "stdout",
     "output_type": "stream",
     "text": [
      "abcd\n",
      "efgh\n",
      "ijklmn\n",
      "1234\n",
      "5678\n",
      "가나다라\n",
      "마바사아"
     ]
    }
   ],
   "source": [
    "# f = open(\"/Users/dofany/dofany_study/basic/data/filetest1.txt\", \"r\") => 절대 경로\n",
    "f = open(\"./data/filetest1.txt\", \"r\")\n",
    "\n",
    "\n",
    "while True:\n",
    "    line = f.readline()\n",
    "    if not line:\n",
    "        break\n",
    "    print(line,end=\"\")\n",
    "f.close()"
   ]
  },
  {
   "cell_type": "code",
   "execution_count": 204,
   "metadata": {},
   "outputs": [
    {
     "name": "stdout",
     "output_type": "stream",
     "text": [
      "['abcd\\n', 'efgh\\n', 'ijklmn\\n', '1234\\n', '5678\\n', '가나다라\\n', '마바사아']\n",
      "<class 'list'>\n",
      "abcd\n",
      "efgh\n",
      "ijklmn\n",
      "1234\n",
      "5678\n",
      "가나다라\n",
      "마바사아"
     ]
    }
   ],
   "source": [
    "f = open(\"data/filetest1.txt\", \"r\")\n",
    "\n",
    "lines = f.readlines()\n",
    "print(lines)\n",
    "print(type(lines))\n",
    "f.close()\n",
    "\n",
    "for i in lines:\n",
    "    print(i,end=\"\")"
   ]
  },
  {
   "cell_type": "code",
   "execution_count": 173,
   "metadata": {},
   "outputs": [
    {
     "name": "stdout",
     "output_type": "stream",
     "text": [
      "abcd\n",
      "efgh\n",
      "ijklmn\n",
      "1234\n",
      "5678\n",
      "가나다라\n",
      "마바사아\n",
      "<class 'str'>\n"
     ]
    }
   ],
   "source": [
    "f = open(\"data/filetest1.txt\", \"r\")\n",
    "data = f.read()\n",
    "print(data)\n",
    "print(type(data))\n",
    "\n",
    "f.close()\n",
    "\n"
   ]
  },
  {
   "cell_type": "code",
   "execution_count": 256,
   "metadata": {},
   "outputs": [
    {
     "name": "stdout",
     "output_type": "stream",
     "text": [
      "1:abcd\n",
      "2:efgh\n",
      "3:ijklmn\n",
      "4:1234\n",
      "5:5678\n",
      "6:가나다라\n",
      "7:마바사아"
     ]
    }
   ],
   "source": [
    "\"\"\"\n",
    "1:abcd\n",
    "2:efgh\n",
    "3:ijklmn\n",
    "...\n",
    "\"\"\"\n",
    "f = open(\"data/filetest1.txt\", \"r\")\n",
    "data = f.readlines()\n",
    "num = 0\n",
    "for i in data:\n",
    "    num += 1\n",
    "    print(str(num)+\":\"+i,end=\"\")\n",
    "\n",
    "f.close()\n",
    "\n"
   ]
  },
  {
   "cell_type": "code",
   "execution_count": 197,
   "metadata": {},
   "outputs": [],
   "source": [
    "f = open(\"data/filetest2.txt\", \"w\")\n",
    "\n",
    "f.write(\"이름 : 지디. \")\n",
    "f.write(\"전화번호 : 010-111-1111. \")\n",
    "f.write(\"주소 : 서울시 송파구.\\n\")\n",
    "\n",
    "f.write(\"이름 : 태양. \")\n",
    "f.write(\"전화번호 : 010-222-2222. \")\n",
    "f.write(\"주소 : 서울시 강남구.\\n\")\n",
    "\n",
    "f.close()\n"
   ]
  },
  {
   "cell_type": "code",
   "execution_count": 208,
   "metadata": {},
   "outputs": [],
   "source": [
    "f = open(\"data/filetest2.txt\", \"a\")\n",
    "\n",
    "f.write(\"이름 : 탑. \")\n",
    "f.write(\"전화번호 : 010-333-3333. \")\n",
    "f.write(\"주소 : 서울시 중랑구.\\n\")\n",
    "\n",
    "f.write(\"이름 : 대성. \")\n",
    "f.write(\"전화번호 : 010-444-4444. \")\n",
    "f.write(\"주소 : 서울시 강동구.\\n\")\n",
    "\n",
    "f.close()\n"
   ]
  },
  {
   "cell_type": "code",
   "execution_count": 232,
   "metadata": {},
   "outputs": [],
   "source": [
    "# csv 형식으로 데이터 저장\n",
    "\n",
    "nums = [11,22,33,44,55,66,77,88,99]\n",
    "f = open(\"data/filetest3.txt\",\"w\")\n",
    "for i in range(len(nums)):\n",
    "    f.write(str(nums[i])+ \". \")\n",
    "f.close()"
   ]
  },
  {
   "cell_type": "code",
   "execution_count": 239,
   "metadata": {},
   "outputs": [],
   "source": [
    "f = open(\"data/filetest3.txt\",\"w\")\n",
    "nums = [11,22,33,44,55,66,77,88,99]\n",
    "f.write(\".\".join(str(nums)))\n",
    "f.close()"
   ]
  },
  {
   "cell_type": "code",
   "execution_count": 245,
   "metadata": {},
   "outputs": [],
   "source": [
    "f = open(\"data/filetest3.txt\",\"w\")\n",
    "nums = [11,22,33,44,55,66,77,88,99]\n",
    "count = len(nums)\n",
    "for i in range(count):\n",
    "    if i < count -1:\n",
    "        f.write(str(nums[i])+\". \")\n",
    "    else:\n",
    "        f.write(str(nums[i]))\n",
    "f.close()"
   ]
  },
  {
   "cell_type": "code",
   "execution_count": 246,
   "metadata": {},
   "outputs": [
    {
     "name": "stdout",
     "output_type": "stream",
     "text": [
      "11.22.33.44.55.66.77.88.99\n"
     ]
    }
   ],
   "source": [
    "f_str = \".\".join([str(i)for i in nums])\n",
    "print(f_str)"
   ]
  },
  {
   "cell_type": "code",
   "execution_count": 18,
   "metadata": {},
   "outputs": [
    {
     "name": "stdout",
     "output_type": "stream",
     "text": [
      "파일 포인터 : 0\n",
      "abcd\n",
      "\n",
      "파일 포인터 : 5\n",
      "파일 포인터 : 0\n",
      "h\n",
      "\n"
     ]
    }
   ],
   "source": [
    "# 임의 접근 : seek(이동할 위치, 기준 위치), tell()\n",
    "# 기준 위치 : 0 => (default, 파일의 시작 위치) 1 => (파일의 현재 위치) 2 => (파일의 끝 위치)\n",
    "\n",
    "# f = open(\"data/filetest1.txt\", \"r\")\n",
    "# print(\"파일 포인터 : %d\"%f.tell())\n",
    "# print(f.readline())\n",
    "# print(\"파일 포인터 : %d\"%f.tell())\n",
    "\n",
    "# f.seek(0,0)\n",
    "# print(\"파일 포인터 : %d\"%f.tell())\n",
    "\n",
    "# f.seek(8,0)\n",
    "# print(f.readline())\n",
    "\n",
    "# f.close()\n",
    "\n",
    "\n",
    "with open(\"data/filetest1.txt\", \"r\") as f:\n",
    "    print(\"파일 포인터 : %d\"%f.tell())\n",
    "    print(f.readline())\n",
    "    print(\"파일 포인터 : %d\"%f.tell())\n",
    "\n",
    "    f.seek(0,0)\n",
    "    print(\"파일 포인터 : %d\"%f.tell())\n",
    "\n",
    "    f.seek(8,0)\n",
    "    print(f.readline())"
   ]
  },
  {
   "cell_type": "code",
   "execution_count": 21,
   "metadata": {},
   "outputs": [
    {
     "name": "stdout",
     "output_type": "stream",
     "text": [
      "['코딩면접.ipynb', '0-markdown.ipynb', '3-연습문제.ipynb', '2-연습문제.ipynb', '1-연습문제.ipynb', '2-제어문.ipynb', '3-함수.ipynb', '1-변수와 자료형.ipynb']\n"
     ]
    }
   ],
   "source": [
    "# 동시에 여러 개의 파일을 읽어오는 방법\n",
    "import glob\n",
    "\n",
    "# files = glob.glob(\"*\") # 전체 파일 \n",
    "# files = glob.glob(\"*.*\") # 폴더는 빼고 파일들만\n",
    "files = glob.glob(\"*.ipynb\") # 파일유형을 지정\n",
    "print(files)"
   ]
  }
 ],
 "metadata": {
  "kernelspec": {
   "display_name": "Python 3",
   "language": "python",
   "name": "python3"
  },
  "language_info": {
   "codemirror_mode": {
    "name": "ipython",
    "version": 3
   },
   "file_extension": ".py",
   "mimetype": "text/x-python",
   "name": "python",
   "nbconvert_exporter": "python",
   "pygments_lexer": "ipython3",
   "version": "3.8.5"
  }
 },
 "nbformat": 4,
 "nbformat_minor": 4
}
