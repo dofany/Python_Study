{
 "cells": [
  {
   "cell_type": "code",
   "execution_count": 17,
   "metadata": {},
   "outputs": [
    {
     "name": "stdout",
     "output_type": "stream",
     "text": [
      "a#b#c#d\n"
     ]
    }
   ],
   "source": [
    "# Q1 문자열 바꾸기\n",
    "# a:b:c:d라는 문자열이 있다. 문자열의 split과 join함수를 사용하여 위 문자열을 다음과 같이 고치시오.\n",
    "\n",
    "a = \"a:b:c:d\"\n",
    "b = a.split(\":\")\n",
    "b = \"#\".join(b)\n",
    "print(b)"
   ]
  },
  {
   "cell_type": "code",
   "execution_count": 24,
   "metadata": {},
   "outputs": [
    {
     "name": "stdout",
     "output_type": "stream",
     "text": [
      "{'A': 90, 'B': 80, 'C': 70}\n"
     ]
    }
   ],
   "source": [
    "# Q2 딕셔너리 값 추출하기\n",
    "# 딕셔너리의 a에서 'C'라는 key에 해당하는 value를 출력하는 프로그램이다. 'C'에 해당하는 Key값이 없을 경우 오류 대신 70을 얻을 수 있도록 수정\n",
    "\n",
    "a = {'A':90,'B':80}\n",
    "a['C'] = 70\n",
    "print(a)"
   ]
  },
  {
   "cell_type": "code",
   "execution_count": 25,
   "metadata": {},
   "outputs": [
    {
     "name": "stdout",
     "output_type": "stream",
     "text": [
      "+는 주소의 변화가 생기고, extend는 주소의 변화가 생기지 않는다\n"
     ]
    }
   ],
   "source": [
    "# Q3 리스트의 더하기와 extend 함수\n",
    "# a = [1,2,3]이라는 리스트에 [4,5]를 + 기호를 사용하여 더한 것과 extend의 차이점을 설명하시오.\n",
    "\n",
    "print(\"+는 주소의 변화가 생기고, extend는 주소의 변화가 생기지 않는다\")"
   ]
  },
  {
   "cell_type": "code",
   "execution_count": 32,
   "metadata": {},
   "outputs": [
    {
     "name": "stdout",
     "output_type": "stream",
     "text": [
      "481\n"
     ]
    }
   ],
   "source": [
    "# Q4 리스트 종합 구하기\n",
    "# 다음 리스트에서 50점 이상 점수의 총합을 구하시오.\n",
    "\n",
    "A = [20,55,67,82,45,33,90,87,100,25]\n",
    "result = 0\n",
    "while A:\n",
    "    B = A.pop()\n",
    "    if B>=50:\n",
    "        result += B\n",
    "print(result)\n",
    "        "
   ]
  },
  {
   "cell_type": "code",
   "execution_count": null,
   "metadata": {},
   "outputs": [],
   "source": []
  }
 ],
 "metadata": {
  "kernelspec": {
   "display_name": "Python 3",
   "language": "python",
   "name": "python3"
  },
  "language_info": {
   "codemirror_mode": {
    "name": "ipython",
    "version": 3
   },
   "file_extension": ".py",
   "mimetype": "text/x-python",
   "name": "python",
   "nbconvert_exporter": "python",
   "pygments_lexer": "ipython3",
   "version": "3.8.5"
  }
 },
 "nbformat": 4,
 "nbformat_minor": 4
}
