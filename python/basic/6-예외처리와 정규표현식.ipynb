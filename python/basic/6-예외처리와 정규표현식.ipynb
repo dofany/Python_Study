{
 "cells": [
  {
   "cell_type": "markdown",
   "metadata": {},
   "source": [
    "---\n",
    "### 1. 예외 처리\n",
    "\n",
    "#### (1) 예외처리를 하는 이유\n",
    "\n",
    "+ 자연스러운 예외 메시지를 출력\n",
    "+ 프로그램의 비정상적인 종료를 방지\n",
    "\n",
    "#### (2) 문법\n",
    "\n",
    "    try:\n",
    "        코드\n",
    "        ...\n",
    "\n",
    "    except[예외처리 클레스 [as 변수]]:\n",
    "        코드 \n",
    "        ...\n",
    "        \n",
    "    [else:\n",
    "        코드 (예외가 발생하지 않았을 때 실행)\n",
    "        ...]\n",
    "        \n",
    "    [finally:\n",
    "        코드 (예외발생과는 무관하게 반드시 실행)\n",
    "        ...]\n",
    "        \n",
    "\n"
   ]
  },
  {
   "cell_type": "code",
   "execution_count": 1,
   "metadata": {},
   "outputs": [
    {
     "name": "stdout",
     "output_type": "stream",
     "text": [
      "3.3333333333333335\n",
      "나머지 코드 실행~~\n",
      "5.0\n",
      "나머지 코드 실행~~\n"
     ]
    },
    {
     "ename": "ZeroDivisionError",
     "evalue": "division by zero",
     "output_type": "error",
     "traceback": [
      "\u001b[0;31m---------------------------------------------------------------------------\u001b[0m",
      "\u001b[0;31mZeroDivisionError\u001b[0m                         Traceback (most recent call last)",
      "\u001b[0;32m<ipython-input-1-7cd409acf22f>\u001b[0m in \u001b[0;36m<module>\u001b[0;34m\u001b[0m\n\u001b[1;32m      9\u001b[0m \u001b[0mtest\u001b[0m\u001b[0;34m(\u001b[0m\u001b[0;36m3\u001b[0m\u001b[0;34m)\u001b[0m\u001b[0;34m\u001b[0m\u001b[0;34m\u001b[0m\u001b[0m\n\u001b[1;32m     10\u001b[0m \u001b[0mtest\u001b[0m\u001b[0;34m(\u001b[0m\u001b[0;36m2\u001b[0m\u001b[0;34m)\u001b[0m\u001b[0;34m\u001b[0m\u001b[0;34m\u001b[0m\u001b[0m\n\u001b[0;32m---> 11\u001b[0;31m \u001b[0mtest\u001b[0m\u001b[0;34m(\u001b[0m\u001b[0;36m0\u001b[0m\u001b[0;34m)\u001b[0m\u001b[0;34m\u001b[0m\u001b[0;34m\u001b[0m\u001b[0m\n\u001b[0m",
      "\u001b[0;32m<ipython-input-1-7cd409acf22f>\u001b[0m in \u001b[0;36mtest\u001b[0;34m(num)\u001b[0m\n\u001b[1;32m      1\u001b[0m \u001b[0;32mdef\u001b[0m \u001b[0mtest\u001b[0m\u001b[0;34m(\u001b[0m\u001b[0mnum\u001b[0m\u001b[0;34m)\u001b[0m\u001b[0;34m:\u001b[0m\u001b[0;34m\u001b[0m\u001b[0;34m\u001b[0m\u001b[0m\n\u001b[0;32m----> 2\u001b[0;31m     \u001b[0mresult\u001b[0m \u001b[0;34m=\u001b[0m \u001b[0;36m10\u001b[0m\u001b[0;34m/\u001b[0m\u001b[0mnum\u001b[0m\u001b[0;34m\u001b[0m\u001b[0;34m\u001b[0m\u001b[0m\n\u001b[0m\u001b[1;32m      3\u001b[0m     \u001b[0mprint\u001b[0m\u001b[0;34m(\u001b[0m\u001b[0mresult\u001b[0m\u001b[0;34m)\u001b[0m\u001b[0;34m\u001b[0m\u001b[0;34m\u001b[0m\u001b[0m\n\u001b[1;32m      4\u001b[0m \u001b[0;34m\u001b[0m\u001b[0m\n\u001b[1;32m      5\u001b[0m     \u001b[0mprint\u001b[0m\u001b[0;34m(\u001b[0m\u001b[0;34m\"나머지 코드 실행~~\"\u001b[0m\u001b[0;34m)\u001b[0m\u001b[0;34m\u001b[0m\u001b[0;34m\u001b[0m\u001b[0m\n",
      "\u001b[0;31mZeroDivisionError\u001b[0m: division by zero"
     ]
    }
   ],
   "source": [
    "def test(num):\n",
    "    result = 10/num\n",
    "    print(result)\n",
    "    \n",
    "    print(\"나머지 코드 실행~~\")\n",
    "    \n",
    "###########################\n",
    "\n",
    "test(3)\n",
    "test(2)\n",
    "test(0)"
   ]
  },
  {
   "cell_type": "code",
   "execution_count": 2,
   "metadata": {},
   "outputs": [
    {
     "name": "stdout",
     "output_type": "stream",
     "text": [
      "다시 나눠주세요~\n",
      "나머지 코드 실행~~~\n"
     ]
    }
   ],
   "source": [
    "def test(num):\n",
    "    \n",
    "    try:\n",
    "        result = 10/num\n",
    "        print(result)\n",
    "    \n",
    "    except:\n",
    "        print(\"다시 나눠주세요~\")\n",
    "    print(\"나머지 코드 실행~~~\")\n",
    "###########################\n",
    "\n",
    "test(0)"
   ]
  },
  {
   "cell_type": "code",
   "execution_count": 3,
   "metadata": {},
   "outputs": [
    {
     "name": "stdout",
     "output_type": "stream",
     "text": [
      "0.0001\n",
      "나머지 코드 실행~~~\n",
      "0으로 나누면 안됩니다.\n",
      "나머지 코드 실행~~~\n",
      "알수 없는 오류\n",
      "나머지 코드 실행~~~\n"
     ]
    }
   ],
   "source": [
    "def test(num):\n",
    "    \n",
    "    try:\n",
    "        result = 10/num\n",
    "        print(result)\n",
    "    \n",
    "    except ZeroDivisionError: # 0으로 나눴을때 에러를 잡아주는 예외처리 클래스\n",
    "        print(\"0으로 나누면 안됩니다.\")\n",
    "    except:\n",
    "        print(\"알수 없는 오류\")\n",
    "        \n",
    "    print(\"나머지 코드 실행~~~\")\n",
    "###########################\n",
    "\n",
    "test(100000)\n",
    "test(0)\n",
    "test(\"100000\")"
   ]
  },
  {
   "cell_type": "code",
   "execution_count": 4,
   "metadata": {},
   "outputs": [
    {
     "name": "stdout",
     "output_type": "stream",
     "text": [
      "2.0\n",
      "인덱스의 접근이 잘못되었습니다.\n",
      "나머지 코드 실행~~~\n"
     ]
    }
   ],
   "source": [
    "def test(num):\n",
    "    \n",
    "    try:\n",
    "        result = 10/num\n",
    "        print(result)\n",
    "        arr = [0,1,2]\n",
    "        print(arr[num])\n",
    "    \n",
    "    except ZeroDivisionError: # 0으로 나눴을때 에러를 잡아주는 예외처리 클래스\n",
    "        print(\"0으로 나누면 안됩니다.\")   \n",
    "    except IndexError:    # 인덱스의 길이를 초과하여 접근할때 나타내는 예외처리 클래스\n",
    "        print(\"인덱스의 접근이 잘못되었습니다.\")\n",
    "\n",
    "    except:\n",
    "        print(\"알수 없는 오류\")\n",
    "        \n",
    "    print(\"나머지 코드 실행~~~\")\n",
    "###########################\n",
    "\n",
    "test(5)"
   ]
  },
  {
   "cell_type": "code",
   "execution_count": 5,
   "metadata": {},
   "outputs": [
    {
     "name": "stdout",
     "output_type": "stream",
     "text": [
      "2.0\n",
      "0으로 나누거나 인덱스를 잘못 사용했습니다.\n",
      "나머지 코드 실행~~~\n"
     ]
    }
   ],
   "source": [
    "def test(num):\n",
    "    \n",
    "    try:\n",
    "        result = 10/num\n",
    "        print(result)\n",
    "        arr = [0,1,2]\n",
    "        print(arr[num])\n",
    "    \n",
    "    except (ZeroDivisionError,IndexError): # 0으로 나눴을때 에러를 잡아주는 예외처리 클래스\n",
    "        print(\"0으로 나누거나 인덱스를 잘못 사용했습니다.\")         # 인덱스의 길이를 초과하여 접근할때 나타내는 예외처리 클래스\n",
    "\n",
    "    except:\n",
    "        print(\"알수 없는 오류\")\n",
    "        \n",
    "    print(\"나머지 코드 실행~~~\")\n",
    "###########################\n",
    "\n",
    "test(5)"
   ]
  },
  {
   "cell_type": "code",
   "execution_count": 6,
   "metadata": {},
   "outputs": [
    {
     "name": "stdout",
     "output_type": "stream",
     "text": [
      "2.0\n",
      "인덱스의 접근이 잘못되었습니다. list index out of range\n",
      "나머지 코드 실행~~~\n"
     ]
    }
   ],
   "source": [
    "def test(num):\n",
    "    \n",
    "    try:\n",
    "        result = 10/num\n",
    "        print(result)\n",
    "        arr = [0,1,2]\n",
    "        print(arr[num])\n",
    "    \n",
    "    except ZeroDivisionError as e: # 0으로 나눴을때 에러를 잡아주는 예외처리 클래스\n",
    "        print(\"0으로 나누면 안됩니다.\",e)   \n",
    "    except IndexError as e:    # 인덱스의 길이를 초과하여 접근할때 나타내는 예외처리 클래스\n",
    "        print(\"인덱스의 접근이 잘못되었습니다.\",e)\n",
    "\n",
    "    except:\n",
    "        print(\"알수 없는 오류\")\n",
    "        \n",
    "    print(\"나머지 코드 실행~~~\")\n",
    "###########################\n",
    "\n",
    "test(5)"
   ]
  },
  {
   "cell_type": "code",
   "execution_count": 7,
   "metadata": {},
   "outputs": [
    {
     "name": "stdout",
     "output_type": "stream",
     "text": [
      "5.0\n",
      "2\n",
      "알수 없는 오류\n",
      "이곳의 코드는 반드시 실행됨\n",
      "-----------------------------------\n",
      "2.0\n",
      "인덱스의 접근이 잘못되었습니다. list index out of range\n",
      "이곳의 코드는 반드시 실행됨\n",
      "-----------------------------------\n",
      "0으로 나누면 안됩니다. division by zero\n",
      "이곳의 코드는 반드시 실행됨\n"
     ]
    }
   ],
   "source": [
    "def test(num):\n",
    "    f = None\n",
    "    try:\n",
    "        result = 10/num\n",
    "        print(result)\n",
    "        arr = [0,1,2]\n",
    "        print(arr[num])\n",
    "        \n",
    "        f = open(\"module.py\")\n",
    "    \n",
    "    except ZeroDivisionError as e: # 0으로 나눴을때 에러를 잡아주는 예외처리 클래스\n",
    "        print(\"0으로 나누면 안됩니다.\",e)\n",
    "        return\n",
    "#        sys.exit()\n",
    "    except IndexError as e:    # 인덱스의 길이를 초과하여 접근할때 나타내는 예외처리 클래스\n",
    "        print(\"인덱스의 접근이 잘못되었습니다.\",e)\n",
    "        return\n",
    "    except:\n",
    "        print(\"알수 없는 오류\")\n",
    "        return\n",
    "    finally:\n",
    "        print(\"이곳의 코드는 반드시 실행됨\")\n",
    "        if f != None:\n",
    "            f.close()\n",
    "#     else: \n",
    "    print(\"나머지 코드 실행~~~\")\n",
    "\n",
    "###########################\n",
    "\n",
    "test(2)\n",
    "print(\"-\"*35)\n",
    "test(5)\n",
    "print(\"-\"*35)\n",
    "test(0)\n"
   ]
  },
  {
   "cell_type": "code",
   "execution_count": 8,
   "metadata": {},
   "outputs": [
    {
     "name": "stdout",
     "output_type": "stream",
     "text": [
      "에러 원인 :  division by zero\n"
     ]
    },
    {
     "name": "stderr",
     "output_type": "stream",
     "text": [
      "Traceback (most recent call last):\n",
      "  File \"<ipython-input-8-909e61598994>\", line 7, in third\n",
      "    a = 10/0\n",
      "ZeroDivisionError: division by zero\n"
     ]
    }
   ],
   "source": [
    "# traceback\n",
    "\n",
    "import traceback\n",
    "\n",
    "def third():\n",
    "    try:\n",
    "        a = 10/0\n",
    "        print(a)\n",
    "    except ZeroDivisionError as e:\n",
    "        print(\"에러 원인 : \" , e)\n",
    "        traceback.print_exc()\n",
    "        \n",
    "def second():\n",
    "    third()\n",
    "    \n",
    "def first():\n",
    "    second()\n",
    "\n",
    "##############################\n",
    "\n",
    "first()"
   ]
  },
  {
   "cell_type": "code",
   "execution_count": 9,
   "metadata": {},
   "outputs": [
    {
     "name": "stdout",
     "output_type": "stream",
     "text": [
      "5.0\n",
      "0으로 나누면 안됩니다.  \n",
      "잘 실행되었습니까? \n"
     ]
    }
   ],
   "source": [
    "# 예외를 일부러 발생 : raise\n",
    "\n",
    "def test():\n",
    "    try:\n",
    "        a=10/2\n",
    "        print(a)\n",
    "        raise ZeroDivisionError\n",
    "        \n",
    "    except ZeroDivisionError as e:\n",
    "        print(\"0으로 나누면 안됩니다. \", e)\n",
    "    print(\"잘 실행되었습니까? \")\n",
    "    \n",
    "#####################################33\n",
    "\n",
    "test()"
   ]
  },
  {
   "cell_type": "code",
   "execution_count": 10,
   "metadata": {},
   "outputs": [
    {
     "name": "stdout",
     "output_type": "stream",
     "text": [
      "프로그램 시작\n",
      "5.0\n",
      "음수로 나눌 수 없다.\n"
     ]
    }
   ],
   "source": [
    "# 음수로 나눴을 때 예외 발생을 위한 예외 처리 클래스 작성\n",
    "\n",
    "class NegativeDivideError(Exception): # Excpetion : 예외 처리 클래스의 가장 부모\n",
    "    pass\n",
    "\n",
    "def div(a,b):\n",
    "    if b < 0:\n",
    "        raise NegativeDivideError\n",
    "    return a/b\n",
    "\n",
    "def main():\n",
    "    print(\"프로그램 시작\")\n",
    "    try:\n",
    "        result = div(10,2)       \n",
    "        print(result)\n",
    "        \n",
    "        \n",
    "        result = div(10,-2)\n",
    "        print(result)\n",
    "        \n",
    "    except NegativeDivideError as e:\n",
    "        print(\"음수로 나눌 수 없다.\")\n",
    "        \n",
    "#############################    \n",
    "    \n",
    "main()"
   ]
  },
  {
   "cell_type": "markdown",
   "metadata": {},
   "source": [
    "---\n",
    "## 2. 정규 표현식(Regular Expression)\n",
    "\n",
    "+ http://docs.python.org/3.8/library/re.html"
   ]
  },
  {
   "cell_type": "markdown",
   "metadata": {},
   "source": [
    "#### (1) 반복\n",
    "\n",
    "    * : 0번 이상 반복, 특정 문자의 반복 횟수를 지정\n",
    "        ex) ab* : a, ab, abbb, abbbbbb ....\n",
    "            lo*l : ll, lol, lool, looool ....\n",
    "            \n",
    "    \n",
    "    + : 1번 이상 반복\n",
    "        ex) ab+ : ab, abb, abbbb, abbbbb ....\n",
    "    \n",
    "    \n",
    "    ? : 0번 또는 1번만 반복\n",
    "        ex) ab? : a, ab ....\n",
    "       \n",
    "       \n",
    "    {M} : m회 반복\n",
    "        ex) a{3}bc : aaabc ....\n",
    "       \n",
    "       \n",
    "    {m,n} : m회부터 n회까지 반복\n",
    "        ex) a[2,4]bc : aabc, aaabc, aaaabc ....\n",
    "        \n",
    "        \n",
    "#### (2) 매칭\n",
    "\n",
    "    . : 유일하게 줄바꿈 문자를 제외한 모든 문자와 매치\n",
    "        ex) a.b : aab, abb, acb, adb ....\n",
    "        \n",
    "    \n",
    "    ^ : 문자열의 시작과 매치\n",
    "        ex) ^abc : abc, abcd, abcde, abcdef ....\n",
    "        \n",
    "    \n",
    "    $ : 문자열의 마지막과 매치\n",
    "    ex) a$ : zdba, ccca, dba ....\n",
    "    \n",
    "    \n",
    "    [] : 문자 집합 중 한 문자와(한 문자 추출) 매치\n",
    "        ex) [abc]zyz : axyz, bxyz, cxyz ....\n",
    "            [a-z]bc : abc, bbc, cbc, dbc .... zbc\n",
    "            a[.]b : a.b(보이는 그대로 문자 .이다)\n",
    "            [a^bc]hello : (b는 재외) ahello, chello\n",
    "            [a-zA-Z0-9]hello : 특수문자를 제외한 모든 숫자와 문자\n",
    "            \n",
    "            \n",
    "#### (3) 특수문자(\\문자)\n",
    "\n",
    "    \\d : 모든 숫자와 매치\n",
    "        ex) ab\\d\\dc : ab00c, ab23ca, ab99c (a와 c 사이에 반드시 숫자가 와야됨)....    \n",
    "            ab[0-9][0-9]c\n",
    "       \n",
    "\n",
    "    \\D : 숫자가 아닌 문자와 매치\n",
    "    \n",
    "    \n",
    "    \\s : 공백 문자와 매치\n",
    "    \n",
    "    \n",
    "    \\S : 공백 문자를 제외한 모든 것과 매치\n",
    "    \n",
    "    \n",
    "    \\w : 특수문자를 제외한 숫자 또는 문자와 매치\n",
    "    \n",
    "    \n",
    "    \\W : 숫자 또는 문자가 아닌 모든 문자와 매치    "
   ]
  },
  {
   "cell_type": "markdown",
   "metadata": {},
   "source": [
    "#### (4) 파이썬 제공하는 객체 또는 메서드\n",
    "\n",
    "    - compile() : 정규 표현식 객체 생성\n",
    "    - match() : 문자열의 처음부터 정규식과 매치되는지 조사\n",
    "    - search() : 문자열 전체를 검색하여 정규식과 매치되는지 조사\n",
    "    - findall() : 정규식과 매치되는 모든 문자열을 리스트로 리턴\n",
    "    - finditer() : 정규식과 매치되는 모든 문자열을 반복 가능한 객체로 리턴    \n",
    "    - split() : 문자열 분리\n",
    "    - sub() : 문자열 변경(교체)\n",
    "        sub(\"패턴\",\"바꿀 문자열\", \"문자열\", [바꿀 횟수])\n",
    "      ..."
   ]
  },
  {
   "cell_type": "code",
   "execution_count": 74,
   "metadata": {},
   "outputs": [
    {
     "name": "stdout",
     "output_type": "stream",
     "text": [
      "True\n",
      "False\n",
      "-----------------------------------\n",
      "True\n",
      "False\n",
      "True\n",
      "<re.Match object; span=(3, 7), match='35th'>\n",
      "-----------------------------------\n",
      "True\n",
      "True\n",
      "-----------------------------------\n",
      "['life', 'is', 'too', 'short']\n",
      "life\n",
      "(0, 4)\n",
      "is\n",
      "(10, 12)\n",
      "too\n",
      "(17, 20)\n",
      "short\n",
      "(24, 29)\n"
     ]
    }
   ],
   "source": [
    "#객체를 생성해서 사용하는 방법 : compile()\n",
    "\n",
    "import re # 정규표현식 사용할수 있는 모듈\n",
    "a = re.compile('[0-9] [a-z]+ .+')\n",
    "print(bool(a.match(\"3 dofany dofeel07\")))\n",
    "print(bool(a.match(\"ayo 3 dofany dofeel07\")))\n",
    "print(\"-\"*35)\n",
    "\n",
    "# 객체를 생성하지 않고 바로 함수를 사용하는 방법 \n",
    "print(bool(re.match(\"[0-9]*th\",\"35th is everything\"))) # re.match(패턴,데이터)\n",
    "print(bool(re.match(\"[0-9]*th\",\"   35th is everything\")))\n",
    "\n",
    "print(bool(re.search(\"[0-9]*th\",\"   35th is everything\")))\n",
    "print(re.search(\"[0-9]*th\",\"   35th is everything 60th is very very\"))\n",
    "print(\"-\"*35)\n",
    "\n",
    "# 전화번호와 매칭되는 패턴 작성\n",
    "print(bool(re.match(\"[0-9]{3}-[0-9]{3,4}-[0-9]{4}\", \"010-222-2323은 내 전화번호 입니다.\")))\n",
    "print(bool(re.match(\"\\d{3}-\\d{3,4}-\\d{4}\", \"010-222-2323은 내 전화번호 입니다.\")))\n",
    "print(\"-\"*35)\n",
    "\n",
    "# findall과 finditer\n",
    "data = \"life 3333 is 222 too 10 short\"\n",
    "p = re.compile(\"[a-z]+\")\n",
    "\n",
    "\n",
    "# p.match(data))\n",
    "# p.search(data))\n",
    "\n",
    "m = p.findall(data)\n",
    "print(m)\n",
    "\n",
    "n = p.finditer(data)\n",
    "for i in n:\n",
    "    print(i.group())\n",
    "    print(i.span())"
   ]
  },
  {
   "cell_type": "code",
   "execution_count": 118,
   "metadata": {},
   "outputs": [
    {
     "name": "stdout",
     "output_type": "stream",
     "text": [
      "['1', '2', '3', '4', '5', '5', '5', '6']\n",
      "['1234', '555', '6']\n",
      "['12', '34', '55']\n",
      "['123', '555']\n",
      "['abc', 'mbc']\n",
      "['abc', 'air', 'air']\n",
      "['air']\n",
      "['1234']\n",
      "['234 abc가나다ABC_555-6 mbc air air']\n"
     ]
    }
   ],
   "source": [
    "data = \"1234 abc가나다ABC_555-6\"\n",
    "print(re.findall(\"[0-9]\", data)) # 숫자 1개만 일치하는 패턴\n",
    "print(re.findall(\"[0-9]+\", data)) # 숫자 1개 이상 일치하는 패턴\n",
    "print(re.findall(\"[0-9]{2}\", data)) # 숫자 2개와 일치하는 패턴\n",
    "print(re.findall(\"[0-9]{2,3}\", data)) # 숫자 2개부터 3개까지 일치하는 패턴\n",
    "\n",
    "data = \"1234 abc가나다ABC_555-6 mbc air air\"\n",
    "print(re.findall(\".bc\",data)) # bc로 끝나는 세글자(mbc, abc)\n",
    "print(re.findall(\"a..\",data)) # a로 시작하는 세글자(abc, air, air)\n",
    "print(re.findall(\"air$\",data)) # air로 끝나는 세글자(air)\n",
    "print(re.findall(\"^1[0-9]+\",data)) # 반드시 1로 시작하는 세글자(1, 1234)\n",
    "print(re.findall(\"[^1]+\",data)) # 1을 뺀 모든 데이터(234 abc가나다ABC_555-6 mbc air air)"
   ]
  },
  {
   "cell_type": "code",
   "execution_count": 130,
   "metadata": {},
   "outputs": [
    {
     "name": "stdout",
     "output_type": "stream",
     "text": [
      "['mbc,kbs', 'sbs:ytn']\n",
      "['mbc', 'kbs sbs:ytn']\n",
      "['mbc', 'kbs', 'sbs', 'ytn']\n",
      "['mbc', 'kbs', 'sbs', 'ytn']\n"
     ]
    }
   ],
   "source": [
    "# split\n",
    "data = \"mbc,kbs sbs:ytn\"\n",
    "print(data.split())\n",
    "print(data.split(','))\n",
    "\n",
    "print(re.split(\",|:| \",data))\n",
    "print(re.split(\"\\W+\",data))"
   ]
  },
  {
   "cell_type": "code",
   "execution_count": 137,
   "metadata": {},
   "outputs": [
    {
     "name": "stdout",
     "output_type": "stream",
     "text": [
      "8888 abc가나다ABC_888_8\n",
      "-----------------------------------\n",
      "mbc,kbs,sbs,ytn\n"
     ]
    }
   ],
   "source": [
    "# sub\n",
    "data = \"1234 abc가나다ABC_555_6\"\n",
    "m = re.sub(\"[0-9]\",\"8\",data)\n",
    "print(m)\n",
    "print(\"-\"*35)\n",
    "\n",
    "# 주어진 데이터에서 구분기호를 \",\"로 통일\n",
    "data = \"mbc,kbs sbs:ytn\"\n",
    "m = re.sub(\"\\W\",\",\",data)\n",
    "print(m)"
   ]
  },
  {
   "cell_type": "code",
   "execution_count": 143,
   "metadata": {},
   "outputs": [
    {
     "name": "stdout",
     "output_type": "stream",
     "text": [
      "<re.Match object; span=(0, 6), match='python'>\n",
      "python\n",
      "0 6\n",
      "(0, 6)\n"
     ]
    }
   ],
   "source": [
    "# match, search 객체의 메서드\n",
    "\n",
    "p = re.compile(\"[a-z]+\")\n",
    "data = \"python 123 !? python\"\n",
    "\n",
    "m = p.match(data)\n",
    "print(m)\n",
    "print(m.group()) # 매치된 문자열을 돌려준다.\n",
    "print(m.start(),m.end()) # 매치된 문자열의 시작과 끝 위치를 돌려준다.\n",
    "print(m.span()) # 매치된 문자열의 (시작, 끝)에 해당하는 튜플을 돌려준다."
   ]
  },
  {
   "cell_type": "code",
   "execution_count": 208,
   "metadata": {},
   "outputs": [
    {
     "name": "stdout",
     "output_type": "stream",
     "text": [
      "<re.Match object; span=(0, 3), match='axb'>\n",
      "<re.Match object; span=(0, 3), match='a+b'>\n",
      "<re.Match object; span=(0, 3), match='a\\nb'>\n",
      "-----------------------------------\n",
      "<re.Match object; span=(0, 1), match='p'>\n",
      "<re.Match object; span=(0, 1), match='P'>\n",
      "-----------------------------------\n",
      "['python one', 'python two', 'Python three']\n",
      "-----------------------------------\n",
      "['abc1.html', 'abc2.html', 'abc3.html', 'xyz.html', 'pic.jpg']\n",
      "['abc1.html', 'abc2.html', 'abc3.html', 'xyz.html', 'pic.jpg']\n"
     ]
    }
   ],
   "source": [
    "# 컴파일 옵션 : S(or DOTALL) => 줄바꿈 문자도 인식가능 , I(or IGNORECASE) => 대,소문자 구별없이 인식가능, M(or MULTILINE) =>\n",
    "\n",
    "p = re.compile(\"a.b\", re.S)\n",
    "\n",
    "m1 = p.match(\"axb is bla bla bla~~~\")\n",
    "print(m1)\n",
    "\n",
    "m2 = p.match(\"a+b is bla bla bla~~~\")\n",
    "print(m2)\n",
    "\n",
    "m3 = p.match(\"a\\nb is bla bla bla~~~\")\n",
    "print(m3)\n",
    "print(\"-\"*35)\n",
    "\n",
    "\n",
    "#p = re.compile(\"[a-zA-Z]\")\n",
    "p = re.compile(\"[a-z]\",re.I)\n",
    "print(p.match(\"python\"))\n",
    "print(p.match(\"Python\"))\n",
    "print(\"-\"*35)\n",
    "\n",
    "\n",
    "data = \"\"\"python one\n",
    "life is too short\n",
    "python two\n",
    "you need python\n",
    "Python three\n",
    "\"\"\"\n",
    "\n",
    "p = re.compile(\"^[p|P]ython\\s\\w+\",re.M) # 첫글자 대,소문자 상관없이 python으로 시작하는 문자열 추출\n",
    "print(p.findall(data))\n",
    "print(\"-\"*35)\n",
    "\n",
    "data =\"\"\"\n",
    "<a href=\"abc1.html\">abc1</a>\n",
    "<a href=\"abc2.html\">abc2</a>\n",
    "<a href=\"abc3.html\">abc3</a>\n",
    "<a href=\"xyz.html\">xyz</a>\n",
    "<a href=\"pic.jpg\">pic</a>\n",
    "\"\"\"\n",
    "\n",
    "p = re.findall('href=\"(.+)\"',data) # [\"abc1.html\", \"abc2.html\", \"abc3.html\", \"xyz.html\", \"pic.jpg\"]\n",
    "print(p)\n",
    "\n",
    "p = re.findall(\"\\w+[.][h|j]\\w+\",data)\n",
    "print(p)"
   ]
  },
  {
   "cell_type": "code",
   "execution_count": null,
   "metadata": {},
   "outputs": [],
   "source": []
  },
  {
   "cell_type": "code",
   "execution_count": null,
   "metadata": {},
   "outputs": [],
   "source": []
  },
  {
   "cell_type": "code",
   "execution_count": null,
   "metadata": {},
   "outputs": [],
   "source": []
  },
  {
   "cell_type": "code",
   "execution_count": null,
   "metadata": {},
   "outputs": [],
   "source": []
  }
 ],
 "metadata": {
  "kernelspec": {
   "display_name": "Python 3",
   "language": "python",
   "name": "python3"
  },
  "language_info": {
   "codemirror_mode": {
    "name": "ipython",
    "version": 3
   },
   "file_extension": ".py",
   "mimetype": "text/x-python",
   "name": "python",
   "nbconvert_exporter": "python",
   "pygments_lexer": "ipython3",
   "version": "3.8.5"
  }
 },
 "nbformat": 4,
 "nbformat_minor": 4
}
