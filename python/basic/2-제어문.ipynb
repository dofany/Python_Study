{
 "cells": [
  {
   "cell_type": "markdown",
   "metadata": {},
   "source": [
    "## 1. 입력 기능\n",
    "    "
   ]
  },
  {
   "cell_type": "code",
   "execution_count": 3,
   "metadata": {},
   "outputs": [
    {
     "name": "stdout",
     "output_type": "stream",
     "text": [
      "당신의 이름은? 홍길동\n",
      "안녕하세요! 제 이름은 홍길동입니다. \n",
      "첫번째 숫자 : 1\n",
      "두번째 숫자 : 2\n",
      "결과 : 3\n"
     ]
    }
   ],
   "source": [
    "name = input(\"당신의 이름은? \")\n",
    "print(\"안녕하세요! 제 이름은 {0}입니다. \".format(name))\n",
    "\n",
    "num1 = int(input(\"첫번째 숫자 : \"))\n",
    "num2 = int(input(\"두번째 숫자 : \"))\n",
    "print(\"결과 : {0}\".format(num1+num2))"
   ]
  },
  {
   "cell_type": "code",
   "execution_count": 34,
   "metadata": {},
   "outputs": [
    {
     "name": "stdout",
     "output_type": "stream",
     "text": [
      "동전 교환 프로그램\n",
      "==================\n",
      "교환할 돈은 얼마입니까? 2763\n",
      "결과:\n",
      "오백원짜리 ===> 5\n",
      "백원짜리 ===> 2\n",
      "오십원짜리 ===> 1\n",
      "십원짜리 ===> 1\n",
      "나머지 바꾸지 못한 잔돈 ===> 3\n",
      "\n"
     ]
    }
   ],
   "source": [
    "'''\n",
    "동전 교환 프로그램\n",
    "==================\n",
    "교환할 돈은 얼마입니까? 2763 (엔터키)\n",
    "\n",
    "결과:\n",
    "오백원짜리 ===> 5개\n",
    "백원짜리 ===> 2개\n",
    "오십원짜리 ===> 1개\n",
    "십원짜리 ===> 1개\n",
    "나머지 바꾸지 못한 잔돈 ===> 3원\n",
    "'''\n",
    "print(\"동전 교환 프로그램\")\n",
    "print(\"==================\")\n",
    "coin = [0 for i in range(5)]\n",
    "a = int(input(\"교환할 돈은 얼마입니까? \"))\n",
    "coin[0] = a // 500\n",
    "coin[1] = (a%500) // 100\n",
    "coin[2] = (a%100) // 50\n",
    "coin[3] = (a%50) // 10\n",
    "coin[4] = a%10\n",
    "print(\"결과:\\n오백원짜리 ===> {0}\\n백원짜리 ===> {1}\\n오십원짜리 ===> {2}\\n십원짜리 ===> {3}\\n나머지 바꾸지 못한 잔돈 ===> {4}\\n\"\\\n",
    ".format(coin[0],coin[1],coin[2],coin[3],coin[4]))\n"
   ]
  },
  {
   "cell_type": "markdown",
   "metadata": {},
   "source": [
    "## 2. 제어문\n",
    "    1) 조건문\n",
    "        - if\n",
    "        - switch\n",
    "    \n",
    "    2) 반복문\n",
    "        - while\n",
    "        - for"
   ]
  },
  {
   "cell_type": "markdown",
   "metadata": {},
   "source": [
    "### (1) If\n",
    "\n",
    "    1) if 조건식:\n",
    "          (들여쓰기 필수)문장\n",
    "          ...\n",
    "    \n",
    "    2) if 조건식:\n",
    "          (들여쓰기 필수)문장\n",
    "          ...\n",
    "          \n",
    "       else:\n",
    "          (들여쓰기 필수)문장\n",
    "          ...\n",
    "     \n",
    "    3) if 조건식:\n",
    "          (들여쓰기 필수)문장\n",
    "          ...\n",
    "          \n",
    "       elif:\n",
    "          (들여쓰기 필수)문장\n",
    "          ...\n",
    "       \n",
    "       else:\n",
    "          (들여쓰기 필수)문장\n",
    "          ...\n",
    "          \n",
    "     \n",
    "     4) 조건문의 중첩(nested)\n",
    "         if 조건문:\n",
    "             문장\n",
    "             ...\n",
    "             if 조건문:\n",
    "                 문장\n",
    "                 ...\n",
    "            "
   ]
  },
  {
   "cell_type": "code",
   "execution_count": 23,
   "metadata": {},
   "outputs": [
    {
     "name": "stdout",
     "output_type": "stream",
     "text": [
      "숫자 : 12\n",
      "12은 짝수\n",
      "숫자 : 13\n",
      "13은 홀수\n"
     ]
    }
   ],
   "source": [
    "# 입력받은 숫자가 짝수/홀수인지 판별하는 프로그램\n",
    "\n",
    "a = int(input(\"숫자 : \"))\n",
    "if a%2==0:\n",
    "    print(\"{0}은 짝수\".format(a))\n",
    "if a%2!=0:\n",
    "    print(\"{0}은 홀수\".format(a))\n",
    "\n",
    "    \n",
    "a = int(input(\"숫자 : \"))\n",
    "if a%2==0:\n",
    "    print(\"{0}은 짝수\".format(a))\n",
    "else:\n",
    "    print(\"{0}은 홀수\".format(a))"
   ]
  },
  {
   "cell_type": "code",
   "execution_count": 59,
   "metadata": {},
   "outputs": [
    {
     "name": "stdout",
     "output_type": "stream",
     "text": [
      "답 입력 : a\n",
      "정답\n",
      "-----------------------------------\n",
      "정답\n",
      "-----------------------------------\n",
      "정답\n",
      "-----------------------------------\n",
      "정답\n"
     ]
    }
   ],
   "source": [
    "# 입력받은 값이 a, b, c, d 이면 '정답'이라고 출력하고 그렇지않으면 '오답'이라고 출력\n",
    "\n",
    "answer = str(input(\"답 입력 : \"))\n",
    "\n",
    "if answer == 'a' or answer == 'b' or answer == 'c' or answer == 'd':\n",
    "    print(\"정답\")\n",
    "else:\n",
    "    print(\"오답\")\n",
    "print(\"-\"*35)    \n",
    "\n",
    "if answer in ['a','b','c','d']:\n",
    "    print(\"정답\")\n",
    "else:\n",
    "    print(\"오답\")\n",
    "print(\"-\"*35)\n",
    "\n",
    "correct = ('a','b','c','d')\n",
    "if correct.count(answer) > 0:\n",
    "    print(\"정답\")\n",
    "else:\n",
    "    print(\"오답\")\n",
    "print(\"-\"*35)\n",
    "\n",
    "if answer >= 'a'and answer <= 'd':\n",
    "    print(\"정답\")\n",
    "else:\n",
    "    print(\"오답\")\n",
    "    \n",
    "# 아스키코드 값 확인 : print(ord('a'), ord('A'), ord('b'),ord('B'))\n",
    "# 아스키코드의 문자 확인 : print(chr(97),chr(98),chr(65),chr(66))"
   ]
  },
  {
   "cell_type": "code",
   "execution_count": 60,
   "metadata": {},
   "outputs": [
    {
     "name": "stdout",
     "output_type": "stream",
     "text": [
      "97 98 65 66\n",
      "a b A B\n"
     ]
    }
   ],
   "source": [
    "print(ord('a'), ord('b'), ord('A'),ord('B'))\n",
    "print(chr(97),chr(98),chr(65),chr(66))\n",
    "\n",
    "# AscIIcode + 1byte = Unicode"
   ]
  },
  {
   "cell_type": "code",
   "execution_count": 68,
   "metadata": {},
   "outputs": [
    {
     "name": "stdout",
     "output_type": "stream",
     "text": [
      "연도를 입력 : 2000\n",
      "결과 : 윤년입니다.\n"
     ]
    }
   ],
   "source": [
    "\"\"\"\n",
    "윤년 계산 프로그램\n",
    "-------------------\n",
    "1) 기원 연수가 4로 나누어 떨어지는 해는 우선 윤년으로 한다.\n",
    "2) 그 중에서 100으로 나누어 떨어지는 해는 평년으로 한다.\n",
    "3) 다만 400으로 나누어 떨어지는 해는 다시 윤년으로 정한다.\n",
    "\n",
    "연도를 입력 : 2019(엔터)\n",
    "결과 : 윤년입니다.(윤년이 아닙니다)\n",
    "\"\"\"\n",
    "\n",
    "date = int(input(\"연도를 입력 : \"))\n",
    "if(date % 4) == 0 and (date % 100) != 0 or (date % 400) == 0:\n",
    "        print(\"결과 : 윤년입니다.\")\n",
    "else:\n",
    "    print(\"결과 : 윤년이 아닙니다.\")"
   ]
  },
  {
   "cell_type": "code",
   "execution_count": 66,
   "metadata": {
    "scrolled": true
   },
   "outputs": [
    {
     "name": "stdout",
     "output_type": "stream",
     "text": [
      "C\n"
     ]
    }
   ],
   "source": [
    "# 다중 if\n",
    "\n",
    "avg = 73\n",
    "if avg >= 90:\n",
    "    print('A')\n",
    "elif avg >= 80:\n",
    "    print('B')\n",
    "elif avg >= 70:\n",
    "    print('C')\n",
    "elif avg >= 60:\n",
    "    print('D')\n",
    "else:\n",
    "    print(\"F\")"
   ]
  },
  {
   "cell_type": "code",
   "execution_count": 75,
   "metadata": {},
   "outputs": [
    {
     "name": "stdout",
     "output_type": "stream",
     "text": [
      "연산자 : -\n",
      "숫자1 : 10\n",
      "숫자2 : 5\n",
      "결과 : 10 - 5 = 5\n"
     ]
    }
   ],
   "source": [
    "\"\"\"\n",
    "전자 계산기 프로그램(사칙연산)\n",
    "----------------------------------\n",
    "연산자 : +\n",
    "숫자1 : 10\n",
    "숫자2 : 5\n",
    "\n",
    "결과 : 10 + 5 = 15\n",
    "\"\"\"\n",
    "\n",
    "cocul = str(input(\"연산자 : \"))\n",
    "num1 = int(input(\"숫자1 : \"))\n",
    "num2 = int(input(\"숫자2 : \"))\n",
    "\n",
    "if cocul == \"+\":\n",
    "    print(\"결과 : {0} {1} {2} = {3}\".format(num1,cocul,num2,num1+num2))\n",
    "elif cocul == \"-\":\n",
    "    print(\"결과 : {0} {1} {2} = {3}\".format(num1,cocul,num2,num1-num2))\n",
    "elif cocul == \"*\":\n",
    "    print(\"결과 : {0} {1} {2} = {3}\".format(num1,cocul,num2,num1*num2))\n",
    "elif cocul == \"/\":\n",
    "    print(\"결과 : {0} {1} {2} = {3}\".format(num1,cocul,num2,num1/num2))\n",
    "elif cocul == \"%\":\n",
    "    print(\"결과 : {0} {1} {2} = {3}\".format(num1,cocul,num2,num1%num2))\n",
    "  "
   ]
  },
  {
   "cell_type": "code",
   "execution_count": 12,
   "metadata": {},
   "outputs": [
    {
     "name": "stdout",
     "output_type": "stream",
     "text": [
      "c가 제일 크다\n",
      "-----------------------------------\n",
      "아이디 : qqw\n",
      "비밀번호 : 1111\n",
      "아이디가 틀렸습니다.\n"
     ]
    }
   ],
   "source": [
    "# 조건문의 중첩\n",
    "\n",
    "a,b,c = 1,2,3\n",
    "if a>b:\n",
    "    if a>c:\n",
    "        print(\"a가 제일 크다\")\n",
    "    else:\n",
    "        print(\"c가 제일 크다\")\n",
    "else:\n",
    "    if b>c:\n",
    "        print(\"b가 제일 크다\")\n",
    "    else:\n",
    "        print(\"c가 제일 크다\")\n",
    "        \n",
    "print(\"-\"*35)\n",
    "\n",
    "id = input(\"아이디 : \")   # tiger\n",
    "pw = input(\"비밀번호 : \")  # 1111\n",
    "if id != \"tiger\":\n",
    "    if pw != \"1111\":\n",
    "        print(\"아이디와 비밀번호를 잘못 입력하였습니다.\")\n",
    "    else:\n",
    "        print(\"아이디가 틀렸습니다.\")\n",
    "else:\n",
    "    if pw != \"1111\":\n",
    "        print(\"비밀번호가 잘못 입력되었습니다.\")\n",
    "    else:\n",
    "        print(\"로그인이 되었습니다.\")"
   ]
  },
  {
   "cell_type": "code",
   "execution_count": 34,
   "metadata": {},
   "outputs": [
    {
     "name": "stdout",
     "output_type": "stream",
     "text": [
      "(가위, 바위, 보) 중에서 하나를 입력 : 보\n",
      "컴퓨터 : 가위\n",
      "사용자 : 보\n",
      "컴퓨터 승.\n"
     ]
    }
   ],
   "source": [
    "# 가위 바위 보 게임\n",
    "import random\n",
    "\n",
    "a = input(\"(가위, 바위, 보) 중에서 하나를 입력 : \")\n",
    "com = random.choice(['가위','바위','보'])\n",
    "print(\"컴퓨터 : {0}\".format(com))\n",
    "print(\"사용자 : {0}\".format(a))\n",
    "\n",
    "if com == \"가위\":\n",
    "    if a == \"가위\":\n",
    "        print(\"비겼습니다.\")\n",
    "    if a == \"바위\":\n",
    "        print(\"사용자 승.\")\n",
    "    if a == \"보\":\n",
    "        print(\"컴퓨터 승.\")\n",
    "\n",
    "if com == \"바위\":\n",
    "    if a == \"바위\":\n",
    "        print(\"비겼습니다.\")\n",
    "    if a == \"보\":\n",
    "        print(\"사용자 승.\")\n",
    "    if a == \"가위\":\n",
    "        print(\"컴퓨터 승.\")\n",
    "        \n",
    "if com == \"보\":\n",
    "    if a == \"보\":\n",
    "        print(\"비겼습니다.\")\n",
    "    if a == \"가위\":\n",
    "        print(\"사용자 승.\")\n",
    "    if a == \"바위\":\n",
    "        print(\"컴퓨터 승.\")\n",
    "\n"
   ]
  },
  {
   "cell_type": "markdown",
   "metadata": {},
   "source": [
    "---\n",
    "### (2) while\n",
    "\n",
    "   - 문법\n",
    "    \n",
    "        while 조건식:\n",
    "            문장\n",
    "            ...\n",
    "           \n",
    "      "
   ]
  },
  {
   "cell_type": "code",
   "execution_count": 44,
   "metadata": {},
   "outputs": [
    {
     "name": "stdout",
     "output_type": "stream",
     "text": [
      "**********\n",
      "* * * * * * * * * * "
     ]
    }
   ],
   "source": [
    "print(\"*\"*10)\n",
    "\n",
    "\n",
    "cnt = 0\n",
    "while cnt < 10:\n",
    "    print(\"*\",end=\" \")\n",
    "    cnt += 1\n"
   ]
  },
  {
   "cell_type": "code",
   "execution_count": 49,
   "metadata": {},
   "outputs": [
    {
     "name": "stdout",
     "output_type": "stream",
     "text": [
      "55\n"
     ]
    }
   ],
   "source": [
    "# 1부터 10까지의 합계\n",
    "count = 0\n",
    "sum = 0\n",
    "while count<=10:\n",
    "    sum += count\n",
    "    count += 1\n",
    "    \n",
    "print(sum)\n",
    "    "
   ]
  },
  {
   "cell_type": "code",
   "execution_count": 56,
   "metadata": {},
   "outputs": [
    {
     "name": "stdout",
     "output_type": "stream",
     "text": [
      "1024\n",
      "1024\n"
     ]
    }
   ],
   "source": [
    "print(pow(2,10))\n",
    "sum = 1\n",
    "count = 0\n",
    "\n",
    "while count<10:\n",
    "    sum = sum *2\n",
    "    count+=1\n",
    "\n",
    "print(sum)\n",
    "\n"
   ]
  },
  {
   "cell_type": "markdown",
   "metadata": {},
   "source": [
    "### (3) For\n",
    "\n",
    "+ 문법\n",
    "    \n",
    "    for 변수 in 집합자료형:\n",
    "        문장\n",
    "        ...\n",
    "    \n",
    "        \n",
    "    \n",
    "    "
   ]
  },
  {
   "cell_type": "code",
   "execution_count": 68,
   "metadata": {},
   "outputs": [
    {
     "name": "stdout",
     "output_type": "stream",
     "text": [
      "10\n",
      "20\n",
      "홍길동\n",
      "3.14\n",
      "True\n",
      "-----------------------------------\n",
      "10\n",
      "20\n",
      "홍길동\n",
      "3.14\n",
      "True\n",
      "-----------------------------------\n",
      "* * * * * * * * * * \n",
      "-----------------------------------\n",
      "* * * * * * * * * * \n",
      "-----------------------------------\n"
     ]
    }
   ],
   "source": [
    "data = [10,20,\"홍길동\",3.14,True]\n",
    "count = 0\n",
    "\n",
    "while count<len(data):\n",
    "    print(data[count])\n",
    "    count += 1\n",
    "\n",
    "print(\"-\"*35)\n",
    "\n",
    "for i in data:\n",
    "    print(i)\n",
    "print(\"-\"*35)\n",
    "\n",
    "for i in [1,1,1,1,1,1,1,1,1,1]:\n",
    "    print(\"*\",end=' ')\n",
    "print()\n",
    "print(\"-\"*35)\n",
    "\n",
    "for i in range(10):\n",
    "    print(\"*\",end = ' ')\n",
    "print()\n",
    "print(\"-\"*35)"
   ]
  },
  {
   "cell_type": "markdown",
   "metadata": {},
   "source": [
    "#### (4) 반복문의 강제 종료\n",
    "   * break : 완전종료\n",
    "   * continue : 일시 종료"
   ]
  },
  {
   "cell_type": "code",
   "execution_count": 79,
   "metadata": {},
   "outputs": [
    {
     "name": "stdout",
     "output_type": "stream",
     "text": [
      "0 1 2 3 4 6 7 8 9 -----------------------------------\n",
      "* * * * * * * * * * * * * * * * * * * * "
     ]
    }
   ],
   "source": [
    "for i in range(10):\n",
    "    if i == 5:\n",
    "        # break\n",
    "        continue\n",
    "    print(i,end= ' ')\n",
    "print(\"-\"*35)\n",
    "\n",
    "count = 0\n",
    "while True:\n",
    "    if count == 20:\n",
    "        break\n",
    "    print(\"*\",end = ' ')\n",
    "    count += 1"
   ]
  },
  {
   "cell_type": "markdown",
   "metadata": {},
   "source": [
    "\n",
    "#### (5) 반복문의 중첩"
   ]
  },
  {
   "cell_type": "code",
   "execution_count": 82,
   "metadata": {},
   "outputs": [
    {
     "name": "stdout",
     "output_type": "stream",
     "text": [
      "**********\n",
      "**********\n",
      "**********\n"
     ]
    }
   ],
   "source": [
    "\"\"\"\n",
    "**********\n",
    "**********\n",
    "**********\n",
    "\"\"\"\n",
    "\n",
    "for i in range(3):\n",
    "    for j in range(10):\n",
    "        print(\"*\",end='')\n",
    "    print()"
   ]
  },
  {
   "cell_type": "code",
   "execution_count": 123,
   "metadata": {},
   "outputs": [
    {
     "name": "stdout",
     "output_type": "stream",
     "text": [
      "\n",
      "*\n",
      "**\n",
      "***\n",
      "****\n",
      "*****\n",
      "\n",
      "    *\n",
      "   ***\n",
      "  *****\n",
      " *******\n",
      "*********\n"
     ]
    }
   ],
   "source": [
    "for i in range(5+1):\n",
    "    print(\"*\"*i)\n",
    "print()\n",
    "    \n",
    "\n",
    "# for i in range(6):\n",
    "#     for j in range(i):\n",
    "#         print(\"*\",end='')\n",
    "#     print()\n",
    "# print()\n",
    "\n",
    "count = 5\n",
    "\n",
    "for i in range(1,count+1):\n",
    "    for j in range(count-i):\n",
    "        print(' ',end=\"\")\n",
    "    for j in range(1,i*2):\n",
    "        print('*',end=\"\")\n",
    "    print()"
   ]
  },
  {
   "cell_type": "markdown",
   "metadata": {},
   "source": [
    "#### (6) List Comprehension"
   ]
  },
  {
   "cell_type": "code",
   "execution_count": 198,
   "metadata": {},
   "outputs": [
    {
     "name": "stdout",
     "output_type": "stream",
     "text": [
      "[0, 1, 2, 3, 4, 5, 6, 7, 8, 9]\n",
      "[0, 2, 4, 6, 8]\n",
      "-----------------------------------\n",
      "['AD', 'AE', 'AA', 'BD', 'BE', 'BA', 'CD', 'CE', 'CA']\n",
      "['AD', 'AE', 'AA', 'BD', 'BE', 'BA', 'CD', 'CE', 'CA']\n",
      "-----------------------------------\n",
      "['AD', 'AE', 'BD', 'BE', 'BA', 'CD', 'CE', 'CA']\n",
      "['AD', 'AE', 'BD', 'BE', 'BA', 'CD', 'CE', 'CA']\n",
      "-----------------------------------\n",
      "[['AD', 'AE', 'AA'], ['BD', 'BE', 'BA'], ['CD', 'CE', 'CA']]\n",
      "[['AD', 'AE', 'AA'], ['BD', 'BE', 'BA'], ['CD', 'CE', 'CA']]\n",
      "-----------------------------------\n"
     ]
    }
   ],
   "source": [
    "# [0 ~ 9]\n",
    "lst = [i for i in range(10)]\n",
    "print(lst)\n",
    "\n",
    "lst = [i for i in range(10) if i % 2 ==0]\n",
    "print(result)\n",
    "print(\"-\"*35)\n",
    "\n",
    "lst = [i+j for i in c1 for j in c2]\n",
    "print(lst)\n",
    "\n",
    "c1 = [\"A\",\"B\",\"C\"]\n",
    "c2 = [\"D\",\"E\",\"A\"]\n",
    "lst = []\n",
    "for i in c1:\n",
    "    for j in c2:\n",
    "        lst.append(i+j)\n",
    "print(lst)\n",
    "print(\"-\"*35)\n",
    "\n",
    "lst = [i+j for i in c1 for j in c2 if not i==j]\n",
    "print(lst)\n",
    "\n",
    "c1 = [\"A\",\"B\",\"C\"]\n",
    "c2 = [\"D\",\"E\",\"A\"]\n",
    "lst = []\n",
    "for i in c1:\n",
    "    for j in c2:\n",
    "        if not i == j:\n",
    "            lst.append(i+j)\n",
    "print(lst)\n",
    "print(\"-\"*35)\n",
    "\n",
    "lst = [[i+j for j in c2] for i in c1]\n",
    "print(lst)\n",
    "\n",
    "c1 = [\"A\",\"B\",\"C\"]\n",
    "c2 = [\"D\",\"E\",\"A\"]\n",
    "lst = []\n",
    "lst1 = []\n",
    "for i in c1:\n",
    "    for j in c2:\n",
    "        lst1.append(i+j)\n",
    "    lst.append(lst1)\n",
    "    lst1 = []\n",
    "         \n",
    "print(lst)\n",
    "print(\"-\"*35)\n",
    "\n"
   ]
  },
  {
   "cell_type": "code",
   "execution_count": 245,
   "metadata": {},
   "outputs": [
    {
     "name": "stdout",
     "output_type": "stream",
     "text": [
      "[['SOME', 'some', 4], ['WHERE', 'where', 5], ['OVER', 'over', 4], ['THE', 'the', 3], ['RAINBOW', 'rainbow', 7], ['WAY', 'way', 3], ['UP', 'up', 2], ['HIGH', 'high', 4]]\n"
     ]
    }
   ],
   "source": [
    "words = \"some where over the rainbow way up high\"\n",
    "lst = words.split()\n",
    "\n",
    "result = []\n",
    "temp = []\n",
    "for i in lst:\n",
    "    temp.extend([i.upper(),i.lower(),len(i)])\n",
    "    result.append(temp)\n",
    "    temp=[]\n",
    "print(result)"
   ]
  },
  {
   "cell_type": "markdown",
   "metadata": {},
   "source": [
    "---\n",
    "#### (7) 실행 파일 만들기(exe파일 만들기)\n",
    "\n",
    "+ pyinstaller, py2exe, ...\n",
    "+ pip \n",
    "+ https://media.readthedocs.org/pdf/pyinstaller/cross-compiling/pyinstaller.pdf\n",
    "+ pyinstaller 파일명.py\n",
    "+ pyinstaller -F 파일명.py (pyinstaller --onefile 파일명.py)"
   ]
  },
  {
   "cell_type": "markdown",
   "metadata": {},
   "source": [
    "---\n",
    "#### 문제 1\n",
    "\n",
    "전자계산기 프로그램을 반복문을 이용하여 업그레이드\n",
    "(끝나는 조건 : 연산자에 x를 입력하면 종료)\n"
   ]
  },
  {
   "cell_type": "code",
   "execution_count": 2,
   "metadata": {},
   "outputs": [
    {
     "name": "stdout",
     "output_type": "stream",
     "text": [
      "연산자(x 입력시 종료) : x\n",
      "종료되었습니다.\n"
     ]
    }
   ],
   "source": [
    "while True:\n",
    "    cocul = str(input(\"연산자(x 입력시 종료) : \"))\n",
    "    if cocul == \"x\":\n",
    "        print(\"종료되었습니다.\")\n",
    "        break\n",
    "    num1 = int(input(\"숫자1 : \"))\n",
    "    num2 = int(input(\"숫자2 : \"))\n",
    "\n",
    "    if cocul == \"+\":\n",
    "        print(\"결과 : {0} {1} {2} = {3}\".format(num1, cocul, num2, num1 + num2))\n",
    "    elif cocul == \"-\":\n",
    "        print(\"결과 : {0} {1} {2} = {3}\".format(num1, cocul, num2, num1 - num2))\n",
    "    elif cocul == \"*\":\n",
    "        print(\"결과 : {0} {1} {2} = {3}\".format(num1, cocul, num2, num1 * num2))\n",
    "    elif cocul == \"/\":\n",
    "        print(\"결과 : {0} {1} {2} = {3}\".format(num1, cocul, num2, num1 / num2))\n",
    "    elif cocul == \"%\":\n",
    "        print(\"결과 : {0} {1} {2} = {3}\".format(num1, cocul, num2, num1 % num2))\n",
    "\n",
    "\n",
    "\n"
   ]
  },
  {
   "cell_type": "markdown",
   "metadata": {},
   "source": [
    "---\n",
    "#### 문제 2\n",
    "\n",
    "가위바위보 게임을 반복문을 이용하여 업그레이드\n",
    "(끝나는 조건 : x나 q를 입력하면 종료)\n",
    "\n",
    "끝날 때 결과에 ?승 ?패를 출력\n"
   ]
  },
  {
   "cell_type": "code",
   "execution_count": 3,
   "metadata": {},
   "outputs": [
    {
     "name": "stdout",
     "output_type": "stream",
     "text": [
      "(가위, 바위, 보) 중에서 하나를 입력 : 가위\n",
      "컴퓨터 : 보\n",
      "사용자 : 가위\n",
      "사용자 승.\n",
      "(가위, 바위, 보) 중에서 하나를 입력 : q\n",
      "컴퓨터 : 보\n",
      "사용자 : q\n",
      "1승 0패\n"
     ]
    }
   ],
   "source": [
    "# 가위 바위 보 게임\n",
    "import random\n",
    "win_count = 0\n",
    "lose_count = 0\n",
    "\n",
    "while True:\n",
    "    me = input(\"(가위, 바위, 보) 중에서 하나를 입력 : \")\n",
    "    com = random.choice(['가위', '바위', '보'])\n",
    "\n",
    "    print(\"컴퓨터 : {0}\".format(com))\n",
    "    print(\"사용자 : {0}\".format(me))\n",
    "\n",
    "    if com == \"가위\":\n",
    "        if me == \"가위\":\n",
    "            print(\"비겼습니다.\")\n",
    "        if me == \"바위\":\n",
    "            print(\"사용자 승.\")\n",
    "            win_count += 1\n",
    "        if me == \"보\":\n",
    "            print(\"컴퓨터 승.\")\n",
    "            lose_count += 1\n",
    "\n",
    "    if com == \"바위\":\n",
    "        if me == \"바위\":\n",
    "            print(\"비겼습니다.\")\n",
    "        if me == \"보\":\n",
    "            print(\"사용자 승.\")\n",
    "            win_count += 1\n",
    "        if me == \"가위\":\n",
    "            print(\"컴퓨터 승.\")\n",
    "            lose_count += 1\n",
    "\n",
    "    if com == \"보\":\n",
    "        if me == \"보\":\n",
    "            print(\"비겼습니다.\")\n",
    "        if me == \"가위\":\n",
    "            print(\"사용자 승.\")\n",
    "            win_count += 1\n",
    "        if me == \"바위\":\n",
    "            print(\"컴퓨터 승.\")\n",
    "            lose_count += 1\n",
    "\n",
    "    if me == \"x\" or me == \"q\":\n",
    "        break\n",
    "\n",
    "\n",
    "print(\"{0}승 {1}패\".format(win_count, lose_count))\n",
    "\n"
   ]
  },
  {
   "cell_type": "markdown",
   "metadata": {},
   "source": [
    "---\n",
    "#### 문제 3\n",
    "\n",
    "숫자를 입력받아 짝수의 합과 홀수의 합을 구하시오.(0을 입력하면 종료)\n"
   ]
  },
  {
   "cell_type": "code",
   "execution_count": 4,
   "metadata": {},
   "outputs": [
    {
     "name": "stdout",
     "output_type": "stream",
     "text": [
      "값 입력(0 입력시 종료) : 0\n",
      "짝수의 합 : 0, 홀수의 합 : 0\n"
     ]
    }
   ],
   "source": [
    "hol = 0\n",
    "jjack = 0\n",
    "while True:\n",
    "    num = int(input(\"값 입력(0 입력시 종료) : \"))\n",
    "    if num % 2 == 0:\n",
    "        jjack += num\n",
    "    if num % 2 != 0:\n",
    "        hol += num\n",
    "    if num == 0:\n",
    "        break\n",
    "print(\"짝수의 합 : {0}, 홀수의 합 : {1}\".format(jjack,hol))"
   ]
  },
  {
   "cell_type": "markdown",
   "metadata": {},
   "source": [
    "---\n",
    "#### 문제 4\n",
    "\n",
    "숫자 맞추기 게임\n",
    "\n",
    "예시)\n",
    "1부터 100사이의 숫자를 맞추시오\n",
    "\n",
    "숫자 입력 : 50\n",
    "낮음!\n",
    "\n",
    "숫자 입력 : 75\n",
    "낮음!\n",
    "\n",
    "...\n",
    "\n",
    "숫자 입력 : 80\n",
    "정답입니다. 시도횟수는 ?번입니다."
   ]
  },
  {
   "cell_type": "code",
   "execution_count": 5,
   "metadata": {},
   "outputs": [
    {
     "name": "stdout",
     "output_type": "stream",
     "text": [
      "숫자 입력 : 2\n",
      "높음!\n",
      "숫자 입력 : 50\n",
      "높음!\n",
      "숫자 입력 : 80\n",
      "높음!\n",
      "숫자 입력 : 90\n",
      "정답입니다!\n",
      "시도횟수는 4번입니다.\n"
     ]
    }
   ],
   "source": [
    "import random\n",
    "\n",
    "count = 1\n",
    "rand = random.randint(1, 101)\n",
    "while True:\n",
    "    num = int(input(\"숫자 입력 : \"))\n",
    "    \n",
    "    if num > rand:\n",
    "        print(\"낮음!\")\n",
    "        count += 1\n",
    "    elif num < rand:\n",
    "        print(\"높음!\")\n",
    "        count += 1\n",
    "    elif num == rand:\n",
    "        print(\"정답입니다!\")\n",
    "        break\n",
    "print(\"시도횟수는 {0}번입니다.\".format(count))\n"
   ]
  },
  {
   "cell_type": "markdown",
   "metadata": {},
   "source": [
    "#### 문제 5\n",
    "\n",
    "##### 친구 관리 프로그램\n",
    "---<br/>\n",
    "1.친구 리스트 출력\n",
    "2.친구 추가\n",
    "3.친구 삭제\n",
    "4.이름 변경\n",
    "9.종료\n",
    "메뉴를 선택 : 2 (엔터)\n",
    "이름을 입력 : 홍길동 (엔터)\n",
    "\n",
    "---\n",
    "1.친구 리스트 출력\n",
    "2.친구 추가\n",
    "3.친구 삭제\n",
    "4.이름 변경\n",
    "9.종료\n",
    "메뉴를 선택 : 2 (엔터)\n",
    "이름을 입력 : 임꺽정 (엔터)\n",
    "\n",
    "---\n",
    "1.친구 리스트 출력\n",
    "2.친구 추가\n",
    "3.친구 삭제\n",
    "4.이름 변경\n",
    "9.종료\n",
    "메뉴를 선택 : 1 (엔터)\n",
    "[\"홍길동\", \"임꺽정\"]\n",
    "\n",
    "----------------------\n",
    "1.친구 리스트 출력\n",
    "2.친구 추가\n",
    "3.친구 삭제\n",
    "4.이름 변경\n",
    "9.종료\n",
    "메뉴를 선택 : 4 (엔터)\n",
    "변경할 이름 선택 : 홍길동 (엔터)\n",
    "변경하고 싶은 이름 입력 : 홍길순 (엔터)\n",
    "\n",
    "-------------------------------\n",
    "1.친구 리스트 출력\n",
    "2.친구 추가\n",
    "3.친구 삭제\n",
    "4.이름 변경\n",
    "9.종료\n",
    "메뉴를 선택 : 1 (엔터)\n",
    "[\"홍길순\", \"임꺽정\"]\n",
    "\n",
    "-------------------------------\n",
    "1.친구 리스트 출력\n",
    "2.친구 추가\n",
    "3.친구 삭제\n",
    "4.이름 변경\n",
    "9.종료\n",
    "메뉴를 선택 : 3 (엔터)\n",
    "삭제할 이름 입력 : 홍길순\n",
    "\n",
    "------------------------------\n",
    "\n"
   ]
  },
  {
   "cell_type": "code",
   "execution_count": 6,
   "metadata": {},
   "outputs": [
    {
     "name": "stdout",
     "output_type": "stream",
     "text": [
      "친구 관리 프로그램\n",
      "====================\n",
      "1.친구 리스트 출력\n",
      "2.친구 추가\n",
      "3.친구 삭제\n",
      "4.이름 변경\n",
      "9.종료\n",
      "메뉴를 선택 : 1\n",
      "[]\n",
      "-----------------------\n",
      "1.친구 리스트 출력\n",
      "2.친구 추가\n",
      "3.친구 삭제\n",
      "4.이름 변경\n",
      "9.종료\n",
      "메뉴를 선택 : 2\n",
      "이름을 입력 : 지디\n",
      "-----------------------\n",
      "1.친구 리스트 출력\n",
      "2.친구 추가\n",
      "3.친구 삭제\n",
      "4.이름 변경\n",
      "9.종료\n",
      "메뉴를 선택 : 1\n",
      "['지디']\n",
      "-----------------------\n",
      "1.친구 리스트 출력\n",
      "2.친구 추가\n",
      "3.친구 삭제\n",
      "4.이름 변경\n",
      "9.종료\n",
      "메뉴를 선택 : 4\n",
      "변경할 이름 입력 : 지디\n",
      "변경하고 싶은 이름 입력 : 권지용\n",
      "-----------------------\n",
      "1.친구 리스트 출력\n",
      "2.친구 추가\n",
      "3.친구 삭제\n",
      "4.이름 변경\n",
      "9.종료\n",
      "메뉴를 선택 : 1\n",
      "['권지용']\n",
      "-----------------------\n",
      "1.친구 리스트 출력\n",
      "2.친구 추가\n",
      "3.친구 삭제\n",
      "4.이름 변경\n",
      "9.종료\n",
      "메뉴를 선택 : 9\n",
      "종료되었습니다.\n"
     ]
    }
   ],
   "source": [
    "print(\"친구 관리 프로그램\")\n",
    "print(\"====================\")\n",
    "result = []\n",
    "while True:\n",
    "    print(\"1.친구 리스트 출력\")\n",
    "    print(\"2.친구 추가\")\n",
    "    print(\"3.친구 삭제\")\n",
    "    print(\"4.이름 변경\")\n",
    "    print(\"9.종료\")\n",
    "    menu = int(input(\"메뉴를 선택 : \"))\n",
    "\n",
    "    if menu == 1:\n",
    "        print(result)\n",
    "        print(\"-----------------------\")\n",
    "    if menu == 2:\n",
    "        name = input(\"이름을 입력 : \")\n",
    "        result.append(name)\n",
    "        print(\"-----------------------\")\n",
    "    if menu == 3:\n",
    "        del_name = input(\"삭제할 이름 입력 : \")\n",
    "        result.remove(del_name)\n",
    "        print(\"-----------------------\")\n",
    "    if menu == 4:\n",
    "        be_name = input(\"변경할 이름 입력 : \")\n",
    "        af_name = input(\"변경하고 싶은 이름 입력 : \")\n",
    "        for n, i in enumerate(result):\n",
    "            if i == be_name:\n",
    "                result[n] = af_name\n",
    "        print(\"-----------------------\")\n",
    "    if menu == 9:\n",
    "        print(\"종료되었습니다.\")\n",
    "        break\n",
    "\n"
   ]
  }
 ],
 "metadata": {
  "kernelspec": {
   "display_name": "Python 3",
   "language": "python",
   "name": "python3"
  },
  "language_info": {
   "codemirror_mode": {
    "name": "ipython",
    "version": 3
   },
   "file_extension": ".py",
   "mimetype": "text/x-python",
   "name": "python",
   "nbconvert_exporter": "python",
   "pygments_lexer": "ipython3",
   "version": "3.8.5"
  }
 },
 "nbformat": 4,
 "nbformat_minor": 4
}
