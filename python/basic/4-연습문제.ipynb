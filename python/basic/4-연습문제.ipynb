{
 "cells": [
  {
   "cell_type": "code",
   "execution_count": 32,
   "metadata": {},
   "outputs": [
    {
     "name": "stdout",
     "output_type": "stream",
     "text": [
      "3\n"
     ]
    }
   ],
   "source": [
    "### 1번\n",
    "\n",
    "class Calculator:\n",
    "    def __init__(self):\n",
    "        self.value = 0\n",
    "        \n",
    "    def add(self,val):\n",
    "        self.value += val\n",
    "        \n",
    "class UpgradeCalculator(Calculator):\n",
    "    \n",
    "    def sub(self,val):\n",
    "        self.value -= val\n",
    "        \n",
    "cal = UpgradeCalculator()\n",
    "cal.add(10)\n",
    "cal.sub(7)\n",
    "\n",
    "print(cal.value)"
   ]
  },
  {
   "cell_type": "code",
   "execution_count": 51,
   "metadata": {},
   "outputs": [
    {
     "name": "stdout",
     "output_type": "stream",
     "text": [
      "100\n"
     ]
    }
   ],
   "source": [
    "## 2번\n",
    "\n",
    "class Calculator:\n",
    "    def __init__(self):\n",
    "        self.value = 0\n",
    "        \n",
    "    def add(self,val):\n",
    "        self.value += val\n",
    "\n",
    "class MaxLimitCalculator(Calculator):    \n",
    "    def add(self,val):\n",
    "        self.val = val\n",
    "        if self.value + self.val  <= 100:\n",
    "            self.value += val\n",
    "        elif self.value + self.val > 100:\n",
    "            self.value = 100\n",
    "            \n",
    "            \n",
    "####################################            \n",
    "            \n",
    "cal = MaxLimitCalculator()\n",
    "cal.add(50)\n",
    "cal.add(60)\n",
    "print(cal.value)\n",
    "    "
   ]
  },
  {
   "cell_type": "code",
   "execution_count": 56,
   "metadata": {},
   "outputs": [
    {
     "name": "stdout",
     "output_type": "stream",
     "text": [
      "False\n",
      "True\n"
     ]
    }
   ],
   "source": [
    "## 3번\n",
    "\n",
    "print(all([1,2,abs(-3)-3]))\n",
    "\n",
    "print(chr(ord('a'))=='a')\n"
   ]
  },
  {
   "cell_type": "code",
   "execution_count": 122,
   "metadata": {},
   "outputs": [
    {
     "name": "stdout",
     "output_type": "stream",
     "text": [
      "[1, 3, 8]\n"
     ]
    }
   ],
   "source": [
    "## 4번\n",
    "ex = [1,-2,3,-5,8,-3]\n",
    "\n",
    "print(list(filter(lambda x: x > 0, ex)))\n"
   ]
  },
  {
   "cell_type": "code",
   "execution_count": 126,
   "metadata": {},
   "outputs": [
    {
     "name": "stdout",
     "output_type": "stream",
     "text": [
      "0xea\n",
      "234\n"
     ]
    }
   ],
   "source": [
    "## 5번\n",
    "\n",
    "print(hex(234))\n",
    "print(int(0xea))"
   ]
  },
  {
   "cell_type": "code",
   "execution_count": 142,
   "metadata": {},
   "outputs": [
    {
     "name": "stdout",
     "output_type": "stream",
     "text": [
      "[3, 6, 9, 12]\n"
     ]
    }
   ],
   "source": [
    "## 6번\n",
    "\n",
    "x = [1,2,3,4]\n",
    "print(list(map(lambda x: x*3,x)))"
   ]
  },
  {
   "cell_type": "code",
   "execution_count": 184,
   "metadata": {},
   "outputs": [
    {
     "name": "stdout",
     "output_type": "stream",
     "text": [
      "-1\n"
     ]
    }
   ],
   "source": [
    "## 7번\n",
    "\n",
    "x = [-8,2,7,5,-3,5,0,1]\n",
    "data1 = max(x)\n",
    "data2 = min(x)\n",
    "print(data1+data2)"
   ]
  },
  {
   "cell_type": "code",
   "execution_count": 191,
   "metadata": {},
   "outputs": [
    {
     "name": "stdout",
     "output_type": "stream",
     "text": [
      "5.6667\n"
     ]
    }
   ],
   "source": [
    "## 8번\n",
    "\n",
    "a = 17/3\n",
    "print(\"%.4f\"%a)"
   ]
  },
  {
   "cell_type": "code",
   "execution_count": 200,
   "metadata": {},
   "outputs": [
    {
     "name": "stdout",
     "output_type": "stream",
     "text": [
      "0\n"
     ]
    }
   ],
   "source": [
    "## 9번\n",
    "\n",
    "import sys\n",
    "\n",
    "data = [sys.argv[1]]\n",
    "count = 0\n",
    "for i in range(len(data)):\n",
    "    count += i\n",
    "print(count)\n",
    "    "
   ]
  },
  {
   "cell_type": "code",
   "execution_count": 259,
   "metadata": {},
   "outputs": [
    {
     "name": "stdout",
     "output_type": "stream",
     "text": [
      "['코딩면접.ipynb', '0-markdown.ipynb', '3-연습문제.ipynb', '.DS_Store', 'readlines.py', '2-연습문제.ipynb', '4-연습문제.ipynb', '1-연습문제.ipynb', 'myargv.py', '__pycache__', 'phoneBook.py', '5-모듈과 패키지.ipynb', 'image', 'cmdTest.py', '4-클래스.ipynb', 'mymodule.py', '2-제어문.ipynb', '.ipynb_checkpoints', '3-함수.ipynb', 'data', '1-변수와 자료형.ipynb']\n"
     ]
    }
   ],
   "source": [
    "## 10번\n",
    "\n",
    "import os\n",
    "os.chdir(\"/Users/dofany/dofany_study/basic\")\n",
    "result = os.listdir()\n",
    "print(result)"
   ]
  },
  {
   "cell_type": "code",
   "execution_count": 260,
   "metadata": {},
   "outputs": [
    {
     "name": "stdout",
     "output_type": "stream",
     "text": [
      "readlines.py\n",
      "myargv.py\n",
      "phoneBook.py\n",
      "cmdTest.py\n",
      "mymodule.py\n"
     ]
    }
   ],
   "source": [
    "## 11번\n",
    "\n",
    "import glob\n",
    "import os\n",
    "file = glob.glob('*.py')\n",
    "for x in file:\n",
    "    if os.chdir(\"/Users/dofany/dofany_study/basic\"):\n",
    "        print(x)\n",
    "    else:\n",
    "        print(x)"
   ]
  },
  {
   "cell_type": "code",
   "execution_count": 261,
   "metadata": {},
   "outputs": [
    {
     "name": "stdout",
     "output_type": "stream",
     "text": [
      "2021/04/12 21:38:40\n"
     ]
    }
   ],
   "source": [
    "## 12번\n",
    "\n",
    "import datetime\n",
    "\n",
    "today = datetime.date.today()\n",
    "ctime = datetime.datetime.today()\n",
    "\n",
    "print(ctime.strftime(\"%Y/%m/%d %H:%M:%S\"))\n"
   ]
  },
  {
   "cell_type": "code",
   "execution_count": 275,
   "metadata": {},
   "outputs": [
    {
     "name": "stdout",
     "output_type": "stream",
     "text": [
      "29 24 11 35 16 2 "
     ]
    }
   ],
   "source": [
    "import random\n",
    "\n",
    "for i in range(1,7):\n",
    "    print(random.randint(1,46),end =\" \")  \n"
   ]
  }
 ],
 "metadata": {
  "kernelspec": {
   "display_name": "Python 3",
   "language": "python",
   "name": "python3"
  },
  "language_info": {
   "codemirror_mode": {
    "name": "ipython",
    "version": 3
   },
   "file_extension": ".py",
   "mimetype": "text/x-python",
   "name": "python",
   "nbconvert_exporter": "python",
   "pygments_lexer": "ipython3",
   "version": "3.8.5"
  }
 },
 "nbformat": 4,
 "nbformat_minor": 4
}
