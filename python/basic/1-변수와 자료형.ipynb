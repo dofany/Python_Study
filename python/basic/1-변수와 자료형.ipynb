{
 "cells": [
  {
   "cell_type": "markdown",
   "metadata": {},
   "source": [
    "## 1. 변수의 정의 : 임시 기억(저장) 공간 \n",
    "   + 데이터를 하나만 저장할 수 있다.\n",
    "\n",
    "## 2. 변수의 특징\n",
    "   + 묵시적 선언\n",
    "   + 동적 바인딩\n",
    "   + immutable(불변성)\n",
    "    - 변수에 저장되어 있는 값이 변하는게 아니라 데이터가 저장되어있는 주소값이 바뀌는 거라서 불변성이다.   "
   ]
  },
  {
   "cell_type": "code",
   "execution_count": 15,
   "metadata": {},
   "outputs": [
    {
     "name": "stdout",
     "output_type": "stream",
     "text": [
      "4240\n",
      "3.14\n"
     ]
    }
   ],
   "source": [
    "a = 10\n",
    "\n",
    "a = \"가나다\"\n",
    "\n",
    "a = 4.24E3\n",
    "print(a)\n",
    "\n",
    "a = 3.14\n",
    "print(a)"
   ]
  },
  {
   "cell_type": "markdown",
   "metadata": {},
   "source": [
    "## 3. Data Type\n",
    "+ 종류\n",
    "    1. 기본 자료형 : 데이터가 하나일 때 사용 \n",
    "        * int : 정수형\n",
    "        * float : 실수형\n",
    "        * str : 문자형\n",
    "        * boolean : 참/거짓\n",
    "        \n",
    "    1. 집합 자료형 : 데이터가 여러개 일 때 사용\n",
    "        * list : 리스트\n",
    "        * tuple : 튜플\n",
    "        * dict : 매핑\n",
    "        * set : 원소를 얻고자 사용"
   ]
  },
  {
   "cell_type": "markdown",
   "metadata": {},
   "source": [
    "---\n",
    "\n",
    "#### (1) str"
   ]
  },
  {
   "cell_type": "code",
   "execution_count": 33,
   "metadata": {},
   "outputs": [
    {
     "name": "stdout",
     "output_type": "stream",
     "text": [
      "<class 'int'>\n",
      "<class 'str'>\n",
      "\n",
      "\"안녕하세요. 저는 홍길동 입니다. 안녕히 계세요\"\n",
      "\n"
     ]
    }
   ],
   "source": [
    "a = 10\n",
    "print(type(a))\n",
    "\n",
    "a = '10'\n",
    "print(type(a))\n",
    "\n",
    "a = \"\"\"\n",
    "\"안녕하세요. 저는 홍길동 입니다. 안녕히 계세요\"\n",
    "\"\"\"\n",
    "print(a)"
   ]
  },
  {
   "cell_type": "code",
   "execution_count": 43,
   "metadata": {},
   "outputs": [
    {
     "name": "stdout",
     "output_type": "stream",
     "text": [
      "이것은 파이썬입니다. \n",
      "\n",
      "\n",
      "열심히 공부합시다.\n",
      "\n",
      "현재 시간은 \t\t\t9시 입니다.\n",
      "\n",
      "\"\\t는 탭키의 역할이다.\"\n"
     ]
    }
   ],
   "source": [
    "# 특수 문자(제어 문자) : Escape문자\n",
    "a = \"이것은 파이썬입니다. \\n\\n\\n열심히 공부합시다.\\n\" # \\n은 엔터의 역할\n",
    "print(a)\n",
    "b = \"현재 시간은 \\t\\t\\t9시 입니다.\\n\" # \\t은 tab의 역할\n",
    "print(b)\n",
    "\n",
    "print('\"\\\\t는 탭키의 역할이다.\"')"
   ]
  },
  {
   "cell_type": "code",
   "execution_count": 48,
   "metadata": {},
   "outputs": [
    {
     "name": "stdout",
     "output_type": "stream",
     "text": [
      "10 + 2 - 3 + 5 + 6 + 7\n"
     ]
    }
   ],
   "source": [
    "# \\를 줄바꿈의 용도로 사용\n",
    "a =  \"10 + 2 - 3 + 5 \\\n",
    "+ 6 + 7\"\n",
    "print(a)"
   ]
  },
  {
   "cell_type": "code",
   "execution_count": 62,
   "metadata": {},
   "outputs": [
    {
     "name": "stdout",
     "output_type": "stream",
     "text": [
      "('python', 'is fun', 'and great')\n",
      "python is fun and great\n"
     ]
    }
   ],
   "source": [
    "# 문자열을 연결하기\n",
    "a = \"python\"\n",
    "b = \"is fun\"\n",
    "c = \"and great\"\n",
    "\n",
    "d = a,b,c\n",
    "print(d)\n",
    "\n",
    "d = a+\" \"+b+\" \"+c\n",
    "print(d)"
   ]
  },
  {
   "cell_type": "code",
   "execution_count": 72,
   "metadata": {},
   "outputs": [
    {
     "name": "stdout",
     "output_type": "stream",
     "text": [
      "python python python \n"
     ]
    }
   ],
   "source": [
    "# 문자열 곱하기(반복)\n",
    "a = \"python\"\n",
    "print(a * 3)"
   ]
  },
  {
   "cell_type": "code",
   "execution_count": 73,
   "metadata": {},
   "outputs": [
    {
     "name": "stdout",
     "output_type": "stream",
     "text": [
      "6\n"
     ]
    }
   ],
   "source": [
    "# 문자열 길이\n",
    "a = \"python\"\n",
    "print(len(a))"
   ]
  },
  {
   "cell_type": "code",
   "execution_count": 77,
   "metadata": {},
   "outputs": [
    {
     "name": "stdout",
     "output_type": "stream",
     "text": [
      "e\n",
      "o\n",
      "n\n",
      "o\n",
      "33\n"
     ]
    }
   ],
   "source": [
    "# 인덱싱(indexing) : 원하는 문자에 접근할 수 있는 방법 제공\n",
    "a = \"Life is too short. You need python\"\n",
    "print(a[3])\n",
    "print(a[10])\n",
    "print(a[-1])\n",
    "print(a[-2])\n",
    "print(len(a)-1) # 마지막 위치\n"
   ]
  },
  {
   "cell_type": "code",
   "execution_count": 84,
   "metadata": {},
   "outputs": [
    {
     "name": "stdout",
     "output_type": "stream",
     "text": [
      "Life is too short. You need pyth\n",
      "Life is too short. You need pyth\n"
     ]
    }
   ],
   "source": [
    "# 슬라이싱(Slicing) : [시작위치 : 끝위치(n-1)]\n",
    "a = \"Life is too short. You need python\"\n",
    "print(a[0:-2])\n",
    "print(a[:-2])"
   ]
  },
  {
   "cell_type": "code",
   "execution_count": 3,
   "metadata": {},
   "outputs": [
    {
     "name": "stdout",
     "output_type": "stream",
     "text": [
      "Lesosr ue tn\n"
     ]
    }
   ],
   "source": [
    "# step : [시작위치 : 끝위치 : 간격]\n",
    "a = \"Life is too short. You need python\"\n",
    "print(a[0::3])"
   ]
  },
  {
   "cell_type": "code",
   "execution_count": 97,
   "metadata": {},
   "outputs": [
    {
     "name": "stdout",
     "output_type": "stream",
     "text": [
      "python\n",
      "python\n"
     ]
    }
   ],
   "source": [
    "# 데이터는 수정 불가\n",
    "a = \"pithon\"\n",
    "print(a.replace(a[1],\"y\"))\n",
    "print(a[:1] + 'y' + a[2:])"
   ]
  },
  {
   "cell_type": "code",
   "execution_count": 23,
   "metadata": {
    "scrolled": true
   },
   "outputs": [
    {
     "name": "stdout",
     "output_type": "stream",
     "text": [
      "18\n",
      "1\n",
      "-----------------------------------\n",
      "a?b?c?d?e?f?g\n",
      "-----------------------------------\n",
      "['홍길동', '김철수', '임창정', '신동엽']\n",
      "-----------------------------------\n",
      "8 -1\n",
      "8\n",
      "-----------------------------------\n",
      "             python\n",
      "python\n",
      "python             \n",
      "-----------------------------------\n",
      "python world\n",
      "일이삼사오육칠팔구\n",
      "1이3사5육칠팔구\n"
     ]
    }
   ],
   "source": [
    "## 문자열 관련 함수\n",
    "\n",
    "# count() : 문자 개수 세기 \n",
    "str1 = \"홍길동, 김철수, 임창정, 신동엽\"\n",
    "print(len(str1))\n",
    "print(str1.count(\"수\"))\n",
    "print(\"-\"*35)\n",
    "\n",
    "# join() : 문자열 삽입\n",
    "str1 = \"abcdefg\"\n",
    "print(\"?\".join(str1))\n",
    "print(\"-\"*35)\n",
    "\n",
    "# split() : 문자열 나누기\n",
    "str1 = \"홍길동 김철수 임창정 신동엽\"\n",
    "print(str1.split(' '))\n",
    "print(\"-\"*35)\n",
    "\n",
    "# find(), index() : 위치 찾기\n",
    "print(str1.find(\"임\"), str1.find(\"최\")) # 찾고자 하는 데이터가 없으면 -1\n",
    "print(str1.index(\"임\")) # 찾고자 하는 데이터가 없으면 에러\n",
    "print(\"-\"*35)\n",
    "\n",
    "# lstrip(), rstrip(), strip() : 왼쪽, 오른쪽, 양쪽 공백 제거\n",
    "a = \"             python\"\n",
    "print(a)\n",
    "print(a.lstrip())\n",
    "a = \",.python             \"\n",
    "print(a.lstrip(\",.\"))\n",
    "\n",
    "# replace(), [translate(), maketranse()] : 새로운 값으로 바꿈(maketranse()와 translate()는 같이 써야됨)\n",
    "a = \"hello world\"\n",
    "print(a.replace(\"hello\",\"python\"))\n",
    "\n",
    "a = \"일이삼사오육칠팔구\"\n",
    "print(a.replace(\"일삼오\",\"135\"))\n",
    "print(a.translate(a.maketrans(\"일삼오\",\"135\")))"
   ]
  },
  {
   "cell_type": "code",
   "execution_count": 75,
   "metadata": {
    "scrolled": true
   },
   "outputs": [
    {
     "name": "stdout",
     "output_type": "stream",
     "text": [
      "현재 온도는 18도 입니다.\n",
      "현재 온도는 18도 입니다. 오늘의 날씨는 맑음입니다.\n",
      "나눗셈       의 결과 : 3 / 5 = 0.6입니다.\n",
      "나눗셈의 결과 : 3 / 5 = 0.6입니다.\n",
      "나눗셈       의 결과 : 3 / 5 = 0.600입니다.\n",
      "????나눗셈????의 결과 : 3 / 5 = 0.6입니다.\n",
      "나눗셈????????의 결과 : 3 / 5 = 0.6입니다.\n"
     ]
    }
   ],
   "source": [
    "# 문자열 포메팅\n",
    "print(\"현재 온도는 %d도 입니다.\"%(18))\n",
    "print(\"현재 온도는 %d도 입니다. 오늘의 날씨는 %s입니다.\"%(18,\"맑음\"))\n",
    "\n",
    "# .format\n",
    "print(\"%-10s의 결과 : %d %c %d = %.1f입니다.\"%(\"나눗셈\",3,'/',5,3/5))\n",
    "print(\"{0}의 결과 : {1} {2} {3} = {4}입니다.\".format(\"나눗셈\",3,\"/\",5,3/5))\n",
    "print(\"{title:10}의 결과 : {num1} {num2} {num3} = {num4:.3f}입니다.\"\\\n",
    "      .format(num1=3,num2=\"/\",num3=5,num4=3/5,title=\"나눗셈\"))\n",
    "\n",
    "print(\"{0:?^11}의 결과 : {1} {2} {3} = {4}입니다.\".format(\"나눗셈\",3,\"/\",5,3/5))\n",
    "print(\"{0:?<11}의 결과 : {1} {2} {3} = {4}입니다.\".format(\"나눗셈\",3,\"/\",5,3/5))\n"
   ]
  },
  {
   "cell_type": "markdown",
   "metadata": {},
   "source": [
    "---\n",
    "\n",
    "#### (2) bool"
   ]
  },
  {
   "cell_type": "code",
   "execution_count": 83,
   "metadata": {},
   "outputs": [
    {
     "name": "stdout",
     "output_type": "stream",
     "text": [
      "True True True False\n",
      "True True True False False\n",
      "<class 'bool'>\n"
     ]
    }
   ],
   "source": [
    "print(bool(10), bool(3.14), bool(-2), bool(0))\n",
    "print(bool('가'), bool(\"가나다\"), bool(\" \"), bool(\"\"), bool(None))\n",
    "\n",
    "a = True\n",
    "print(type(a))"
   ]
  },
  {
   "cell_type": "markdown",
   "metadata": {},
   "source": [
    "---\n",
    "\n",
    "#### (3) list\n",
    "\n",
    "* '[  ]' 사용\n",
    "* 임의의 객체를 순차적으로 저장하는 집합적 자료형(Sequence Data)\n",
    "* index 사용\n",
    "* mutable(변경 가능)\n",
    "\n",
    "---"
   ]
  },
  {
   "cell_type": "code",
   "execution_count": 104,
   "metadata": {},
   "outputs": [
    {
     "name": "stdout",
     "output_type": "stream",
     "text": [
      "10 11 12\n",
      "[10, 11, 12]\n",
      "10 11 12\n",
      "['james', 178, 3.14, True]\n"
     ]
    }
   ],
   "source": [
    "# a = 10\n",
    "# b = 11\n",
    "# c = 12\n",
    "\n",
    "a,b,c = 10,11,12\n",
    "print(a,b,c)\n",
    "\n",
    "d = [10,11,12]\n",
    "print(d)\n",
    "print(d[0],d[1],d[2])\n",
    "\n",
    "e = [\"james\",178,3.14,True]\n",
    "print(e)"
   ]
  },
  {
   "cell_type": "code",
   "execution_count": 112,
   "metadata": {},
   "outputs": [
    {
     "name": "stdout",
     "output_type": "stream",
     "text": [
      "[1, 2, 3, '가', 3.14, ['a', 'b', 'c']]\n",
      "['a', 'b', 'c']\n",
      "a\n",
      "b\n"
     ]
    }
   ],
   "source": [
    "### indexing\n",
    "\n",
    "a = [1,2,3,\"가\",3.14,[\"a\",\"b\",\"c\"]]\n",
    "print(a)\n",
    "print(a[5])\n",
    "print(a[5][0])\n",
    "print(a[-1][-2])"
   ]
  },
  {
   "cell_type": "code",
   "execution_count": 176,
   "metadata": {},
   "outputs": [
    {
     "name": "stdout",
     "output_type": "stream",
     "text": [
      "[10, 2, 3, 4, 5]\n",
      "[10, 2, 3, 4, 5]\n",
      "-----------------------------------\n",
      "[1, 2, 3, 4, 5]\n",
      "[10, 2, 3, 4, 5]\n"
     ]
    }
   ],
   "source": [
    "### 복사 (얕은 복사, 깊은 복사)\n",
    "\n",
    "a = [1,2,3,4,5]\n",
    "b = a\n",
    "b[0] = 10\n",
    "print(a)\n",
    "print(b)\n",
    "print(\"-\"*35)\n",
    "\n",
    "a = [1,2,3,4,5]\n",
    "#b = a[0:5]\n",
    "b = a[:]\n",
    "\n",
    "b[0] = 10\n",
    "print(a)\n",
    "print(b)\n"
   ]
  },
  {
   "cell_type": "code",
   "execution_count": 158,
   "metadata": {},
   "outputs": [
    {
     "name": "stdout",
     "output_type": "stream",
     "text": [
      "<class 'list'> [1, 2, 3]\n",
      "-----------------------------------\n",
      "<class 'int'> 10\n",
      "<class 'str'> 10\n",
      "<class 'float'> 10.0\n",
      "<class 'bool'> True\n",
      "<class 'list'> ['1', '0']\n",
      "<class 'list'> ['10']\n",
      "-----------------------------------\n",
      "[0, 1, 2, 3]\n",
      "[0, 1, 2, 3, 4, 5, 6, 7, 8, 9]\n",
      "[5, 6, 7, 8, 9, 10, 11]\n",
      "[5, 7, 9, 11]\n",
      "[-4, -3, -2, -1, 0, 1, 2, 3, 4, 5, 6, 7, 8, 9, 10, 11]\n",
      "[10, 9, 8, 7, 6, 5, 4, 3, 2, 1]\n"
     ]
    }
   ],
   "source": [
    "# list 생성\n",
    "a = []\n",
    "a = list()\n",
    "a = [1,2,3]\n",
    "print(type(a),a)\n",
    "print(\"-\"*35)\n",
    "\n",
    "# 각 자료형 함수\n",
    "a = '10'\n",
    "print(type(int(a)),int(a))\n",
    "print(type(str(a)),str(a))\n",
    "print(type(float(a)),float(a))\n",
    "print(type(bool(a)), bool(a))\n",
    "\n",
    "print(type(list(a)),list(a))\n",
    "print(type(list([a])),list([a]))\n",
    "print(\"-\"*35)\n",
    "\n",
    "# 초기화 방법\n",
    "\n",
    "a = list([0,1,2,3])\n",
    "print(a)\n",
    "\n",
    "a = list(range(10)) #range(0,10,1) = 0부터 9까지 1씩 증가\n",
    "print(a)\n",
    "\n",
    "a = list(range(5,12))\n",
    "print(a)\n",
    "\n",
    "a = list(range(5,12,2))\n",
    "print(a)\n",
    "\n",
    "a = list(range(-4,12,1))\n",
    "print(a)\n",
    "\n",
    "a = list(range(10,0,-1))\n",
    "print(a)"
   ]
  },
  {
   "cell_type": "code",
   "execution_count": 168,
   "metadata": {},
   "outputs": [
    {
     "name": "stdout",
     "output_type": "stream",
     "text": [
      "[1, 2, 3, 4, 5, 6]\n",
      "[1, 2, 3, 1, 2, 3, 1, 2, 3]\n",
      "2hi\n"
     ]
    }
   ],
   "source": [
    "# 연산 가능\n",
    "a = [1,2,3]\n",
    "b = [4,5,6]\n",
    "\n",
    "print(a+b)\n",
    "print(a*3)\n",
    "print(str(a[1])+\"hi\")"
   ]
  },
  {
   "cell_type": "code",
   "execution_count": 189,
   "metadata": {},
   "outputs": [
    {
     "name": "stdout",
     "output_type": "stream",
     "text": [
      "[1, 2, 3]\n",
      "[9, 1, 2, 3]\n",
      "[9, 1, 2, 3, 8]\n",
      "[9, 1, 2, 3, 8, [1, 6, 7]]\n",
      "[9, 1, 2, 3, 8, [1, 6, 7], 4]\n",
      "[9, 1, 2, 3, 8, [1, 6, 7], 4, 10, 5, 4]\n"
     ]
    }
   ],
   "source": [
    "# 추가하기 : insert(위치,값) => 위치를 지정해서 값을 추가, append(), extend() => 맨뒤의 값을 추가\n",
    "\n",
    "a = [1,2,3]\n",
    "print(a)\n",
    "\n",
    "a.insert(0,9)\n",
    "print(a)\n",
    "\n",
    "a.append(8)\n",
    "print(a)\n",
    "\n",
    "a.append([1,6,7])\n",
    "print(a)\n",
    "\n",
    "a.extend([4])\n",
    "print(a)\n",
    "\n",
    "a.extend([10,5,4])\n",
    "print(a)\n",
    "\n"
   ]
  },
  {
   "cell_type": "code",
   "execution_count": 218,
   "metadata": {},
   "outputs": [
    {
     "name": "stdout",
     "output_type": "stream",
     "text": [
      "[1, 2, 3, 4]\n",
      "[4, 3, 2, 1]\n"
     ]
    }
   ],
   "source": [
    "### 정렬 \n",
    "\n",
    "a = [1,4,3,2]\n",
    "# a.sort()\n",
    "# print(a)\n",
    "print(sorted(a))\n",
    "\n",
    "# 역순 : reverse\n",
    "a = [1,2,3,4]\n",
    "a.reverse()\n",
    "print(a)\n"
   ]
  },
  {
   "cell_type": "code",
   "execution_count": 71,
   "metadata": {},
   "outputs": [
    {
     "name": "stdout",
     "output_type": "stream",
     "text": [
      "[1, 1, 2, 3]\n",
      "-----------------------------------\n",
      "[1, 2, 1, 2, 3]\n",
      "-----------------------------------\n",
      "[1, 2, 1, 2]\n",
      "-----------------------------------\n",
      "[]\n",
      "-----------------------------------\n",
      "[1] 2 3\n",
      "-----------------------------------\n"
     ]
    }
   ],
   "source": [
    "### 제거\n",
    "\n",
    "# 범위를 지정해서 삭제\n",
    "a = [1,2,3,1,2,3]\n",
    "a[1:3] = []\n",
    "print(a)\n",
    "print(\"-\"*35)\n",
    "\n",
    "# 값을 찾아서 삭제\n",
    "a = [1,2,3,1,2,3]\n",
    "a.remove(3)\n",
    "print(a)\n",
    "print(\"-\"*35)\n",
    "\n",
    "# 위치를 찾아서 삭제\n",
    "del a[4]\n",
    "print(a)\n",
    "print(\"-\"*35)\n",
    "\n",
    "# 전체 데이터 삭제\n",
    "a = [1,2,3,1,2,3]\n",
    "a[:] = []\n",
    "print(a)\n",
    "print(\"-\"*35)\n",
    "\n",
    "# stack\n",
    "a = [1,2,3]\n",
    "# a.pop()\n",
    "b = a.pop()\n",
    "c = a.pop()\n",
    "print(a,c,b)\n",
    "print(\"-\"*35)"
   ]
  },
  {
   "cell_type": "code",
   "execution_count": 70,
   "metadata": {},
   "outputs": [
    {
     "name": "stdout",
     "output_type": "stream",
     "text": [
      "3\n",
      "[1, 2, 3, 4, 5]\n",
      "True\n",
      "False\n"
     ]
    }
   ],
   "source": [
    "# 검색\n",
    "\n",
    "a = [1,2,3,4,5]\n",
    "print(a.index(4))\n",
    "print(a)\n",
    "\n",
    "print(2 in a)\n",
    "print(7 in a)"
   ]
  },
  {
   "cell_type": "markdown",
   "metadata": {},
   "source": [
    "----\n",
    "#### (4) tuple \n",
    "\n",
    "* (  ) 사용\n",
    "* immutable(수정 불가)"
   ]
  },
  {
   "cell_type": "code",
   "execution_count": 246,
   "metadata": {},
   "outputs": [
    {
     "name": "stdout",
     "output_type": "stream",
     "text": [
      "<class 'tuple'>\n",
      "4\n",
      "1\n",
      "0\n"
     ]
    }
   ],
   "source": [
    "a = ('a', 'b', 'c', 'd')\n",
    "print(type(a))\n",
    "print(len(a))\n",
    "print(a.count('c'))\n",
    "print(a.index('a'))"
   ]
  },
  {
   "cell_type": "code",
   "execution_count": 247,
   "metadata": {},
   "outputs": [
    {
     "name": "stdout",
     "output_type": "stream",
     "text": [
      "(1, 10, 3, 4, 5)\n"
     ]
    }
   ],
   "source": [
    "a = [1,2,3,4,5]\n",
    "a[1] = 10\n",
    "b = a\n",
    "b = tuple(b)\n",
    "print(b)"
   ]
  },
  {
   "cell_type": "code",
   "execution_count": 257,
   "metadata": {},
   "outputs": [
    {
     "name": "stdout",
     "output_type": "stream",
     "text": [
      "<class 'tuple'>\n",
      "(10, 20, 30)\n",
      "<class 'int'> <class 'int'> <class 'int'>\n",
      "10 20 30\n"
     ]
    }
   ],
   "source": [
    "# packing과 unpacking\n",
    "\n",
    "a = 10,20,30\n",
    "print(type(a))\n",
    "print(a)\n",
    "\n",
    "a1,a2,a3 = a\n",
    "print(type(a1),type(a2),type(a3))\n",
    "print(a1,a2,a3)"
   ]
  },
  {
   "cell_type": "markdown",
   "metadata": {},
   "source": [
    "----\n",
    "#### (5) dict (Dictionary) : 두 개의 데이터를 하나로 묶음\n",
    "\n",
    "* 순서가 없다\n",
    "* {키 : 값}\n",
    "* 키를 이용해서 값을 조회"
   ]
  },
  {
   "cell_type": "code",
   "execution_count": 33,
   "metadata": {},
   "outputs": [
    {
     "name": "stdout",
     "output_type": "stream",
     "text": [
      "{'name': '홍길동', 'telNum': '111-1111', 'age': 27} \n",
      "\n",
      "<class 'dict'> \n",
      "\n",
      "홍길동 111-1111 27 \n",
      "\n",
      "dict_keys(['name', 'telNum', 'age']) \n",
      "\n",
      "dict_values(['홍길동', '111-1111', 27]) \n",
      "\n",
      "dict_items([('name', '홍길동'), ('telNum', '111-1111'), ('age', 27)]) \n",
      "\n",
      "[('name', '홍길동'), ('telNum', '111-1111'), ('age', 27)] \n",
      "\n",
      "('name', '홍길동') name \n",
      "\n"
     ]
    }
   ],
   "source": [
    "a = {\"name\":\"홍길동\", \"telNum\":\"111-1111\", \"age\":27}\n",
    "print(a,\"\\n\")\n",
    "print(type(a),\"\\n\")\n",
    "\n",
    "print(a[\"name\"],a[\"telNum\"],a[\"age\"],\"\\n\")\n",
    "\n",
    "print(a.keys(),\"\\n\")\n",
    "print(a.values(),\"\\n\")\n",
    "print(a.items(),\"\\n\")\n",
    "\n",
    "b = list(a.items())\n",
    "print(b,\"\\n\")\n",
    "\n",
    "print(b[0], b[0][0],\"\\n\")"
   ]
  },
  {
   "cell_type": "code",
   "execution_count": 72,
   "metadata": {},
   "outputs": [
    {
     "name": "stdout",
     "output_type": "stream",
     "text": [
      "{'name': '홍길동', 'telNum': '111-1111', 'age': 27} \n",
      "\n",
      "{'name': '임창정', 'telNum': '111-1111', 'age': 27} \n",
      "\n",
      "-----------------------------------\n",
      "{'name': '임창정', 'telNum': '111-1111', 'age': 27, 'hobby': ['낚시', '노래']} \n",
      "\n",
      "-----------------------------------\n",
      "{'name': '임창정', 'telNum': '111-1111', 'age': 27} \n",
      "\n",
      "-----------------------------------\n",
      "{} \n",
      "\n",
      "-----------------------------------\n",
      "홍길동 \n",
      "\n",
      "None \n",
      "\n",
      "-----------------------------------\n"
     ]
    }
   ],
   "source": [
    "# 수정\n",
    "\n",
    "a = {\"name\":\"홍길동\", \"telNum\":\"111-1111\", \"age\":27}\n",
    "print(a,\"\\n\")\n",
    "a[\"name\"] = \"임창정\"\n",
    "print(a,\"\\n\")\n",
    "print(\"-\"*35)\n",
    "\n",
    "# 추가 \n",
    "\n",
    "a[\"hobby\"] = [\"낚시\",\"노래\"] #### => 튜플로도 가능\n",
    "print(a,\"\\n\")\n",
    "print(\"-\"*35)\n",
    "\n",
    "# 삭제\n",
    "del a[\"hobby\"]\n",
    "print(a,\"\\n\")\n",
    "print(\"-\"*35)\n",
    "\n",
    "# 전체 삭제\n",
    "a.clear()\n",
    "print(a,\"\\n\")\n",
    "print(\"-\"*35)\n",
    "\n",
    "# 데이터 가져오기\n",
    "a = {\"name\":\"홍길동\", \"telNum\":\"111-1111\", \"age\":27}\n",
    "print(a.get(\"name\"),\"\\n\")\n",
    "print(a.get(\"hobby\"),\"\\n\")\n",
    "print(\"-\"*35)\n",
    "\n"
   ]
  },
  {
   "cell_type": "markdown",
   "metadata": {},
   "source": [
    "---\n",
    "#### (6) set\n",
    "\n",
    "* { } 사용\n",
    "* 키가 없고 값을 사용\n",
    "* 순서가 없다(인덱스가 없다)\n",
    "* 중복 불가\n"
   ]
  },
  {
   "cell_type": "code",
   "execution_count": 58,
   "metadata": {},
   "outputs": [
    {
     "name": "stdout",
     "output_type": "stream",
     "text": [
      "<class 'set'>\n",
      "<class 'list'>\n",
      "<class 'tuple'> \n",
      "\n",
      "[1, 2, 3]\n"
     ]
    }
   ],
   "source": [
    "a = {1,2,3,4}\n",
    "print(type(a))\n",
    "a = [1,2,3,4]\n",
    "print(type(a))\n",
    "a = (1,2,3,4)\n",
    "print(type(a),\"\\n\")\n",
    "\n",
    "# print(a[0])\n",
    "a = {1,2,3,1,2,3}\n",
    "b = list(a)\n",
    "print(b)"
   ]
  },
  {
   "cell_type": "code",
   "execution_count": 73,
   "metadata": {},
   "outputs": [
    {
     "name": "stdout",
     "output_type": "stream",
     "text": [
      "{1, 2, 3, 4, 5, 6, 7, 8, 9}\n",
      "{1, 2, 3, 4, 5, 6, 7, 8, 9}\n",
      "\n",
      "-----------------------------------\n",
      "{4, 5, 6}\n",
      "{4, 5, 6}\n",
      "\n",
      "-----------------------------------\n",
      "{1, 2, 3}\n",
      "{1, 2, 3}\n",
      "\n",
      "-----------------------------------\n"
     ]
    }
   ],
   "source": [
    "### 연산\n",
    "\n",
    "s1 = {1,2,3,4,5,6}\n",
    "s2 = {4,5,6,7,8,9}\n",
    "\n",
    "# 합집합\n",
    "print(s1.union(s2))\n",
    "print(s1 | s2)\n",
    "print()\n",
    "print(\"-\"*35)\n",
    "\n",
    "# 교집합\n",
    "print(s1.intersection(s2))\n",
    "print(s1 & s2)\n",
    "print()\n",
    "print(\"-\"*35)\n",
    "\n",
    "# 차집합\n",
    "print(s1.difference(s2))\n",
    "print(s1 - s2)\n",
    "print()\n",
    "print(\"-\"*35)\n"
   ]
  },
  {
   "cell_type": "code",
   "execution_count": 75,
   "metadata": {},
   "outputs": [
    {
     "name": "stdout",
     "output_type": "stream",
     "text": [
      "{1, 2, 3, 4, 5, 6, 7, 8}\n",
      "-----------------------------------\n",
      "{1, 2, 3, 4, 5, 6, 7, 8, 9}\n",
      "-----------------------------------\n",
      "{1, 2, 3, 4, 5, 6, 7, 8}\n",
      "{1, 2, 3, 4, 5, 6, 7}\n",
      "-----------------------------------\n",
      "{1, 2, 3, 4, 5}\n",
      "[1, 2, 3, 4, 5]\n",
      "-----------------------------------\n"
     ]
    }
   ],
   "source": [
    "### 관련 함수\n",
    "\n",
    "# 여러 개 추가\n",
    "s1.update({7,8})\n",
    "print(s1)\n",
    "print(\"-\"*35)\n",
    "\n",
    "\n",
    "# 한 개 추가\n",
    "s1.add(9)\n",
    "print(s1)\n",
    "print(\"-\"*35)\n",
    "\n",
    "# 삭제\n",
    "s1.remove(9) # 없는 값을 지울 때 에러를 발생시켜 중지\n",
    "print(s1)\n",
    "s1.discard(8) # 없는 값을 지울 때 에러를 발생시키지 않음\n",
    "print(s1)\n",
    "print(\"-\"*35)\n",
    "\n",
    "# 중복된 데이터를 제거하고 재구성\n",
    "a = {1,2,3,4,4,5,2}\n",
    "b = set(a)\n",
    "print(b)\n",
    "\n",
    "b = list(b)\n",
    "print(b)\n",
    "print(\"-\"*35)\n"
   ]
  },
  {
   "cell_type": "markdown",
   "metadata": {},
   "source": [
    "## 4. Operator\n",
    "\n",
    "    1) 산술 연산자\n",
    "        *  /  +  -  %(나머지)  //(몫)  **\n",
    "    \n",
    "    2) 비교 연산자\n",
    "        >  <  >=  <=  !=  ==\n",
    "        \n",
    "    3) 논리 연산자(단락회로 연산자)\n",
    "        and(&)  or(|)  not(!)(단항, 토글)  \n",
    "     \n",
    "        x   y   x and y   x or y   not x   not y   x^y(데이터 암호화/복호화)\n",
    "        -----------------------------------------------------------\n",
    "        T   T      T        T       F       F       F\n",
    "        T   F      F        T       F       T       T\n",
    "        F   T      F        T       T       F       T\n",
    "        F   F      F        F       T       T       F\n",
    "    \n",
    "    4) 대입(치환, 할당) 연산자\n",
    "        =  +=  -=  *=  /=  ...\n",
    "    \n",
    "    ===================================================\n",
    "    \n",
    "    5) 포함 여부 연산자\n",
    "        in,  not in \n",
    "    \n",
    "    6) 비트(이진수) 연산자 \n",
    "        bit < Byte(8bit) < KB(1024byte) < MB(1024KB) < GB(1024MB)\n",
    "        \n",
    "        &(and)  |(or)  ^(xor)  ~(not)  >>(Right Shift)  <<(Left Shift) ...\n",
    "        \n",
    "        "
   ]
  },
  {
   "cell_type": "code",
   "execution_count": 77,
   "metadata": {},
   "outputs": [
    {
     "name": "stdout",
     "output_type": "stream",
     "text": [
      "3\n",
      "9\n"
     ]
    }
   ],
   "source": [
    "### 대입 연산자\n",
    "\n",
    "a = 1\n",
    "a = 5\n",
    "a = 3\n",
    "print(a)\n",
    "\n",
    "b = 1\n",
    "b += 5\n",
    "b += 3\n",
    "print(b)"
   ]
  },
  {
   "cell_type": "code",
   "execution_count": 102,
   "metadata": {},
   "outputs": [
    {
     "name": "stdout",
     "output_type": "stream",
     "text": [
      "False\n",
      "False\n",
      "3\n",
      "343140627639\n",
      "645812\n"
     ]
    }
   ],
   "source": [
    "### 비트 연산자\n",
    "\n",
    "a = 7>3 and 3>5\n",
    "print(a)\n",
    "\n",
    "b = 7>3 and 3>5\n",
    "print(b)\n",
    "\n",
    "c = 7&3\n",
    "print(c)\n",
    "\n",
    "data  = 645812\n",
    "key = 343141232131\n",
    "\n",
    "encoding = data ^ key\n",
    "print(encoding)\n",
    "\n",
    "decoding = encoding ^ key\n",
    "print(decoding)"
   ]
  }
 ],
 "metadata": {
  "kernelspec": {
   "display_name": "Python 3",
   "language": "python",
   "name": "python3"
  },
  "language_info": {
   "codemirror_mode": {
    "name": "ipython",
    "version": 3
   },
   "file_extension": ".py",
   "mimetype": "text/x-python",
   "name": "python",
   "nbconvert_exporter": "python",
   "pygments_lexer": "ipython3",
   "version": "3.8.5"
  }
 },
 "nbformat": 4,
 "nbformat_minor": 4
}
