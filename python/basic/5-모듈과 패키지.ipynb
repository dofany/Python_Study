{
 "cells": [
  {
   "cell_type": "markdown",
   "metadata": {},
   "source": [
    "### 1. 정의\n",
    "\n",
    "+ 비슷하거나 관련된 일을 하는 함수, 클래스, 상수값들을 모아서 하나의 파일에 저장하고 추후에 재사용하기 위한 목적\n",
    "\n",
    "\n",
    "+ 함수, 클래스, 상수 들을 모아놓은 파일 : 확장자 .Py\n",
    "\n",
    "\n",
    "### 2. 종류\n",
    "\n",
    "+ 표준 모듈 \n",
    "+ 사용자 정의 모듈\n",
    "+ 서드 파티 모듈\n",
    "\n",
    "\n",
    "### 3. 선언 방법\n",
    "\n",
    "+ import 모듈\n",
    "+ import 모듈 as 별칭\n",
    "+ from 모듈 import 상수, 함수, 클래스\n",
    "+ from 모듈 import *\n",
    "+ from 모듈 import 이름 as 별칭\n",
    "\n",
    "\n",
    "### 4. 참조\n",
    "\n",
    "+ 같은 경로\n",
    "+ 기존 모듈 경로 추가 : 아나콘다의 경우에는 주로 lib/site-package\n",
    "+ sys모듈을 이용해서 path 경로 추가 \n",
    "     - sys.path.append('경로')\n",
    "+ window의 환경변수 pythonpath 추가\n",
    "+ mac의 환경변수 python3 \n",
    "\n",
    "\n",
    "### 5. 패키지\n",
    "\n",
    "+ 여러 모듈을 모아놓은 폴더"
   ]
  },
  {
   "cell_type": "code",
   "execution_count": 2,
   "metadata": {},
   "outputs": [],
   "source": [
    "# import module\n",
    "\n",
    "# print(module.sum(10,20))\n",
    "# module.info(80,100,name = \"지디\", blood = \"O\")\n",
    "# print(module.company)\n",
    "# print(module.Math.pi)\n",
    "# print(module.Math().solve(3))\n",
    "\n",
    "# import module as my\n",
    "\n",
    "# print(my.sum(10,20))\n",
    "# my.info(80,100,name = \"지디\", blood = \"O\")\n",
    "# print(my.company)\n",
    "# print(my.Math.pi)\n",
    "# print(my.Math().solve(3))\n",
    "\n",
    "\n",
    "# from module import sum, info, Math, company\n",
    "\n",
    "# print(sum(10,20))\n",
    "# info(80,100,name = \"지디\", blood = \"O\")\n",
    "# print(company)\n",
    "# print(Math.pi)\n",
    "# print(Math().solve(3))\n",
    "\n",
    "\n",
    "# from module import *\n",
    "\n",
    "# print(sum(10,20))\n",
    "# info(80,100,name = \"지디\", blood = \"O\")\n",
    "# print(company)\n",
    "# print(Math.pi)\n",
    "# print(Math().solve(3))\n",
    "\n",
    "# from module import company as com\n",
    "# from module import *\n",
    "\n",
    "# print(sum(10,20))\n",
    "# info(80,100,name = \"지디\", blood = \"O\")\n",
    "# print(com)\n",
    "# print(Math.pi)\n",
    "# print(Math().solve(3))\n"
   ]
  },
  {
   "cell_type": "code",
   "execution_count": 1,
   "metadata": {},
   "outputs": [
    {
     "name": "stdout",
     "output_type": "stream",
     "text": [
      "30\n",
      "키 :  100\n",
      "몸무게 :  80\n",
      "기타 :  {'name': '지디', 'blood': 'O'}\n",
      "파이썬 주식회사\n",
      "3.141592\n",
      "28.274328\n"
     ]
    }
   ],
   "source": [
    "import sys\n",
    "\n",
    "sys.path.append(\"/Users/dofany/dofany_study\")\n",
    "\n",
    "from module import company as com\n",
    "from module import *\n",
    "\n",
    "print(sum(10,20))\n",
    "info(80,100,name = \"지디\", blood = \"O\")\n",
    "print(com)\n",
    "print(Math.pi)\n",
    "print(Math().solve(3))"
   ]
  }
 ],
 "metadata": {
  "kernelspec": {
   "display_name": "Python 3",
   "language": "python",
   "name": "python3"
  },
  "language_info": {
   "codemirror_mode": {
    "name": "ipython",
    "version": 3
   },
   "file_extension": ".py",
   "mimetype": "text/x-python",
   "name": "python",
   "nbconvert_exporter": "python",
   "pygments_lexer": "ipython3",
   "version": "3.8.5"
  }
 },
 "nbformat": 4,
 "nbformat_minor": 4
}
