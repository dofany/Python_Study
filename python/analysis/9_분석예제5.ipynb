{
 "cells": [
  {
   "cell_type": "code",
   "execution_count": 1,
   "id": "aacfda1a",
   "metadata": {},
   "outputs": [],
   "source": [
    "import numpy as np\n",
    "import pandas as pd\n",
    "import matplotlib.pyplot as plt\n",
    "import seaborn as sns\n",
    "\n",
    "\n",
    "# 한글 설정\n",
    "import matplotlib as mpl\n",
    "mpl.rc('font', family='AppleGothic')\n",
    "plt.rcParams['axes.unicode_minus'] = False\n",
    "\n",
    "# import matplotlib.font_manager as fm\n",
    "# font_name = fm.FontProperties(fname=\"/Users/dofany/dofany_study/python/analysis/data/ImcreSoojin OTF.otf\").get_name()\n",
    "# plt.rc(\"font\", family=font_name)\n",
    "\n",
    "import seaborn as sns\n",
    "\n",
    "plt.style.use(\"fivethirtyeight\")\n",
    "\n",
    "import warnings\n",
    "warnings.filterwarnings(\"ignore\")\n",
    "\n",
    "import requests\n",
    "from urllib.request import urlopen \n",
    "from bs4 import BeautifulSoup\n",
    "import urllib.parse\n",
    "import urllib.request as req\n",
    "from urllib.request import urlopen\n",
    "from urllib.error import HTTPError, URLError\n",
    "from selenium import webdriver"
   ]
  },
  {
   "cell_type": "markdown",
   "id": "58058ae3",
   "metadata": {},
   "source": [
    "# 셀프 주유소는 과연 저렴한가?\n",
    "+ 실제 셀프 주유소가 저렴한지에 대한 팩트 체크\n",
    "+ 가장 싼 주유소는 어디인가?\n",
    "+ http://www.opinet.co.kr"
   ]
  },
  {
   "cell_type": "markdown",
   "id": "3a10d46a",
   "metadata": {},
   "source": [
    "## 서울시 구별 주유소 가격 정보 가져오기"
   ]
  },
  {
   "cell_type": "markdown",
   "id": "5f421583",
   "metadata": {},
   "source": [
    "### Sample Code"
   ]
  },
  {
   "cell_type": "markdown",
   "id": "14e77750",
   "metadata": {},
   "source": [
    "#### 원격 제어"
   ]
  },
  {
   "cell_type": "code",
   "execution_count": 6,
   "id": "3d4b900f",
   "metadata": {},
   "outputs": [],
   "source": [
    "driver = webdriver.Chrome(\"/Users/dofany/Downloads/chromedriver\")\n",
    "driver.get(\"https://www.opinet.co.kr/searRgSelect.do\")"
   ]
  },
  {
   "cell_type": "code",
   "execution_count": 31,
   "id": "8d88feb8",
   "metadata": {},
   "outputs": [],
   "source": [
    "driver.close()"
   ]
  },
  {
   "cell_type": "markdown",
   "id": "ab4fb169",
   "metadata": {},
   "source": [
    "#### 시 목록 가져오기"
   ]
  },
  {
   "cell_type": "code",
   "execution_count": 7,
   "id": "0fd0e929",
   "metadata": {},
   "outputs": [
    {
     "data": {
      "text/plain": [
       "['서울특별시',\n",
       " '부산광역시',\n",
       " '대구광역시',\n",
       " '인천광역시',\n",
       " '광주광역시',\n",
       " '대전광역시',\n",
       " '울산광역시',\n",
       " '세종특별자치시',\n",
       " '경기도',\n",
       " '강원도',\n",
       " '충청북도',\n",
       " '충청남도',\n",
       " '전라북도',\n",
       " '전라남도',\n",
       " '경상북도',\n",
       " '경상남도',\n",
       " '제주특별자치도']"
      ]
     },
     "execution_count": 7,
     "metadata": {},
     "output_type": "execute_result"
    }
   ],
   "source": [
    "si_list_raw = driver.find_element_by_xpath(\"\"\"//*[@id=\"SIDO_NM0\"]\"\"\")\n",
    "si_list = si_list_raw.find_elements_by_tag_name(\"option\")\n",
    "si_list\n",
    "si_list[1].get_attribute('value')\n",
    "\n",
    "si_names = [option.get_attribute('value') for option in si_list]\n",
    "si_names.remove(\"\")\n",
    "si_names"
   ]
  },
  {
   "cell_type": "markdown",
   "id": "6b63a518",
   "metadata": {},
   "source": [
    "#### 시 선택하기"
   ]
  },
  {
   "cell_type": "code",
   "execution_count": 8,
   "id": "1194b03a",
   "metadata": {},
   "outputs": [],
   "source": [
    "element = driver.find_element_by_id(\"SIDO_NM0\")\n",
    "element.send_keys(si_names[0])"
   ]
  },
  {
   "cell_type": "markdown",
   "id": "81eb04ba",
   "metadata": {},
   "source": [
    "#### 구 목록 가져오기"
   ]
  },
  {
   "cell_type": "code",
   "execution_count": 9,
   "id": "44ee3280",
   "metadata": {
    "scrolled": false
   },
   "outputs": [
    {
     "data": {
      "text/plain": [
       "['강남구',\n",
       " '강동구',\n",
       " '강북구',\n",
       " '강서구',\n",
       " '관악구',\n",
       " '광진구',\n",
       " '구로구',\n",
       " '금천구',\n",
       " '노원구',\n",
       " '도봉구',\n",
       " '동대문구',\n",
       " '동작구',\n",
       " '마포구',\n",
       " '서대문구',\n",
       " '서초구',\n",
       " '성동구',\n",
       " '성북구',\n",
       " '송파구',\n",
       " '양천구',\n",
       " '영등포구',\n",
       " '용산구',\n",
       " '은평구',\n",
       " '종로구',\n",
       " '중구',\n",
       " '중랑구']"
      ]
     },
     "execution_count": 9,
     "metadata": {},
     "output_type": "execute_result"
    }
   ],
   "source": [
    "gu_list_raw = driver.find_element_by_xpath(\"\"\"//*[@id=\"SIGUNGU_NM0\"]\"\"\")\n",
    "gu_list = gu_list_raw.find_elements_by_tag_name(\"option\")\n",
    "gu_list\n",
    "gu_list[1].get_attribute('value')\n",
    "\n",
    "gu_names = [option.get_attribute('value') for option in gu_list]\n",
    "gu_names.remove(\"\")\n",
    "gu_names"
   ]
  },
  {
   "cell_type": "markdown",
   "id": "00fd9eea",
   "metadata": {},
   "source": [
    "#### 구 선택하기 "
   ]
  },
  {
   "cell_type": "code",
   "execution_count": 10,
   "id": "bed2ee45",
   "metadata": {},
   "outputs": [],
   "source": [
    "element = driver.find_element_by_id(\"SIGUNGU_NM0\")\n",
    "element.send_keys(gu_names[17])"
   ]
  },
  {
   "cell_type": "markdown",
   "id": "398cb690",
   "metadata": {},
   "source": [
    "#### 조회 버튼 누르기"
   ]
  },
  {
   "cell_type": "code",
   "execution_count": 11,
   "id": "656fe525",
   "metadata": {},
   "outputs": [],
   "source": [
    "search = \"\"\"//*[@id=\"searRgSelect\"]\"\"\"\n",
    "driver.find_element_by_xpath(search).click()"
   ]
  },
  {
   "cell_type": "markdown",
   "id": "dbe2b31c",
   "metadata": {},
   "source": [
    "#### 엑셀 저장버튼 누르기"
   ]
  },
  {
   "cell_type": "code",
   "execution_count": 12,
   "id": "f8cce60d",
   "metadata": {},
   "outputs": [],
   "source": [
    "search = \"\"\"//*[@id=\"glopopd_excel\"]\"\"\"\n",
    "driver.find_element_by_xpath(search).click()"
   ]
  },
  {
   "cell_type": "markdown",
   "id": "371cbc70",
   "metadata": {},
   "source": [
    "## 지역별(구 별)로 주유소 정보를 엑셀파일로 저장"
   ]
  },
  {
   "cell_type": "code",
   "execution_count": 13,
   "id": "1c95df4a",
   "metadata": {},
   "outputs": [],
   "source": [
    "from tqdm import tqdm_notebook\n",
    "import time"
   ]
  },
  {
   "cell_type": "code",
   "execution_count": 76,
   "id": "67fe1fb2",
   "metadata": {},
   "outputs": [
    {
     "data": {
      "application/vnd.jupyter.widget-view+json": {
       "model_id": "6770628712da4ecd9f80ba688f1dd6d3",
       "version_major": 2,
       "version_minor": 0
      },
      "text/plain": [
       "  0%|          | 0/25 [00:00<?, ?it/s]"
      ]
     },
     "metadata": {},
     "output_type": "display_data"
    }
   ],
   "source": [
    "for gu in tqdm_notebook(gu_names):\n",
    "    element = driver.find_element_by_id(\"SIGUNGU_NM0\")\n",
    "    element.send_keys(gu)\n",
    "    \n",
    "    time.sleep(1)\n",
    "    \n",
    "    search = \"\"\"//*[@id=\"searRgSelect\"]\"\"\"\n",
    "    driver.find_element_by_xpath(search).click()\n",
    "    \n",
    "    time.sleep(1)\n",
    "    \n",
    "    search = \"\"\"//*[@id=\"glopopd_excel\"]\"\"\"\n",
    "    driver.find_element_by_xpath(search).click()\n",
    "    \n",
    "driver.close()"
   ]
  },
  {
   "cell_type": "markdown",
   "id": "41c9e5e4",
   "metadata": {},
   "source": [
    "# Data Preprocessing"
   ]
  },
  {
   "cell_type": "markdown",
   "id": "78746dd5",
   "metadata": {},
   "source": [
    "## 저장된 엑셀 파일 불러오기"
   ]
  },
  {
   "cell_type": "code",
   "execution_count": 4,
   "id": "b2348ed1",
   "metadata": {},
   "outputs": [],
   "source": [
    "from glob import glob"
   ]
  },
  {
   "cell_type": "code",
   "execution_count": 17,
   "id": "b9628ff2",
   "metadata": {},
   "outputs": [],
   "source": [
    "station_files = glob(\"data/oil/지역*.*\")\n",
    "station_files\n",
    "\n",
    "tmp_raw = []\n",
    "for fname in station_files:\n",
    "    tmp = pd.read_excel(fname, header = 2)\n",
    "    tmp_raw.append(tmp)"
   ]
  },
  {
   "cell_type": "code",
   "execution_count": 18,
   "id": "f2c0a03f",
   "metadata": {},
   "outputs": [
    {
     "data": {
      "text/plain": [
       "25"
      ]
     },
     "execution_count": 18,
     "metadata": {},
     "output_type": "execute_result"
    }
   ],
   "source": [
    "len(tmp_raw)"
   ]
  },
  {
   "cell_type": "markdown",
   "id": "167174c2",
   "metadata": {},
   "source": [
    "### 데이터 프레임으로 합치기"
   ]
  },
  {
   "cell_type": "code",
   "execution_count": 19,
   "id": "68710165",
   "metadata": {},
   "outputs": [
    {
     "name": "stdout",
     "output_type": "stream",
     "text": [
      "<class 'pandas.core.frame.DataFrame'>\n",
      "Int64Index: 486 entries, 0 to 9\n",
      "Data columns (total 10 columns):\n",
      " #   Column  Non-Null Count  Dtype \n",
      "---  ------  --------------  ----- \n",
      " 0   지역      486 non-null    object\n",
      " 1   상호      486 non-null    object\n",
      " 2   주소      486 non-null    object\n",
      " 3   상표      486 non-null    object\n",
      " 4   전화번호    486 non-null    object\n",
      " 5   셀프여부    486 non-null    object\n",
      " 6   고급휘발유   486 non-null    object\n",
      " 7   휘발유     486 non-null    object\n",
      " 8   경유      486 non-null    object\n",
      " 9   실내등유    486 non-null    object\n",
      "dtypes: object(10)\n",
      "memory usage: 41.8+ KB\n"
     ]
    }
   ],
   "source": [
    "station_raw = pd.concat(tmp_raw)\n",
    "station_raw.info()"
   ]
  },
  {
   "cell_type": "code",
   "execution_count": 20,
   "id": "7c1534c5",
   "metadata": {},
   "outputs": [
    {
     "data": {
      "text/html": [
       "<div>\n",
       "<style scoped>\n",
       "    .dataframe tbody tr th:only-of-type {\n",
       "        vertical-align: middle;\n",
       "    }\n",
       "\n",
       "    .dataframe tbody tr th {\n",
       "        vertical-align: top;\n",
       "    }\n",
       "\n",
       "    .dataframe thead th {\n",
       "        text-align: right;\n",
       "    }\n",
       "</style>\n",
       "<table border=\"1\" class=\"dataframe\">\n",
       "  <thead>\n",
       "    <tr style=\"text-align: right;\">\n",
       "      <th></th>\n",
       "      <th>Oil_store</th>\n",
       "      <th>주소</th>\n",
       "      <th>가격</th>\n",
       "      <th>셀프</th>\n",
       "      <th>상표</th>\n",
       "    </tr>\n",
       "  </thead>\n",
       "  <tbody>\n",
       "    <tr>\n",
       "      <th>0</th>\n",
       "      <td>도봉제일주유소(주)송만에너지</td>\n",
       "      <td>서울 도봉구 도봉로 783 (도봉동)</td>\n",
       "      <td>1529</td>\n",
       "      <td>N</td>\n",
       "      <td>현대오일뱅크</td>\n",
       "    </tr>\n",
       "    <tr>\n",
       "      <th>1</th>\n",
       "      <td>한이에너지(주) 쌍문주유소</td>\n",
       "      <td>서울 도봉구 도봉로 547 (쌍문동)</td>\n",
       "      <td>1534</td>\n",
       "      <td>Y</td>\n",
       "      <td>S-OIL</td>\n",
       "    </tr>\n",
       "    <tr>\n",
       "      <th>2</th>\n",
       "      <td>정다운셀프주유소</td>\n",
       "      <td>서울 도봉구 도봉로 635</td>\n",
       "      <td>1534</td>\n",
       "      <td>Y</td>\n",
       "      <td>SK에너지</td>\n",
       "    </tr>\n",
       "    <tr>\n",
       "      <th>3</th>\n",
       "      <td>구도일주유소 파크빌</td>\n",
       "      <td>서울 도봉구 해등로3길 86 (창동)</td>\n",
       "      <td>1534</td>\n",
       "      <td>Y</td>\n",
       "      <td>S-OIL</td>\n",
       "    </tr>\n",
       "    <tr>\n",
       "      <th>4</th>\n",
       "      <td>구도일주유소 도봉</td>\n",
       "      <td>서울 도봉구 도봉로 706 (방학동)</td>\n",
       "      <td>1534</td>\n",
       "      <td>Y</td>\n",
       "      <td>S-OIL</td>\n",
       "    </tr>\n",
       "  </tbody>\n",
       "</table>\n",
       "</div>"
      ],
      "text/plain": [
       "         Oil_store                    주소    가격 셀프      상표\n",
       "0  도봉제일주유소(주)송만에너지  서울 도봉구 도봉로 783 (도봉동)  1529  N  현대오일뱅크\n",
       "1   한이에너지(주) 쌍문주유소  서울 도봉구 도봉로 547 (쌍문동)  1534  Y   S-OIL\n",
       "2         정다운셀프주유소        서울 도봉구 도봉로 635  1534  Y   SK에너지\n",
       "3       구도일주유소 파크빌  서울 도봉구 해등로3길 86 (창동)  1534  Y   S-OIL\n",
       "4        구도일주유소 도봉  서울 도봉구 도봉로 706 (방학동)  1534  Y   S-OIL"
      ]
     },
     "execution_count": 20,
     "metadata": {},
     "output_type": "execute_result"
    }
   ],
   "source": [
    "# 재구성\n",
    "stations = pd.DataFrame({'Oil_store':station_raw['상호'],\n",
    "              \"주소\":station_raw[\"주소\"],\n",
    "              \"가격\":station_raw[\"휘발유\"],\n",
    "              \"셀프\":station_raw[\"셀프여부\"],\n",
    "              \"상표\":station_raw[\"상표\"]})\n",
    "stations.head()"
   ]
  },
  {
   "cell_type": "markdown",
   "id": "036cc9b1",
   "metadata": {},
   "source": [
    "### 구로 나누기"
   ]
  },
  {
   "cell_type": "code",
   "execution_count": 21,
   "id": "5b823e78",
   "metadata": {},
   "outputs": [
    {
     "data": {
      "text/html": [
       "<div>\n",
       "<style scoped>\n",
       "    .dataframe tbody tr th:only-of-type {\n",
       "        vertical-align: middle;\n",
       "    }\n",
       "\n",
       "    .dataframe tbody tr th {\n",
       "        vertical-align: top;\n",
       "    }\n",
       "\n",
       "    .dataframe thead th {\n",
       "        text-align: right;\n",
       "    }\n",
       "</style>\n",
       "<table border=\"1\" class=\"dataframe\">\n",
       "  <thead>\n",
       "    <tr style=\"text-align: right;\">\n",
       "      <th></th>\n",
       "      <th>Oil_store</th>\n",
       "      <th>주소</th>\n",
       "      <th>가격</th>\n",
       "      <th>셀프</th>\n",
       "      <th>상표</th>\n",
       "      <th>구</th>\n",
       "    </tr>\n",
       "  </thead>\n",
       "  <tbody>\n",
       "    <tr>\n",
       "      <th>0</th>\n",
       "      <td>도봉제일주유소(주)송만에너지</td>\n",
       "      <td>서울 도봉구 도봉로 783 (도봉동)</td>\n",
       "      <td>1529</td>\n",
       "      <td>N</td>\n",
       "      <td>현대오일뱅크</td>\n",
       "      <td>도봉구</td>\n",
       "    </tr>\n",
       "    <tr>\n",
       "      <th>1</th>\n",
       "      <td>한이에너지(주) 쌍문주유소</td>\n",
       "      <td>서울 도봉구 도봉로 547 (쌍문동)</td>\n",
       "      <td>1534</td>\n",
       "      <td>Y</td>\n",
       "      <td>S-OIL</td>\n",
       "      <td>도봉구</td>\n",
       "    </tr>\n",
       "    <tr>\n",
       "      <th>2</th>\n",
       "      <td>정다운셀프주유소</td>\n",
       "      <td>서울 도봉구 도봉로 635</td>\n",
       "      <td>1534</td>\n",
       "      <td>Y</td>\n",
       "      <td>SK에너지</td>\n",
       "      <td>도봉구</td>\n",
       "    </tr>\n",
       "    <tr>\n",
       "      <th>3</th>\n",
       "      <td>구도일주유소 파크빌</td>\n",
       "      <td>서울 도봉구 해등로3길 86 (창동)</td>\n",
       "      <td>1534</td>\n",
       "      <td>Y</td>\n",
       "      <td>S-OIL</td>\n",
       "      <td>도봉구</td>\n",
       "    </tr>\n",
       "    <tr>\n",
       "      <th>4</th>\n",
       "      <td>구도일주유소 도봉</td>\n",
       "      <td>서울 도봉구 도봉로 706 (방학동)</td>\n",
       "      <td>1534</td>\n",
       "      <td>Y</td>\n",
       "      <td>S-OIL</td>\n",
       "      <td>도봉구</td>\n",
       "    </tr>\n",
       "  </tbody>\n",
       "</table>\n",
       "</div>"
      ],
      "text/plain": [
       "         Oil_store                    주소    가격 셀프      상표    구\n",
       "0  도봉제일주유소(주)송만에너지  서울 도봉구 도봉로 783 (도봉동)  1529  N  현대오일뱅크  도봉구\n",
       "1   한이에너지(주) 쌍문주유소  서울 도봉구 도봉로 547 (쌍문동)  1534  Y   S-OIL  도봉구\n",
       "2         정다운셀프주유소        서울 도봉구 도봉로 635  1534  Y   SK에너지  도봉구\n",
       "3       구도일주유소 파크빌  서울 도봉구 해등로3길 86 (창동)  1534  Y   S-OIL  도봉구\n",
       "4        구도일주유소 도봉  서울 도봉구 도봉로 706 (방학동)  1534  Y   S-OIL  도봉구"
      ]
     },
     "execution_count": 21,
     "metadata": {},
     "output_type": "execute_result"
    }
   ],
   "source": [
    "stations['구'] = [addr.split()[1] for addr in stations['주소']]\n",
    "stations.head()"
   ]
  },
  {
   "cell_type": "code",
   "execution_count": 22,
   "id": "5457022e",
   "metadata": {},
   "outputs": [
    {
     "name": "stdout",
     "output_type": "stream",
     "text": [
      "['도봉구' '마포구' '광진구' '중랑구' '관악구' '서대문구' '노원구' '강서구' '양천구' '종로구' '서초구' '성동구'\n",
      " '중구' '영등포구' '강북구' '용산구' '강동구' '성북구' '송파구' '은평구' '동대문구' '강남구' '금천구' '구로구'\n",
      " '동작구']\n",
      "25\n"
     ]
    }
   ],
   "source": [
    "print(stations[\"구\"].unique())\n",
    "print(len(stations[\"구\"].unique()))"
   ]
  },
  {
   "cell_type": "markdown",
   "id": "eab28ab4",
   "metadata": {},
   "source": [
    "### 가격이 없는 데이터 제거"
   ]
  },
  {
   "cell_type": "code",
   "execution_count": 23,
   "id": "be8e96dc",
   "metadata": {},
   "outputs": [
    {
     "name": "stdout",
     "output_type": "stream",
     "text": [
      "<class 'pandas.core.frame.DataFrame'>\n",
      "Int64Index: 474 entries, 0 to 9\n",
      "Data columns (total 6 columns):\n",
      " #   Column     Non-Null Count  Dtype  \n",
      "---  ------     --------------  -----  \n",
      " 0   Oil_store  474 non-null    object \n",
      " 1   주소         474 non-null    object \n",
      " 2   가격         474 non-null    float64\n",
      " 3   셀프         474 non-null    object \n",
      " 4   상표         474 non-null    object \n",
      " 5   구          474 non-null    object \n",
      "dtypes: float64(1), object(5)\n",
      "memory usage: 25.9+ KB\n"
     ]
    }
   ],
   "source": [
    "stations['가격'].unique()\n",
    "stations[stations['가격']==\"-\"]\n",
    "stations = stations[stations['가격']!=\"-\"]\n",
    "\n",
    "stations[\"가격\"] = [float(val) for val in stations['가격']]\n",
    "\n",
    "stations.info()"
   ]
  },
  {
   "cell_type": "markdown",
   "id": "57ee4291",
   "metadata": {},
   "source": [
    "### 인덱스 조정"
   ]
  },
  {
   "cell_type": "code",
   "execution_count": 24,
   "id": "766647d1",
   "metadata": {},
   "outputs": [
    {
     "data": {
      "text/html": [
       "<div>\n",
       "<style scoped>\n",
       "    .dataframe tbody tr th:only-of-type {\n",
       "        vertical-align: middle;\n",
       "    }\n",
       "\n",
       "    .dataframe tbody tr th {\n",
       "        vertical-align: top;\n",
       "    }\n",
       "\n",
       "    .dataframe thead th {\n",
       "        text-align: right;\n",
       "    }\n",
       "</style>\n",
       "<table border=\"1\" class=\"dataframe\">\n",
       "  <thead>\n",
       "    <tr style=\"text-align: right;\">\n",
       "      <th></th>\n",
       "      <th>index</th>\n",
       "      <th>Oil_store</th>\n",
       "      <th>주소</th>\n",
       "      <th>가격</th>\n",
       "      <th>셀프</th>\n",
       "      <th>상표</th>\n",
       "      <th>구</th>\n",
       "    </tr>\n",
       "  </thead>\n",
       "  <tbody>\n",
       "    <tr>\n",
       "      <th>0</th>\n",
       "      <td>0</td>\n",
       "      <td>도봉제일주유소(주)송만에너지</td>\n",
       "      <td>서울 도봉구 도봉로 783 (도봉동)</td>\n",
       "      <td>1529.0</td>\n",
       "      <td>N</td>\n",
       "      <td>현대오일뱅크</td>\n",
       "      <td>도봉구</td>\n",
       "    </tr>\n",
       "    <tr>\n",
       "      <th>1</th>\n",
       "      <td>1</td>\n",
       "      <td>한이에너지(주) 쌍문주유소</td>\n",
       "      <td>서울 도봉구 도봉로 547 (쌍문동)</td>\n",
       "      <td>1534.0</td>\n",
       "      <td>Y</td>\n",
       "      <td>S-OIL</td>\n",
       "      <td>도봉구</td>\n",
       "    </tr>\n",
       "    <tr>\n",
       "      <th>2</th>\n",
       "      <td>2</td>\n",
       "      <td>정다운셀프주유소</td>\n",
       "      <td>서울 도봉구 도봉로 635</td>\n",
       "      <td>1534.0</td>\n",
       "      <td>Y</td>\n",
       "      <td>SK에너지</td>\n",
       "      <td>도봉구</td>\n",
       "    </tr>\n",
       "    <tr>\n",
       "      <th>3</th>\n",
       "      <td>3</td>\n",
       "      <td>구도일주유소 파크빌</td>\n",
       "      <td>서울 도봉구 해등로3길 86 (창동)</td>\n",
       "      <td>1534.0</td>\n",
       "      <td>Y</td>\n",
       "      <td>S-OIL</td>\n",
       "      <td>도봉구</td>\n",
       "    </tr>\n",
       "    <tr>\n",
       "      <th>4</th>\n",
       "      <td>4</td>\n",
       "      <td>구도일주유소 도봉</td>\n",
       "      <td>서울 도봉구 도봉로 706 (방학동)</td>\n",
       "      <td>1534.0</td>\n",
       "      <td>Y</td>\n",
       "      <td>S-OIL</td>\n",
       "      <td>도봉구</td>\n",
       "    </tr>\n",
       "  </tbody>\n",
       "</table>\n",
       "</div>"
      ],
      "text/plain": [
       "   index        Oil_store                    주소      가격 셀프      상표    구\n",
       "0      0  도봉제일주유소(주)송만에너지  서울 도봉구 도봉로 783 (도봉동)  1529.0  N  현대오일뱅크  도봉구\n",
       "1      1   한이에너지(주) 쌍문주유소  서울 도봉구 도봉로 547 (쌍문동)  1534.0  Y   S-OIL  도봉구\n",
       "2      2         정다운셀프주유소        서울 도봉구 도봉로 635  1534.0  Y   SK에너지  도봉구\n",
       "3      3       구도일주유소 파크빌  서울 도봉구 해등로3길 86 (창동)  1534.0  Y   S-OIL  도봉구\n",
       "4      4        구도일주유소 도봉  서울 도봉구 도봉로 706 (방학동)  1534.0  Y   S-OIL  도봉구"
      ]
     },
     "execution_count": 24,
     "metadata": {},
     "output_type": "execute_result"
    }
   ],
   "source": [
    "stations.reset_index(inplace=True)\n",
    "stations.head()"
   ]
  },
  {
   "cell_type": "code",
   "execution_count": 25,
   "id": "2b560d62",
   "metadata": {},
   "outputs": [],
   "source": [
    "del stations['index']"
   ]
  },
  {
   "cell_type": "code",
   "execution_count": 26,
   "id": "9d4f2b12",
   "metadata": {},
   "outputs": [
    {
     "data": {
      "text/html": [
       "<div>\n",
       "<style scoped>\n",
       "    .dataframe tbody tr th:only-of-type {\n",
       "        vertical-align: middle;\n",
       "    }\n",
       "\n",
       "    .dataframe tbody tr th {\n",
       "        vertical-align: top;\n",
       "    }\n",
       "\n",
       "    .dataframe thead th {\n",
       "        text-align: right;\n",
       "    }\n",
       "</style>\n",
       "<table border=\"1\" class=\"dataframe\">\n",
       "  <thead>\n",
       "    <tr style=\"text-align: right;\">\n",
       "      <th></th>\n",
       "      <th>Oil_store</th>\n",
       "      <th>주소</th>\n",
       "      <th>가격</th>\n",
       "      <th>셀프</th>\n",
       "      <th>상표</th>\n",
       "      <th>구</th>\n",
       "    </tr>\n",
       "  </thead>\n",
       "  <tbody>\n",
       "    <tr>\n",
       "      <th>0</th>\n",
       "      <td>도봉제일주유소(주)송만에너지</td>\n",
       "      <td>서울 도봉구 도봉로 783 (도봉동)</td>\n",
       "      <td>1529.0</td>\n",
       "      <td>N</td>\n",
       "      <td>현대오일뱅크</td>\n",
       "      <td>도봉구</td>\n",
       "    </tr>\n",
       "    <tr>\n",
       "      <th>1</th>\n",
       "      <td>한이에너지(주) 쌍문주유소</td>\n",
       "      <td>서울 도봉구 도봉로 547 (쌍문동)</td>\n",
       "      <td>1534.0</td>\n",
       "      <td>Y</td>\n",
       "      <td>S-OIL</td>\n",
       "      <td>도봉구</td>\n",
       "    </tr>\n",
       "    <tr>\n",
       "      <th>2</th>\n",
       "      <td>정다운셀프주유소</td>\n",
       "      <td>서울 도봉구 도봉로 635</td>\n",
       "      <td>1534.0</td>\n",
       "      <td>Y</td>\n",
       "      <td>SK에너지</td>\n",
       "      <td>도봉구</td>\n",
       "    </tr>\n",
       "    <tr>\n",
       "      <th>3</th>\n",
       "      <td>구도일주유소 파크빌</td>\n",
       "      <td>서울 도봉구 해등로3길 86 (창동)</td>\n",
       "      <td>1534.0</td>\n",
       "      <td>Y</td>\n",
       "      <td>S-OIL</td>\n",
       "      <td>도봉구</td>\n",
       "    </tr>\n",
       "    <tr>\n",
       "      <th>4</th>\n",
       "      <td>구도일주유소 도봉</td>\n",
       "      <td>서울 도봉구 도봉로 706 (방학동)</td>\n",
       "      <td>1534.0</td>\n",
       "      <td>Y</td>\n",
       "      <td>S-OIL</td>\n",
       "      <td>도봉구</td>\n",
       "    </tr>\n",
       "    <tr>\n",
       "      <th>...</th>\n",
       "      <td>...</td>\n",
       "      <td>...</td>\n",
       "      <td>...</td>\n",
       "      <td>...</td>\n",
       "      <td>...</td>\n",
       "      <td>...</td>\n",
       "    </tr>\n",
       "    <tr>\n",
       "      <th>469</th>\n",
       "      <td>현대오일뱅크㈜직영 흑석동셀프주유소</td>\n",
       "      <td>서울 동작구 현충로 101 (흑석동)</td>\n",
       "      <td>1608.0</td>\n",
       "      <td>Y</td>\n",
       "      <td>현대오일뱅크</td>\n",
       "      <td>동작구</td>\n",
       "    </tr>\n",
       "    <tr>\n",
       "      <th>470</th>\n",
       "      <td>현대오일뱅크(주)직영 동작주유소</td>\n",
       "      <td>서울 동작구 상도로 403 (상도동)</td>\n",
       "      <td>1614.0</td>\n",
       "      <td>N</td>\n",
       "      <td>현대오일뱅크</td>\n",
       "      <td>동작구</td>\n",
       "    </tr>\n",
       "    <tr>\n",
       "      <th>471</th>\n",
       "      <td>대성산업(주) 노량진주유소</td>\n",
       "      <td>서울 동작구 노량진로 172</td>\n",
       "      <td>1628.0</td>\n",
       "      <td>N</td>\n",
       "      <td>GS칼텍스</td>\n",
       "      <td>동작구</td>\n",
       "    </tr>\n",
       "    <tr>\n",
       "      <th>472</th>\n",
       "      <td>(주)성림에너지 남성주유소</td>\n",
       "      <td>서울 동작구 동작대로 135 (사당동)</td>\n",
       "      <td>1629.0</td>\n",
       "      <td>Y</td>\n",
       "      <td>GS칼텍스</td>\n",
       "      <td>동작구</td>\n",
       "    </tr>\n",
       "    <tr>\n",
       "      <th>473</th>\n",
       "      <td>살피재주유소</td>\n",
       "      <td>서울 동작구 상도로 334</td>\n",
       "      <td>1725.0</td>\n",
       "      <td>N</td>\n",
       "      <td>SK에너지</td>\n",
       "      <td>동작구</td>\n",
       "    </tr>\n",
       "  </tbody>\n",
       "</table>\n",
       "<p>474 rows × 6 columns</p>\n",
       "</div>"
      ],
      "text/plain": [
       "              Oil_store                     주소      가격 셀프      상표    구\n",
       "0       도봉제일주유소(주)송만에너지   서울 도봉구 도봉로 783 (도봉동)  1529.0  N  현대오일뱅크  도봉구\n",
       "1        한이에너지(주) 쌍문주유소   서울 도봉구 도봉로 547 (쌍문동)  1534.0  Y   S-OIL  도봉구\n",
       "2              정다운셀프주유소         서울 도봉구 도봉로 635  1534.0  Y   SK에너지  도봉구\n",
       "3            구도일주유소 파크빌   서울 도봉구 해등로3길 86 (창동)  1534.0  Y   S-OIL  도봉구\n",
       "4             구도일주유소 도봉   서울 도봉구 도봉로 706 (방학동)  1534.0  Y   S-OIL  도봉구\n",
       "..                  ...                    ...     ... ..     ...  ...\n",
       "469  현대오일뱅크㈜직영 흑석동셀프주유소   서울 동작구 현충로 101 (흑석동)  1608.0  Y  현대오일뱅크  동작구\n",
       "470   현대오일뱅크(주)직영 동작주유소   서울 동작구 상도로 403 (상도동)  1614.0  N  현대오일뱅크  동작구\n",
       "471      대성산업(주) 노량진주유소        서울 동작구 노량진로 172  1628.0  N   GS칼텍스  동작구\n",
       "472      (주)성림에너지 남성주유소  서울 동작구 동작대로 135 (사당동)  1629.0  Y   GS칼텍스  동작구\n",
       "473              살피재주유소         서울 동작구 상도로 334  1725.0  N   SK에너지  동작구\n",
       "\n",
       "[474 rows x 6 columns]"
      ]
     },
     "execution_count": 26,
     "metadata": {},
     "output_type": "execute_result"
    }
   ],
   "source": [
    "stations"
   ]
  },
  {
   "cell_type": "markdown",
   "id": "ef519e44",
   "metadata": {},
   "source": [
    "# EDA"
   ]
  },
  {
   "cell_type": "markdown",
   "id": "5ba7e018",
   "metadata": {},
   "source": [
    "## 셀프 여부에 따른 가격 차이"
   ]
  },
  {
   "cell_type": "code",
   "execution_count": 34,
   "id": "1c55f937",
   "metadata": {},
   "outputs": [
    {
     "data": {
      "text/plain": [
       "<AxesSubplot:title={'center':'가격'}, xlabel='셀프'>"
      ]
     },
     "execution_count": 34,
     "metadata": {},
     "output_type": "execute_result"
    },
    {
     "data": {
      "image/png": "[encoded data removed]",
      "text/plain": [
       "<Figure size 720x576 with 1 Axes>"
      ]
     },
     "metadata": {},
     "output_type": "display_data"
    }
   ],
   "source": [
    "stations.boxplot(by=\"셀프\", column=\"가격\", figsize=(10,8))"
   ]
  },
  {
   "cell_type": "markdown",
   "id": "b47d6371",
   "metadata": {},
   "source": [
    "## 주유소의 상표별로 얼마나 저렴한가?\n"
   ]
  },
  {
   "cell_type": "code",
   "execution_count": 42,
   "id": "d610e44a",
   "metadata": {},
   "outputs": [
    {
     "data": {
      "text/plain": [
       "<AxesSubplot:xlabel='상표', ylabel='가격'>"
      ]
     },
     "execution_count": 42,
     "metadata": {},
     "output_type": "execute_result"
    },
    {
     "data": {
      "image/png": "[encoded data removed]",
      "text/plain": [
       "<Figure size 864x576 with 1 Axes>"
      ]
     },
     "metadata": {},
     "output_type": "display_data"
    }
   ],
   "source": [
    "plt.figure(figsize=(12,8))\n",
    "sns.boxplot(x=\"상표\", y=\"가격\",data=stations, palette=\"Set3\")\n",
    "sns.swarmplot(x=\"상표\", y=\"가격\",data=stations, color=\".6\")"
   ]
  },
  {
   "cell_type": "markdown",
   "id": "75a461b6",
   "metadata": {},
   "source": [
    "## 구별 주유 가격 확인"
   ]
  },
  {
   "cell_type": "markdown",
   "id": "8f41bcf6",
   "metadata": {},
   "source": [
    "### 서울시에서 가장 주유 가격이 비싼 곳은 어디인가?(10개만)"
   ]
  },
  {
   "cell_type": "code",
   "execution_count": 43,
   "id": "2649c6d5",
   "metadata": {},
   "outputs": [
    {
     "data": {
      "text/html": [
       "<div>\n",
       "<style scoped>\n",
       "    .dataframe tbody tr th:only-of-type {\n",
       "        vertical-align: middle;\n",
       "    }\n",
       "\n",
       "    .dataframe tbody tr th {\n",
       "        vertical-align: top;\n",
       "    }\n",
       "\n",
       "    .dataframe thead th {\n",
       "        text-align: right;\n",
       "    }\n",
       "</style>\n",
       "<table border=\"1\" class=\"dataframe\">\n",
       "  <thead>\n",
       "    <tr style=\"text-align: right;\">\n",
       "      <th></th>\n",
       "      <th>Oil_store</th>\n",
       "      <th>주소</th>\n",
       "      <th>가격</th>\n",
       "      <th>셀프</th>\n",
       "      <th>상표</th>\n",
       "      <th>구</th>\n",
       "    </tr>\n",
       "  </thead>\n",
       "  <tbody>\n",
       "    <tr>\n",
       "      <th>231</th>\n",
       "      <td>서남주유소</td>\n",
       "      <td>서울 중구 통일로 30</td>\n",
       "      <td>2428.0</td>\n",
       "      <td>N</td>\n",
       "      <td>SK에너지</td>\n",
       "      <td>중구</td>\n",
       "    </tr>\n",
       "    <tr>\n",
       "      <th>284</th>\n",
       "      <td>서계주유소</td>\n",
       "      <td>서울 용산구 청파로 367 (서계동)</td>\n",
       "      <td>2384.0</td>\n",
       "      <td>N</td>\n",
       "      <td>GS칼텍스</td>\n",
       "      <td>용산구</td>\n",
       "    </tr>\n",
       "    <tr>\n",
       "      <th>230</th>\n",
       "      <td>필동주유소</td>\n",
       "      <td>서울 중구  퇴계로 196 (필동2가)</td>\n",
       "      <td>2269.0</td>\n",
       "      <td>N</td>\n",
       "      <td>GS칼텍스</td>\n",
       "      <td>중구</td>\n",
       "    </tr>\n",
       "    <tr>\n",
       "      <th>229</th>\n",
       "      <td>SK에너지(주) 퇴계로주유소</td>\n",
       "      <td>서울 중구 퇴계로 228 (필동2가)</td>\n",
       "      <td>2259.0</td>\n",
       "      <td>N</td>\n",
       "      <td>SK에너지</td>\n",
       "      <td>중구</td>\n",
       "    </tr>\n",
       "    <tr>\n",
       "      <th>429</th>\n",
       "      <td>뉴서울(강남)</td>\n",
       "      <td>서울 강남구 언주로 716</td>\n",
       "      <td>2195.0</td>\n",
       "      <td>N</td>\n",
       "      <td>SK에너지</td>\n",
       "      <td>강남구</td>\n",
       "    </tr>\n",
       "    <tr>\n",
       "      <th>283</th>\n",
       "      <td>동자동주유소</td>\n",
       "      <td>서울 용산구 한강대로104길 6 (동자동)</td>\n",
       "      <td>2180.0</td>\n",
       "      <td>N</td>\n",
       "      <td>SK에너지</td>\n",
       "      <td>용산구</td>\n",
       "    </tr>\n",
       "    <tr>\n",
       "      <th>228</th>\n",
       "      <td>약수주유소</td>\n",
       "      <td>서울 중구 다산로 173</td>\n",
       "      <td>2169.0</td>\n",
       "      <td>N</td>\n",
       "      <td>GS칼텍스</td>\n",
       "      <td>중구</td>\n",
       "    </tr>\n",
       "    <tr>\n",
       "      <th>428</th>\n",
       "      <td>(주)만정에너지</td>\n",
       "      <td>서울 강남구 봉은사로 433 (삼성동)</td>\n",
       "      <td>2113.0</td>\n",
       "      <td>N</td>\n",
       "      <td>GS칼텍스</td>\n",
       "      <td>강남구</td>\n",
       "    </tr>\n",
       "    <tr>\n",
       "      <th>258</th>\n",
       "      <td>현대오일뱅크㈜직영 여의도현대주유소</td>\n",
       "      <td>서울 영등포구 의사당대로 154 (여의도동)</td>\n",
       "      <td>2099.0</td>\n",
       "      <td>N</td>\n",
       "      <td>현대오일뱅크</td>\n",
       "      <td>영등포구</td>\n",
       "    </tr>\n",
       "    <tr>\n",
       "      <th>281</th>\n",
       "      <td>에너비스</td>\n",
       "      <td>서울 용산구 한남대로 82 (한남동)</td>\n",
       "      <td>2098.0</td>\n",
       "      <td>N</td>\n",
       "      <td>SK에너지</td>\n",
       "      <td>용산구</td>\n",
       "    </tr>\n",
       "  </tbody>\n",
       "</table>\n",
       "</div>"
      ],
      "text/plain": [
       "              Oil_store                        주소      가격 셀프      상표     구\n",
       "231               서남주유소              서울 중구 통일로 30  2428.0  N   SK에너지    중구\n",
       "284               서계주유소      서울 용산구 청파로 367 (서계동)  2384.0  N   GS칼텍스   용산구\n",
       "230               필동주유소     서울 중구  퇴계로 196 (필동2가)  2269.0  N   GS칼텍스    중구\n",
       "229     SK에너지(주) 퇴계로주유소      서울 중구 퇴계로 228 (필동2가)  2259.0  N   SK에너지    중구\n",
       "429             뉴서울(강남)            서울 강남구 언주로 716  2195.0  N   SK에너지   강남구\n",
       "283              동자동주유소   서울 용산구 한강대로104길 6 (동자동)  2180.0  N   SK에너지   용산구\n",
       "228               약수주유소             서울 중구 다산로 173  2169.0  N   GS칼텍스    중구\n",
       "428            (주)만정에너지     서울 강남구 봉은사로 433 (삼성동)  2113.0  N   GS칼텍스   강남구\n",
       "258  현대오일뱅크㈜직영 여의도현대주유소  서울 영등포구 의사당대로 154 (여의도동)  2099.0  N  현대오일뱅크  영등포구\n",
       "281                에너비스      서울 용산구 한남대로 82 (한남동)  2098.0  N   SK에너지   용산구"
      ]
     },
     "execution_count": 43,
     "metadata": {},
     "output_type": "execute_result"
    }
   ],
   "source": [
    "stations.sort_values(by='가격',ascending=False).head(10)"
   ]
  },
  {
   "cell_type": "markdown",
   "id": "22804ab8",
   "metadata": {},
   "source": [
    "### 서울시에서 가장 주유 가격이 싼 곳은 어디인가?(10개만 확인)"
   ]
  },
  {
   "cell_type": "code",
   "execution_count": 44,
   "id": "d1597d6f",
   "metadata": {},
   "outputs": [
    {
     "data": {
      "text/html": [
       "<div>\n",
       "<style scoped>\n",
       "    .dataframe tbody tr th:only-of-type {\n",
       "        vertical-align: middle;\n",
       "    }\n",
       "\n",
       "    .dataframe tbody tr th {\n",
       "        vertical-align: top;\n",
       "    }\n",
       "\n",
       "    .dataframe thead th {\n",
       "        text-align: right;\n",
       "    }\n",
       "</style>\n",
       "<table border=\"1\" class=\"dataframe\">\n",
       "  <thead>\n",
       "    <tr style=\"text-align: right;\">\n",
       "      <th></th>\n",
       "      <th>Oil_store</th>\n",
       "      <th>주소</th>\n",
       "      <th>가격</th>\n",
       "      <th>셀프</th>\n",
       "      <th>상표</th>\n",
       "      <th>구</th>\n",
       "    </tr>\n",
       "  </thead>\n",
       "  <tbody>\n",
       "    <tr>\n",
       "      <th>170</th>\n",
       "      <td>만남의광장주유소</td>\n",
       "      <td>서울 서초구 양재대로12길 73-71</td>\n",
       "      <td>1504.0</td>\n",
       "      <td>Y</td>\n",
       "      <td>알뜰(ex)</td>\n",
       "      <td>서초구</td>\n",
       "    </tr>\n",
       "    <tr>\n",
       "      <th>232</th>\n",
       "      <td>영등포제일셀프주유소</td>\n",
       "      <td>서울 영등포구 가마산로 379</td>\n",
       "      <td>1515.0</td>\n",
       "      <td>Y</td>\n",
       "      <td>현대오일뱅크</td>\n",
       "      <td>영등포구</td>\n",
       "    </tr>\n",
       "    <tr>\n",
       "      <th>233</th>\n",
       "      <td>남서울고속주유소</td>\n",
       "      <td>서울 영등포구 가마산로 367 (대림동)</td>\n",
       "      <td>1515.0</td>\n",
       "      <td>Y</td>\n",
       "      <td>SK에너지</td>\n",
       "      <td>영등포구</td>\n",
       "    </tr>\n",
       "    <tr>\n",
       "      <th>234</th>\n",
       "      <td>성락주유소</td>\n",
       "      <td>서울 영등포구 가마산로 414 (신길동)</td>\n",
       "      <td>1519.0</td>\n",
       "      <td>Y</td>\n",
       "      <td>S-OIL</td>\n",
       "      <td>영등포구</td>\n",
       "    </tr>\n",
       "    <tr>\n",
       "      <th>135</th>\n",
       "      <td>가로공원주유소</td>\n",
       "      <td>서울 양천구 가로공원로 165 (신월동)</td>\n",
       "      <td>1524.0</td>\n",
       "      <td>N</td>\n",
       "      <td>SK에너지</td>\n",
       "      <td>양천구</td>\n",
       "    </tr>\n",
       "    <tr>\n",
       "      <th>136</th>\n",
       "      <td>현대주유소</td>\n",
       "      <td>서울 양천구 남부순환로 372 (신월동)</td>\n",
       "      <td>1525.0</td>\n",
       "      <td>Y</td>\n",
       "      <td>S-OIL</td>\n",
       "      <td>양천구</td>\n",
       "    </tr>\n",
       "    <tr>\n",
       "      <th>259</th>\n",
       "      <td>북서울고속주유소</td>\n",
       "      <td>서울 강북구 삼양로 410 (수유동)</td>\n",
       "      <td>1526.0</td>\n",
       "      <td>Y</td>\n",
       "      <td>S-OIL</td>\n",
       "      <td>강북구</td>\n",
       "    </tr>\n",
       "    <tr>\n",
       "      <th>260</th>\n",
       "      <td>(주)석산에너지</td>\n",
       "      <td>서울 강북구 삼양로 316 (수유동)</td>\n",
       "      <td>1526.0</td>\n",
       "      <td>Y</td>\n",
       "      <td>현대오일뱅크</td>\n",
       "      <td>강북구</td>\n",
       "    </tr>\n",
       "    <tr>\n",
       "      <th>261</th>\n",
       "      <td>수유동주유소</td>\n",
       "      <td>서울 강북구 도봉로 395 (수유동)</td>\n",
       "      <td>1526.0</td>\n",
       "      <td>Y</td>\n",
       "      <td>GS칼텍스</td>\n",
       "      <td>강북구</td>\n",
       "    </tr>\n",
       "    <tr>\n",
       "      <th>301</th>\n",
       "      <td>원천주유소</td>\n",
       "      <td>서울 성북구 돌곶이로 142 (장위동)</td>\n",
       "      <td>1527.0</td>\n",
       "      <td>N</td>\n",
       "      <td>알뜰주유소</td>\n",
       "      <td>성북구</td>\n",
       "    </tr>\n",
       "  </tbody>\n",
       "</table>\n",
       "</div>"
      ],
      "text/plain": [
       "      Oil_store                      주소      가격 셀프      상표     구\n",
       "170    만남의광장주유소    서울 서초구 양재대로12길 73-71  1504.0  Y  알뜰(ex)   서초구\n",
       "232  영등포제일셀프주유소        서울 영등포구 가마산로 379  1515.0  Y  현대오일뱅크  영등포구\n",
       "233    남서울고속주유소  서울 영등포구 가마산로 367 (대림동)  1515.0  Y   SK에너지  영등포구\n",
       "234       성락주유소  서울 영등포구 가마산로 414 (신길동)  1519.0  Y   S-OIL  영등포구\n",
       "135     가로공원주유소  서울 양천구 가로공원로 165 (신월동)  1524.0  N   SK에너지   양천구\n",
       "136       현대주유소  서울 양천구 남부순환로 372 (신월동)  1525.0  Y   S-OIL   양천구\n",
       "259    북서울고속주유소    서울 강북구 삼양로 410 (수유동)  1526.0  Y   S-OIL   강북구\n",
       "260    (주)석산에너지    서울 강북구 삼양로 316 (수유동)  1526.0  Y  현대오일뱅크   강북구\n",
       "261      수유동주유소    서울 강북구 도봉로 395 (수유동)  1526.0  Y   GS칼텍스   강북구\n",
       "301       원천주유소   서울 성북구 돌곶이로 142 (장위동)  1527.0  N   알뜰주유소   성북구"
      ]
     },
     "execution_count": 44,
     "metadata": {},
     "output_type": "execute_result"
    }
   ],
   "source": [
    "stations.sort_values(by='가격',ascending=True).head(10)"
   ]
  },
  {
   "cell_type": "markdown",
   "id": "582e6ae5",
   "metadata": {},
   "source": [
    "### 구별로 평균값 산출"
   ]
  },
  {
   "cell_type": "code",
   "execution_count": 48,
   "id": "7185228e",
   "metadata": {},
   "outputs": [
    {
     "data": {
      "text/html": [
       "<div>\n",
       "<style scoped>\n",
       "    .dataframe tbody tr th:only-of-type {\n",
       "        vertical-align: middle;\n",
       "    }\n",
       "\n",
       "    .dataframe tbody tr th {\n",
       "        vertical-align: top;\n",
       "    }\n",
       "\n",
       "    .dataframe thead th {\n",
       "        text-align: right;\n",
       "    }\n",
       "</style>\n",
       "<table border=\"1\" class=\"dataframe\">\n",
       "  <thead>\n",
       "    <tr style=\"text-align: right;\">\n",
       "      <th></th>\n",
       "      <th>가격</th>\n",
       "    </tr>\n",
       "    <tr>\n",
       "      <th>구</th>\n",
       "      <th></th>\n",
       "    </tr>\n",
       "  </thead>\n",
       "  <tbody>\n",
       "    <tr>\n",
       "      <th>강남구</th>\n",
       "      <td>1791.270270</td>\n",
       "    </tr>\n",
       "    <tr>\n",
       "      <th>강동구</th>\n",
       "      <td>1682.437500</td>\n",
       "    </tr>\n",
       "    <tr>\n",
       "      <th>강북구</th>\n",
       "      <td>1548.153846</td>\n",
       "    </tr>\n",
       "    <tr>\n",
       "      <th>강서구</th>\n",
       "      <td>1598.696970</td>\n",
       "    </tr>\n",
       "    <tr>\n",
       "      <th>관악구</th>\n",
       "      <td>1626.687500</td>\n",
       "    </tr>\n",
       "  </tbody>\n",
       "</table>\n",
       "</div>"
      ],
      "text/plain": [
       "              가격\n",
       "구               \n",
       "강남구  1791.270270\n",
       "강동구  1682.437500\n",
       "강북구  1548.153846\n",
       "강서구  1598.696970\n",
       "관악구  1626.687500"
      ]
     },
     "execution_count": 48,
     "metadata": {},
     "output_type": "execute_result"
    }
   ],
   "source": [
    "gu_mean = pd.pivot_table(stations, index=[\"구\"], values=[\"가격\"])\n",
    "gu_mean.head()"
   ]
  },
  {
   "cell_type": "markdown",
   "id": "09302656",
   "metadata": {},
   "source": [
    "### 위의 구별 평균값을 지도로 표시"
   ]
  },
  {
   "cell_type": "code",
   "execution_count": 54,
   "id": "62e3417f",
   "metadata": {
    "collapsed": true
   },
   "outputs": [
    {
     "data": {
      "text/html": [
       "<div style=\"width:100%;\"><div style=\"position:relative;width:100%;height:0;padding-bottom:60%;\"><span style=\"color:#565656\">Make this Notebook Trusted to load map: File -> Trust Notebook</span><iframe src=\"about:blank\" style=\"position:absolute;width:100%;height:100%;left:0;top:0;border:none !important;\" data-html=%3C%21DOCTYPE%20html%3E%0A%3Chead%3E%20%20%20%20%0A%20%20%20%20%3Cmeta%20http-equiv%3D%22content-type%22%20content%3D%22text/html%3B%20charset%3DUTF-8%22%20/%3E%0A%20%20%20%20%0A%20%20%20%20%20%20%20%20%3Cscript%3E%0A%20%20%20%20%20%20%20%20%20%20%20%20L_NO_TOUCH%20%3D%20false%3B%0A%20%20%20%20%20%20%20%20%20%20%20%20L_DISABLE_3D%20%3D%20false%3B%0A%20%20%20%20%20%20%20%20%3C/script%3E%0A%20%20%20%20%0A%20%20%20%20%3Cstyle%3Ehtml%2C%20body%20%7Bwidth%3A%20100%25%3Bheight%3A%20100%25%3Bmargin%3A%200%3Bpadding%3A%200%3B%7D%3C/style%3E%0A%20%20%20%20%3Cstyle%3E%23map%20%7Bposition%3Aabsolute%3Btop%3A0%3Bbottom%3A0%3Bright%3A0%3Bleft%3A0%3B%7D%3C/style%3E%0A%20%20%20%20%3Cscript%20src%3D%22https%3A//cdn.jsdelivr.net/npm/leaflet%401.6.0/dist/leaflet.js%22%3E%3C/script%3E%0A%20%20%20%20%3Cscript%20src%3D%22https%3A//code.jquery.com/jquery-1.12.4.min.js%22%3E%3C/script%3E%0A%20%20%20%20%3Cscript%20src%3D%22https%3A//maxcdn.bootstrapcdn.com/bootstrap/3.2.0/js/bootstrap.min.js%22%3E%3C/script%3E%0A%20%20%20%20%3Cscript%20src%3D%22https%3A//cdnjs.cloudflare.com/ajax/libs/Leaflet.awesome-markers/2.0.2/leaflet.awesome-markers.js%22%3E%3C/script%3E%0A%20%20%20%20%3Clink%20rel%3D%22stylesheet%22%20href%3D%22https%3A//cdn.jsdelivr.net/npm/leaflet%401.6.0/dist/leaflet.css%22/%3E%0A%20%20%20%20%3Clink%20rel%3D%22stylesheet%22%20href%3D%22https%3A//maxcdn.bootstrapcdn.com/bootstrap/3.2.0/css/bootstrap.min.css%22/%3E%0A%20%20%20%20%3Clink%20rel%3D%22stylesheet%22%20href%3D%22https%3A//maxcdn.bootstrapcdn.com/bootstrap/3.2.0/css/bootstrap-theme.min.css%22/%3E%0A%20%20%20%20%3Clink%20rel%3D%22stylesheet%22%20href%3D%22https%3A//maxcdn.bootstrapcdn.com/font-awesome/4.6.3/css/font-awesome.min.css%22/%3E%0A%20%20%20%20%3Clink%20rel%3D%22stylesheet%22%20href%3D%22https%3A//cdnjs.cloudflare.com/ajax/libs/Leaflet.awesome-markers/2.0.2/leaflet.awesome-markers.css%22/%3E%0A%20%20%20%20%3Clink%20rel%3D%22stylesheet%22%20href%3D%22https%3A//cdn.jsdelivr.net/gh/python-visualization/folium/folium/templates/leaflet.awesome.rotate.min.css%22/%3E%0A%20%20%20%20%0A%20%20%20%20%20%20%20%20%20%20%20%20%3Cmeta%20name%3D%22viewport%22%20content%3D%22width%3Ddevice-width%2C%0A%20%20%20%20%20%20%20%20%20%20%20%20%20%20%20%20initial-scale%3D1.0%2C%20maximum-scale%3D1.0%2C%20user-scalable%3Dno%22%20/%3E%0A%20%20%20%20%20%20%20%20%20%20%20%20%3Cstyle%3E%0A%20%20%20%20%20%20%20%20%20%20%20%20%20%20%20%20%23map_dcf30e8f134f4fd59d92c2c67be9e03a%20%7B%0A%20%20%20%20%20%20%20%20%20%20%20%20%20%20%20%20%20%20%20%20position%3A%20relative%3B%0A%20%20%20%20%20%20%20%20%20%20%20%20%20%20%20%20%20%20%20%20width%3A%20100.0%25%3B%0A%20%20%20%20%20%20%20%20%20%20%20%20%20%20%20%20%20%20%20%20height%3A%20100.0%25%3B%0A%20%20%20%20%20%20%20%20%20%20%20%20%20%20%20%20%20%20%20%20left%3A%200.0%25%3B%0A%20%20%20%20%20%20%20%20%20%20%20%20%20%20%20%20%20%20%20%20top%3A%200.0%25%3B%0A%20%20%20%20%20%20%20%20%20%20%20%20%20%20%20%20%7D%0A%20%20%20%20%20%20%20%20%20%20%20%20%3C/style%3E%0A%20%20%20%20%20%20%20%20%0A%20%20%20%20%3Cscript%20src%3D%22https%3A//cdnjs.cloudflare.com/ajax/libs/d3/3.5.5/d3.min.js%22%3E%3C/script%3E%0A%3C/head%3E%0A%3Cbody%3E%20%20%20%20%0A%20%20%20%20%0A%20%20%20%20%20%20%20%20%20%20%20%20%3Cdiv%20class%3D%22folium-map%22%20id%3D%22map_dcf30e8f134f4fd59d92c2c67be9e03a%22%20%3E%3C/div%3E%0A%20%20%20%20%20%20%20%20%0A%3C/body%3E%0A%3Cscript%3E%20%20%20%20%0A%20%20%20%20%0A%20%20%20%20%20%20%20%20%20%20%20%20var%20map_dcf30e8f134f4fd59d92c2c67be9e03a%20%3D%20L.map%28%0A%20%20%20%20%20%20%20%20%20%20%20%20%20%20%20%20%22map_dcf30e8f134f4fd59d92c2c67be9e03a%22%2C%0A%20%20%20%20%20%20%20%20%20%20%20%20%20%20%20%20%7B%0A%20%20%20%20%20%20%20%20%20%20%20%20%20%20%20%20%20%20%20%20center%3A%20%5B37.497911%2C%20127.027558%5D%2C%0A%20%20%20%20%20%20%20%20%20%20%20%20%20%20%20%20%20%20%20%20crs%3A%20L.CRS.EPSG3857%2C%0A%20%20%20%20%20%20%20%20%20%20%20%20%20%20%20%20%20%20%20%20zoom%3A%2010%2C%0A%20%20%20%20%20%20%20%20%20%20%20%20%20%20%20%20%20%20%20%20zoomControl%3A%20true%2C%0A%20%20%20%20%20%20%20%20%20%20%20%20%20%20%20%20%20%20%20%20preferCanvas%3A%20false%2C%0A%20%20%20%20%20%20%20%20%20%20%20%20%20%20%20%20%7D%0A%20%20%20%20%20%20%20%20%20%20%20%20%29%3B%0A%0A%20%20%20%20%20%20%20%20%20%20%20%20%0A%0A%20%20%20%20%20%20%20%20%0A%20%20%20%20%0A%20%20%20%20%20%20%20%20%20%20%20%20var%20tile_layer_f584fff6b9df4d229d9074ede5a6a217%20%3D%20L.tileLayer%28%0A%20%20%20%20%20%20%20%20%20%20%20%20%20%20%20%20%22https%3A//%7Bs%7D.tile.openstreetmap.org/%7Bz%7D/%7Bx%7D/%7By%7D.png%22%2C%0A%20%20%20%20%20%20%20%20%20%20%20%20%20%20%20%20%7B%22attribution%22%3A%20%22Data%20by%20%5Cu0026copy%3B%20%5Cu003ca%20href%3D%5C%22http%3A//openstreetmap.org%5C%22%5Cu003eOpenStreetMap%5Cu003c/a%5Cu003e%2C%20under%20%5Cu003ca%20href%3D%5C%22http%3A//www.openstreetmap.org/copyright%5C%22%5Cu003eODbL%5Cu003c/a%5Cu003e.%22%2C%20%22detectRetina%22%3A%20false%2C%20%22maxNativeZoom%22%3A%2018%2C%20%22maxZoom%22%3A%2018%2C%20%22minZoom%22%3A%200%2C%20%22noWrap%22%3A%20false%2C%20%22opacity%22%3A%201%2C%20%22subdomains%22%3A%20%22abc%22%2C%20%22tms%22%3A%20false%7D%0A%20%20%20%20%20%20%20%20%20%20%20%20%29.addTo%28map_dcf30e8f134f4fd59d92c2c67be9e03a%29%3B%0A%20%20%20%20%20%20%20%20%0A%20%20%20%20%0A%20%20%20%20%20%20%20%20%20%20%20%20var%20choropleth_7cabe2bcf89741aeae3fa49d5d124edb%20%3D%20L.featureGroup%28%0A%20%20%20%20%20%20%20%20%20%20%20%20%20%20%20%20%7B%7D%0A%20%20%20%20%20%20%20%20%20%20%20%20%29.addTo%28map_dcf30e8f134f4fd59d92c2c67be9e03a%29%3B%0A%20%20%20%20%20%20%20%20%0A%20%20%20%20%0A%20%20%20%20%20%20%20%20function%20geo_json_543a8e1a36d447f98024dfae984e8d17_styler%28feature%29%20%7B%0A%20%20%20%20%20%20%20%20%20%20%20%20switch%28feature.id%29%20%7B%0A%20%20%20%20%20%20%20%20%20%20%20%20%20%20%20%20case%20%22%5Cuac15%5Cub3d9%5Cuad6c%22%3A%20case%20%22%5Cuc11c%5Cucd08%5Cuad6c%22%3A%20case%20%22%5Cuc601%5Cub4f1%5Cud3ec%5Cuad6c%22%3A%20case%20%22%5Cub9c8%5Cud3ec%5Cuad6c%22%3A%20case%20%22%5Cuc131%5Cub3d9%5Cuad6c%22%3A%20%0A%20%20%20%20%20%20%20%20%20%20%20%20%20%20%20%20%20%20%20%20return%20%7B%22color%22%3A%20%22black%22%2C%20%22fillColor%22%3A%20%22%23d9f0a3%22%2C%20%22fillOpacity%22%3A%200.6%2C%20%22opacity%22%3A%201%2C%20%22weight%22%3A%201%7D%3B%0A%20%20%20%20%20%20%20%20%20%20%20%20%20%20%20%20case%20%22%5Cuac15%5Cub0a8%5Cuad6c%22%3A%20%0A%20%20%20%20%20%20%20%20%20%20%20%20%20%20%20%20%20%20%20%20return%20%7B%22color%22%3A%20%22black%22%2C%20%22fillColor%22%3A%20%22%23addd8e%22%2C%20%22fillOpacity%22%3A%200.6%2C%20%22opacity%22%3A%201%2C%20%22weight%22%3A%201%7D%3B%0A%20%20%20%20%20%20%20%20%20%20%20%20%20%20%20%20case%20%22%5Cuc6a9%5Cuc0b0%5Cuad6c%22%3A%20case%20%22%5Cuc911%5Cuad6c%22%3A%20%0A%20%20%20%20%20%20%20%20%20%20%20%20%20%20%20%20%20%20%20%20return%20%7B%22color%22%3A%20%22black%22%2C%20%22fillColor%22%3A%20%22%23006837%22%2C%20%22fillOpacity%22%3A%200.6%2C%20%22opacity%22%3A%201%2C%20%22weight%22%3A%201%7D%3B%0A%20%20%20%20%20%20%20%20%20%20%20%20%20%20%20%20case%20%22%5Cuc885%5Cub85c%5Cuad6c%22%3A%20%0A%20%20%20%20%20%20%20%20%20%20%20%20%20%20%20%20%20%20%20%20return%20%7B%22color%22%3A%20%22black%22%2C%20%22fillColor%22%3A%20%22%2331a354%22%2C%20%22fillOpacity%22%3A%200.6%2C%20%22opacity%22%3A%201%2C%20%22weight%22%3A%201%7D%3B%0A%20%20%20%20%20%20%20%20%20%20%20%20%20%20%20%20default%3A%0A%20%20%20%20%20%20%20%20%20%20%20%20%20%20%20%20%20%20%20%20return%20%7B%22color%22%3A%20%22black%22%2C%20%22fillColor%22%3A%20%22%23ffffcc%22%2C%20%22fillOpacity%22%3A%200.6%2C%20%22opacity%22%3A%201%2C%20%22weight%22%3A%201%7D%3B%0A%20%20%20%20%20%20%20%20%20%20%20%20%7D%0A%20%20%20%20%20%20%20%20%7D%0A%0A%20%20%20%20%20%20%20%20function%20geo_json_543a8e1a36d447f98024dfae984e8d17_onEachFeature%28feature%2C%20layer%29%20%7B%0A%20%20%20%20%20%20%20%20%20%20%20%20layer.on%28%7B%0A%20%20%20%20%20%20%20%20%20%20%20%20%7D%29%3B%0A%20%20%20%20%20%20%20%20%7D%3B%0A%20%20%20%20%20%20%20%20var%20geo_json_543a8e1a36d447f98024dfae984e8d17%20%3D%20L.geoJson%28null%2C%20%7B%0A%20%20%20%20%20%20%20%20%20%20%20%20%20%20%20%20onEachFeature%3A%20geo_json_543a8e1a36d447f98024dfae984e8d17_onEachFeature%2C%0A%20%20%20%20%20%20%20%20%20%20%20%20%0A%20%20%20%20%20%20%20%20%20%20%20%20%20%20%20%20style%3A%20geo_json_543a8e1a36d447f98024dfae984e8d17_styler%2C%0A%20%20%20%20%20%20%20%20%7D%29%3B%0A%0A%20%20%20%20%20%20%20%20function%20geo_json_543a8e1a36d447f98024dfae984e8d17_add%20%28data%29%20%7B%0A%20%20%20%20%20%20%20%20%20%20%20%20geo_json_543a8e1a36d447f98024dfae984e8d17%0A%20%20%20%20%20%20%20%20%20%20%20%20%20%20%20%20.addData%28data%29%0A%20%20%20%20%20%20%20%20%20%20%20%20%20%20%20%20.addTo%28choropleth_7cabe2bcf89741aeae3fa49d5d124edb%29%3B%0A%20%20%20%20%20%20%20%20%7D%0A%20%20%20%20%20%20%20%20%20%20%20%20geo_json_543a8e1a36d447f98024dfae984e8d17_add%28%7B%22features%22%3A%20%5B%7B%22geometry%22%3A%20%7B%22coordinates%22%3A%20%5B%5B%5B127.11519584981606%2C%2037.557533180704915%5D%2C%20%5B127.16683184366129%2C%2037.57672487388627%5D%2C%20%5B127.18408792330152%2C%2037.55814280369575%5D%2C%20%5B127.16530984307447%2C%2037.54221851258693%5D%2C%20%5B127.14672806823502%2C%2037.51415680680291%5D%2C%20%5B127.12123165719615%2C%2037.52528270089%5D%2C%20%5B127.1116764203608%2C%2037.540669955324965%5D%2C%20%5B127.11519584981606%2C%2037.557533180704915%5D%5D%5D%2C%20%22type%22%3A%20%22Polygon%22%7D%2C%20%22id%22%3A%20%22%5Cuac15%5Cub3d9%5Cuad6c%22%2C%20%22properties%22%3A%20%7B%22base_year%22%3A%20%222013%22%2C%20%22code%22%3A%20%2211250%22%2C%20%22name%22%3A%20%22%5Cuac15%5Cub3d9%5Cuad6c%22%2C%20%22name_eng%22%3A%20%22Gangdong-gu%22%7D%2C%20%22type%22%3A%20%22Feature%22%7D%2C%20%7B%22geometry%22%3A%20%7B%22coordinates%22%3A%20%5B%5B%5B127.0690698130372%2C%2037.522279423505026%5D%2C%20%5B127.10087519791962%2C%2037.524841220167055%5D%2C%20%5B127.1116764203608%2C%2037.540669955324965%5D%2C%20%5B127.12123165719615%2C%2037.52528270089%5D%2C%20%5B127.14672806823502%2C%2037.51415680680291%5D%2C%20%5B127.1634944215765%2C%2037.497445406097484%5D%2C%20%5B127.14206058413274%2C%2037.47089819098501%5D%2C%20%5B127.12440571080893%2C%2037.46240445587048%5D%2C%20%5B127.11117085201238%2C%2037.485708381512445%5D%2C%20%5B127.0719146000724%2C%2037.50224013587669%5D%2C%20%5B127.0690698130372%2C%2037.522279423505026%5D%5D%5D%2C%20%22type%22%3A%20%22Polygon%22%7D%2C%20%22id%22%3A%20%22%5Cuc1a1%5Cud30c%5Cuad6c%22%2C%20%22properties%22%3A%20%7B%22base_year%22%3A%20%222013%22%2C%20%22code%22%3A%20%2211240%22%2C%20%22name%22%3A%20%22%5Cuc1a1%5Cud30c%5Cuad6c%22%2C%20%22name_eng%22%3A%20%22Songpa-gu%22%7D%2C%20%22type%22%3A%20%22Feature%22%7D%2C%20%7B%22geometry%22%3A%20%7B%22coordinates%22%3A%20%5B%5B%5B127.05867359288398%2C%2037.52629974922568%5D%2C%20%5B127.0690698130372%2C%2037.522279423505026%5D%2C%20%5B127.0719146000724%2C%2037.50224013587669%5D%2C%20%5B127.11117085201238%2C%2037.485708381512445%5D%2C%20%5B127.12440571080893%2C%2037.46240445587048%5D%2C%20%5B127.09842759318751%2C%2037.45862253857461%5D%2C%20%5B127.08640440578156%2C%2037.472697935184655%5D%2C%20%5B127.0559170481904%2C%2037.4659228914077%5D%2C%20%5B127.03621915098798%2C%2037.48175802427603%5D%2C%20%5B127.01397119667513%2C%2037.52503988289669%5D%2C%20%5B127.02302831890559%2C%2037.53231899582663%5D%2C%20%5B127.05867359288398%2C%2037.52629974922568%5D%5D%5D%2C%20%22type%22%3A%20%22Polygon%22%7D%2C%20%22id%22%3A%20%22%5Cuac15%5Cub0a8%5Cuad6c%22%2C%20%22properties%22%3A%20%7B%22base_year%22%3A%20%222013%22%2C%20%22code%22%3A%20%2211230%22%2C%20%22name%22%3A%20%22%5Cuac15%5Cub0a8%5Cuad6c%22%2C%20%22name_eng%22%3A%20%22Gangnam-gu%22%7D%2C%20%22type%22%3A%20%22Feature%22%7D%2C%20%7B%22geometry%22%3A%20%7B%22coordinates%22%3A%20%5B%5B%5B127.01397119667513%2C%2037.52503988289669%5D%2C%20%5B127.03621915098798%2C%2037.48175802427603%5D%2C%20%5B127.0559170481904%2C%2037.4659228914077%5D%2C%20%5B127.08640440578156%2C%2037.472697935184655%5D%2C%20%5B127.09842759318751%2C%2037.45862253857461%5D%2C%20%5B127.09046928565951%2C%2037.44296826114185%5D%2C%20%5B127.06778107605433%2C%2037.426197424057314%5D%2C%20%5B127.04957232987142%2C%2037.42805836845694%5D%2C%20%5B127.03881782597922%2C%2037.45382039851715%5D%2C%20%5B126.99072073195462%2C%2037.455326143310025%5D%2C%20%5B126.98367668291802%2C%2037.473856492692086%5D%2C%20%5B126.98223807916081%2C%2037.509314966770326%5D%2C%20%5B127.01397119667513%2C%2037.52503988289669%5D%5D%5D%2C%20%22type%22%3A%20%22Polygon%22%7D%2C%20%22id%22%3A%20%22%5Cuc11c%5Cucd08%5Cuad6c%22%2C%20%22properties%22%3A%20%7B%22base_year%22%3A%20%222013%22%2C%20%22code%22%3A%20%2211220%22%2C%20%22name%22%3A%20%22%5Cuc11c%5Cucd08%5Cuad6c%22%2C%20%22name_eng%22%3A%20%22Seocho-gu%22%7D%2C%20%22type%22%3A%20%22Feature%22%7D%2C%20%7B%22geometry%22%3A%20%7B%22coordinates%22%3A%20%5B%5B%5B126.98367668291802%2C%2037.473856492692086%5D%2C%20%5B126.99072073195462%2C%2037.455326143310025%5D%2C%20%5B126.96520439085143%2C%2037.438249784006246%5D%2C%20%5B126.95000001010182%2C%2037.43613451165719%5D%2C%20%5B126.93084408056525%2C%2037.447382928333994%5D%2C%20%5B126.9167728146601%2C%2037.45490566423789%5D%2C%20%5B126.90156094129895%2C%2037.47753842789901%5D%2C%20%5B126.90531975801812%2C%2037.48218087575429%5D%2C%20%5B126.94922661389508%2C%2037.49125437495649%5D%2C%20%5B126.9725891850662%2C%2037.472561363278125%5D%2C%20%5B126.98367668291802%2C%2037.473856492692086%5D%5D%5D%2C%20%22type%22%3A%20%22Polygon%22%7D%2C%20%22id%22%3A%20%22%5Cuad00%5Cuc545%5Cuad6c%22%2C%20%22properties%22%3A%20%7B%22base_year%22%3A%20%222013%22%2C%20%22code%22%3A%20%2211210%22%2C%20%22name%22%3A%20%22%5Cuad00%5Cuc545%5Cuad6c%22%2C%20%22name_eng%22%3A%20%22Gwanak-gu%22%7D%2C%20%22type%22%3A%20%22Feature%22%7D%2C%20%7B%22geometry%22%3A%20%7B%22coordinates%22%3A%20%5B%5B%5B126.98223807916081%2C%2037.509314966770326%5D%2C%20%5B126.98367668291802%2C%2037.473856492692086%5D%2C%20%5B126.9725891850662%2C%2037.472561363278125%5D%2C%20%5B126.94922661389508%2C%2037.49125437495649%5D%2C%20%5B126.90531975801812%2C%2037.48218087575429%5D%2C%20%5B126.92177893174825%2C%2037.494889877415176%5D%2C%20%5B126.92810628828279%2C%2037.51329595732015%5D%2C%20%5B126.95249990298159%2C%2037.51722500741813%5D%2C%20%5B126.98223807916081%2C%2037.509314966770326%5D%5D%5D%2C%20%22type%22%3A%20%22Polygon%22%7D%2C%20%22id%22%3A%20%22%5Cub3d9%5Cuc791%5Cuad6c%22%2C%20%22properties%22%3A%20%7B%22base_year%22%3A%20%222013%22%2C%20%22code%22%3A%20%2211200%22%2C%20%22name%22%3A%20%22%5Cub3d9%5Cuc791%5Cuad6c%22%2C%20%22name_eng%22%3A%20%22Dongjak-gu%22%7D%2C%20%22type%22%3A%20%22Feature%22%7D%2C%20%7B%22geometry%22%3A%20%7B%22coordinates%22%3A%20%5B%5B%5B126.89184663862764%2C%2037.547373974997114%5D%2C%20%5B126.94566733083212%2C%2037.526617542453366%5D%2C%20%5B126.95249990298159%2C%2037.51722500741813%5D%2C%20%5B126.92810628828279%2C%2037.51329595732015%5D%2C%20%5B126.92177893174825%2C%2037.494889877415176%5D%2C%20%5B126.90531975801812%2C%2037.48218087575429%5D%2C%20%5B126.89594776782485%2C%2037.504675281309176%5D%2C%20%5B126.88156402353862%2C%2037.513970034765684%5D%2C%20%5B126.88825757860099%2C%2037.54079733630232%5D%2C%20%5B126.89184663862764%2C%2037.547373974997114%5D%5D%5D%2C%20%22type%22%3A%20%22Polygon%22%7D%2C%20%22id%22%3A%20%22%5Cuc601%5Cub4f1%5Cud3ec%5Cuad6c%22%2C%20%22properties%22%3A%20%7B%22base_year%22%3A%20%222013%22%2C%20%22code%22%3A%20%2211190%22%2C%20%22name%22%3A%20%22%5Cuc601%5Cub4f1%5Cud3ec%5Cuad6c%22%2C%20%22name_eng%22%3A%20%22Yeongdeungpo-gu%22%7D%2C%20%22type%22%3A%20%22Feature%22%7D%2C%20%7B%22geometry%22%3A%20%7B%22coordinates%22%3A%20%5B%5B%5B126.90156094129895%2C%2037.47753842789901%5D%2C%20%5B126.9167728146601%2C%2037.45490566423789%5D%2C%20%5B126.93084408056525%2C%2037.447382928333994%5D%2C%20%5B126.9025831711697%2C%2037.434549366349124%5D%2C%20%5B126.87683271502428%2C%2037.482576591607305%5D%2C%20%5B126.90156094129895%2C%2037.47753842789901%5D%5D%5D%2C%20%22type%22%3A%20%22Polygon%22%7D%2C%20%22id%22%3A%20%22%5Cuae08%5Cucc9c%5Cuad6c%22%2C%20%22properties%22%3A%20%7B%22base_year%22%3A%20%222013%22%2C%20%22code%22%3A%20%2211180%22%2C%20%22name%22%3A%20%22%5Cuae08%5Cucc9c%5Cuad6c%22%2C%20%22name_eng%22%3A%20%22Geumcheon-gu%22%7D%2C%20%22type%22%3A%20%22Feature%22%7D%2C%20%7B%22geometry%22%3A%20%7B%22coordinates%22%3A%20%5B%5B%5B126.82688081517314%2C%2037.50548972232896%5D%2C%20%5B126.88156402353862%2C%2037.513970034765684%5D%2C%20%5B126.89594776782485%2C%2037.504675281309176%5D%2C%20%5B126.90531975801812%2C%2037.48218087575429%5D%2C%20%5B126.90156094129895%2C%2037.47753842789901%5D%2C%20%5B126.87683271502428%2C%2037.482576591607305%5D%2C%20%5B126.84762676054953%2C%2037.47146723936323%5D%2C%20%5B126.83549485076196%2C%2037.474098236975095%5D%2C%20%5B126.82264796791348%2C%2037.4878476492147%5D%2C%20%5B126.82504736331406%2C%2037.50302612640443%5D%2C%20%5B126.82688081517314%2C%2037.50548972232896%5D%5D%5D%2C%20%22type%22%3A%20%22Polygon%22%7D%2C%20%22id%22%3A%20%22%5Cuad6c%5Cub85c%5Cuad6c%22%2C%20%22properties%22%3A%20%7B%22base_year%22%3A%20%222013%22%2C%20%22code%22%3A%20%2211170%22%2C%20%22name%22%3A%20%22%5Cuad6c%5Cub85c%5Cuad6c%22%2C%20%22name_eng%22%3A%20%22Guro-gu%22%7D%2C%20%22type%22%3A%20%22Feature%22%7D%2C%20%7B%22geometry%22%3A%20%7B%22coordinates%22%3A%20%5B%5B%5B126.79575768552907%2C%2037.57881087633202%5D%2C%20%5B126.80702115023597%2C%2037.60123001013228%5D%2C%20%5B126.82251438477105%2C%2037.5880430810082%5D%2C%20%5B126.85984199399667%2C%2037.571847855292745%5D%2C%20%5B126.89184663862764%2C%2037.547373974997114%5D%2C%20%5B126.88825757860099%2C%2037.54079733630232%5D%2C%20%5B126.86637464321238%2C%2037.54859191094823%5D%2C%20%5B126.86610073476395%2C%2037.52699964144669%5D%2C%20%5B126.84257291943153%2C%2037.52373707805596%5D%2C%20%5B126.8242331426722%2C%2037.53788078753248%5D%2C%20%5B126.77324417717703%2C%2037.5459123450554%5D%2C%20%5B126.76979180579352%2C%2037.55139183008809%5D%2C%20%5B126.79575768552907%2C%2037.57881087633202%5D%5D%5D%2C%20%22type%22%3A%20%22Polygon%22%7D%2C%20%22id%22%3A%20%22%5Cuac15%5Cuc11c%5Cuad6c%22%2C%20%22properties%22%3A%20%7B%22base_year%22%3A%20%222013%22%2C%20%22code%22%3A%20%2211160%22%2C%20%22name%22%3A%20%22%5Cuac15%5Cuc11c%5Cuad6c%22%2C%20%22name_eng%22%3A%20%22Gangseo-gu%22%7D%2C%20%22type%22%3A%20%22Feature%22%7D%2C%20%7B%22geometry%22%3A%20%7B%22coordinates%22%3A%20%5B%5B%5B126.8242331426722%2C%2037.53788078753248%5D%2C%20%5B126.84257291943153%2C%2037.52373707805596%5D%2C%20%5B126.86610073476395%2C%2037.52699964144669%5D%2C%20%5B126.86637464321238%2C%2037.54859191094823%5D%2C%20%5B126.88825757860099%2C%2037.54079733630232%5D%2C%20%5B126.88156402353862%2C%2037.513970034765684%5D%2C%20%5B126.82688081517314%2C%2037.50548972232896%5D%2C%20%5B126.8242331426722%2C%2037.53788078753248%5D%5D%5D%2C%20%22type%22%3A%20%22Polygon%22%7D%2C%20%22id%22%3A%20%22%5Cuc591%5Cucc9c%5Cuad6c%22%2C%20%22properties%22%3A%20%7B%22base_year%22%3A%20%222013%22%2C%20%22code%22%3A%20%2211150%22%2C%20%22name%22%3A%20%22%5Cuc591%5Cucc9c%5Cuad6c%22%2C%20%22name_eng%22%3A%20%22Yangcheon-gu%22%7D%2C%20%22type%22%3A%20%22Feature%22%7D%2C%20%7B%22geometry%22%3A%20%7B%22coordinates%22%3A%20%5B%5B%5B126.90522065831053%2C%2037.57409700522574%5D%2C%20%5B126.93898161798973%2C%2037.552310003728124%5D%2C%20%5B126.96358226710812%2C%2037.55605635475154%5D%2C%20%5B126.96448570553055%2C%2037.548705692021635%5D%2C%20%5B126.94566733083212%2C%2037.526617542453366%5D%2C%20%5B126.89184663862764%2C%2037.547373974997114%5D%2C%20%5B126.85984199399667%2C%2037.571847855292745%5D%2C%20%5B126.88433284773288%2C%2037.588143322880526%5D%2C%20%5B126.90522065831053%2C%2037.57409700522574%5D%5D%5D%2C%20%22type%22%3A%20%22Polygon%22%7D%2C%20%22id%22%3A%20%22%5Cub9c8%5Cud3ec%5Cuad6c%22%2C%20%22properties%22%3A%20%7B%22base_year%22%3A%20%222013%22%2C%20%22code%22%3A%20%2211140%22%2C%20%22name%22%3A%20%22%5Cub9c8%5Cud3ec%5Cuad6c%22%2C%20%22name_eng%22%3A%20%22Mapo-gu%22%7D%2C%20%22type%22%3A%20%22Feature%22%7D%2C%20%7B%22geometry%22%3A%20%7B%22coordinates%22%3A%20%5B%5B%5B126.9524752030572%2C%2037.60508692737045%5D%2C%20%5B126.95565425846463%2C%2037.576080790881456%5D%2C%20%5B126.96873633279075%2C%2037.56313604690827%5D%2C%20%5B126.96358226710812%2C%2037.55605635475154%5D%2C%20%5B126.93898161798973%2C%2037.552310003728124%5D%2C%20%5B126.90522065831053%2C%2037.57409700522574%5D%2C%20%5B126.9524752030572%2C%2037.60508692737045%5D%5D%5D%2C%20%22type%22%3A%20%22Polygon%22%7D%2C%20%22id%22%3A%20%22%5Cuc11c%5Cub300%5Cubb38%5Cuad6c%22%2C%20%22properties%22%3A%20%7B%22base_year%22%3A%20%222013%22%2C%20%22code%22%3A%20%2211130%22%2C%20%22name%22%3A%20%22%5Cuc11c%5Cub300%5Cubb38%5Cuad6c%22%2C%20%22name_eng%22%3A%20%22Seodaemun-gu%22%7D%2C%20%22type%22%3A%20%22Feature%22%7D%2C%20%7B%22geometry%22%3A%20%7B%22coordinates%22%3A%20%5B%5B%5B126.9738864128702%2C%2037.62949634786888%5D%2C%20%5B126.95427017006129%2C%2037.622033431339425%5D%2C%20%5B126.9524752030572%2C%2037.60508692737045%5D%2C%20%5B126.90522065831053%2C%2037.57409700522574%5D%2C%20%5B126.88433284773288%2C%2037.588143322880526%5D%2C%20%5B126.90396681003595%2C%2037.59227403419942%5D%2C%20%5B126.90303066177668%2C%2037.609977911401344%5D%2C%20%5B126.91455481429648%2C%2037.64150050996935%5D%2C%20%5B126.956473797387%2C%2037.652480737339445%5D%2C%20%5B126.9738864128702%2C%2037.62949634786888%5D%5D%5D%2C%20%22type%22%3A%20%22Polygon%22%7D%2C%20%22id%22%3A%20%22%5Cuc740%5Cud3c9%5Cuad6c%22%2C%20%22properties%22%3A%20%7B%22base_year%22%3A%20%222013%22%2C%20%22code%22%3A%20%2211120%22%2C%20%22name%22%3A%20%22%5Cuc740%5Cud3c9%5Cuad6c%22%2C%20%22name_eng%22%3A%20%22Eunpyeong-gu%22%7D%2C%20%22type%22%3A%20%22Feature%22%7D%2C%20%7B%22geometry%22%3A%20%7B%22coordinates%22%3A%20%5B%5B%5B127.0838752703195%2C%2037.69359534202034%5D%2C%20%5B127.09706391309695%2C%2037.686383719372294%5D%2C%20%5B127.09440766298717%2C%2037.64713490473045%5D%2C%20%5B127.11326795855199%2C%2037.639622905315925%5D%2C%20%5B127.10782277688129%2C%2037.61804244241069%5D%2C%20%5B127.07351243825278%2C%2037.61283660342313%5D%2C%20%5B127.05209373568619%2C%2037.62164065487782%5D%2C%20%5B127.04358800895609%2C%2037.62848931298715%5D%2C%20%5B127.05800075220091%2C%2037.64318263878276%5D%2C%20%5B127.05288479710485%2C%2037.68423857084347%5D%2C%20%5B127.0838752703195%2C%2037.69359534202034%5D%5D%5D%2C%20%22type%22%3A%20%22Polygon%22%7D%2C%20%22id%22%3A%20%22%5Cub178%5Cuc6d0%5Cuad6c%22%2C%20%22properties%22%3A%20%7B%22base_year%22%3A%20%222013%22%2C%20%22code%22%3A%20%2211110%22%2C%20%22name%22%3A%20%22%5Cub178%5Cuc6d0%5Cuad6c%22%2C%20%22name_eng%22%3A%20%22Nowon-gu%22%7D%2C%20%22type%22%3A%20%22Feature%22%7D%2C%20%7B%22geometry%22%3A%20%7B%22coordinates%22%3A%20%5B%5B%5B127.05288479710485%2C%2037.68423857084347%5D%2C%20%5B127.05800075220091%2C%2037.64318263878276%5D%2C%20%5B127.04358800895609%2C%2037.62848931298715%5D%2C%20%5B127.01465935892466%2C%2037.64943687496812%5D%2C%20%5B127.02062116141389%2C%2037.667173575971205%5D%2C%20%5B127.01039666042071%2C%2037.681894589603594%5D%2C%20%5B127.01795099203432%2C%2037.69824412775662%5D%2C%20%5B127.05288479710485%2C%2037.68423857084347%5D%5D%5D%2C%20%22type%22%3A%20%22Polygon%22%7D%2C%20%22id%22%3A%20%22%5Cub3c4%5Cubd09%5Cuad6c%22%2C%20%22properties%22%3A%20%7B%22base_year%22%3A%20%222013%22%2C%20%22code%22%3A%20%2211100%22%2C%20%22name%22%3A%20%22%5Cub3c4%5Cubd09%5Cuad6c%22%2C%20%22name_eng%22%3A%20%22Dobong-gu%22%7D%2C%20%22type%22%3A%20%22Feature%22%7D%2C%20%7B%22geometry%22%3A%20%7B%22coordinates%22%3A%20%5B%5B%5B126.99383903424%2C%2037.676681761199085%5D%2C%20%5B127.01039666042071%2C%2037.681894589603594%5D%2C%20%5B127.02062116141389%2C%2037.667173575971205%5D%2C%20%5B127.01465935892466%2C%2037.64943687496812%5D%2C%20%5B127.04358800895609%2C%2037.62848931298715%5D%2C%20%5B127.05209373568619%2C%2037.62164065487782%5D%2C%20%5B127.03892400992301%2C%2037.609715611023816%5D%2C%20%5B127.0128154749523%2C%2037.613652243470256%5D%2C%20%5B126.98672705513869%2C%2037.63377641288196%5D%2C%20%5B126.9817452676551%2C%2037.65209769387776%5D%2C%20%5B126.99383903424%2C%2037.676681761199085%5D%5D%5D%2C%20%22type%22%3A%20%22Polygon%22%7D%2C%20%22id%22%3A%20%22%5Cuac15%5Cubd81%5Cuad6c%22%2C%20%22properties%22%3A%20%7B%22base_year%22%3A%20%222013%22%2C%20%22code%22%3A%20%2211090%22%2C%20%22name%22%3A%20%22%5Cuac15%5Cubd81%5Cuad6c%22%2C%20%22name_eng%22%3A%20%22Gangbuk-gu%22%7D%2C%20%22type%22%3A%20%22Feature%22%7D%2C%20%7B%22geometry%22%3A%20%7B%22coordinates%22%3A%20%5B%5B%5B126.977175406416%2C%2037.62859715400388%5D%2C%20%5B126.98672705513869%2C%2037.63377641288196%5D%2C%20%5B127.0128154749523%2C%2037.613652243470256%5D%2C%20%5B127.03892400992301%2C%2037.609715611023816%5D%2C%20%5B127.05209373568619%2C%2037.62164065487782%5D%2C%20%5B127.07351243825278%2C%2037.61283660342313%5D%2C%20%5B127.07382707099227%2C%2037.60401928986419%5D%2C%20%5B127.042705222094%2C%2037.59239437593391%5D%2C%20%5B127.02527254528003%2C%2037.57524616245249%5D%2C%20%5B126.99348293358314%2C%2037.588565457216156%5D%2C%20%5B126.98879865992384%2C%2037.6118927319756%5D%2C%20%5B126.977175406416%2C%2037.62859715400388%5D%5D%5D%2C%20%22type%22%3A%20%22Polygon%22%7D%2C%20%22id%22%3A%20%22%5Cuc131%5Cubd81%5Cuad6c%22%2C%20%22properties%22%3A%20%7B%22base_year%22%3A%20%222013%22%2C%20%22code%22%3A%20%2211080%22%2C%20%22name%22%3A%20%22%5Cuc131%5Cubd81%5Cuad6c%22%2C%20%22name_eng%22%3A%20%22Seongbuk-gu%22%7D%2C%20%22type%22%3A%20%22Feature%22%7D%2C%20%7B%22geometry%22%3A%20%7B%22coordinates%22%3A%20%5B%5B%5B127.07351243825278%2C%2037.61283660342313%5D%2C%20%5B127.10782277688129%2C%2037.61804244241069%5D%2C%20%5B127.1201246020114%2C%2037.60178457598188%5D%2C%20%5B127.10304174249214%2C%2037.57076342290955%5D%2C%20%5B127.08068541280403%2C%2037.56906425519017%5D%2C%20%5B127.07382707099227%2C%2037.60401928986419%5D%2C%20%5B127.07351243825278%2C%2037.61283660342313%5D%5D%5D%2C%20%22type%22%3A%20%22Polygon%22%7D%2C%20%22id%22%3A%20%22%5Cuc911%5Cub791%5Cuad6c%22%2C%20%22properties%22%3A%20%7B%22base_year%22%3A%20%222013%22%2C%20%22code%22%3A%20%2211070%22%2C%20%22name%22%3A%20%22%5Cuc911%5Cub791%5Cuad6c%22%2C%20%22name_eng%22%3A%20%22Jungnang-gu%22%7D%2C%20%22type%22%3A%20%22Feature%22%7D%2C%20%7B%22geometry%22%3A%20%7B%22coordinates%22%3A%20%5B%5B%5B127.02527254528003%2C%2037.57524616245249%5D%2C%20%5B127.042705222094%2C%2037.59239437593391%5D%2C%20%5B127.07382707099227%2C%2037.60401928986419%5D%2C%20%5B127.08068541280403%2C%2037.56906425519017%5D%2C%20%5B127.07421053024362%2C%2037.55724769712085%5D%2C%20%5B127.05005601081567%2C%2037.567577612590846%5D%2C%20%5B127.02547266349976%2C%2037.568943552237734%5D%2C%20%5B127.02527254528003%2C%2037.57524616245249%5D%5D%5D%2C%20%22type%22%3A%20%22Polygon%22%7D%2C%20%22id%22%3A%20%22%5Cub3d9%5Cub300%5Cubb38%5Cuad6c%22%2C%20%22properties%22%3A%20%7B%22base_year%22%3A%20%222013%22%2C%20%22code%22%3A%20%2211060%22%2C%20%22name%22%3A%20%22%5Cub3d9%5Cub300%5Cubb38%5Cuad6c%22%2C%20%22name_eng%22%3A%20%22Dongdaemun-gu%22%7D%2C%20%22type%22%3A%20%22Feature%22%7D%2C%20%7B%22geometry%22%3A%20%7B%22coordinates%22%3A%20%5B%5B%5B127.08068541280403%2C%2037.56906425519017%5D%2C%20%5B127.10304174249214%2C%2037.57076342290955%5D%2C%20%5B127.11519584981606%2C%2037.557533180704915%5D%2C%20%5B127.1116764203608%2C%2037.540669955324965%5D%2C%20%5B127.10087519791962%2C%2037.524841220167055%5D%2C%20%5B127.0690698130372%2C%2037.522279423505026%5D%2C%20%5B127.05867359288398%2C%2037.52629974922568%5D%2C%20%5B127.07421053024362%2C%2037.55724769712085%5D%2C%20%5B127.08068541280403%2C%2037.56906425519017%5D%5D%5D%2C%20%22type%22%3A%20%22Polygon%22%7D%2C%20%22id%22%3A%20%22%5Cuad11%5Cuc9c4%5Cuad6c%22%2C%20%22properties%22%3A%20%7B%22base_year%22%3A%20%222013%22%2C%20%22code%22%3A%20%2211050%22%2C%20%22name%22%3A%20%22%5Cuad11%5Cuc9c4%5Cuad6c%22%2C%20%22name_eng%22%3A%20%22Gwangjin-gu%22%7D%2C%20%22type%22%3A%20%22Feature%22%7D%2C%20%7B%22geometry%22%3A%20%7B%22coordinates%22%3A%20%5B%5B%5B127.02547266349976%2C%2037.568943552237734%5D%2C%20%5B127.05005601081567%2C%2037.567577612590846%5D%2C%20%5B127.07421053024362%2C%2037.55724769712085%5D%2C%20%5B127.05867359288398%2C%2037.52629974922568%5D%2C%20%5B127.02302831890559%2C%2037.53231899582663%5D%2C%20%5B127.01070894177482%2C%2037.54118048964762%5D%2C%20%5B127.02547266349976%2C%2037.568943552237734%5D%5D%5D%2C%20%22type%22%3A%20%22Polygon%22%7D%2C%20%22id%22%3A%20%22%5Cuc131%5Cub3d9%5Cuad6c%22%2C%20%22properties%22%3A%20%7B%22base_year%22%3A%20%222013%22%2C%20%22code%22%3A%20%2211040%22%2C%20%22name%22%3A%20%22%5Cuc131%5Cub3d9%5Cuad6c%22%2C%20%22name_eng%22%3A%20%22Seongdong-gu%22%7D%2C%20%22type%22%3A%20%22Feature%22%7D%2C%20%7B%22geometry%22%3A%20%7B%22coordinates%22%3A%20%5B%5B%5B127.01070894177482%2C%2037.54118048964762%5D%2C%20%5B127.02302831890559%2C%2037.53231899582663%5D%2C%20%5B127.01397119667513%2C%2037.52503988289669%5D%2C%20%5B126.98223807916081%2C%2037.509314966770326%5D%2C%20%5B126.95249990298159%2C%2037.51722500741813%5D%2C%20%5B126.94566733083212%2C%2037.526617542453366%5D%2C%20%5B126.96448570553055%2C%2037.548705692021635%5D%2C%20%5B126.98752996903328%2C%2037.55094818807139%5D%2C%20%5B127.01070894177482%2C%2037.54118048964762%5D%5D%5D%2C%20%22type%22%3A%20%22Polygon%22%7D%2C%20%22id%22%3A%20%22%5Cuc6a9%5Cuc0b0%5Cuad6c%22%2C%20%22properties%22%3A%20%7B%22base_year%22%3A%20%222013%22%2C%20%22code%22%3A%20%2211030%22%2C%20%22name%22%3A%20%22%5Cuc6a9%5Cuc0b0%5Cuad6c%22%2C%20%22name_eng%22%3A%20%22Yongsan-gu%22%7D%2C%20%22type%22%3A%20%22Feature%22%7D%2C%20%7B%22geometry%22%3A%20%7B%22coordinates%22%3A%20%5B%5B%5B127.02547266349976%2C%2037.568943552237734%5D%2C%20%5B127.01070894177482%2C%2037.54118048964762%5D%2C%20%5B126.98752996903328%2C%2037.55094818807139%5D%2C%20%5B126.96448570553055%2C%2037.548705692021635%5D%2C%20%5B126.96358226710812%2C%2037.55605635475154%5D%2C%20%5B126.96873633279075%2C%2037.56313604690827%5D%2C%20%5B127.02547266349976%2C%2037.568943552237734%5D%5D%5D%2C%20%22type%22%3A%20%22Polygon%22%7D%2C%20%22id%22%3A%20%22%5Cuc911%5Cuad6c%22%2C%20%22properties%22%3A%20%7B%22base_year%22%3A%20%222013%22%2C%20%22code%22%3A%20%2211020%22%2C%20%22name%22%3A%20%22%5Cuc911%5Cuad6c%22%2C%20%22name_eng%22%3A%20%22Jung-gu%22%7D%2C%20%22type%22%3A%20%22Feature%22%7D%2C%20%7B%22geometry%22%3A%20%7B%22coordinates%22%3A%20%5B%5B%5B126.9738864128702%2C%2037.62949634786888%5D%2C%20%5B126.977175406416%2C%2037.62859715400388%5D%2C%20%5B126.98879865992384%2C%2037.6118927319756%5D%2C%20%5B126.99348293358314%2C%2037.588565457216156%5D%2C%20%5B127.02527254528003%2C%2037.57524616245249%5D%2C%20%5B127.02547266349976%2C%2037.568943552237734%5D%2C%20%5B126.96873633279075%2C%2037.56313604690827%5D%2C%20%5B126.95565425846463%2C%2037.576080790881456%5D%2C%20%5B126.9524752030572%2C%2037.60508692737045%5D%2C%20%5B126.95427017006129%2C%2037.622033431339425%5D%2C%20%5B126.9738864128702%2C%2037.62949634786888%5D%5D%5D%2C%20%22type%22%3A%20%22Polygon%22%7D%2C%20%22id%22%3A%20%22%5Cuc885%5Cub85c%5Cuad6c%22%2C%20%22properties%22%3A%20%7B%22base_year%22%3A%20%222013%22%2C%20%22code%22%3A%20%2211010%22%2C%20%22name%22%3A%20%22%5Cuc885%5Cub85c%5Cuad6c%22%2C%20%22name_eng%22%3A%20%22Jongno-gu%22%7D%2C%20%22type%22%3A%20%22Feature%22%7D%5D%2C%20%22type%22%3A%20%22FeatureCollection%22%7D%29%3B%0A%0A%20%20%20%20%20%20%20%20%0A%20%20%20%20%0A%20%20%20%20var%20color_map_57a067929ace4c2f98fb4111e5f5a5ff%20%3D%20%7B%7D%3B%0A%0A%20%20%20%20%0A%20%20%20%20color_map_57a067929ace4c2f98fb4111e5f5a5ff.color%20%3D%20d3.scale.threshold%28%29%0A%20%20%20%20%20%20%20%20%20%20%20%20%20%20.domain%28%5B1548.1538461538462%2C%201549.1431170032372%2C%201550.1323878526284%2C%201551.1216587020194%2C%201552.1109295514104%2C%201553.1002004008017%2C%201554.0894712501927%2C%201555.078742099584%2C%201556.068012948975%2C%201557.057283798366%2C%201558.0465546477571%2C%201559.0358254971482%2C%201560.0250963465392%2C%201561.0143671959304%2C%201562.0036380453214%2C%201562.9929088947126%2C%201563.9821797441036%2C%201564.9714505934946%2C%201565.9607214428859%2C%201566.9499922922769%2C%201567.9392631416679%2C%201568.928533991059%2C%201569.9178048404501%2C%201570.9070756898413%2C%201571.8963465392324%2C%201572.8856173886234%2C%201573.8748882380146%2C%201574.8641590874056%2C%201575.8534299367966%2C%201576.8427007861878%2C%201577.8319716355788%2C%201578.82124248497%2C%201579.810513334361%2C%201580.799784183752%2C%201581.7890550331433%2C%201582.7783258825343%2C%201583.7675967319253%2C%201584.7568675813166%2C%201585.7461384307076%2C%201586.7354092800988%2C%201587.7246801294898%2C%201588.7139509788808%2C%201589.703221828272%2C%201590.692492677663%2C%201591.681763527054%2C%201592.6710343764453%2C%201593.6603052258363%2C%201594.6495760752273%2C%201595.6388469246185%2C%201596.6281177740095%2C%201597.6173886234008%2C%201598.6066594727918%2C%201599.5959303221828%2C%201600.585201171574%2C%201601.574472020965%2C%201602.5637428703562%2C%201603.5530137197472%2C%201604.5422845691382%2C%201605.5315554185295%2C%201606.5208262679205%2C%201607.5100971173115%2C%201608.4993679667027%2C%201609.4886388160937%2C%201610.4779096654847%2C%201611.467180514876%2C%201612.456451364267%2C%201613.4457222136582%2C%201614.4349930630492%2C%201615.4242639124402%2C%201616.4135347618314%2C%201617.4028056112224%2C%201618.3920764606135%2C%201619.3813473100047%2C%201620.3706181593957%2C%201621.359889008787%2C%201622.349159858178%2C%201623.338430707569%2C%201624.3277015569602%2C%201625.3169724063512%2C%201626.3062432557422%2C%201627.2955141051334%2C%201628.2847849545244%2C%201629.2740558039156%2C%201630.2633266533066%2C%201631.2525975026977%2C%201632.2418683520889%2C%201633.23113920148%2C%201634.220410050871%2C%201635.2096809002621%2C%201636.1989517496531%2C%201637.1882225990444%2C%201638.1774934484354%2C%201639.1667642978264%2C%201640.1560351472176%2C%201641.1453059966086%2C%201642.1345768459996%2C%201643.1238476953909%2C%201644.1131185447819%2C%201645.102389394173%2C%201646.091660243564%2C%201647.080931092955%2C%201648.0702019423463%2C%201649.0594727917373%2C%201650.0487436411283%2C%201651.0380144905196%2C%201652.0272853399106%2C%201653.0165561893018%2C%201654.0058270386928%2C%201654.9950978880838%2C%201655.984368737475%2C%201656.973639586866%2C%201657.962910436257%2C%201658.9521812856483%2C%201659.9414521350393%2C%201660.9307229844303%2C%201661.9199938338215%2C%201662.9092646832125%2C%201663.8985355326038%2C%201664.8878063819948%2C%201665.8770772313858%2C%201666.866348080777%2C%201667.855618930168%2C%201668.844889779559%2C%201669.8341606289503%2C%201670.8234314783413%2C%201671.8127023277325%2C%201672.8019731771235%2C%201673.7912440265145%2C%201674.7805148759057%2C%201675.7697857252967%2C%201676.7590565746877%2C%201677.748327424079%2C%201678.73759827347%2C%201679.726869122861%2C%201680.7161399722522%2C%201681.7054108216432%2C%201682.6946816710345%2C%201683.6839525204255%2C%201684.6732233698165%2C%201685.6624942192077%2C%201686.6517650685987%2C%201687.64103591799%2C%201688.630306767381%2C%201689.619577616772%2C%201690.6088484661632%2C%201691.5981193155542%2C%201692.5873901649452%2C%201693.5766610143364%2C%201694.5659318637274%2C%201695.5552027131184%2C%201696.5444735625097%2C%201697.5337444119007%2C%201698.523015261292%2C%201699.512286110683%2C%201700.5015569600741%2C%201701.4908278094651%2C%201702.4800986588561%2C%201703.4693695082474%2C%201704.4586403576384%2C%201705.4479112070294%2C%201706.4371820564206%2C%201707.4264529058116%2C%201708.4157237552026%2C%201709.4049946045939%2C%201710.3942654539849%2C%201711.3835363033759%2C%201712.372807152767%2C%201713.3620780021581%2C%201714.3513488515493%2C%201715.3406197009404%2C%201716.3298905503314%2C%201717.3191613997226%2C%201718.3084322491136%2C%201719.2977030985048%2C%201720.2869739478958%2C%201721.2762447972868%2C%201722.265515646678%2C%201723.254786496069%2C%201724.24405734546%2C%201725.2333281948513%2C%201726.2225990442423%2C%201727.2118698936333%2C%201728.2011407430246%2C%201729.1904115924156%2C%201730.1796824418068%2C%201731.1689532911978%2C%201732.1582241405888%2C%201733.14749498998%2C%201734.136765839371%2C%201735.1260366887623%2C%201736.1153075381533%2C%201737.1045783875443%2C%201738.0938492369355%2C%201739.0831200863265%2C%201740.0723909357175%2C%201741.0616617851088%2C%201742.0509326344998%2C%201743.0402034838908%2C%201744.029474333282%2C%201745.018745182673%2C%201746.008016032064%2C%201746.9972868814552%2C%201747.9865577308462%2C%201748.9758285802375%2C%201749.9650994296285%2C%201750.9543702790195%2C%201751.9436411284107%2C%201752.9329119778017%2C%201753.922182827193%2C%201754.911453676584%2C%201755.900724525975%2C%201756.8899953753662%2C%201757.8792662247572%2C%201758.8685370741482%2C%201759.8578079235394%2C%201760.8470787729304%2C%201761.8363496223214%2C%201762.8256204717127%2C%201763.8148913211037%2C%201764.804162170495%2C%201765.793433019886%2C%201766.782703869277%2C%201767.7719747186682%2C%201768.7612455680592%2C%201769.7505164174504%2C%201770.7397872668414%2C%201771.7290581162324%2C%201772.7183289656236%2C%201773.7075998150146%2C%201774.6968706644057%2C%201775.6861415137969%2C%201776.675412363188%2C%201777.664683212579%2C%201778.6539540619701%2C%201779.6432249113611%2C%201780.6324957607524%2C%201781.6217666101434%2C%201782.6110374595344%2C%201783.6003083089256%2C%201784.5895791583166%2C%201785.5788500077078%2C%201786.5681208570988%2C%201787.5573917064899%2C%201788.546662555881%2C%201789.535933405272%2C%201790.525204254663%2C%201791.5144751040543%2C%201792.5037459534453%2C%201793.4930168028363%2C%201794.4822876522276%2C%201795.4715585016186%2C%201796.4608293510098%2C%201797.4501002004008%2C%201798.4393710497918%2C%201799.428641899183%2C%201800.417912748574%2C%201801.407183597965%2C%201802.3964544473563%2C%201803.3857252967473%2C%201804.3749961461385%2C%201805.3642669955295%2C%201806.3535378449205%2C%201807.3428086943118%2C%201808.3320795437028%2C%201809.3213503930938%2C%201810.310621242485%2C%201811.299892091876%2C%201812.2891629412673%2C%201813.2784337906583%2C%201814.2677046400493%2C%201815.2569754894403%2C%201816.2462463388315%2C%201817.2355171882225%2C%201818.2247880376137%2C%201819.2140588870047%2C%201820.203329736396%2C%201821.192600585787%2C%201822.181871435178%2C%201823.1711422845692%2C%201824.1604131339602%2C%201825.1496839833512%2C%201826.1389548327425%2C%201827.1282256821335%2C%201828.1174965315245%2C%201829.1067673809157%2C%201830.0960382303067%2C%201831.085309079698%2C%201832.074579929089%2C%201833.06385077848%2C%201834.0531216278712%2C%201835.0423924772622%2C%201836.0316633266534%2C%201837.0209341760444%2C%201838.0102050254354%2C%201838.9994758748267%2C%201839.9887467242177%2C%201840.9780175736087%2C%201841.967288423%2C%201842.956559272391%2C%201843.945830121782%2C%201844.9351009711731%2C%201845.9243718205641%2C%201846.9136426699554%2C%201847.9029135193464%2C%201848.8921843687374%2C%201849.8814552181286%2C%201850.8707260675196%2C%201851.8599969169106%2C%201852.8492677663019%2C%201853.8385386156929%2C%201854.827809465084%2C%201855.817080314475%2C%201856.806351163866%2C%201857.7956220132573%2C%201858.7848928626483%2C%201859.7741637120394%2C%201860.7634345614306%2C%201861.7527054108216%2C%201862.7419762602126%2C%201863.7312471096038%2C%201864.7205179589948%2C%201865.709788808386%2C%201866.699059657777%2C%201867.688330507168%2C%201868.6776013565593%2C%201869.6668722059503%2C%201870.6561430553415%2C%201871.6454139047325%2C%201872.6346847541236%2C%201873.6239556035148%2C%201874.6132264529058%2C%201875.6024973022968%2C%201876.591768151688%2C%201877.581039001079%2C%201878.57030985047%2C%201879.5595806998613%2C%201880.5488515492523%2C%201881.5381223986435%2C%201882.5273932480345%2C%201883.5166640974257%2C%201884.5059349468168%2C%201885.4952057962078%2C%201886.484476645599%2C%201887.47374749499%2C%201888.463018344381%2C%201889.4522891937722%2C%201890.4415600431632%2C%201891.4308308925542%2C%201892.4201017419455%2C%201893.4093725913365%2C%201894.3986434407275%2C%201895.3879142901187%2C%201896.3771851395097%2C%201897.3664559889007%2C%201898.355726838292%2C%201899.3449976876832%2C%201900.3342685370742%2C%201901.3235393864652%2C%201902.3128102358564%2C%201903.3020810852474%2C%201904.2913519346384%2C%201905.2806227840297%2C%201906.2698936334207%2C%201907.2591644828117%2C%201908.248435332203%2C%201909.237706181594%2C%201910.226977030985%2C%201911.2162478803762%2C%201912.2055187297672%2C%201913.1947895791582%2C%201914.1840604285494%2C%201915.1733312779404%2C%201916.1626021273314%2C%201917.1518729767226%2C%201918.1411438261139%2C%201919.1304146755049%2C%201920.1196855248959%2C%201921.1089563742871%2C%201922.0982272236781%2C%201923.0874980730691%2C%201924.0767689224604%2C%201925.0660397718514%2C%201926.0553106212424%2C%201927.0445814706336%2C%201928.0338523200246%2C%201929.0231231694156%2C%201930.0123940188068%2C%201931.0016648681978%2C%201931.9909357175889%2C%201932.98020656698%2C%201933.9694774163713%2C%201934.9587482657623%2C%201935.9480191151533%2C%201936.9372899645446%2C%201937.9265608139356%2C%201938.9158316633266%2C%201939.9051025127178%2C%201940.8943733621088%2C%201941.8836442114998%2C%201942.872915060891%2C%201943.862185910282%2C%201944.851456759673%2C%201945.8407276090643%2C%201946.8299984584553%2C%201947.8192693078463%2C%201948.8085401572375%2C%201949.7978110066285%2C%201950.7870818560195%2C%201951.7763527054108%2C%201952.765623554802%2C%201953.754894404193%2C%201954.744165253584%2C%201955.7334361029752%2C%201956.7227069523663%2C%201957.7119778017573%2C%201958.7012486511485%2C%201959.6905195005395%2C%201960.6797903499305%2C%201961.6690611993217%2C%201962.6583320487127%2C%201963.647602898104%2C%201964.636873747495%2C%201965.626144596886%2C%201966.615415446277%2C%201967.6046862956682%2C%201968.5939571450594%2C%201969.5832279944505%2C%201970.5724988438415%2C%201971.5617696932327%2C%201972.5510405426237%2C%201973.5403113920147%2C%201974.529582241406%2C%201975.518853090797%2C%201976.508123940188%2C%201977.4973947895792%2C%201978.4866656389702%2C%201979.4759364883612%2C%201980.4652073377524%2C%201981.4544781871434%2C%201982.4437490365347%2C%201983.4330198859257%2C%201984.4222907353167%2C%201985.411561584708%2C%201986.400832434099%2C%201987.3901032834901%2C%201988.3793741328811%2C%201989.3686449822721%2C%201990.3579158316634%2C%201991.3471866810544%2C%201992.3364575304454%2C%201993.3257283798366%2C%201994.3149992292276%2C%201995.3042700786186%2C%201996.2935409280099%2C%201997.2828117774009%2C%201998.272082626792%2C%201999.261353476183%2C%202000.250624325574%2C%202001.2398951749653%2C%202002.2291660243563%2C%202003.2184368737474%2C%202004.2077077231386%2C%202005.1969785725296%2C%202006.1862494219208%2C%202007.1755202713118%2C%202008.1647911207028%2C%202009.154061970094%2C%202010.143332819485%2C%202011.132603668876%2C%202012.1218745182673%2C%202013.1111453676583%2C%202014.1004162170493%2C%202015.0896870664405%2C%202016.0789579158318%2C%202017.0682287652228%2C%202018.0574996146138%2C%202019.0467704640048%2C%202020.036041313396%2C%202021.025312162787%2C%202022.0145830121783%2C%202023.0038538615693%2C%202023.9931247109603%2C%202024.9823955603515%2C%202025.9716664097425%2C%202026.9609372591335%2C%202027.9502081085247%2C%202028.9394789579158%2C%202029.9287498073068%2C%202030.918020656698%2C%202031.907291506089%2C%202032.8965623554802%2C%202033.8858332048712%2C%202034.8751040542625%2C%202035.8643749036535%2C%202036.8536457530445%2C%202037.8429166024357%2C%202038.8321874518267%2C%202039.8214583012177%2C%202040.810729150609%2C%202041.8%5D%29%0A%20%20%20%20%20%20%20%20%20%20%20%20%20%20.range%28%5B%27%23ffffccff%27%2C%20%27%23ffffccff%27%2C%20%27%23ffffccff%27%2C%20%27%23ffffccff%27%2C%20%27%23ffffccff%27%2C%20%27%23ffffccff%27%2C%20%27%23ffffccff%27%2C%20%27%23ffffccff%27%2C%20%27%23ffffccff%27%2C%20%27%23ffffccff%27%2C%20%27%23ffffccff%27%2C%20%27%23ffffccff%27%2C%20%27%23ffffccff%27%2C%20%27%23ffffccff%27%2C%20%27%23ffffccff%27%2C%20%27%23ffffccff%27%2C%20%27%23ffffccff%27%2C%20%27%23ffffccff%27%2C%20%27%23ffffccff%27%2C%20%27%23ffffccff%27%2C%20%27%23ffffccff%27%2C%20%27%23ffffccff%27%2C%20%27%23ffffccff%27%2C%20%27%23ffffccff%27%2C%20%27%23ffffccff%27%2C%20%27%23ffffccff%27%2C%20%27%23ffffccff%27%2C%20%27%23ffffccff%27%2C%20%27%23ffffccff%27%2C%20%27%23ffffccff%27%2C%20%27%23ffffccff%27%2C%20%27%23ffffccff%27%2C%20%27%23ffffccff%27%2C%20%27%23ffffccff%27%2C%20%27%23ffffccff%27%2C%20%27%23ffffccff%27%2C%20%27%23ffffccff%27%2C%20%27%23ffffccff%27%2C%20%27%23ffffccff%27%2C%20%27%23ffffccff%27%2C%20%27%23ffffccff%27%2C%20%27%23ffffccff%27%2C%20%27%23ffffccff%27%2C%20%27%23ffffccff%27%2C%20%27%23ffffccff%27%2C%20%27%23ffffccff%27%2C%20%27%23ffffccff%27%2C%20%27%23ffffccff%27%2C%20%27%23ffffccff%27%2C%20%27%23ffffccff%27%2C%20%27%23ffffccff%27%2C%20%27%23ffffccff%27%2C%20%27%23ffffccff%27%2C%20%27%23ffffccff%27%2C%20%27%23ffffccff%27%2C%20%27%23ffffccff%27%2C%20%27%23ffffccff%27%2C%20%27%23ffffccff%27%2C%20%27%23ffffccff%27%2C%20%27%23ffffccff%27%2C%20%27%23ffffccff%27%2C%20%27%23ffffccff%27%2C%20%27%23ffffccff%27%2C%20%27%23ffffccff%27%2C%20%27%23ffffccff%27%2C%20%27%23ffffccff%27%2C%20%27%23ffffccff%27%2C%20%27%23ffffccff%27%2C%20%27%23ffffccff%27%2C%20%27%23ffffccff%27%2C%20%27%23ffffccff%27%2C%20%27%23ffffccff%27%2C%20%27%23ffffccff%27%2C%20%27%23ffffccff%27%2C%20%27%23ffffccff%27%2C%20%27%23ffffccff%27%2C%20%27%23ffffccff%27%2C%20%27%23ffffccff%27%2C%20%27%23ffffccff%27%2C%20%27%23ffffccff%27%2C%20%27%23ffffccff%27%2C%20%27%23ffffccff%27%2C%20%27%23ffffccff%27%2C%20%27%23ffffccff%27%2C%20%27%23d9f0a3ff%27%2C%20%27%23d9f0a3ff%27%2C%20%27%23d9f0a3ff%27%2C%20%27%23d9f0a3ff%27%2C%20%27%23d9f0a3ff%27%2C%20%27%23d9f0a3ff%27%2C%20%27%23d9f0a3ff%27%2C%20%27%23d9f0a3ff%27%2C%20%27%23d9f0a3ff%27%2C%20%27%23d9f0a3ff%27%2C%20%27%23d9f0a3ff%27%2C%20%27%23d9f0a3ff%27%2C%20%27%23d9f0a3ff%27%2C%20%27%23d9f0a3ff%27%2C%20%27%23d9f0a3ff%27%2C%20%27%23d9f0a3ff%27%2C%20%27%23d9f0a3ff%27%2C%20%27%23d9f0a3ff%27%2C%20%27%23d9f0a3ff%27%2C%20%27%23d9f0a3ff%27%2C%20%27%23d9f0a3ff%27%2C%20%27%23d9f0a3ff%27%2C%20%27%23d9f0a3ff%27%2C%20%27%23d9f0a3ff%27%2C%20%27%23d9f0a3ff%27%2C%20%27%23d9f0a3ff%27%2C%20%27%23d9f0a3ff%27%2C%20%27%23d9f0a3ff%27%2C%20%27%23d9f0a3ff%27%2C%20%27%23d9f0a3ff%27%2C%20%27%23d9f0a3ff%27%2C%20%27%23d9f0a3ff%27%2C%20%27%23d9f0a3ff%27%2C%20%27%23d9f0a3ff%27%2C%20%27%23d9f0a3ff%27%2C%20%27%23d9f0a3ff%27%2C%20%27%23d9f0a3ff%27%2C%20%27%23d9f0a3ff%27%2C%20%27%23d9f0a3ff%27%2C%20%27%23d9f0a3ff%27%2C%20%27%23d9f0a3ff%27%2C%20%27%23d9f0a3ff%27%2C%20%27%23d9f0a3ff%27%2C%20%27%23d9f0a3ff%27%2C%20%27%23d9f0a3ff%27%2C%20%27%23d9f0a3ff%27%2C%20%27%23d9f0a3ff%27%2C%20%27%23d9f0a3ff%27%2C%20%27%23d9f0a3ff%27%2C%20%27%23d9f0a3ff%27%2C%20%27%23d9f0a3ff%27%2C%20%27%23d9f0a3ff%27%2C%20%27%23d9f0a3ff%27%2C%20%27%23d9f0a3ff%27%2C%20%27%23d9f0a3ff%27%2C%20%27%23d9f0a3ff%27%2C%20%27%23d9f0a3ff%27%2C%20%27%23d9f0a3ff%27%2C%20%27%23d9f0a3ff%27%2C%20%27%23d9f0a3ff%27%2C%20%27%23d9f0a3ff%27%2C%20%27%23d9f0a3ff%27%2C%20%27%23d9f0a3ff%27%2C%20%27%23d9f0a3ff%27%2C%20%27%23d9f0a3ff%27%2C%20%27%23d9f0a3ff%27%2C%20%27%23d9f0a3ff%27%2C%20%27%23d9f0a3ff%27%2C%20%27%23d9f0a3ff%27%2C%20%27%23d9f0a3ff%27%2C%20%27%23d9f0a3ff%27%2C%20%27%23d9f0a3ff%27%2C%20%27%23d9f0a3ff%27%2C%20%27%23d9f0a3ff%27%2C%20%27%23d9f0a3ff%27%2C%20%27%23d9f0a3ff%27%2C%20%27%23d9f0a3ff%27%2C%20%27%23d9f0a3ff%27%2C%20%27%23d9f0a3ff%27%2C%20%27%23d9f0a3ff%27%2C%20%27%23d9f0a3ff%27%2C%20%27%23d9f0a3ff%27%2C%20%27%23d9f0a3ff%27%2C%20%27%23addd8eff%27%2C%20%27%23addd8eff%27%2C%20%27%23addd8eff%27%2C%20%27%23addd8eff%27%2C%20%27%23addd8eff%27%2C%20%27%23addd8eff%27%2C%20%27%23addd8eff%27%2C%20%27%23addd8eff%27%2C%20%27%23addd8eff%27%2C%20%27%23addd8eff%27%2C%20%27%23addd8eff%27%2C%20%27%23addd8eff%27%2C%20%27%23addd8eff%27%2C%20%27%23addd8eff%27%2C%20%27%23addd8eff%27%2C%20%27%23addd8eff%27%2C%20%27%23addd8eff%27%2C%20%27%23addd8eff%27%2C%20%27%23addd8eff%27%2C%20%27%23addd8eff%27%2C%20%27%23addd8eff%27%2C%20%27%23addd8eff%27%2C%20%27%23addd8eff%27%2C%20%27%23addd8eff%27%2C%20%27%23addd8eff%27%2C%20%27%23addd8eff%27%2C%20%27%23addd8eff%27%2C%20%27%23addd8eff%27%2C%20%27%23addd8eff%27%2C%20%27%23addd8eff%27%2C%20%27%23addd8eff%27%2C%20%27%23addd8eff%27%2C%20%27%23addd8eff%27%2C%20%27%23addd8eff%27%2C%20%27%23addd8eff%27%2C%20%27%23addd8eff%27%2C%20%27%23addd8eff%27%2C%20%27%23addd8eff%27%2C%20%27%23addd8eff%27%2C%20%27%23addd8eff%27%2C%20%27%23addd8eff%27%2C%20%27%23addd8eff%27%2C%20%27%23addd8eff%27%2C%20%27%23addd8eff%27%2C%20%27%23addd8eff%27%2C%20%27%23addd8eff%27%2C%20%27%23addd8eff%27%2C%20%27%23addd8eff%27%2C%20%27%23addd8eff%27%2C%20%27%23addd8eff%27%2C%20%27%23addd8eff%27%2C%20%27%23addd8eff%27%2C%20%27%23addd8eff%27%2C%20%27%23addd8eff%27%2C%20%27%23addd8eff%27%2C%20%27%23addd8eff%27%2C%20%27%23addd8eff%27%2C%20%27%23addd8eff%27%2C%20%27%23addd8eff%27%2C%20%27%23addd8eff%27%2C%20%27%23addd8eff%27%2C%20%27%23addd8eff%27%2C%20%27%23addd8eff%27%2C%20%27%23addd8eff%27%2C%20%27%23addd8eff%27%2C%20%27%23addd8eff%27%2C%20%27%23addd8eff%27%2C%20%27%23addd8eff%27%2C%20%27%23addd8eff%27%2C%20%27%23addd8eff%27%2C%20%27%23addd8eff%27%2C%20%27%23addd8eff%27%2C%20%27%23addd8eff%27%2C%20%27%23addd8eff%27%2C%20%27%23addd8eff%27%2C%20%27%23addd8eff%27%2C%20%27%23addd8eff%27%2C%20%27%23addd8eff%27%2C%20%27%23addd8eff%27%2C%20%27%23addd8eff%27%2C%20%27%23addd8eff%27%2C%20%27%23addd8eff%27%2C%20%27%23addd8eff%27%2C%20%27%2378c679ff%27%2C%20%27%2378c679ff%27%2C%20%27%2378c679ff%27%2C%20%27%2378c679ff%27%2C%20%27%2378c679ff%27%2C%20%27%2378c679ff%27%2C%20%27%2378c679ff%27%2C%20%27%2378c679ff%27%2C%20%27%2378c679ff%27%2C%20%27%2378c679ff%27%2C%20%27%2378c679ff%27%2C%20%27%2378c679ff%27%2C%20%27%2378c679ff%27%2C%20%27%2378c679ff%27%2C%20%27%2378c679ff%27%2C%20%27%2378c679ff%27%2C%20%27%2378c679ff%27%2C%20%27%2378c679ff%27%2C%20%27%2378c679ff%27%2C%20%27%2378c679ff%27%2C%20%27%2378c679ff%27%2C%20%27%2378c679ff%27%2C%20%27%2378c679ff%27%2C%20%27%2378c679ff%27%2C%20%27%2378c679ff%27%2C%20%27%2378c679ff%27%2C%20%27%2378c679ff%27%2C%20%27%2378c679ff%27%2C%20%27%2378c679ff%27%2C%20%27%2378c679ff%27%2C%20%27%2378c679ff%27%2C%20%27%2378c679ff%27%2C%20%27%2378c679ff%27%2C%20%27%2378c679ff%27%2C%20%27%2378c679ff%27%2C%20%27%2378c679ff%27%2C%20%27%2378c679ff%27%2C%20%27%2378c679ff%27%2C%20%27%2378c679ff%27%2C%20%27%2378c679ff%27%2C%20%27%2378c679ff%27%2C%20%27%2378c679ff%27%2C%20%27%2378c679ff%27%2C%20%27%2378c679ff%27%2C%20%27%2378c679ff%27%2C%20%27%2378c679ff%27%2C%20%27%2378c679ff%27%2C%20%27%2378c679ff%27%2C%20%27%2378c679ff%27%2C%20%27%2378c679ff%27%2C%20%27%2378c679ff%27%2C%20%27%2378c679ff%27%2C%20%27%2378c679ff%27%2C%20%27%2378c679ff%27%2C%20%27%2378c679ff%27%2C%20%27%2378c679ff%27%2C%20%27%2378c679ff%27%2C%20%27%2378c679ff%27%2C%20%27%2378c679ff%27%2C%20%27%2378c679ff%27%2C%20%27%2378c679ff%27%2C%20%27%2378c679ff%27%2C%20%27%2378c679ff%27%2C%20%27%2378c679ff%27%2C%20%27%2378c679ff%27%2C%20%27%2378c679ff%27%2C%20%27%2378c679ff%27%2C%20%27%2378c679ff%27%2C%20%27%2378c679ff%27%2C%20%27%2378c679ff%27%2C%20%27%2378c679ff%27%2C%20%27%2378c679ff%27%2C%20%27%2378c679ff%27%2C%20%27%2378c679ff%27%2C%20%27%2378c679ff%27%2C%20%27%2378c679ff%27%2C%20%27%2378c679ff%27%2C%20%27%2378c679ff%27%2C%20%27%2378c679ff%27%2C%20%27%2378c679ff%27%2C%20%27%2378c679ff%27%2C%20%27%2378c679ff%27%2C%20%27%2378c679ff%27%2C%20%27%2331a354ff%27%2C%20%27%2331a354ff%27%2C%20%27%2331a354ff%27%2C%20%27%2331a354ff%27%2C%20%27%2331a354ff%27%2C%20%27%2331a354ff%27%2C%20%27%2331a354ff%27%2C%20%27%2331a354ff%27%2C%20%27%2331a354ff%27%2C%20%27%2331a354ff%27%2C%20%27%2331a354ff%27%2C%20%27%2331a354ff%27%2C%20%27%2331a354ff%27%2C%20%27%2331a354ff%27%2C%20%27%2331a354ff%27%2C%20%27%2331a354ff%27%2C%20%27%2331a354ff%27%2C%20%27%2331a354ff%27%2C%20%27%2331a354ff%27%2C%20%27%2331a354ff%27%2C%20%27%2331a354ff%27%2C%20%27%2331a354ff%27%2C%20%27%2331a354ff%27%2C%20%27%2331a354ff%27%2C%20%27%2331a354ff%27%2C%20%27%2331a354ff%27%2C%20%27%2331a354ff%27%2C%20%27%2331a354ff%27%2C%20%27%2331a354ff%27%2C%20%27%2331a354ff%27%2C%20%27%2331a354ff%27%2C%20%27%2331a354ff%27%2C%20%27%2331a354ff%27%2C%20%27%2331a354ff%27%2C%20%27%2331a354ff%27%2C%20%27%2331a354ff%27%2C%20%27%2331a354ff%27%2C%20%27%2331a354ff%27%2C%20%27%2331a354ff%27%2C%20%27%2331a354ff%27%2C%20%27%2331a354ff%27%2C%20%27%2331a354ff%27%2C%20%27%2331a354ff%27%2C%20%27%2331a354ff%27%2C%20%27%2331a354ff%27%2C%20%27%2331a354ff%27%2C%20%27%2331a354ff%27%2C%20%27%2331a354ff%27%2C%20%27%2331a354ff%27%2C%20%27%2331a354ff%27%2C%20%27%2331a354ff%27%2C%20%27%2331a354ff%27%2C%20%27%2331a354ff%27%2C%20%27%2331a354ff%27%2C%20%27%2331a354ff%27%2C%20%27%2331a354ff%27%2C%20%27%2331a354ff%27%2C%20%27%2331a354ff%27%2C%20%27%2331a354ff%27%2C%20%27%2331a354ff%27%2C%20%27%2331a354ff%27%2C%20%27%2331a354ff%27%2C%20%27%2331a354ff%27%2C%20%27%2331a354ff%27%2C%20%27%2331a354ff%27%2C%20%27%2331a354ff%27%2C%20%27%2331a354ff%27%2C%20%27%2331a354ff%27%2C%20%27%2331a354ff%27%2C%20%27%2331a354ff%27%2C%20%27%2331a354ff%27%2C%20%27%2331a354ff%27%2C%20%27%2331a354ff%27%2C%20%27%2331a354ff%27%2C%20%27%2331a354ff%27%2C%20%27%2331a354ff%27%2C%20%27%2331a354ff%27%2C%20%27%2331a354ff%27%2C%20%27%2331a354ff%27%2C%20%27%2331a354ff%27%2C%20%27%2331a354ff%27%2C%20%27%2331a354ff%27%2C%20%27%2331a354ff%27%2C%20%27%23006837ff%27%2C%20%27%23006837ff%27%2C%20%27%23006837ff%27%2C%20%27%23006837ff%27%2C%20%27%23006837ff%27%2C%20%27%23006837ff%27%2C%20%27%23006837ff%27%2C%20%27%23006837ff%27%2C%20%27%23006837ff%27%2C%20%27%23006837ff%27%2C%20%27%23006837ff%27%2C%20%27%23006837ff%27%2C%20%27%23006837ff%27%2C%20%27%23006837ff%27%2C%20%27%23006837ff%27%2C%20%27%23006837ff%27%2C%20%27%23006837ff%27%2C%20%27%23006837ff%27%2C%20%27%23006837ff%27%2C%20%27%23006837ff%27%2C%20%27%23006837ff%27%2C%20%27%23006837ff%27%2C%20%27%23006837ff%27%2C%20%27%23006837ff%27%2C%20%27%23006837ff%27%2C%20%27%23006837ff%27%2C%20%27%23006837ff%27%2C%20%27%23006837ff%27%2C%20%27%23006837ff%27%2C%20%27%23006837ff%27%2C%20%27%23006837ff%27%2C%20%27%23006837ff%27%2C%20%27%23006837ff%27%2C%20%27%23006837ff%27%2C%20%27%23006837ff%27%2C%20%27%23006837ff%27%2C%20%27%23006837ff%27%2C%20%27%23006837ff%27%2C%20%27%23006837ff%27%2C%20%27%23006837ff%27%2C%20%27%23006837ff%27%2C%20%27%23006837ff%27%2C%20%27%23006837ff%27%2C%20%27%23006837ff%27%2C%20%27%23006837ff%27%2C%20%27%23006837ff%27%2C%20%27%23006837ff%27%2C%20%27%23006837ff%27%2C%20%27%23006837ff%27%2C%20%27%23006837ff%27%2C%20%27%23006837ff%27%2C%20%27%23006837ff%27%2C%20%27%23006837ff%27%2C%20%27%23006837ff%27%2C%20%27%23006837ff%27%2C%20%27%23006837ff%27%2C%20%27%23006837ff%27%2C%20%27%23006837ff%27%2C%20%27%23006837ff%27%2C%20%27%23006837ff%27%2C%20%27%23006837ff%27%2C%20%27%23006837ff%27%2C%20%27%23006837ff%27%2C%20%27%23006837ff%27%2C%20%27%23006837ff%27%2C%20%27%23006837ff%27%2C%20%27%23006837ff%27%2C%20%27%23006837ff%27%2C%20%27%23006837ff%27%2C%20%27%23006837ff%27%2C%20%27%23006837ff%27%2C%20%27%23006837ff%27%2C%20%27%23006837ff%27%2C%20%27%23006837ff%27%2C%20%27%23006837ff%27%2C%20%27%23006837ff%27%2C%20%27%23006837ff%27%2C%20%27%23006837ff%27%2C%20%27%23006837ff%27%2C%20%27%23006837ff%27%2C%20%27%23006837ff%27%2C%20%27%23006837ff%27%2C%20%27%23006837ff%27%2C%20%27%23006837ff%27%5D%29%3B%0A%20%20%20%20%0A%0A%20%20%20%20color_map_57a067929ace4c2f98fb4111e5f5a5ff.x%20%3D%20d3.scale.linear%28%29%0A%20%20%20%20%20%20%20%20%20%20%20%20%20%20.domain%28%5B1548.1538461538462%2C%202041.8%5D%29%0A%20%20%20%20%20%20%20%20%20%20%20%20%20%20.range%28%5B0%2C%20400%5D%29%3B%0A%0A%20%20%20%20color_map_57a067929ace4c2f98fb4111e5f5a5ff.legend%20%3D%20L.control%28%7Bposition%3A%20%27topright%27%7D%29%3B%0A%20%20%20%20color_map_57a067929ace4c2f98fb4111e5f5a5ff.legend.onAdd%20%3D%20function%20%28map%29%20%7Bvar%20div%20%3D%20L.DomUtil.create%28%27div%27%2C%20%27legend%27%29%3B%20return%20div%7D%3B%0A%20%20%20%20color_map_57a067929ace4c2f98fb4111e5f5a5ff.legend.addTo%28map_dcf30e8f134f4fd59d92c2c67be9e03a%29%3B%0A%0A%20%20%20%20color_map_57a067929ace4c2f98fb4111e5f5a5ff.xAxis%20%3D%20d3.svg.axis%28%29%0A%20%20%20%20%20%20%20%20.scale%28color_map_57a067929ace4c2f98fb4111e5f5a5ff.x%29%0A%20%20%20%20%20%20%20%20.orient%28%22top%22%29%0A%20%20%20%20%20%20%20%20.tickSize%281%29%0A%20%20%20%20%20%20%20%20.tickValues%28%5B1548.1538461538462%2C%201630.4282051282053%2C%201712.702564102564%2C%201794.976923076923%2C%201877.251282051282%2C%201959.525641025641%2C%202041.8%5D%29%3B%0A%0A%20%20%20%20color_map_57a067929ace4c2f98fb4111e5f5a5ff.svg%20%3D%20d3.select%28%22.legend.leaflet-control%22%29.append%28%22svg%22%29%0A%20%20%20%20%20%20%20%20.attr%28%22id%22%2C%20%27legend%27%29%0A%20%20%20%20%20%20%20%20.attr%28%22width%22%2C%20450%29%0A%20%20%20%20%20%20%20%20.attr%28%22height%22%2C%2040%29%3B%0A%0A%20%20%20%20color_map_57a067929ace4c2f98fb4111e5f5a5ff.g%20%3D%20color_map_57a067929ace4c2f98fb4111e5f5a5ff.svg.append%28%22g%22%29%0A%20%20%20%20%20%20%20%20.attr%28%22class%22%2C%20%22key%22%29%0A%20%20%20%20%20%20%20%20.attr%28%22transform%22%2C%20%22translate%2825%2C16%29%22%29%3B%0A%0A%20%20%20%20color_map_57a067929ace4c2f98fb4111e5f5a5ff.g.selectAll%28%22rect%22%29%0A%20%20%20%20%20%20%20%20.data%28color_map_57a067929ace4c2f98fb4111e5f5a5ff.color.range%28%29.map%28function%28d%2C%20i%29%20%7B%0A%20%20%20%20%20%20%20%20%20%20return%20%7B%0A%20%20%20%20%20%20%20%20%20%20%20%20x0%3A%20i%20%3F%20color_map_57a067929ace4c2f98fb4111e5f5a5ff.x%28color_map_57a067929ace4c2f98fb4111e5f5a5ff.color.domain%28%29%5Bi%20-%201%5D%29%20%3A%20color_map_57a067929ace4c2f98fb4111e5f5a5ff.x.range%28%29%5B0%5D%2C%0A%20%20%20%20%20%20%20%20%20%20%20%20x1%3A%20i%20%3C%20color_map_57a067929ace4c2f98fb4111e5f5a5ff.color.domain%28%29.length%20%3F%20color_map_57a067929ace4c2f98fb4111e5f5a5ff.x%28color_map_57a067929ace4c2f98fb4111e5f5a5ff.color.domain%28%29%5Bi%5D%29%20%3A%20color_map_57a067929ace4c2f98fb4111e5f5a5ff.x.range%28%29%5B1%5D%2C%0A%20%20%20%20%20%20%20%20%20%20%20%20z%3A%20d%0A%20%20%20%20%20%20%20%20%20%20%7D%3B%0A%20%20%20%20%20%20%20%20%7D%29%29%0A%20%20%20%20%20%20.enter%28%29.append%28%22rect%22%29%0A%20%20%20%20%20%20%20%20.attr%28%22height%22%2C%2010%29%0A%20%20%20%20%20%20%20%20.attr%28%22x%22%2C%20function%28d%29%20%7B%20return%20d.x0%3B%20%7D%29%0A%20%20%20%20%20%20%20%20.attr%28%22width%22%2C%20function%28d%29%20%7B%20return%20d.x1%20-%20d.x0%3B%20%7D%29%0A%20%20%20%20%20%20%20%20.style%28%22fill%22%2C%20function%28d%29%20%7B%20return%20d.z%3B%20%7D%29%3B%0A%0A%20%20%20%20color_map_57a067929ace4c2f98fb4111e5f5a5ff.g.call%28color_map_57a067929ace4c2f98fb4111e5f5a5ff.xAxis%29.append%28%22text%22%29%0A%20%20%20%20%20%20%20%20.attr%28%22class%22%2C%20%22caption%22%29%0A%20%20%20%20%20%20%20%20.attr%28%22y%22%2C%2021%29%0A%20%20%20%20%20%20%20%20.text%28%27%27%29%3B%0A%3C/script%3E onload=\"this.contentDocument.open();this.contentDocument.write(    decodeURIComponent(this.getAttribute('data-html')));this.contentDocument.close();\" allowfullscreen webkitallowfullscreen mozallowfullscreen></iframe></div></div>"
      ],
      "text/plain": [
       "<folium.folium.Map at 0x12589a280>"
      ]
     },
     "execution_count": 54,
     "metadata": {},
     "output_type": "execute_result"
    }
   ],
   "source": [
    "import folium\n",
    "import json\n",
    "\n",
    "map = folium.Map(location=[37.497911, 127.027558],zoom_start=10)\n",
    "\n",
    "geo_path = \"data/skorea_municipalities_geo_simple_seoul.json\"\n",
    "geo_enc = json.load(open(geo_path, encoding=\"utf-8\"))\n",
    "\n",
    "map.choropleth(geo_data=geo_enc, data=gu_mean, key_on=\"feature.id\",\n",
    "              columns=[gu_mean.index, \"가격\"],fill_color=\"YlGn\")\n",
    "\n",
    "map"
   ]
  },
  {
   "cell_type": "markdown",
   "id": "cdc1a1d7",
   "metadata": {},
   "source": [
    "### 주유 가격 상하위 10씩 지도에 표시"
   ]
  },
  {
   "cell_type": "code",
   "execution_count": 60,
   "id": "e74907d7",
   "metadata": {},
   "outputs": [],
   "source": [
    "oil_price_top10 = stations.sort_values(by=\"가격\",ascending=False).head(10)\n",
    "oil_price_bottom10 = stations.sort_values(by=\"가격\",ascending=True).head(10)"
   ]
  },
  {
   "cell_type": "code",
   "execution_count": 61,
   "id": "3eb8663a",
   "metadata": {},
   "outputs": [
    {
     "data": {
      "text/plain": [
       "{'documents': [{'address_name': '서울 용산구 서계동 47-15',\n",
       "   'category_group_code': 'OL7',\n",
       "   'category_group_name': '주유소,충전소',\n",
       "   'category_name': '교통,수송 > 자동차 > 주유,가스 > 주유소 > GS칼텍스',\n",
       "   'distance': '',\n",
       "   'id': '7936627',\n",
       "   'phone': '02-706-6485',\n",
       "   'place_name': '서계주유소',\n",
       "   'place_url': 'http://place.map.kakao.com/7936627',\n",
       "   'road_address_name': '서울 용산구 청파로 367',\n",
       "   'x': '126.968973680782',\n",
       "   'y': '37.552339430427'}],\n",
       " 'meta': {'is_end': True,\n",
       "  'pageable_count': 1,\n",
       "  'same_name': {'keyword': '', 'region': [], 'selected_region': '서울 용산구 청파로'},\n",
       "  'total_count': 1}}"
      ]
     },
     "execution_count": 61,
     "metadata": {},
     "output_type": "execute_result"
    }
   ],
   "source": [
    "import requests\n",
    "\n",
    "header = {\"Authorization\":\"KakaoAK ae13cc2943a9aa3bb4422418eb76f175\"}\n",
    "url = 'https://dapi.kakao.com/v2/local/search/keyword.json?query={}'.format(\"서울 용산구 청파로 367\")\n",
    "\n",
    "type(requests.get(url, headers=header).json())\n",
    "requests.get(url, headers=header).json()\n"
   ]
  },
  {
   "cell_type": "code",
   "execution_count": 63,
   "id": "1f6d1b34",
   "metadata": {},
   "outputs": [
    {
     "name": "stdout",
     "output_type": "stream",
     "text": [
      "231                서울 중구 통일로 30\n",
      "284        서울 용산구 청파로 367 (서계동)\n",
      "230       서울 중구  퇴계로 196 (필동2가)\n",
      "229        서울 중구 퇴계로 228 (필동2가)\n",
      "429              서울 강남구 언주로 716\n",
      "283     서울 용산구 한강대로104길 6 (동자동)\n",
      "228               서울 중구 다산로 173\n",
      "428       서울 강남구 봉은사로 433 (삼성동)\n",
      "258    서울 영등포구 의사당대로 154 (여의도동)\n",
      "281        서울 용산구 한남대로 82 (한남동)\n",
      "Name: 주소, dtype: object\n",
      "---------------------------------\n"
     ]
    },
    {
     "data": {
      "text/plain": [
       "'서울 용산구 청파로 367 (서계동)'"
      ]
     },
     "execution_count": 63,
     "metadata": {},
     "output_type": "execute_result"
    }
   ],
   "source": [
    "print(oil_price_top10[\"주소\"])\n",
    "print(\"---------------------------------\")\n",
    "oil_price_top10[\"주소\"][284]"
   ]
  },
  {
   "cell_type": "code",
   "execution_count": 80,
   "id": "d216def0",
   "metadata": {},
   "outputs": [
    {
     "data": {
      "text/plain": [
       "['126.972067727197',\n",
       " '126.968973680782',\n",
       " '126.993679939796',\n",
       " '126.997147791816',\n",
       " '127.035735685446',\n",
       " '126.97247589929034',\n",
       " '127.01272807915872',\n",
       " '127.047170143424',\n",
       " '126.92746983233',\n",
       " '127.006155035963']"
      ]
     },
     "execution_count": 80,
     "metadata": {},
     "output_type": "execute_result"
    }
   ],
   "source": [
    "lat = []\n",
    "lng = []\n",
    "\n",
    "for i in oil_price_top10.index:\n",
    "    tmp_addr = oil_price_top10[\"주소\"][i].split(\"(\")[0]\n",
    "    url = 'https://dapi.kakao.com/v2/local/search/keyword.json?query={}'.format(tmp_addr)\n",
    "    lng.append(requests.get(url, headers=header).json()['documents'][0][\"x\"])\n",
    "    lat.append(requests.get(url, headers=header).json()['documents'][0][\"y\"])\n",
    "lat\n",
    "lng "
   ]
  },
  {
   "cell_type": "code",
   "execution_count": 81,
   "id": "c8039296",
   "metadata": {},
   "outputs": [],
   "source": [
    "oil_price_top10['lat'] = lat\n",
    "oil_price_top10['lng'] = lng"
   ]
  },
  {
   "cell_type": "code",
   "execution_count": 88,
   "id": "07663ba8",
   "metadata": {},
   "outputs": [],
   "source": [
    "lat = []\n",
    "lng = []\n",
    "\n",
    "for i in oil_price_bottom10.index:\n",
    "    tmp_addr = oil_price_bottom10[\"주소\"][i].split(\"(\")[0]\n",
    "    url = 'https://dapi.kakao.com/v2/local/search/keyword.json?query={}'.format(tmp_addr)\n",
    "    lng.append(requests.get(url, headers=header).json()['documents'][0][\"x\"])\n",
    "    lat.append(requests.get(url, headers=header).json()['documents'][0][\"y\"])"
   ]
  },
  {
   "cell_type": "code",
   "execution_count": 91,
   "id": "112bddbb",
   "metadata": {},
   "outputs": [
    {
     "data": {
      "text/html": [
       "<div>\n",
       "<style scoped>\n",
       "    .dataframe tbody tr th:only-of-type {\n",
       "        vertical-align: middle;\n",
       "    }\n",
       "\n",
       "    .dataframe tbody tr th {\n",
       "        vertical-align: top;\n",
       "    }\n",
       "\n",
       "    .dataframe thead th {\n",
       "        text-align: right;\n",
       "    }\n",
       "</style>\n",
       "<table border=\"1\" class=\"dataframe\">\n",
       "  <thead>\n",
       "    <tr style=\"text-align: right;\">\n",
       "      <th></th>\n",
       "      <th>Oil_store</th>\n",
       "      <th>주소</th>\n",
       "      <th>가격</th>\n",
       "      <th>셀프</th>\n",
       "      <th>상표</th>\n",
       "      <th>구</th>\n",
       "      <th>lat</th>\n",
       "      <th>lng</th>\n",
       "    </tr>\n",
       "  </thead>\n",
       "  <tbody>\n",
       "    <tr>\n",
       "      <th>170</th>\n",
       "      <td>만남의광장주유소</td>\n",
       "      <td>서울 서초구 양재대로12길 73-71</td>\n",
       "      <td>1504.0</td>\n",
       "      <td>Y</td>\n",
       "      <td>알뜰(ex)</td>\n",
       "      <td>서초구</td>\n",
       "      <td>37.4594852424923</td>\n",
       "      <td>127.043140747618</td>\n",
       "    </tr>\n",
       "    <tr>\n",
       "      <th>232</th>\n",
       "      <td>영등포제일셀프주유소</td>\n",
       "      <td>서울 영등포구 가마산로 379</td>\n",
       "      <td>1515.0</td>\n",
       "      <td>Y</td>\n",
       "      <td>현대오일뱅크</td>\n",
       "      <td>영등포구</td>\n",
       "      <td>37.5023384820066</td>\n",
       "      <td>126.89960044004</td>\n",
       "    </tr>\n",
       "    <tr>\n",
       "      <th>233</th>\n",
       "      <td>남서울고속주유소</td>\n",
       "      <td>서울 영등포구 가마산로 367 (대림동)</td>\n",
       "      <td>1515.0</td>\n",
       "      <td>Y</td>\n",
       "      <td>SK에너지</td>\n",
       "      <td>영등포구</td>\n",
       "      <td>37.501617839067855</td>\n",
       "      <td>126.89873398922153</td>\n",
       "    </tr>\n",
       "    <tr>\n",
       "      <th>234</th>\n",
       "      <td>성락주유소</td>\n",
       "      <td>서울 영등포구 가마산로 414 (신길동)</td>\n",
       "      <td>1519.0</td>\n",
       "      <td>Y</td>\n",
       "      <td>S-OIL</td>\n",
       "      <td>영등포구</td>\n",
       "      <td>37.5038368985826</td>\n",
       "      <td>126.902887246752</td>\n",
       "    </tr>\n",
       "    <tr>\n",
       "      <th>135</th>\n",
       "      <td>가로공원주유소</td>\n",
       "      <td>서울 양천구 가로공원로 165 (신월동)</td>\n",
       "      <td>1524.0</td>\n",
       "      <td>N</td>\n",
       "      <td>SK에너지</td>\n",
       "      <td>양천구</td>\n",
       "      <td>37.5370183706843</td>\n",
       "      <td>126.834287158433</td>\n",
       "    </tr>\n",
       "  </tbody>\n",
       "</table>\n",
       "</div>"
      ],
      "text/plain": [
       "      Oil_store                      주소      가격 셀프      상표     구  \\\n",
       "170    만남의광장주유소    서울 서초구 양재대로12길 73-71  1504.0  Y  알뜰(ex)   서초구   \n",
       "232  영등포제일셀프주유소        서울 영등포구 가마산로 379  1515.0  Y  현대오일뱅크  영등포구   \n",
       "233    남서울고속주유소  서울 영등포구 가마산로 367 (대림동)  1515.0  Y   SK에너지  영등포구   \n",
       "234       성락주유소  서울 영등포구 가마산로 414 (신길동)  1519.0  Y   S-OIL  영등포구   \n",
       "135     가로공원주유소  서울 양천구 가로공원로 165 (신월동)  1524.0  N   SK에너지   양천구   \n",
       "\n",
       "                    lat                 lng  \n",
       "170    37.4594852424923    127.043140747618  \n",
       "232    37.5023384820066     126.89960044004  \n",
       "233  37.501617839067855  126.89873398922153  \n",
       "234    37.5038368985826    126.902887246752  \n",
       "135    37.5370183706843    126.834287158433  "
      ]
     },
     "execution_count": 91,
     "metadata": {},
     "output_type": "execute_result"
    }
   ],
   "source": [
    "oil_price_bottom10['lat'] = lat\n",
    "oil_price_bottom10['lng'] = lng\n",
    "oil_price_bottom10.head()"
   ]
  },
  {
   "cell_type": "code",
   "execution_count": 94,
   "id": "14cef8c1",
   "metadata": {
    "collapsed": true
   },
   "outputs": [
    {
     "data": {
      "text/html": [
       "<div style=\"width:100%;\"><div style=\"position:relative;width:100%;height:0;padding-bottom:60%;\"><span style=\"color:#565656\">Make this Notebook Trusted to load map: File -> Trust Notebook</span><iframe src=\"about:blank\" style=\"position:absolute;width:100%;height:100%;left:0;top:0;border:none !important;\" data-html=%3C%21DOCTYPE%20html%3E%0A%3Chead%3E%20%20%20%20%0A%20%20%20%20%3Cmeta%20http-equiv%3D%22content-type%22%20content%3D%22text/html%3B%20charset%3DUTF-8%22%20/%3E%0A%20%20%20%20%0A%20%20%20%20%20%20%20%20%3Cscript%3E%0A%20%20%20%20%20%20%20%20%20%20%20%20L_NO_TOUCH%20%3D%20false%3B%0A%20%20%20%20%20%20%20%20%20%20%20%20L_DISABLE_3D%20%3D%20false%3B%0A%20%20%20%20%20%20%20%20%3C/script%3E%0A%20%20%20%20%0A%20%20%20%20%3Cstyle%3Ehtml%2C%20body%20%7Bwidth%3A%20100%25%3Bheight%3A%20100%25%3Bmargin%3A%200%3Bpadding%3A%200%3B%7D%3C/style%3E%0A%20%20%20%20%3Cstyle%3E%23map%20%7Bposition%3Aabsolute%3Btop%3A0%3Bbottom%3A0%3Bright%3A0%3Bleft%3A0%3B%7D%3C/style%3E%0A%20%20%20%20%3Cscript%20src%3D%22https%3A//cdn.jsdelivr.net/npm/leaflet%401.6.0/dist/leaflet.js%22%3E%3C/script%3E%0A%20%20%20%20%3Cscript%20src%3D%22https%3A//code.jquery.com/jquery-1.12.4.min.js%22%3E%3C/script%3E%0A%20%20%20%20%3Cscript%20src%3D%22https%3A//maxcdn.bootstrapcdn.com/bootstrap/3.2.0/js/bootstrap.min.js%22%3E%3C/script%3E%0A%20%20%20%20%3Cscript%20src%3D%22https%3A//cdnjs.cloudflare.com/ajax/libs/Leaflet.awesome-markers/2.0.2/leaflet.awesome-markers.js%22%3E%3C/script%3E%0A%20%20%20%20%3Clink%20rel%3D%22stylesheet%22%20href%3D%22https%3A//cdn.jsdelivr.net/npm/leaflet%401.6.0/dist/leaflet.css%22/%3E%0A%20%20%20%20%3Clink%20rel%3D%22stylesheet%22%20href%3D%22https%3A//maxcdn.bootstrapcdn.com/bootstrap/3.2.0/css/bootstrap.min.css%22/%3E%0A%20%20%20%20%3Clink%20rel%3D%22stylesheet%22%20href%3D%22https%3A//maxcdn.bootstrapcdn.com/bootstrap/3.2.0/css/bootstrap-theme.min.css%22/%3E%0A%20%20%20%20%3Clink%20rel%3D%22stylesheet%22%20href%3D%22https%3A//maxcdn.bootstrapcdn.com/font-awesome/4.6.3/css/font-awesome.min.css%22/%3E%0A%20%20%20%20%3Clink%20rel%3D%22stylesheet%22%20href%3D%22https%3A//cdnjs.cloudflare.com/ajax/libs/Leaflet.awesome-markers/2.0.2/leaflet.awesome-markers.css%22/%3E%0A%20%20%20%20%3Clink%20rel%3D%22stylesheet%22%20href%3D%22https%3A//cdn.jsdelivr.net/gh/python-visualization/folium/folium/templates/leaflet.awesome.rotate.min.css%22/%3E%0A%20%20%20%20%0A%20%20%20%20%20%20%20%20%20%20%20%20%3Cmeta%20name%3D%22viewport%22%20content%3D%22width%3Ddevice-width%2C%0A%20%20%20%20%20%20%20%20%20%20%20%20%20%20%20%20initial-scale%3D1.0%2C%20maximum-scale%3D1.0%2C%20user-scalable%3Dno%22%20/%3E%0A%20%20%20%20%20%20%20%20%20%20%20%20%3Cstyle%3E%0A%20%20%20%20%20%20%20%20%20%20%20%20%20%20%20%20%23map_567218e7a4d34117895cb50db4bceb3b%20%7B%0A%20%20%20%20%20%20%20%20%20%20%20%20%20%20%20%20%20%20%20%20position%3A%20relative%3B%0A%20%20%20%20%20%20%20%20%20%20%20%20%20%20%20%20%20%20%20%20width%3A%20100.0%25%3B%0A%20%20%20%20%20%20%20%20%20%20%20%20%20%20%20%20%20%20%20%20height%3A%20100.0%25%3B%0A%20%20%20%20%20%20%20%20%20%20%20%20%20%20%20%20%20%20%20%20left%3A%200.0%25%3B%0A%20%20%20%20%20%20%20%20%20%20%20%20%20%20%20%20%20%20%20%20top%3A%200.0%25%3B%0A%20%20%20%20%20%20%20%20%20%20%20%20%20%20%20%20%7D%0A%20%20%20%20%20%20%20%20%20%20%20%20%3C/style%3E%0A%20%20%20%20%20%20%20%20%0A%3C/head%3E%0A%3Cbody%3E%20%20%20%20%0A%20%20%20%20%0A%20%20%20%20%20%20%20%20%20%20%20%20%3Cdiv%20class%3D%22folium-map%22%20id%3D%22map_567218e7a4d34117895cb50db4bceb3b%22%20%3E%3C/div%3E%0A%20%20%20%20%20%20%20%20%0A%3C/body%3E%0A%3Cscript%3E%20%20%20%20%0A%20%20%20%20%0A%20%20%20%20%20%20%20%20%20%20%20%20var%20map_567218e7a4d34117895cb50db4bceb3b%20%3D%20L.map%28%0A%20%20%20%20%20%20%20%20%20%20%20%20%20%20%20%20%22map_567218e7a4d34117895cb50db4bceb3b%22%2C%0A%20%20%20%20%20%20%20%20%20%20%20%20%20%20%20%20%7B%0A%20%20%20%20%20%20%20%20%20%20%20%20%20%20%20%20%20%20%20%20center%3A%20%5B37.497911%2C%20127.027558%5D%2C%0A%20%20%20%20%20%20%20%20%20%20%20%20%20%20%20%20%20%20%20%20crs%3A%20L.CRS.EPSG3857%2C%0A%20%20%20%20%20%20%20%20%20%20%20%20%20%20%20%20%20%20%20%20zoom%3A%2012%2C%0A%20%20%20%20%20%20%20%20%20%20%20%20%20%20%20%20%20%20%20%20zoomControl%3A%20true%2C%0A%20%20%20%20%20%20%20%20%20%20%20%20%20%20%20%20%20%20%20%20preferCanvas%3A%20false%2C%0A%20%20%20%20%20%20%20%20%20%20%20%20%20%20%20%20%7D%0A%20%20%20%20%20%20%20%20%20%20%20%20%29%3B%0A%0A%20%20%20%20%20%20%20%20%20%20%20%20%0A%0A%20%20%20%20%20%20%20%20%0A%20%20%20%20%0A%20%20%20%20%20%20%20%20%20%20%20%20var%20tile_layer_36e2e28e939f4641935f4cdffd1797cb%20%3D%20L.tileLayer%28%0A%20%20%20%20%20%20%20%20%20%20%20%20%20%20%20%20%22https%3A//%7Bs%7D.tile.openstreetmap.org/%7Bz%7D/%7Bx%7D/%7By%7D.png%22%2C%0A%20%20%20%20%20%20%20%20%20%20%20%20%20%20%20%20%7B%22attribution%22%3A%20%22Data%20by%20%5Cu0026copy%3B%20%5Cu003ca%20href%3D%5C%22http%3A//openstreetmap.org%5C%22%5Cu003eOpenStreetMap%5Cu003c/a%5Cu003e%2C%20under%20%5Cu003ca%20href%3D%5C%22http%3A//www.openstreetmap.org/copyright%5C%22%5Cu003eODbL%5Cu003c/a%5Cu003e.%22%2C%20%22detectRetina%22%3A%20false%2C%20%22maxNativeZoom%22%3A%2018%2C%20%22maxZoom%22%3A%2018%2C%20%22minZoom%22%3A%200%2C%20%22noWrap%22%3A%20false%2C%20%22opacity%22%3A%201%2C%20%22subdomains%22%3A%20%22abc%22%2C%20%22tms%22%3A%20false%7D%0A%20%20%20%20%20%20%20%20%20%20%20%20%29.addTo%28map_567218e7a4d34117895cb50db4bceb3b%29%3B%0A%20%20%20%20%20%20%20%20%0A%20%20%20%20%0A%20%20%20%20%20%20%20%20%20%20%20%20var%20circle_marker_a6e78ed1e12b40cdb1717436bf86a564%20%3D%20L.circleMarker%28%0A%20%20%20%20%20%20%20%20%20%20%20%20%20%20%20%20%5B37.5583624710728%2C%20126.972067727197%5D%2C%0A%20%20%20%20%20%20%20%20%20%20%20%20%20%20%20%20%7B%22bubblingMouseEvents%22%3A%20true%2C%20%22color%22%3A%20%22%23CD3183%22%2C%20%22dashArray%22%3A%20null%2C%20%22dashOffset%22%3A%20null%2C%20%22fill%22%3A%20true%2C%20%22fillColor%22%3A%20%22%23CD3181%22%2C%20%22fillOpacity%22%3A%200.2%2C%20%22fillRule%22%3A%20%22evenodd%22%2C%20%22lineCap%22%3A%20%22round%22%2C%20%22lineJoin%22%3A%20%22round%22%2C%20%22opacity%22%3A%201.0%2C%20%22radius%22%3A%2010%2C%20%22stroke%22%3A%20true%2C%20%22weight%22%3A%203%7D%0A%20%20%20%20%20%20%20%20%20%20%20%20%29.addTo%28map_567218e7a4d34117895cb50db4bceb3b%29%3B%0A%20%20%20%20%20%20%20%20%0A%20%20%20%20%0A%20%20%20%20%20%20%20%20var%20popup_1917375cc9904189a74071db8b93a937%20%3D%20L.popup%28%7B%22maxWidth%22%3A%20%22100%25%22%7D%29%3B%0A%0A%20%20%20%20%20%20%20%20%0A%20%20%20%20%20%20%20%20%20%20%20%20var%20html_9e116d68433248718c6d0338e69cdffe%20%3D%20%24%28%60%3Cdiv%20id%3D%22html_9e116d68433248718c6d0338e69cdffe%22%20style%3D%22width%3A%20100.0%25%3B%20height%3A%20100.0%25%3B%22%3E%EC%84%9C%EB%82%A8%EC%A3%BC%EC%9C%A0%EC%86%8C%3C/div%3E%60%29%5B0%5D%3B%0A%20%20%20%20%20%20%20%20%20%20%20%20popup_1917375cc9904189a74071db8b93a937.setContent%28html_9e116d68433248718c6d0338e69cdffe%29%3B%0A%20%20%20%20%20%20%20%20%0A%0A%20%20%20%20%20%20%20%20circle_marker_a6e78ed1e12b40cdb1717436bf86a564.bindPopup%28popup_1917375cc9904189a74071db8b93a937%29%0A%20%20%20%20%20%20%20%20%3B%0A%0A%20%20%20%20%20%20%20%20%0A%20%20%20%20%0A%20%20%20%20%0A%20%20%20%20%20%20%20%20%20%20%20%20var%20circle_marker_d60efcb71204497b80f2d5a7e18b9152%20%3D%20L.circleMarker%28%0A%20%20%20%20%20%20%20%20%20%20%20%20%20%20%20%20%5B37.552339430427%2C%20126.968973680782%5D%2C%0A%20%20%20%20%20%20%20%20%20%20%20%20%20%20%20%20%7B%22bubblingMouseEvents%22%3A%20true%2C%20%22color%22%3A%20%22%23CD3183%22%2C%20%22dashArray%22%3A%20null%2C%20%22dashOffset%22%3A%20null%2C%20%22fill%22%3A%20true%2C%20%22fillColor%22%3A%20%22%23CD3181%22%2C%20%22fillOpacity%22%3A%200.2%2C%20%22fillRule%22%3A%20%22evenodd%22%2C%20%22lineCap%22%3A%20%22round%22%2C%20%22lineJoin%22%3A%20%22round%22%2C%20%22opacity%22%3A%201.0%2C%20%22radius%22%3A%2010%2C%20%22stroke%22%3A%20true%2C%20%22weight%22%3A%203%7D%0A%20%20%20%20%20%20%20%20%20%20%20%20%29.addTo%28map_567218e7a4d34117895cb50db4bceb3b%29%3B%0A%20%20%20%20%20%20%20%20%0A%20%20%20%20%0A%20%20%20%20%20%20%20%20var%20popup_48f635f9c8ce422fa5bdbfaa3ce7d04b%20%3D%20L.popup%28%7B%22maxWidth%22%3A%20%22100%25%22%7D%29%3B%0A%0A%20%20%20%20%20%20%20%20%0A%20%20%20%20%20%20%20%20%20%20%20%20var%20html_2f3bf4b428c542e5aadab5e0f3667157%20%3D%20%24%28%60%3Cdiv%20id%3D%22html_2f3bf4b428c542e5aadab5e0f3667157%22%20style%3D%22width%3A%20100.0%25%3B%20height%3A%20100.0%25%3B%22%3E%EC%84%9C%EA%B3%84%EC%A3%BC%EC%9C%A0%EC%86%8C%3C/div%3E%60%29%5B0%5D%3B%0A%20%20%20%20%20%20%20%20%20%20%20%20popup_48f635f9c8ce422fa5bdbfaa3ce7d04b.setContent%28html_2f3bf4b428c542e5aadab5e0f3667157%29%3B%0A%20%20%20%20%20%20%20%20%0A%0A%20%20%20%20%20%20%20%20circle_marker_d60efcb71204497b80f2d5a7e18b9152.bindPopup%28popup_48f635f9c8ce422fa5bdbfaa3ce7d04b%29%0A%20%20%20%20%20%20%20%20%3B%0A%0A%20%20%20%20%20%20%20%20%0A%20%20%20%20%0A%20%20%20%20%0A%20%20%20%20%20%20%20%20%20%20%20%20var%20circle_marker_a6b6ed609ac949a79e792267153d577a%20%3D%20L.circleMarker%28%0A%20%20%20%20%20%20%20%20%20%20%20%20%20%20%20%20%5B37.5608920015614%2C%20126.993679939796%5D%2C%0A%20%20%20%20%20%20%20%20%20%20%20%20%20%20%20%20%7B%22bubblingMouseEvents%22%3A%20true%2C%20%22color%22%3A%20%22%23CD3183%22%2C%20%22dashArray%22%3A%20null%2C%20%22dashOffset%22%3A%20null%2C%20%22fill%22%3A%20true%2C%20%22fillColor%22%3A%20%22%23CD3181%22%2C%20%22fillOpacity%22%3A%200.2%2C%20%22fillRule%22%3A%20%22evenodd%22%2C%20%22lineCap%22%3A%20%22round%22%2C%20%22lineJoin%22%3A%20%22round%22%2C%20%22opacity%22%3A%201.0%2C%20%22radius%22%3A%2010%2C%20%22stroke%22%3A%20true%2C%20%22weight%22%3A%203%7D%0A%20%20%20%20%20%20%20%20%20%20%20%20%29.addTo%28map_567218e7a4d34117895cb50db4bceb3b%29%3B%0A%20%20%20%20%20%20%20%20%0A%20%20%20%20%0A%20%20%20%20%20%20%20%20var%20popup_f6c91a0c67aa4950aef4bf6d6277729d%20%3D%20L.popup%28%7B%22maxWidth%22%3A%20%22100%25%22%7D%29%3B%0A%0A%20%20%20%20%20%20%20%20%0A%20%20%20%20%20%20%20%20%20%20%20%20var%20html_b5ef7ce3487c4b9db77475c8e8afc7ec%20%3D%20%24%28%60%3Cdiv%20id%3D%22html_b5ef7ce3487c4b9db77475c8e8afc7ec%22%20style%3D%22width%3A%20100.0%25%3B%20height%3A%20100.0%25%3B%22%3E%ED%95%84%EB%8F%99%EC%A3%BC%EC%9C%A0%EC%86%8C%3C/div%3E%60%29%5B0%5D%3B%0A%20%20%20%20%20%20%20%20%20%20%20%20popup_f6c91a0c67aa4950aef4bf6d6277729d.setContent%28html_b5ef7ce3487c4b9db77475c8e8afc7ec%29%3B%0A%20%20%20%20%20%20%20%20%0A%0A%20%20%20%20%20%20%20%20circle_marker_a6b6ed609ac949a79e792267153d577a.bindPopup%28popup_f6c91a0c67aa4950aef4bf6d6277729d%29%0A%20%20%20%20%20%20%20%20%3B%0A%0A%20%20%20%20%20%20%20%20%0A%20%20%20%20%0A%20%20%20%20%0A%20%20%20%20%20%20%20%20%20%20%20%20var%20circle_marker_f4b9c5a9359641bb96637d4d07cfe6bf%20%3D%20L.circleMarker%28%0A%20%20%20%20%20%20%20%20%20%20%20%20%20%20%20%20%5B37.5617318652342%2C%20126.997147791816%5D%2C%0A%20%20%20%20%20%20%20%20%20%20%20%20%20%20%20%20%7B%22bubblingMouseEvents%22%3A%20true%2C%20%22color%22%3A%20%22%23CD3183%22%2C%20%22dashArray%22%3A%20null%2C%20%22dashOffset%22%3A%20null%2C%20%22fill%22%3A%20true%2C%20%22fillColor%22%3A%20%22%23CD3181%22%2C%20%22fillOpacity%22%3A%200.2%2C%20%22fillRule%22%3A%20%22evenodd%22%2C%20%22lineCap%22%3A%20%22round%22%2C%20%22lineJoin%22%3A%20%22round%22%2C%20%22opacity%22%3A%201.0%2C%20%22radius%22%3A%2010%2C%20%22stroke%22%3A%20true%2C%20%22weight%22%3A%203%7D%0A%20%20%20%20%20%20%20%20%20%20%20%20%29.addTo%28map_567218e7a4d34117895cb50db4bceb3b%29%3B%0A%20%20%20%20%20%20%20%20%0A%20%20%20%20%0A%20%20%20%20%20%20%20%20var%20popup_267231f0e90a4b1c904c7c7028464771%20%3D%20L.popup%28%7B%22maxWidth%22%3A%20%22100%25%22%7D%29%3B%0A%0A%20%20%20%20%20%20%20%20%0A%20%20%20%20%20%20%20%20%20%20%20%20var%20html_d0724d494cb74d9098b6493694c10abc%20%3D%20%24%28%60%3Cdiv%20id%3D%22html_d0724d494cb74d9098b6493694c10abc%22%20style%3D%22width%3A%20100.0%25%3B%20height%3A%20100.0%25%3B%22%3ESK%EC%97%90%EB%84%88%EC%A7%80%28%EC%A3%BC%29%20%ED%87%B4%EA%B3%84%EB%A1%9C%EC%A3%BC%EC%9C%A0%EC%86%8C%3C/div%3E%60%29%5B0%5D%3B%0A%20%20%20%20%20%20%20%20%20%20%20%20popup_267231f0e90a4b1c904c7c7028464771.setContent%28html_d0724d494cb74d9098b6493694c10abc%29%3B%0A%20%20%20%20%20%20%20%20%0A%0A%20%20%20%20%20%20%20%20circle_marker_f4b9c5a9359641bb96637d4d07cfe6bf.bindPopup%28popup_267231f0e90a4b1c904c7c7028464771%29%0A%20%20%20%20%20%20%20%20%3B%0A%0A%20%20%20%20%20%20%20%20%0A%20%20%20%20%0A%20%20%20%20%0A%20%20%20%20%20%20%20%20%20%20%20%20var%20circle_marker_35a1f0e539b74ba69538d297305ff9bd%20%3D%20L.circleMarker%28%0A%20%20%20%20%20%20%20%20%20%20%20%20%20%20%20%20%5B37.5176495710055%2C%20127.035735685446%5D%2C%0A%20%20%20%20%20%20%20%20%20%20%20%20%20%20%20%20%7B%22bubblingMouseEvents%22%3A%20true%2C%20%22color%22%3A%20%22%23CD3183%22%2C%20%22dashArray%22%3A%20null%2C%20%22dashOffset%22%3A%20null%2C%20%22fill%22%3A%20true%2C%20%22fillColor%22%3A%20%22%23CD3181%22%2C%20%22fillOpacity%22%3A%200.2%2C%20%22fillRule%22%3A%20%22evenodd%22%2C%20%22lineCap%22%3A%20%22round%22%2C%20%22lineJoin%22%3A%20%22round%22%2C%20%22opacity%22%3A%201.0%2C%20%22radius%22%3A%2010%2C%20%22stroke%22%3A%20true%2C%20%22weight%22%3A%203%7D%0A%20%20%20%20%20%20%20%20%20%20%20%20%29.addTo%28map_567218e7a4d34117895cb50db4bceb3b%29%3B%0A%20%20%20%20%20%20%20%20%0A%20%20%20%20%0A%20%20%20%20%20%20%20%20var%20popup_d84d8b767cd343cc8e2cb4725aa15154%20%3D%20L.popup%28%7B%22maxWidth%22%3A%20%22100%25%22%7D%29%3B%0A%0A%20%20%20%20%20%20%20%20%0A%20%20%20%20%20%20%20%20%20%20%20%20var%20html_1f35e3f35e05417aa6586b278afcc9f6%20%3D%20%24%28%60%3Cdiv%20id%3D%22html_1f35e3f35e05417aa6586b278afcc9f6%22%20style%3D%22width%3A%20100.0%25%3B%20height%3A%20100.0%25%3B%22%3E%EB%89%B4%EC%84%9C%EC%9A%B8%28%EA%B0%95%EB%82%A8%29%3C/div%3E%60%29%5B0%5D%3B%0A%20%20%20%20%20%20%20%20%20%20%20%20popup_d84d8b767cd343cc8e2cb4725aa15154.setContent%28html_1f35e3f35e05417aa6586b278afcc9f6%29%3B%0A%20%20%20%20%20%20%20%20%0A%0A%20%20%20%20%20%20%20%20circle_marker_35a1f0e539b74ba69538d297305ff9bd.bindPopup%28popup_d84d8b767cd343cc8e2cb4725aa15154%29%0A%20%20%20%20%20%20%20%20%3B%0A%0A%20%20%20%20%20%20%20%20%0A%20%20%20%20%0A%20%20%20%20%0A%20%20%20%20%20%20%20%20%20%20%20%20var%20circle_marker_d3d76597f4524420a7b76fd6ea4d4899%20%3D%20L.circleMarker%28%0A%20%20%20%20%20%20%20%20%20%20%20%20%20%20%20%20%5B37.550217546860225%2C%20126.97247589929034%5D%2C%0A%20%20%20%20%20%20%20%20%20%20%20%20%20%20%20%20%7B%22bubblingMouseEvents%22%3A%20true%2C%20%22color%22%3A%20%22%23CD3183%22%2C%20%22dashArray%22%3A%20null%2C%20%22dashOffset%22%3A%20null%2C%20%22fill%22%3A%20true%2C%20%22fillColor%22%3A%20%22%23CD3181%22%2C%20%22fillOpacity%22%3A%200.2%2C%20%22fillRule%22%3A%20%22evenodd%22%2C%20%22lineCap%22%3A%20%22round%22%2C%20%22lineJoin%22%3A%20%22round%22%2C%20%22opacity%22%3A%201.0%2C%20%22radius%22%3A%2010%2C%20%22stroke%22%3A%20true%2C%20%22weight%22%3A%203%7D%0A%20%20%20%20%20%20%20%20%20%20%20%20%29.addTo%28map_567218e7a4d34117895cb50db4bceb3b%29%3B%0A%20%20%20%20%20%20%20%20%0A%20%20%20%20%0A%20%20%20%20%20%20%20%20var%20popup_1981efc06d1e44d78145f0cf5d7a3247%20%3D%20L.popup%28%7B%22maxWidth%22%3A%20%22100%25%22%7D%29%3B%0A%0A%20%20%20%20%20%20%20%20%0A%20%20%20%20%20%20%20%20%20%20%20%20var%20html_c1ce840653244e429e8a23449f716627%20%3D%20%24%28%60%3Cdiv%20id%3D%22html_c1ce840653244e429e8a23449f716627%22%20style%3D%22width%3A%20100.0%25%3B%20height%3A%20100.0%25%3B%22%3E%EB%8F%99%EC%9E%90%EB%8F%99%EC%A3%BC%EC%9C%A0%EC%86%8C%3C/div%3E%60%29%5B0%5D%3B%0A%20%20%20%20%20%20%20%20%20%20%20%20popup_1981efc06d1e44d78145f0cf5d7a3247.setContent%28html_c1ce840653244e429e8a23449f716627%29%3B%0A%20%20%20%20%20%20%20%20%0A%0A%20%20%20%20%20%20%20%20circle_marker_d3d76597f4524420a7b76fd6ea4d4899.bindPopup%28popup_1981efc06d1e44d78145f0cf5d7a3247%29%0A%20%20%20%20%20%20%20%20%3B%0A%0A%20%20%20%20%20%20%20%20%0A%20%20%20%20%0A%20%20%20%20%0A%20%20%20%20%20%20%20%20%20%20%20%20var%20circle_marker_c28fac40f3344291be8691213cbd9a58%20%3D%20L.circleMarker%28%0A%20%20%20%20%20%20%20%20%20%20%20%20%20%20%20%20%5B37.558993985065825%2C%20127.01272807915872%5D%2C%0A%20%20%20%20%20%20%20%20%20%20%20%20%20%20%20%20%7B%22bubblingMouseEvents%22%3A%20true%2C%20%22color%22%3A%20%22%23CD3183%22%2C%20%22dashArray%22%3A%20null%2C%20%22dashOffset%22%3A%20null%2C%20%22fill%22%3A%20true%2C%20%22fillColor%22%3A%20%22%23CD3181%22%2C%20%22fillOpacity%22%3A%200.2%2C%20%22fillRule%22%3A%20%22evenodd%22%2C%20%22lineCap%22%3A%20%22round%22%2C%20%22lineJoin%22%3A%20%22round%22%2C%20%22opacity%22%3A%201.0%2C%20%22radius%22%3A%2010%2C%20%22stroke%22%3A%20true%2C%20%22weight%22%3A%203%7D%0A%20%20%20%20%20%20%20%20%20%20%20%20%29.addTo%28map_567218e7a4d34117895cb50db4bceb3b%29%3B%0A%20%20%20%20%20%20%20%20%0A%20%20%20%20%0A%20%20%20%20%20%20%20%20var%20popup_8f787657b3064836a15838030aecb60f%20%3D%20L.popup%28%7B%22maxWidth%22%3A%20%22100%25%22%7D%29%3B%0A%0A%20%20%20%20%20%20%20%20%0A%20%20%20%20%20%20%20%20%20%20%20%20var%20html_3b43b0680ac44833919f01e03f7dc86a%20%3D%20%24%28%60%3Cdiv%20id%3D%22html_3b43b0680ac44833919f01e03f7dc86a%22%20style%3D%22width%3A%20100.0%25%3B%20height%3A%20100.0%25%3B%22%3E%EC%95%BD%EC%88%98%EC%A3%BC%EC%9C%A0%EC%86%8C%3C/div%3E%60%29%5B0%5D%3B%0A%20%20%20%20%20%20%20%20%20%20%20%20popup_8f787657b3064836a15838030aecb60f.setContent%28html_3b43b0680ac44833919f01e03f7dc86a%29%3B%0A%20%20%20%20%20%20%20%20%0A%0A%20%20%20%20%20%20%20%20circle_marker_c28fac40f3344291be8691213cbd9a58.bindPopup%28popup_8f787657b3064836a15838030aecb60f%29%0A%20%20%20%20%20%20%20%20%3B%0A%0A%20%20%20%20%20%20%20%20%0A%20%20%20%20%0A%20%20%20%20%0A%20%20%20%20%20%20%20%20%20%20%20%20var%20circle_marker_8640177463b44e8693488e26b0b8e506%20%3D%20L.circleMarker%28%0A%20%20%20%20%20%20%20%20%20%20%20%20%20%20%20%20%5B37.5115223360554%2C%20127.047170143424%5D%2C%0A%20%20%20%20%20%20%20%20%20%20%20%20%20%20%20%20%7B%22bubblingMouseEvents%22%3A%20true%2C%20%22color%22%3A%20%22%23CD3183%22%2C%20%22dashArray%22%3A%20null%2C%20%22dashOffset%22%3A%20null%2C%20%22fill%22%3A%20true%2C%20%22fillColor%22%3A%20%22%23CD3181%22%2C%20%22fillOpacity%22%3A%200.2%2C%20%22fillRule%22%3A%20%22evenodd%22%2C%20%22lineCap%22%3A%20%22round%22%2C%20%22lineJoin%22%3A%20%22round%22%2C%20%22opacity%22%3A%201.0%2C%20%22radius%22%3A%2010%2C%20%22stroke%22%3A%20true%2C%20%22weight%22%3A%203%7D%0A%20%20%20%20%20%20%20%20%20%20%20%20%29.addTo%28map_567218e7a4d34117895cb50db4bceb3b%29%3B%0A%20%20%20%20%20%20%20%20%0A%20%20%20%20%0A%20%20%20%20%20%20%20%20var%20popup_33b0f5699a5645348a55bcfde11d5a17%20%3D%20L.popup%28%7B%22maxWidth%22%3A%20%22100%25%22%7D%29%3B%0A%0A%20%20%20%20%20%20%20%20%0A%20%20%20%20%20%20%20%20%20%20%20%20var%20html_a1d3b98621dc4856bd86f3a71f38091e%20%3D%20%24%28%60%3Cdiv%20id%3D%22html_a1d3b98621dc4856bd86f3a71f38091e%22%20style%3D%22width%3A%20100.0%25%3B%20height%3A%20100.0%25%3B%22%3E%28%EC%A3%BC%29%EB%A7%8C%EC%A0%95%EC%97%90%EB%84%88%EC%A7%80%3C/div%3E%60%29%5B0%5D%3B%0A%20%20%20%20%20%20%20%20%20%20%20%20popup_33b0f5699a5645348a55bcfde11d5a17.setContent%28html_a1d3b98621dc4856bd86f3a71f38091e%29%3B%0A%20%20%20%20%20%20%20%20%0A%0A%20%20%20%20%20%20%20%20circle_marker_8640177463b44e8693488e26b0b8e506.bindPopup%28popup_33b0f5699a5645348a55bcfde11d5a17%29%0A%20%20%20%20%20%20%20%20%3B%0A%0A%20%20%20%20%20%20%20%20%0A%20%20%20%20%0A%20%20%20%20%0A%20%20%20%20%20%20%20%20%20%20%20%20var%20circle_marker_9b57bb61ad2d4c9887b622cd1f3b82c8%20%3D%20L.circleMarker%28%0A%20%20%20%20%20%20%20%20%20%20%20%20%20%20%20%20%5B37.5176831638101%2C%20126.92746983233%5D%2C%0A%20%20%20%20%20%20%20%20%20%20%20%20%20%20%20%20%7B%22bubblingMouseEvents%22%3A%20true%2C%20%22color%22%3A%20%22%23CD3183%22%2C%20%22dashArray%22%3A%20null%2C%20%22dashOffset%22%3A%20null%2C%20%22fill%22%3A%20true%2C%20%22fillColor%22%3A%20%22%23CD3181%22%2C%20%22fillOpacity%22%3A%200.2%2C%20%22fillRule%22%3A%20%22evenodd%22%2C%20%22lineCap%22%3A%20%22round%22%2C%20%22lineJoin%22%3A%20%22round%22%2C%20%22opacity%22%3A%201.0%2C%20%22radius%22%3A%2010%2C%20%22stroke%22%3A%20true%2C%20%22weight%22%3A%203%7D%0A%20%20%20%20%20%20%20%20%20%20%20%20%29.addTo%28map_567218e7a4d34117895cb50db4bceb3b%29%3B%0A%20%20%20%20%20%20%20%20%0A%20%20%20%20%0A%20%20%20%20%20%20%20%20var%20popup_e489f6b52fb8469d8bbd3c1d57ed78a8%20%3D%20L.popup%28%7B%22maxWidth%22%3A%20%22100%25%22%7D%29%3B%0A%0A%20%20%20%20%20%20%20%20%0A%20%20%20%20%20%20%20%20%20%20%20%20var%20html_11cf2b719124440bb767d70c2da0d0cb%20%3D%20%24%28%60%3Cdiv%20id%3D%22html_11cf2b719124440bb767d70c2da0d0cb%22%20style%3D%22width%3A%20100.0%25%3B%20height%3A%20100.0%25%3B%22%3E%ED%98%84%EB%8C%80%EC%98%A4%EC%9D%BC%EB%B1%85%ED%81%AC%E3%88%9C%EC%A7%81%EC%98%81%20%EC%97%AC%EC%9D%98%EB%8F%84%ED%98%84%EB%8C%80%EC%A3%BC%EC%9C%A0%EC%86%8C%3C/div%3E%60%29%5B0%5D%3B%0A%20%20%20%20%20%20%20%20%20%20%20%20popup_e489f6b52fb8469d8bbd3c1d57ed78a8.setContent%28html_11cf2b719124440bb767d70c2da0d0cb%29%3B%0A%20%20%20%20%20%20%20%20%0A%0A%20%20%20%20%20%20%20%20circle_marker_9b57bb61ad2d4c9887b622cd1f3b82c8.bindPopup%28popup_e489f6b52fb8469d8bbd3c1d57ed78a8%29%0A%20%20%20%20%20%20%20%20%3B%0A%0A%20%20%20%20%20%20%20%20%0A%20%20%20%20%0A%20%20%20%20%0A%20%20%20%20%20%20%20%20%20%20%20%20var%20circle_marker_5a08a0d6862d48ca96e78d45c236ea10%20%3D%20L.circleMarker%28%0A%20%20%20%20%20%20%20%20%20%20%20%20%20%20%20%20%5B37.5360532778162%2C%20127.006155035963%5D%2C%0A%20%20%20%20%20%20%20%20%20%20%20%20%20%20%20%20%7B%22bubblingMouseEvents%22%3A%20true%2C%20%22color%22%3A%20%22%23CD3183%22%2C%20%22dashArray%22%3A%20null%2C%20%22dashOffset%22%3A%20null%2C%20%22fill%22%3A%20true%2C%20%22fillColor%22%3A%20%22%23CD3181%22%2C%20%22fillOpacity%22%3A%200.2%2C%20%22fillRule%22%3A%20%22evenodd%22%2C%20%22lineCap%22%3A%20%22round%22%2C%20%22lineJoin%22%3A%20%22round%22%2C%20%22opacity%22%3A%201.0%2C%20%22radius%22%3A%2010%2C%20%22stroke%22%3A%20true%2C%20%22weight%22%3A%203%7D%0A%20%20%20%20%20%20%20%20%20%20%20%20%29.addTo%28map_567218e7a4d34117895cb50db4bceb3b%29%3B%0A%20%20%20%20%20%20%20%20%0A%20%20%20%20%0A%20%20%20%20%20%20%20%20var%20popup_8fe3947f4b004b1497b3fa2b974ba16a%20%3D%20L.popup%28%7B%22maxWidth%22%3A%20%22100%25%22%7D%29%3B%0A%0A%20%20%20%20%20%20%20%20%0A%20%20%20%20%20%20%20%20%20%20%20%20var%20html_51128da58b9d4b6dbf96d4ce275361e0%20%3D%20%24%28%60%3Cdiv%20id%3D%22html_51128da58b9d4b6dbf96d4ce275361e0%22%20style%3D%22width%3A%20100.0%25%3B%20height%3A%20100.0%25%3B%22%3E%EC%97%90%EB%84%88%EB%B9%84%EC%8A%A4%3C/div%3E%60%29%5B0%5D%3B%0A%20%20%20%20%20%20%20%20%20%20%20%20popup_8fe3947f4b004b1497b3fa2b974ba16a.setContent%28html_51128da58b9d4b6dbf96d4ce275361e0%29%3B%0A%20%20%20%20%20%20%20%20%0A%0A%20%20%20%20%20%20%20%20circle_marker_5a08a0d6862d48ca96e78d45c236ea10.bindPopup%28popup_8fe3947f4b004b1497b3fa2b974ba16a%29%0A%20%20%20%20%20%20%20%20%3B%0A%0A%20%20%20%20%20%20%20%20%0A%20%20%20%20%0A%20%20%20%20%0A%20%20%20%20%20%20%20%20%20%20%20%20var%20circle_marker_c0a993ff0ac042dfb42e7dc093c441f5%20%3D%20L.circleMarker%28%0A%20%20%20%20%20%20%20%20%20%20%20%20%20%20%20%20%5B37.4594852424923%2C%20127.043140747618%5D%2C%0A%20%20%20%20%20%20%20%20%20%20%20%20%20%20%20%20%7B%22bubblingMouseEvents%22%3A%20true%2C%20%22color%22%3A%20%22%233186CC%22%2C%20%22dashArray%22%3A%20null%2C%20%22dashOffset%22%3A%20null%2C%20%22fill%22%3A%20true%2C%20%22fillColor%22%3A%20%22%233186CC%22%2C%20%22fillOpacity%22%3A%200.2%2C%20%22fillRule%22%3A%20%22evenodd%22%2C%20%22lineCap%22%3A%20%22round%22%2C%20%22lineJoin%22%3A%20%22round%22%2C%20%22opacity%22%3A%201.0%2C%20%22radius%22%3A%2010%2C%20%22stroke%22%3A%20true%2C%20%22weight%22%3A%203%7D%0A%20%20%20%20%20%20%20%20%20%20%20%20%29.addTo%28map_567218e7a4d34117895cb50db4bceb3b%29%3B%0A%20%20%20%20%20%20%20%20%0A%20%20%20%20%0A%20%20%20%20%20%20%20%20var%20popup_a7ad6fd352d64934b0c13538e1df1a87%20%3D%20L.popup%28%7B%22maxWidth%22%3A%20%22100%25%22%7D%29%3B%0A%0A%20%20%20%20%20%20%20%20%0A%20%20%20%20%20%20%20%20%20%20%20%20var%20html_3de0deb25a2a447496d3237b5d8c1b68%20%3D%20%24%28%60%3Cdiv%20id%3D%22html_3de0deb25a2a447496d3237b5d8c1b68%22%20style%3D%22width%3A%20100.0%25%3B%20height%3A%20100.0%25%3B%22%3E%EB%A7%8C%EB%82%A8%EC%9D%98%EA%B4%91%EC%9E%A5%EC%A3%BC%EC%9C%A0%EC%86%8C%3C/div%3E%60%29%5B0%5D%3B%0A%20%20%20%20%20%20%20%20%20%20%20%20popup_a7ad6fd352d64934b0c13538e1df1a87.setContent%28html_3de0deb25a2a447496d3237b5d8c1b68%29%3B%0A%20%20%20%20%20%20%20%20%0A%0A%20%20%20%20%20%20%20%20circle_marker_c0a993ff0ac042dfb42e7dc093c441f5.bindPopup%28popup_a7ad6fd352d64934b0c13538e1df1a87%29%0A%20%20%20%20%20%20%20%20%3B%0A%0A%20%20%20%20%20%20%20%20%0A%20%20%20%20%0A%20%20%20%20%0A%20%20%20%20%20%20%20%20%20%20%20%20var%20circle_marker_f2e79f55e30f4217bd0e6678392ca4e4%20%3D%20L.circleMarker%28%0A%20%20%20%20%20%20%20%20%20%20%20%20%20%20%20%20%5B37.5023384820066%2C%20126.89960044004%5D%2C%0A%20%20%20%20%20%20%20%20%20%20%20%20%20%20%20%20%7B%22bubblingMouseEvents%22%3A%20true%2C%20%22color%22%3A%20%22%233186CC%22%2C%20%22dashArray%22%3A%20null%2C%20%22dashOffset%22%3A%20null%2C%20%22fill%22%3A%20true%2C%20%22fillColor%22%3A%20%22%233186CC%22%2C%20%22fillOpacity%22%3A%200.2%2C%20%22fillRule%22%3A%20%22evenodd%22%2C%20%22lineCap%22%3A%20%22round%22%2C%20%22lineJoin%22%3A%20%22round%22%2C%20%22opacity%22%3A%201.0%2C%20%22radius%22%3A%2010%2C%20%22stroke%22%3A%20true%2C%20%22weight%22%3A%203%7D%0A%20%20%20%20%20%20%20%20%20%20%20%20%29.addTo%28map_567218e7a4d34117895cb50db4bceb3b%29%3B%0A%20%20%20%20%20%20%20%20%0A%20%20%20%20%0A%20%20%20%20%20%20%20%20var%20popup_b83aeecdc69e4a869f3754a69ca7660b%20%3D%20L.popup%28%7B%22maxWidth%22%3A%20%22100%25%22%7D%29%3B%0A%0A%20%20%20%20%20%20%20%20%0A%20%20%20%20%20%20%20%20%20%20%20%20var%20html_166d5ca559e447eda4cc2a182d309d0a%20%3D%20%24%28%60%3Cdiv%20id%3D%22html_166d5ca559e447eda4cc2a182d309d0a%22%20style%3D%22width%3A%20100.0%25%3B%20height%3A%20100.0%25%3B%22%3E%EC%98%81%EB%93%B1%ED%8F%AC%EC%A0%9C%EC%9D%BC%EC%85%80%ED%94%84%EC%A3%BC%EC%9C%A0%EC%86%8C%3C/div%3E%60%29%5B0%5D%3B%0A%20%20%20%20%20%20%20%20%20%20%20%20popup_b83aeecdc69e4a869f3754a69ca7660b.setContent%28html_166d5ca559e447eda4cc2a182d309d0a%29%3B%0A%20%20%20%20%20%20%20%20%0A%0A%20%20%20%20%20%20%20%20circle_marker_f2e79f55e30f4217bd0e6678392ca4e4.bindPopup%28popup_b83aeecdc69e4a869f3754a69ca7660b%29%0A%20%20%20%20%20%20%20%20%3B%0A%0A%20%20%20%20%20%20%20%20%0A%20%20%20%20%0A%20%20%20%20%0A%20%20%20%20%20%20%20%20%20%20%20%20var%20circle_marker_622606a1e03a4f25b642a149b5e7e53e%20%3D%20L.circleMarker%28%0A%20%20%20%20%20%20%20%20%20%20%20%20%20%20%20%20%5B37.501617839067855%2C%20126.89873398922153%5D%2C%0A%20%20%20%20%20%20%20%20%20%20%20%20%20%20%20%20%7B%22bubblingMouseEvents%22%3A%20true%2C%20%22color%22%3A%20%22%233186CC%22%2C%20%22dashArray%22%3A%20null%2C%20%22dashOffset%22%3A%20null%2C%20%22fill%22%3A%20true%2C%20%22fillColor%22%3A%20%22%233186CC%22%2C%20%22fillOpacity%22%3A%200.2%2C%20%22fillRule%22%3A%20%22evenodd%22%2C%20%22lineCap%22%3A%20%22round%22%2C%20%22lineJoin%22%3A%20%22round%22%2C%20%22opacity%22%3A%201.0%2C%20%22radius%22%3A%2010%2C%20%22stroke%22%3A%20true%2C%20%22weight%22%3A%203%7D%0A%20%20%20%20%20%20%20%20%20%20%20%20%29.addTo%28map_567218e7a4d34117895cb50db4bceb3b%29%3B%0A%20%20%20%20%20%20%20%20%0A%20%20%20%20%0A%20%20%20%20%20%20%20%20var%20popup_4fcc33f13bef492d993ce8575e2202fe%20%3D%20L.popup%28%7B%22maxWidth%22%3A%20%22100%25%22%7D%29%3B%0A%0A%20%20%20%20%20%20%20%20%0A%20%20%20%20%20%20%20%20%20%20%20%20var%20html_cb166aca68204456b4189677aa243989%20%3D%20%24%28%60%3Cdiv%20id%3D%22html_cb166aca68204456b4189677aa243989%22%20style%3D%22width%3A%20100.0%25%3B%20height%3A%20100.0%25%3B%22%3E%EB%82%A8%EC%84%9C%EC%9A%B8%EA%B3%A0%EC%86%8D%EC%A3%BC%EC%9C%A0%EC%86%8C%3C/div%3E%60%29%5B0%5D%3B%0A%20%20%20%20%20%20%20%20%20%20%20%20popup_4fcc33f13bef492d993ce8575e2202fe.setContent%28html_cb166aca68204456b4189677aa243989%29%3B%0A%20%20%20%20%20%20%20%20%0A%0A%20%20%20%20%20%20%20%20circle_marker_622606a1e03a4f25b642a149b5e7e53e.bindPopup%28popup_4fcc33f13bef492d993ce8575e2202fe%29%0A%20%20%20%20%20%20%20%20%3B%0A%0A%20%20%20%20%20%20%20%20%0A%20%20%20%20%0A%20%20%20%20%0A%20%20%20%20%20%20%20%20%20%20%20%20var%20circle_marker_fc9dd64744544a71ae1b2c64902c0e06%20%3D%20L.circleMarker%28%0A%20%20%20%20%20%20%20%20%20%20%20%20%20%20%20%20%5B37.5038368985826%2C%20126.902887246752%5D%2C%0A%20%20%20%20%20%20%20%20%20%20%20%20%20%20%20%20%7B%22bubblingMouseEvents%22%3A%20true%2C%20%22color%22%3A%20%22%233186CC%22%2C%20%22dashArray%22%3A%20null%2C%20%22dashOffset%22%3A%20null%2C%20%22fill%22%3A%20true%2C%20%22fillColor%22%3A%20%22%233186CC%22%2C%20%22fillOpacity%22%3A%200.2%2C%20%22fillRule%22%3A%20%22evenodd%22%2C%20%22lineCap%22%3A%20%22round%22%2C%20%22lineJoin%22%3A%20%22round%22%2C%20%22opacity%22%3A%201.0%2C%20%22radius%22%3A%2010%2C%20%22stroke%22%3A%20true%2C%20%22weight%22%3A%203%7D%0A%20%20%20%20%20%20%20%20%20%20%20%20%29.addTo%28map_567218e7a4d34117895cb50db4bceb3b%29%3B%0A%20%20%20%20%20%20%20%20%0A%20%20%20%20%0A%20%20%20%20%20%20%20%20var%20popup_7c8df9b088f940f6aa9d8b95f4de9025%20%3D%20L.popup%28%7B%22maxWidth%22%3A%20%22100%25%22%7D%29%3B%0A%0A%20%20%20%20%20%20%20%20%0A%20%20%20%20%20%20%20%20%20%20%20%20var%20html_bd416bfc1567482e977027df313aef80%20%3D%20%24%28%60%3Cdiv%20id%3D%22html_bd416bfc1567482e977027df313aef80%22%20style%3D%22width%3A%20100.0%25%3B%20height%3A%20100.0%25%3B%22%3E%EC%84%B1%EB%9D%BD%EC%A3%BC%EC%9C%A0%EC%86%8C%3C/div%3E%60%29%5B0%5D%3B%0A%20%20%20%20%20%20%20%20%20%20%20%20popup_7c8df9b088f940f6aa9d8b95f4de9025.setContent%28html_bd416bfc1567482e977027df313aef80%29%3B%0A%20%20%20%20%20%20%20%20%0A%0A%20%20%20%20%20%20%20%20circle_marker_fc9dd64744544a71ae1b2c64902c0e06.bindPopup%28popup_7c8df9b088f940f6aa9d8b95f4de9025%29%0A%20%20%20%20%20%20%20%20%3B%0A%0A%20%20%20%20%20%20%20%20%0A%20%20%20%20%0A%20%20%20%20%0A%20%20%20%20%20%20%20%20%20%20%20%20var%20circle_marker_f42047546957497daa5a3fcf6fad4464%20%3D%20L.circleMarker%28%0A%20%20%20%20%20%20%20%20%20%20%20%20%20%20%20%20%5B37.5370183706843%2C%20126.834287158433%5D%2C%0A%20%20%20%20%20%20%20%20%20%20%20%20%20%20%20%20%7B%22bubblingMouseEvents%22%3A%20true%2C%20%22color%22%3A%20%22%233186CC%22%2C%20%22dashArray%22%3A%20null%2C%20%22dashOffset%22%3A%20null%2C%20%22fill%22%3A%20true%2C%20%22fillColor%22%3A%20%22%233186CC%22%2C%20%22fillOpacity%22%3A%200.2%2C%20%22fillRule%22%3A%20%22evenodd%22%2C%20%22lineCap%22%3A%20%22round%22%2C%20%22lineJoin%22%3A%20%22round%22%2C%20%22opacity%22%3A%201.0%2C%20%22radius%22%3A%2010%2C%20%22stroke%22%3A%20true%2C%20%22weight%22%3A%203%7D%0A%20%20%20%20%20%20%20%20%20%20%20%20%29.addTo%28map_567218e7a4d34117895cb50db4bceb3b%29%3B%0A%20%20%20%20%20%20%20%20%0A%20%20%20%20%0A%20%20%20%20%20%20%20%20var%20popup_25fa1d5d60c14790a8ea5dacc4a2a9fb%20%3D%20L.popup%28%7B%22maxWidth%22%3A%20%22100%25%22%7D%29%3B%0A%0A%20%20%20%20%20%20%20%20%0A%20%20%20%20%20%20%20%20%20%20%20%20var%20html_56de0aa1395c443c97d940ea77df4615%20%3D%20%24%28%60%3Cdiv%20id%3D%22html_56de0aa1395c443c97d940ea77df4615%22%20style%3D%22width%3A%20100.0%25%3B%20height%3A%20100.0%25%3B%22%3E%EA%B0%80%EB%A1%9C%EA%B3%B5%EC%9B%90%EC%A3%BC%EC%9C%A0%EC%86%8C%3C/div%3E%60%29%5B0%5D%3B%0A%20%20%20%20%20%20%20%20%20%20%20%20popup_25fa1d5d60c14790a8ea5dacc4a2a9fb.setContent%28html_56de0aa1395c443c97d940ea77df4615%29%3B%0A%20%20%20%20%20%20%20%20%0A%0A%20%20%20%20%20%20%20%20circle_marker_f42047546957497daa5a3fcf6fad4464.bindPopup%28popup_25fa1d5d60c14790a8ea5dacc4a2a9fb%29%0A%20%20%20%20%20%20%20%20%3B%0A%0A%20%20%20%20%20%20%20%20%0A%20%20%20%20%0A%20%20%20%20%0A%20%20%20%20%20%20%20%20%20%20%20%20var%20circle_marker_081d80ef51eb49a199667ef0201cac08%20%3D%20L.circleMarker%28%0A%20%20%20%20%20%20%20%20%20%20%20%20%20%20%20%20%5B37.5339080509165%2C%20126.829180082159%5D%2C%0A%20%20%20%20%20%20%20%20%20%20%20%20%20%20%20%20%7B%22bubblingMouseEvents%22%3A%20true%2C%20%22color%22%3A%20%22%233186CC%22%2C%20%22dashArray%22%3A%20null%2C%20%22dashOffset%22%3A%20null%2C%20%22fill%22%3A%20true%2C%20%22fillColor%22%3A%20%22%233186CC%22%2C%20%22fillOpacity%22%3A%200.2%2C%20%22fillRule%22%3A%20%22evenodd%22%2C%20%22lineCap%22%3A%20%22round%22%2C%20%22lineJoin%22%3A%20%22round%22%2C%20%22opacity%22%3A%201.0%2C%20%22radius%22%3A%2010%2C%20%22stroke%22%3A%20true%2C%20%22weight%22%3A%203%7D%0A%20%20%20%20%20%20%20%20%20%20%20%20%29.addTo%28map_567218e7a4d34117895cb50db4bceb3b%29%3B%0A%20%20%20%20%20%20%20%20%0A%20%20%20%20%0A%20%20%20%20%20%20%20%20var%20popup_cff474ef198b4b9c91891cc09c2fb123%20%3D%20L.popup%28%7B%22maxWidth%22%3A%20%22100%25%22%7D%29%3B%0A%0A%20%20%20%20%20%20%20%20%0A%20%20%20%20%20%20%20%20%20%20%20%20var%20html_8d9d2f3e22af4de7a3dadc7ec444403f%20%3D%20%24%28%60%3Cdiv%20id%3D%22html_8d9d2f3e22af4de7a3dadc7ec444403f%22%20style%3D%22width%3A%20100.0%25%3B%20height%3A%20100.0%25%3B%22%3E%ED%98%84%EB%8C%80%EC%A3%BC%EC%9C%A0%EC%86%8C%3C/div%3E%60%29%5B0%5D%3B%0A%20%20%20%20%20%20%20%20%20%20%20%20popup_cff474ef198b4b9c91891cc09c2fb123.setContent%28html_8d9d2f3e22af4de7a3dadc7ec444403f%29%3B%0A%20%20%20%20%20%20%20%20%0A%0A%20%20%20%20%20%20%20%20circle_marker_081d80ef51eb49a199667ef0201cac08.bindPopup%28popup_cff474ef198b4b9c91891cc09c2fb123%29%0A%20%20%20%20%20%20%20%20%3B%0A%0A%20%20%20%20%20%20%20%20%0A%20%20%20%20%0A%20%20%20%20%0A%20%20%20%20%20%20%20%20%20%20%20%20var%20circle_marker_932ecf59caf04fa2b7450f84e12927a1%20%3D%20L.circleMarker%28%0A%20%20%20%20%20%20%20%20%20%20%20%20%20%20%20%20%5B37.64012944951949%2C%20127.01719919686428%5D%2C%0A%20%20%20%20%20%20%20%20%20%20%20%20%20%20%20%20%7B%22bubblingMouseEvents%22%3A%20true%2C%20%22color%22%3A%20%22%233186CC%22%2C%20%22dashArray%22%3A%20null%2C%20%22dashOffset%22%3A%20null%2C%20%22fill%22%3A%20true%2C%20%22fillColor%22%3A%20%22%233186CC%22%2C%20%22fillOpacity%22%3A%200.2%2C%20%22fillRule%22%3A%20%22evenodd%22%2C%20%22lineCap%22%3A%20%22round%22%2C%20%22lineJoin%22%3A%20%22round%22%2C%20%22opacity%22%3A%201.0%2C%20%22radius%22%3A%2010%2C%20%22stroke%22%3A%20true%2C%20%22weight%22%3A%203%7D%0A%20%20%20%20%20%20%20%20%20%20%20%20%29.addTo%28map_567218e7a4d34117895cb50db4bceb3b%29%3B%0A%20%20%20%20%20%20%20%20%0A%20%20%20%20%0A%20%20%20%20%20%20%20%20var%20popup_3cb1d3b858c542a78d509829e2653604%20%3D%20L.popup%28%7B%22maxWidth%22%3A%20%22100%25%22%7D%29%3B%0A%0A%20%20%20%20%20%20%20%20%0A%20%20%20%20%20%20%20%20%20%20%20%20var%20html_788a85f46f0a4f26a74de7ace42f69a0%20%3D%20%24%28%60%3Cdiv%20id%3D%22html_788a85f46f0a4f26a74de7ace42f69a0%22%20style%3D%22width%3A%20100.0%25%3B%20height%3A%20100.0%25%3B%22%3E%EB%B6%81%EC%84%9C%EC%9A%B8%EA%B3%A0%EC%86%8D%EC%A3%BC%EC%9C%A0%EC%86%8C%3C/div%3E%60%29%5B0%5D%3B%0A%20%20%20%20%20%20%20%20%20%20%20%20popup_3cb1d3b858c542a78d509829e2653604.setContent%28html_788a85f46f0a4f26a74de7ace42f69a0%29%3B%0A%20%20%20%20%20%20%20%20%0A%0A%20%20%20%20%20%20%20%20circle_marker_932ecf59caf04fa2b7450f84e12927a1.bindPopup%28popup_3cb1d3b858c542a78d509829e2653604%29%0A%20%20%20%20%20%20%20%20%3B%0A%0A%20%20%20%20%20%20%20%20%0A%20%20%20%20%0A%20%20%20%20%0A%20%20%20%20%20%20%20%20%20%20%20%20var%20circle_marker_fd08bf9988394ffe8dce2b0776a1f4cf%20%3D%20L.circleMarker%28%0A%20%20%20%20%20%20%20%20%20%20%20%20%20%20%20%20%5B37.63159701187975%2C%20127.01791548086184%5D%2C%0A%20%20%20%20%20%20%20%20%20%20%20%20%20%20%20%20%7B%22bubblingMouseEvents%22%3A%20true%2C%20%22color%22%3A%20%22%233186CC%22%2C%20%22dashArray%22%3A%20null%2C%20%22dashOffset%22%3A%20null%2C%20%22fill%22%3A%20true%2C%20%22fillColor%22%3A%20%22%233186CC%22%2C%20%22fillOpacity%22%3A%200.2%2C%20%22fillRule%22%3A%20%22evenodd%22%2C%20%22lineCap%22%3A%20%22round%22%2C%20%22lineJoin%22%3A%20%22round%22%2C%20%22opacity%22%3A%201.0%2C%20%22radius%22%3A%2010%2C%20%22stroke%22%3A%20true%2C%20%22weight%22%3A%203%7D%0A%20%20%20%20%20%20%20%20%20%20%20%20%29.addTo%28map_567218e7a4d34117895cb50db4bceb3b%29%3B%0A%20%20%20%20%20%20%20%20%0A%20%20%20%20%0A%20%20%20%20%20%20%20%20var%20popup_b2b356ace7f9403cb84d794fcc4edfab%20%3D%20L.popup%28%7B%22maxWidth%22%3A%20%22100%25%22%7D%29%3B%0A%0A%20%20%20%20%20%20%20%20%0A%20%20%20%20%20%20%20%20%20%20%20%20var%20html_539ad124952f46ce82d1431c098a4b47%20%3D%20%24%28%60%3Cdiv%20id%3D%22html_539ad124952f46ce82d1431c098a4b47%22%20style%3D%22width%3A%20100.0%25%3B%20height%3A%20100.0%25%3B%22%3E%28%EC%A3%BC%29%EC%84%9D%EC%82%B0%EC%97%90%EB%84%88%EC%A7%80%3C/div%3E%60%29%5B0%5D%3B%0A%20%20%20%20%20%20%20%20%20%20%20%20popup_b2b356ace7f9403cb84d794fcc4edfab.setContent%28html_539ad124952f46ce82d1431c098a4b47%29%3B%0A%20%20%20%20%20%20%20%20%0A%0A%20%20%20%20%20%20%20%20circle_marker_fd08bf9988394ffe8dce2b0776a1f4cf.bindPopup%28popup_b2b356ace7f9403cb84d794fcc4edfab%29%0A%20%20%20%20%20%20%20%20%3B%0A%0A%20%20%20%20%20%20%20%20%0A%20%20%20%20%0A%20%20%20%20%0A%20%20%20%20%20%20%20%20%20%20%20%20var%20circle_marker_1a7eddcecaf441ceb98acef838adccc4%20%3D%20L.circleMarker%28%0A%20%20%20%20%20%20%20%20%20%20%20%20%20%20%20%20%5B37.6421578125699%2C%20127.029586142017%5D%2C%0A%20%20%20%20%20%20%20%20%20%20%20%20%20%20%20%20%7B%22bubblingMouseEvents%22%3A%20true%2C%20%22color%22%3A%20%22%233186CC%22%2C%20%22dashArray%22%3A%20null%2C%20%22dashOffset%22%3A%20null%2C%20%22fill%22%3A%20true%2C%20%22fillColor%22%3A%20%22%233186CC%22%2C%20%22fillOpacity%22%3A%200.2%2C%20%22fillRule%22%3A%20%22evenodd%22%2C%20%22lineCap%22%3A%20%22round%22%2C%20%22lineJoin%22%3A%20%22round%22%2C%20%22opacity%22%3A%201.0%2C%20%22radius%22%3A%2010%2C%20%22stroke%22%3A%20true%2C%20%22weight%22%3A%203%7D%0A%20%20%20%20%20%20%20%20%20%20%20%20%29.addTo%28map_567218e7a4d34117895cb50db4bceb3b%29%3B%0A%20%20%20%20%20%20%20%20%0A%20%20%20%20%0A%20%20%20%20%20%20%20%20var%20popup_8d2392daf97f4347a84dc43a78e45205%20%3D%20L.popup%28%7B%22maxWidth%22%3A%20%22100%25%22%7D%29%3B%0A%0A%20%20%20%20%20%20%20%20%0A%20%20%20%20%20%20%20%20%20%20%20%20var%20html_75714a4fde1c4bab943d718d25aac11b%20%3D%20%24%28%60%3Cdiv%20id%3D%22html_75714a4fde1c4bab943d718d25aac11b%22%20style%3D%22width%3A%20100.0%25%3B%20height%3A%20100.0%25%3B%22%3E%EC%88%98%EC%9C%A0%EB%8F%99%EC%A3%BC%EC%9C%A0%EC%86%8C%3C/div%3E%60%29%5B0%5D%3B%0A%20%20%20%20%20%20%20%20%20%20%20%20popup_8d2392daf97f4347a84dc43a78e45205.setContent%28html_75714a4fde1c4bab943d718d25aac11b%29%3B%0A%20%20%20%20%20%20%20%20%0A%0A%20%20%20%20%20%20%20%20circle_marker_1a7eddcecaf441ceb98acef838adccc4.bindPopup%28popup_8d2392daf97f4347a84dc43a78e45205%29%0A%20%20%20%20%20%20%20%20%3B%0A%0A%20%20%20%20%20%20%20%20%0A%20%20%20%20%0A%20%20%20%20%0A%20%20%20%20%20%20%20%20%20%20%20%20var%20circle_marker_7420d4e59be84babb4da61655168d59a%20%3D%20L.circleMarker%28%0A%20%20%20%20%20%20%20%20%20%20%20%20%20%20%20%20%5B37.61494535403711%2C%20127.05273546987974%5D%2C%0A%20%20%20%20%20%20%20%20%20%20%20%20%20%20%20%20%7B%22bubblingMouseEvents%22%3A%20true%2C%20%22color%22%3A%20%22%233186CC%22%2C%20%22dashArray%22%3A%20null%2C%20%22dashOffset%22%3A%20null%2C%20%22fill%22%3A%20true%2C%20%22fillColor%22%3A%20%22%233186CC%22%2C%20%22fillOpacity%22%3A%200.2%2C%20%22fillRule%22%3A%20%22evenodd%22%2C%20%22lineCap%22%3A%20%22round%22%2C%20%22lineJoin%22%3A%20%22round%22%2C%20%22opacity%22%3A%201.0%2C%20%22radius%22%3A%2010%2C%20%22stroke%22%3A%20true%2C%20%22weight%22%3A%203%7D%0A%20%20%20%20%20%20%20%20%20%20%20%20%29.addTo%28map_567218e7a4d34117895cb50db4bceb3b%29%3B%0A%20%20%20%20%20%20%20%20%0A%20%20%20%20%0A%20%20%20%20%20%20%20%20var%20popup_5e7f35b4c6ed409b84c45ace21bb4054%20%3D%20L.popup%28%7B%22maxWidth%22%3A%20%22100%25%22%7D%29%3B%0A%0A%20%20%20%20%20%20%20%20%0A%20%20%20%20%20%20%20%20%20%20%20%20var%20html_5222e28a256549e4a503b525943ad9ad%20%3D%20%24%28%60%3Cdiv%20id%3D%22html_5222e28a256549e4a503b525943ad9ad%22%20style%3D%22width%3A%20100.0%25%3B%20height%3A%20100.0%25%3B%22%3E%EC%9B%90%EC%B2%9C%EC%A3%BC%EC%9C%A0%EC%86%8C%3C/div%3E%60%29%5B0%5D%3B%0A%20%20%20%20%20%20%20%20%20%20%20%20popup_5e7f35b4c6ed409b84c45ace21bb4054.setContent%28html_5222e28a256549e4a503b525943ad9ad%29%3B%0A%20%20%20%20%20%20%20%20%0A%0A%20%20%20%20%20%20%20%20circle_marker_7420d4e59be84babb4da61655168d59a.bindPopup%28popup_5e7f35b4c6ed409b84c45ace21bb4054%29%0A%20%20%20%20%20%20%20%20%3B%0A%0A%20%20%20%20%20%20%20%20%0A%20%20%20%20%0A%3C/script%3E onload=\"this.contentDocument.open();this.contentDocument.write(    decodeURIComponent(this.getAttribute('data-html')));this.contentDocument.close();\" allowfullscreen webkitallowfullscreen mozallowfullscreen></iframe></div></div>"
      ],
      "text/plain": [
       "<folium.folium.Map at 0x125d06fd0>"
      ]
     },
     "execution_count": 94,
     "metadata": {},
     "output_type": "execute_result"
    }
   ],
   "source": [
    "map = folium.Map(location=[37.497911, 127.027558],zoom_start=12)\n",
    "\n",
    "for n in oil_price_top10.index:\n",
    "    folium.CircleMarker(location=[oil_price_top10['lat'][n],oil_price_top10[\"lng\"][n]],\n",
    "                       popup=oil_price_top10[\"Oil_store\"][n],\n",
    "                       radius=10,\n",
    "                       color=\"#CD3183\", fill_color=\"#CD3181\",fill=True).add_to(map)\n",
    "    \n",
    "    \n",
    "for n in oil_price_bottom10.index:\n",
    "    folium.CircleMarker(location=[oil_price_bottom10['lat'][n],oil_price_bottom10[\"lng\"][n]],\n",
    "                       popup=oil_price_bottom10[\"Oil_store\"][n],\n",
    "                       radius=10,\n",
    "                       color=\"#3186CC\", fill_color=\"#3186CC\",fill=True).add_to(map)    \n",
    "map"
   ]
  }
 ],
 "metadata": {
  "kernelspec": {
   "display_name": "Python 3",
   "language": "python",
   "name": "python3"
  },
  "language_info": {
   "codemirror_mode": {
    "name": "ipython",
    "version": 3
   },
   "file_extension": ".py",
   "mimetype": "text/x-python",
   "name": "python",
   "nbconvert_exporter": "python",
   "pygments_lexer": "ipython3",
   "version": "3.9.2"
  },
  "toc": {
   "base_numbering": 1,
   "nav_menu": {},
   "number_sections": true,
   "sideBar": true,
   "skip_h1_title": false,
   "title_cell": "Table of Contents",
   "title_sidebar": "Contents",
   "toc_cell": false,
   "toc_position": {
    "height": "calc(100% - 180px)",
    "left": "10px",
    "top": "150px",
    "width": "195.909px"
   },
   "toc_section_display": true,
   "toc_window_display": false
  }
 },
 "nbformat": 4,
 "nbformat_minor": 5
}
