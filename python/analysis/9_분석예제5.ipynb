{
 "cells": [
  {
   "cell_type": "code",
   "execution_count": 1,
   "id": "aacfda1a",
   "metadata": {},
   "outputs": [],
   "source": [
    "import numpy as np\n",
    "import pandas as pd\n",
    "import matplotlib.pyplot as plt\n",
    "import seaborn as sns\n",
    "\n",
    "\n",
    "# 한글 설정\n",
    "import matplotlib as mpl\n",
    "mpl.rc('font', family='AppleGothic')\n",
    "plt.rcParams['axes.unicode_minus'] = False\n",
    "\n",
    "# import matplotlib.font_manager as fm\n",
    "# font_name = fm.FontProperties(fname=\"/Users/dofany/dofany_study/python/analysis/data/ImcreSoojin OTF.otf\").get_name()\n",
    "# plt.rc(\"font\", family=font_name)\n",
    "\n",
    "import seaborn as sns\n",
    "\n",
    "plt.style.use(\"fivethirtyeight\")\n",
    "\n",
    "import warnings\n",
    "warnings.filterwarnings(\"ignore\")\n",
    "\n",
    "import requests\n",
    "from urllib.request import urlopen \n",
    "from bs4 import BeautifulSoup\n",
    "import urllib.parse\n",
    "import urllib.request as req\n",
    "from urllib.request import urlopen\n",
    "from urllib.error import HTTPError, URLError\n",
    "from selenium import webdriver"
   ]
  },
  {
   "cell_type": "markdown",
   "id": "58058ae3",
   "metadata": {},
   "source": [
    "# 셀프 주유소는 과연 저렴한가?\n",
    "+ 실제 셀프 주유소가 저렴한지에 대한 팩트 체크\n",
    "+ 가장 싼 주유소는 어디인가?\n",
    "+ http://www.opinet.co.kr"
   ]
  },
  {
   "cell_type": "markdown",
   "id": "3a10d46a",
   "metadata": {},
   "source": [
    "## 서울시 구별 주유소 가격 정보 가져오기"
   ]
  },
  {
   "cell_type": "markdown",
   "id": "5f421583",
   "metadata": {},
   "source": [
    "### Sample Code"
   ]
  },
  {
   "cell_type": "markdown",
   "id": "14e77750",
   "metadata": {},
   "source": [
    "#### 원격 제어"
   ]
  },
  {
   "cell_type": "code",
   "execution_count": 74,
   "id": "3d4b900f",
   "metadata": {},
   "outputs": [],
   "source": [
    "driver = webdriver.Chrome(\"/Users/dofany/Downloads/chromedriver\")\n",
    "driver.get(\"https://www.opinet.co.kr/searRgSelect.do\")"
   ]
  },
  {
   "cell_type": "code",
   "execution_count": 10,
   "id": "8d88feb8",
   "metadata": {},
   "outputs": [],
   "source": [
    "driver.close()"
   ]
  },
  {
   "cell_type": "markdown",
   "id": "ab4fb169",
   "metadata": {},
   "source": [
    "#### 시 목록 가져오기"
   ]
  },
  {
   "cell_type": "code",
   "execution_count": 18,
   "id": "0fd0e929",
   "metadata": {},
   "outputs": [
    {
     "data": {
      "text/plain": [
       "['서울특별시',\n",
       " '부산광역시',\n",
       " '대구광역시',\n",
       " '인천광역시',\n",
       " '광주광역시',\n",
       " '대전광역시',\n",
       " '울산광역시',\n",
       " '세종특별자치시',\n",
       " '경기도',\n",
       " '강원도',\n",
       " '충청북도',\n",
       " '충청남도',\n",
       " '전라북도',\n",
       " '전라남도',\n",
       " '경상북도',\n",
       " '경상남도',\n",
       " '제주특별자치도']"
      ]
     },
     "execution_count": 18,
     "metadata": {},
     "output_type": "execute_result"
    }
   ],
   "source": [
    "si_list_raw = driver.find_element_by_xpath(\"\"\"//*[@id=\"SIDO_NM0\"]\"\"\")\n",
    "si_list = si_list_raw.find_elements_by_tag_name(\"option\")\n",
    "si_list\n",
    "si_list[1].get_attribute('value')\n",
    "\n",
    "si_names = [option.get_attribute('value') for option in si_list]\n",
    "si_names.remove(\"\")\n",
    "si_names"
   ]
  },
  {
   "cell_type": "markdown",
   "id": "6b63a518",
   "metadata": {},
   "source": [
    "#### 시 선택하기"
   ]
  },
  {
   "cell_type": "code",
   "execution_count": 26,
   "id": "1194b03a",
   "metadata": {},
   "outputs": [],
   "source": [
    "element = driver.find_element_by_id(\"SIDO_NM0\")\n",
    "element.send_keys(si_names[0])"
   ]
  },
  {
   "cell_type": "markdown",
   "id": "81eb04ba",
   "metadata": {},
   "source": [
    "#### 구 목록 가져오기"
   ]
  },
  {
   "cell_type": "code",
   "execution_count": 36,
   "id": "44ee3280",
   "metadata": {
    "scrolled": false
   },
   "outputs": [
    {
     "data": {
      "text/plain": [
       "['강남구',\n",
       " '강동구',\n",
       " '강북구',\n",
       " '강서구',\n",
       " '관악구',\n",
       " '광진구',\n",
       " '구로구',\n",
       " '금천구',\n",
       " '노원구',\n",
       " '도봉구',\n",
       " '동대문구',\n",
       " '동작구',\n",
       " '마포구',\n",
       " '서대문구',\n",
       " '서초구',\n",
       " '성동구',\n",
       " '성북구',\n",
       " '송파구',\n",
       " '양천구',\n",
       " '영등포구',\n",
       " '용산구',\n",
       " '은평구',\n",
       " '종로구',\n",
       " '중구',\n",
       " '중랑구']"
      ]
     },
     "execution_count": 36,
     "metadata": {},
     "output_type": "execute_result"
    }
   ],
   "source": [
    "gu_list_raw = driver.find_element_by_xpath(\"\"\"//*[@id=\"SIGUNGU_NM0\"]\"\"\")\n",
    "gu_list = gu_list_raw.find_elements_by_tag_name(\"option\")\n",
    "gu_list\n",
    "gu_list[1].get_attribute('value')\n",
    "\n",
    "gu_names = [option.get_attribute('value') for option in gu_list]\n",
    "gu_names.remove(\"\")\n",
    "gu_names"
   ]
  },
  {
   "cell_type": "markdown",
   "id": "00fd9eea",
   "metadata": {},
   "source": [
    "#### 구 선택하기 "
   ]
  },
  {
   "cell_type": "code",
   "execution_count": 49,
   "id": "bed2ee45",
   "metadata": {},
   "outputs": [],
   "source": [
    "element = driver.find_element_by_id(\"SIGUNGU_NM0\")\n",
    "element.send_keys(gu_names[17])"
   ]
  },
  {
   "cell_type": "markdown",
   "id": "398cb690",
   "metadata": {},
   "source": [
    "#### 조회 버튼 누르기"
   ]
  },
  {
   "cell_type": "code",
   "execution_count": 52,
   "id": "656fe525",
   "metadata": {},
   "outputs": [],
   "source": [
    "search = \"\"\"//*[@id=\"searRgSelect\"]\"\"\"\n",
    "driver.find_element_by_xpath(search).click()"
   ]
  },
  {
   "cell_type": "markdown",
   "id": "dbe2b31c",
   "metadata": {},
   "source": [
    "#### 엑셀 저장버튼 누르기"
   ]
  },
  {
   "cell_type": "code",
   "execution_count": 53,
   "id": "f8cce60d",
   "metadata": {},
   "outputs": [],
   "source": [
    "search = \"\"\"//*[@id=\"glopopd_excel\"]\"\"\"\n",
    "driver.find_element_by_xpath(search).click()"
   ]
  },
  {
   "cell_type": "markdown",
   "id": "371cbc70",
   "metadata": {},
   "source": [
    "## 지역별(구 별)로 주유소 정보를 엑셀파일로 저장"
   ]
  },
  {
   "cell_type": "code",
   "execution_count": 72,
   "id": "1c95df4a",
   "metadata": {},
   "outputs": [],
   "source": [
    "from tqdm import tqdm_notebook\n",
    "import time"
   ]
  },
  {
   "cell_type": "code",
   "execution_count": 76,
   "id": "67fe1fb2",
   "metadata": {},
   "outputs": [
    {
     "data": {
      "application/vnd.jupyter.widget-view+json": {
       "model_id": "6770628712da4ecd9f80ba688f1dd6d3",
       "version_major": 2,
       "version_minor": 0
      },
      "text/plain": [
       "  0%|          | 0/25 [00:00<?, ?it/s]"
      ]
     },
     "metadata": {},
     "output_type": "display_data"
    }
   ],
   "source": [
    "for gu in tqdm_notebook(gu_names):\n",
    "    element = driver.find_element_by_id(\"SIGUNGU_NM0\")\n",
    "    element.send_keys(gu)\n",
    "    \n",
    "    time.sleep(1)\n",
    "    \n",
    "    search = \"\"\"//*[@id=\"searRgSelect\"]\"\"\"\n",
    "    driver.find_element_by_xpath(search).click()\n",
    "    \n",
    "    time.sleep(1)\n",
    "    \n",
    "    search = \"\"\"//*[@id=\"glopopd_excel\"]\"\"\"\n",
    "    driver.find_element_by_xpath(search).click()\n",
    "    \n",
    "driver.close()"
   ]
  },
  {
   "cell_type": "markdown",
   "id": "41c9e5e4",
   "metadata": {},
   "source": [
    "# Data Preprocessing"
   ]
  },
  {
   "cell_type": "markdown",
   "id": "78746dd5",
   "metadata": {},
   "source": [
    "## 저장된 엑셀 파일 불러오기"
   ]
  },
  {
   "cell_type": "code",
   "execution_count": 89,
   "id": "b2348ed1",
   "metadata": {},
   "outputs": [],
   "source": [
    "from glob import glob"
   ]
  },
  {
   "cell_type": "code",
   "execution_count": 95,
   "id": "b9628ff2",
   "metadata": {},
   "outputs": [],
   "source": [
    "station_files = glob(\"data/oil/지역*.*\")\n",
    "station_files\n",
    "\n",
    "tmp_raw = []\n",
    "for fname in station_files:\n",
    "    tmp = pd.read_excel(fname, header = 2)\n",
    "    tmp_raw.append(tmp)"
   ]
  },
  {
   "cell_type": "code",
   "execution_count": 96,
   "id": "f2c0a03f",
   "metadata": {},
   "outputs": [
    {
     "data": {
      "text/plain": [
       "25"
      ]
     },
     "execution_count": 96,
     "metadata": {},
     "output_type": "execute_result"
    }
   ],
   "source": [
    "len(tmp_raw)"
   ]
  },
  {
   "cell_type": "markdown",
   "id": "167174c2",
   "metadata": {},
   "source": [
    "### 데이터 프레임으로 합치기"
   ]
  },
  {
   "cell_type": "code",
   "execution_count": 130,
   "id": "68710165",
   "metadata": {},
   "outputs": [
    {
     "name": "stdout",
     "output_type": "stream",
     "text": [
      "<class 'pandas.core.frame.DataFrame'>\n",
      "Int64Index: 486 entries, 0 to 9\n",
      "Data columns (total 10 columns):\n",
      " #   Column  Non-Null Count  Dtype \n",
      "---  ------  --------------  ----- \n",
      " 0   지역      486 non-null    object\n",
      " 1   상호      486 non-null    object\n",
      " 2   주소      486 non-null    object\n",
      " 3   상표      486 non-null    object\n",
      " 4   전화번호    486 non-null    object\n",
      " 5   셀프여부    486 non-null    object\n",
      " 6   고급휘발유   486 non-null    object\n",
      " 7   휘발유     486 non-null    object\n",
      " 8   경유      486 non-null    object\n",
      " 9   실내등유    486 non-null    object\n",
      "dtypes: object(10)\n",
      "memory usage: 41.8+ KB\n"
     ]
    }
   ],
   "source": [
    "station_raw = pd.concat(tmp_raw)\n",
    "station_raw.info()"
   ]
  },
  {
   "cell_type": "code",
   "execution_count": 131,
   "id": "7c1534c5",
   "metadata": {},
   "outputs": [
    {
     "data": {
      "text/html": [
       "<div>\n",
       "<style scoped>\n",
       "    .dataframe tbody tr th:only-of-type {\n",
       "        vertical-align: middle;\n",
       "    }\n",
       "\n",
       "    .dataframe tbody tr th {\n",
       "        vertical-align: top;\n",
       "    }\n",
       "\n",
       "    .dataframe thead th {\n",
       "        text-align: right;\n",
       "    }\n",
       "</style>\n",
       "<table border=\"1\" class=\"dataframe\">\n",
       "  <thead>\n",
       "    <tr style=\"text-align: right;\">\n",
       "      <th></th>\n",
       "      <th>Oil_store</th>\n",
       "      <th>주소</th>\n",
       "      <th>가격</th>\n",
       "      <th>셀프</th>\n",
       "      <th>상표</th>\n",
       "    </tr>\n",
       "  </thead>\n",
       "  <tbody>\n",
       "    <tr>\n",
       "      <th>0</th>\n",
       "      <td>도봉제일주유소(주)송만에너지</td>\n",
       "      <td>서울 도봉구 도봉로 783 (도봉동)</td>\n",
       "      <td>1529</td>\n",
       "      <td>N</td>\n",
       "      <td>현대오일뱅크</td>\n",
       "    </tr>\n",
       "    <tr>\n",
       "      <th>1</th>\n",
       "      <td>한이에너지(주) 쌍문주유소</td>\n",
       "      <td>서울 도봉구 도봉로 547 (쌍문동)</td>\n",
       "      <td>1534</td>\n",
       "      <td>Y</td>\n",
       "      <td>S-OIL</td>\n",
       "    </tr>\n",
       "    <tr>\n",
       "      <th>2</th>\n",
       "      <td>정다운셀프주유소</td>\n",
       "      <td>서울 도봉구 도봉로 635</td>\n",
       "      <td>1534</td>\n",
       "      <td>Y</td>\n",
       "      <td>SK에너지</td>\n",
       "    </tr>\n",
       "    <tr>\n",
       "      <th>3</th>\n",
       "      <td>구도일주유소 파크빌</td>\n",
       "      <td>서울 도봉구 해등로3길 86 (창동)</td>\n",
       "      <td>1534</td>\n",
       "      <td>Y</td>\n",
       "      <td>S-OIL</td>\n",
       "    </tr>\n",
       "    <tr>\n",
       "      <th>4</th>\n",
       "      <td>구도일주유소 도봉</td>\n",
       "      <td>서울 도봉구 도봉로 706 (방학동)</td>\n",
       "      <td>1534</td>\n",
       "      <td>Y</td>\n",
       "      <td>S-OIL</td>\n",
       "    </tr>\n",
       "  </tbody>\n",
       "</table>\n",
       "</div>"
      ],
      "text/plain": [
       "         Oil_store                    주소    가격 셀프      상표\n",
       "0  도봉제일주유소(주)송만에너지  서울 도봉구 도봉로 783 (도봉동)  1529  N  현대오일뱅크\n",
       "1   한이에너지(주) 쌍문주유소  서울 도봉구 도봉로 547 (쌍문동)  1534  Y   S-OIL\n",
       "2         정다운셀프주유소        서울 도봉구 도봉로 635  1534  Y   SK에너지\n",
       "3       구도일주유소 파크빌  서울 도봉구 해등로3길 86 (창동)  1534  Y   S-OIL\n",
       "4        구도일주유소 도봉  서울 도봉구 도봉로 706 (방학동)  1534  Y   S-OIL"
      ]
     },
     "execution_count": 131,
     "metadata": {},
     "output_type": "execute_result"
    }
   ],
   "source": [
    "# 재구성\n",
    "stations = pd.DataFrame({'Oil_store':station_raw['상호'],\n",
    "              \"주소\":station_raw[\"주소\"],\n",
    "              \"가격\":station_raw[\"휘발유\"],\n",
    "              \"셀프\":station_raw[\"셀프여부\"],\n",
    "              \"상표\":station_raw[\"상표\"]})\n",
    "stations.head()"
   ]
  },
  {
   "cell_type": "markdown",
   "id": "036cc9b1",
   "metadata": {},
   "source": [
    "### 구로 나누기"
   ]
  },
  {
   "cell_type": "code",
   "execution_count": 132,
   "id": "5b823e78",
   "metadata": {},
   "outputs": [
    {
     "data": {
      "text/html": [
       "<div>\n",
       "<style scoped>\n",
       "    .dataframe tbody tr th:only-of-type {\n",
       "        vertical-align: middle;\n",
       "    }\n",
       "\n",
       "    .dataframe tbody tr th {\n",
       "        vertical-align: top;\n",
       "    }\n",
       "\n",
       "    .dataframe thead th {\n",
       "        text-align: right;\n",
       "    }\n",
       "</style>\n",
       "<table border=\"1\" class=\"dataframe\">\n",
       "  <thead>\n",
       "    <tr style=\"text-align: right;\">\n",
       "      <th></th>\n",
       "      <th>Oil_store</th>\n",
       "      <th>주소</th>\n",
       "      <th>가격</th>\n",
       "      <th>셀프</th>\n",
       "      <th>상표</th>\n",
       "      <th>구</th>\n",
       "    </tr>\n",
       "  </thead>\n",
       "  <tbody>\n",
       "    <tr>\n",
       "      <th>0</th>\n",
       "      <td>도봉제일주유소(주)송만에너지</td>\n",
       "      <td>서울 도봉구 도봉로 783 (도봉동)</td>\n",
       "      <td>1529</td>\n",
       "      <td>N</td>\n",
       "      <td>현대오일뱅크</td>\n",
       "      <td>도봉구</td>\n",
       "    </tr>\n",
       "    <tr>\n",
       "      <th>1</th>\n",
       "      <td>한이에너지(주) 쌍문주유소</td>\n",
       "      <td>서울 도봉구 도봉로 547 (쌍문동)</td>\n",
       "      <td>1534</td>\n",
       "      <td>Y</td>\n",
       "      <td>S-OIL</td>\n",
       "      <td>도봉구</td>\n",
       "    </tr>\n",
       "    <tr>\n",
       "      <th>2</th>\n",
       "      <td>정다운셀프주유소</td>\n",
       "      <td>서울 도봉구 도봉로 635</td>\n",
       "      <td>1534</td>\n",
       "      <td>Y</td>\n",
       "      <td>SK에너지</td>\n",
       "      <td>도봉구</td>\n",
       "    </tr>\n",
       "    <tr>\n",
       "      <th>3</th>\n",
       "      <td>구도일주유소 파크빌</td>\n",
       "      <td>서울 도봉구 해등로3길 86 (창동)</td>\n",
       "      <td>1534</td>\n",
       "      <td>Y</td>\n",
       "      <td>S-OIL</td>\n",
       "      <td>도봉구</td>\n",
       "    </tr>\n",
       "    <tr>\n",
       "      <th>4</th>\n",
       "      <td>구도일주유소 도봉</td>\n",
       "      <td>서울 도봉구 도봉로 706 (방학동)</td>\n",
       "      <td>1534</td>\n",
       "      <td>Y</td>\n",
       "      <td>S-OIL</td>\n",
       "      <td>도봉구</td>\n",
       "    </tr>\n",
       "  </tbody>\n",
       "</table>\n",
       "</div>"
      ],
      "text/plain": [
       "         Oil_store                    주소    가격 셀프      상표    구\n",
       "0  도봉제일주유소(주)송만에너지  서울 도봉구 도봉로 783 (도봉동)  1529  N  현대오일뱅크  도봉구\n",
       "1   한이에너지(주) 쌍문주유소  서울 도봉구 도봉로 547 (쌍문동)  1534  Y   S-OIL  도봉구\n",
       "2         정다운셀프주유소        서울 도봉구 도봉로 635  1534  Y   SK에너지  도봉구\n",
       "3       구도일주유소 파크빌  서울 도봉구 해등로3길 86 (창동)  1534  Y   S-OIL  도봉구\n",
       "4        구도일주유소 도봉  서울 도봉구 도봉로 706 (방학동)  1534  Y   S-OIL  도봉구"
      ]
     },
     "execution_count": 132,
     "metadata": {},
     "output_type": "execute_result"
    }
   ],
   "source": [
    "stations['구'] = [addr.split()[1] for addr in stations['주소']]\n",
    "stations.head()"
   ]
  },
  {
   "cell_type": "code",
   "execution_count": 133,
   "id": "5457022e",
   "metadata": {},
   "outputs": [
    {
     "name": "stdout",
     "output_type": "stream",
     "text": [
      "['도봉구' '마포구' '광진구' '중랑구' '관악구' '서대문구' '노원구' '강서구' '양천구' '종로구' '서초구' '성동구'\n",
      " '중구' '영등포구' '강북구' '용산구' '강동구' '성북구' '송파구' '은평구' '동대문구' '강남구' '금천구' '구로구'\n",
      " '동작구']\n",
      "25\n"
     ]
    }
   ],
   "source": [
    "print(stations[\"구\"].unique())\n",
    "print(len(stations[\"구\"].unique()))"
   ]
  },
  {
   "cell_type": "markdown",
   "id": "eab28ab4",
   "metadata": {},
   "source": [
    "### 가격이 없는 데이터 제거"
   ]
  },
  {
   "cell_type": "code",
   "execution_count": 134,
   "id": "be8e96dc",
   "metadata": {},
   "outputs": [
    {
     "name": "stdout",
     "output_type": "stream",
     "text": [
      "<class 'pandas.core.frame.DataFrame'>\n",
      "Int64Index: 474 entries, 0 to 9\n",
      "Data columns (total 6 columns):\n",
      " #   Column     Non-Null Count  Dtype  \n",
      "---  ------     --------------  -----  \n",
      " 0   Oil_store  474 non-null    object \n",
      " 1   주소         474 non-null    object \n",
      " 2   가격         474 non-null    float64\n",
      " 3   셀프         474 non-null    object \n",
      " 4   상표         474 non-null    object \n",
      " 5   구          474 non-null    object \n",
      "dtypes: float64(1), object(5)\n",
      "memory usage: 25.9+ KB\n"
     ]
    }
   ],
   "source": [
    "stations['가격'].unique()\n",
    "stations[stations['가격']==\"-\"]\n",
    "stations = stations[stations['가격']!=\"-\"]\n",
    "\n",
    "stations[\"가격\"] = [float(val) for val in stations['가격']]\n",
    "\n",
    "stations.info()"
   ]
  },
  {
   "cell_type": "markdown",
   "id": "57ee4291",
   "metadata": {},
   "source": [
    "### 인덱스 조정"
   ]
  },
  {
   "cell_type": "code",
   "execution_count": 135,
   "id": "766647d1",
   "metadata": {},
   "outputs": [
    {
     "data": {
      "text/html": [
       "<div>\n",
       "<style scoped>\n",
       "    .dataframe tbody tr th:only-of-type {\n",
       "        vertical-align: middle;\n",
       "    }\n",
       "\n",
       "    .dataframe tbody tr th {\n",
       "        vertical-align: top;\n",
       "    }\n",
       "\n",
       "    .dataframe thead th {\n",
       "        text-align: right;\n",
       "    }\n",
       "</style>\n",
       "<table border=\"1\" class=\"dataframe\">\n",
       "  <thead>\n",
       "    <tr style=\"text-align: right;\">\n",
       "      <th></th>\n",
       "      <th>index</th>\n",
       "      <th>Oil_store</th>\n",
       "      <th>주소</th>\n",
       "      <th>가격</th>\n",
       "      <th>셀프</th>\n",
       "      <th>상표</th>\n",
       "      <th>구</th>\n",
       "    </tr>\n",
       "  </thead>\n",
       "  <tbody>\n",
       "    <tr>\n",
       "      <th>0</th>\n",
       "      <td>0</td>\n",
       "      <td>도봉제일주유소(주)송만에너지</td>\n",
       "      <td>서울 도봉구 도봉로 783 (도봉동)</td>\n",
       "      <td>1529.0</td>\n",
       "      <td>N</td>\n",
       "      <td>현대오일뱅크</td>\n",
       "      <td>도봉구</td>\n",
       "    </tr>\n",
       "    <tr>\n",
       "      <th>1</th>\n",
       "      <td>1</td>\n",
       "      <td>한이에너지(주) 쌍문주유소</td>\n",
       "      <td>서울 도봉구 도봉로 547 (쌍문동)</td>\n",
       "      <td>1534.0</td>\n",
       "      <td>Y</td>\n",
       "      <td>S-OIL</td>\n",
       "      <td>도봉구</td>\n",
       "    </tr>\n",
       "    <tr>\n",
       "      <th>2</th>\n",
       "      <td>2</td>\n",
       "      <td>정다운셀프주유소</td>\n",
       "      <td>서울 도봉구 도봉로 635</td>\n",
       "      <td>1534.0</td>\n",
       "      <td>Y</td>\n",
       "      <td>SK에너지</td>\n",
       "      <td>도봉구</td>\n",
       "    </tr>\n",
       "    <tr>\n",
       "      <th>3</th>\n",
       "      <td>3</td>\n",
       "      <td>구도일주유소 파크빌</td>\n",
       "      <td>서울 도봉구 해등로3길 86 (창동)</td>\n",
       "      <td>1534.0</td>\n",
       "      <td>Y</td>\n",
       "      <td>S-OIL</td>\n",
       "      <td>도봉구</td>\n",
       "    </tr>\n",
       "    <tr>\n",
       "      <th>4</th>\n",
       "      <td>4</td>\n",
       "      <td>구도일주유소 도봉</td>\n",
       "      <td>서울 도봉구 도봉로 706 (방학동)</td>\n",
       "      <td>1534.0</td>\n",
       "      <td>Y</td>\n",
       "      <td>S-OIL</td>\n",
       "      <td>도봉구</td>\n",
       "    </tr>\n",
       "  </tbody>\n",
       "</table>\n",
       "</div>"
      ],
      "text/plain": [
       "   index        Oil_store                    주소      가격 셀프      상표    구\n",
       "0      0  도봉제일주유소(주)송만에너지  서울 도봉구 도봉로 783 (도봉동)  1529.0  N  현대오일뱅크  도봉구\n",
       "1      1   한이에너지(주) 쌍문주유소  서울 도봉구 도봉로 547 (쌍문동)  1534.0  Y   S-OIL  도봉구\n",
       "2      2         정다운셀프주유소        서울 도봉구 도봉로 635  1534.0  Y   SK에너지  도봉구\n",
       "3      3       구도일주유소 파크빌  서울 도봉구 해등로3길 86 (창동)  1534.0  Y   S-OIL  도봉구\n",
       "4      4        구도일주유소 도봉  서울 도봉구 도봉로 706 (방학동)  1534.0  Y   S-OIL  도봉구"
      ]
     },
     "execution_count": 135,
     "metadata": {},
     "output_type": "execute_result"
    }
   ],
   "source": [
    "stations.reset_index(inplace=True)\n",
    "stations.head()"
   ]
  },
  {
   "cell_type": "code",
   "execution_count": 136,
   "id": "2b560d62",
   "metadata": {},
   "outputs": [],
   "source": [
    "del stations['index']"
   ]
  },
  {
   "cell_type": "code",
   "execution_count": 137,
   "id": "9d4f2b12",
   "metadata": {},
   "outputs": [
    {
     "data": {
      "text/html": [
       "<div>\n",
       "<style scoped>\n",
       "    .dataframe tbody tr th:only-of-type {\n",
       "        vertical-align: middle;\n",
       "    }\n",
       "\n",
       "    .dataframe tbody tr th {\n",
       "        vertical-align: top;\n",
       "    }\n",
       "\n",
       "    .dataframe thead th {\n",
       "        text-align: right;\n",
       "    }\n",
       "</style>\n",
       "<table border=\"1\" class=\"dataframe\">\n",
       "  <thead>\n",
       "    <tr style=\"text-align: right;\">\n",
       "      <th></th>\n",
       "      <th>Oil_store</th>\n",
       "      <th>주소</th>\n",
       "      <th>가격</th>\n",
       "      <th>셀프</th>\n",
       "      <th>상표</th>\n",
       "      <th>구</th>\n",
       "    </tr>\n",
       "  </thead>\n",
       "  <tbody>\n",
       "    <tr>\n",
       "      <th>0</th>\n",
       "      <td>도봉제일주유소(주)송만에너지</td>\n",
       "      <td>서울 도봉구 도봉로 783 (도봉동)</td>\n",
       "      <td>1529.0</td>\n",
       "      <td>N</td>\n",
       "      <td>현대오일뱅크</td>\n",
       "      <td>도봉구</td>\n",
       "    </tr>\n",
       "    <tr>\n",
       "      <th>1</th>\n",
       "      <td>한이에너지(주) 쌍문주유소</td>\n",
       "      <td>서울 도봉구 도봉로 547 (쌍문동)</td>\n",
       "      <td>1534.0</td>\n",
       "      <td>Y</td>\n",
       "      <td>S-OIL</td>\n",
       "      <td>도봉구</td>\n",
       "    </tr>\n",
       "    <tr>\n",
       "      <th>2</th>\n",
       "      <td>정다운셀프주유소</td>\n",
       "      <td>서울 도봉구 도봉로 635</td>\n",
       "      <td>1534.0</td>\n",
       "      <td>Y</td>\n",
       "      <td>SK에너지</td>\n",
       "      <td>도봉구</td>\n",
       "    </tr>\n",
       "    <tr>\n",
       "      <th>3</th>\n",
       "      <td>구도일주유소 파크빌</td>\n",
       "      <td>서울 도봉구 해등로3길 86 (창동)</td>\n",
       "      <td>1534.0</td>\n",
       "      <td>Y</td>\n",
       "      <td>S-OIL</td>\n",
       "      <td>도봉구</td>\n",
       "    </tr>\n",
       "    <tr>\n",
       "      <th>4</th>\n",
       "      <td>구도일주유소 도봉</td>\n",
       "      <td>서울 도봉구 도봉로 706 (방학동)</td>\n",
       "      <td>1534.0</td>\n",
       "      <td>Y</td>\n",
       "      <td>S-OIL</td>\n",
       "      <td>도봉구</td>\n",
       "    </tr>\n",
       "    <tr>\n",
       "      <th>...</th>\n",
       "      <td>...</td>\n",
       "      <td>...</td>\n",
       "      <td>...</td>\n",
       "      <td>...</td>\n",
       "      <td>...</td>\n",
       "      <td>...</td>\n",
       "    </tr>\n",
       "    <tr>\n",
       "      <th>469</th>\n",
       "      <td>현대오일뱅크㈜직영 흑석동셀프주유소</td>\n",
       "      <td>서울 동작구 현충로 101 (흑석동)</td>\n",
       "      <td>1608.0</td>\n",
       "      <td>Y</td>\n",
       "      <td>현대오일뱅크</td>\n",
       "      <td>동작구</td>\n",
       "    </tr>\n",
       "    <tr>\n",
       "      <th>470</th>\n",
       "      <td>현대오일뱅크(주)직영 동작주유소</td>\n",
       "      <td>서울 동작구 상도로 403 (상도동)</td>\n",
       "      <td>1614.0</td>\n",
       "      <td>N</td>\n",
       "      <td>현대오일뱅크</td>\n",
       "      <td>동작구</td>\n",
       "    </tr>\n",
       "    <tr>\n",
       "      <th>471</th>\n",
       "      <td>대성산업(주) 노량진주유소</td>\n",
       "      <td>서울 동작구 노량진로 172</td>\n",
       "      <td>1628.0</td>\n",
       "      <td>N</td>\n",
       "      <td>GS칼텍스</td>\n",
       "      <td>동작구</td>\n",
       "    </tr>\n",
       "    <tr>\n",
       "      <th>472</th>\n",
       "      <td>(주)성림에너지 남성주유소</td>\n",
       "      <td>서울 동작구 동작대로 135 (사당동)</td>\n",
       "      <td>1629.0</td>\n",
       "      <td>Y</td>\n",
       "      <td>GS칼텍스</td>\n",
       "      <td>동작구</td>\n",
       "    </tr>\n",
       "    <tr>\n",
       "      <th>473</th>\n",
       "      <td>살피재주유소</td>\n",
       "      <td>서울 동작구 상도로 334</td>\n",
       "      <td>1725.0</td>\n",
       "      <td>N</td>\n",
       "      <td>SK에너지</td>\n",
       "      <td>동작구</td>\n",
       "    </tr>\n",
       "  </tbody>\n",
       "</table>\n",
       "<p>474 rows × 6 columns</p>\n",
       "</div>"
      ],
      "text/plain": [
       "              Oil_store                     주소      가격 셀프      상표    구\n",
       "0       도봉제일주유소(주)송만에너지   서울 도봉구 도봉로 783 (도봉동)  1529.0  N  현대오일뱅크  도봉구\n",
       "1        한이에너지(주) 쌍문주유소   서울 도봉구 도봉로 547 (쌍문동)  1534.0  Y   S-OIL  도봉구\n",
       "2              정다운셀프주유소         서울 도봉구 도봉로 635  1534.0  Y   SK에너지  도봉구\n",
       "3            구도일주유소 파크빌   서울 도봉구 해등로3길 86 (창동)  1534.0  Y   S-OIL  도봉구\n",
       "4             구도일주유소 도봉   서울 도봉구 도봉로 706 (방학동)  1534.0  Y   S-OIL  도봉구\n",
       "..                  ...                    ...     ... ..     ...  ...\n",
       "469  현대오일뱅크㈜직영 흑석동셀프주유소   서울 동작구 현충로 101 (흑석동)  1608.0  Y  현대오일뱅크  동작구\n",
       "470   현대오일뱅크(주)직영 동작주유소   서울 동작구 상도로 403 (상도동)  1614.0  N  현대오일뱅크  동작구\n",
       "471      대성산업(주) 노량진주유소        서울 동작구 노량진로 172  1628.0  N   GS칼텍스  동작구\n",
       "472      (주)성림에너지 남성주유소  서울 동작구 동작대로 135 (사당동)  1629.0  Y   GS칼텍스  동작구\n",
       "473              살피재주유소         서울 동작구 상도로 334  1725.0  N   SK에너지  동작구\n",
       "\n",
       "[474 rows x 6 columns]"
      ]
     },
     "execution_count": 137,
     "metadata": {},
     "output_type": "execute_result"
    }
   ],
   "source": [
    "stations"
   ]
  },
  {
   "cell_type": "markdown",
   "id": "ef519e44",
   "metadata": {},
   "source": [
    "## EDA"
   ]
  },
  {
   "cell_type": "code",
   "execution_count": null,
   "id": "3ac7bed2",
   "metadata": {},
   "outputs": [],
   "source": []
  },
  {
   "cell_type": "code",
   "execution_count": null,
   "id": "1c55f937",
   "metadata": {},
   "outputs": [],
   "source": []
  },
  {
   "cell_type": "code",
   "execution_count": null,
   "id": "8846ab55",
   "metadata": {},
   "outputs": [],
   "source": []
  }
 ],
 "metadata": {
  "kernelspec": {
   "display_name": "Python 3",
   "language": "python",
   "name": "python3"
  },
  "language_info": {
   "codemirror_mode": {
    "name": "ipython",
    "version": 3
   },
   "file_extension": ".py",
   "mimetype": "text/x-python",
   "name": "python",
   "nbconvert_exporter": "python",
   "pygments_lexer": "ipython3",
   "version": "3.9.2"
  },
  "toc": {
   "base_numbering": 1,
   "nav_menu": {},
   "number_sections": true,
   "sideBar": true,
   "skip_h1_title": false,
   "title_cell": "Table of Contents",
   "title_sidebar": "Contents",
   "toc_cell": false,
   "toc_position": {
    "height": "calc(100% - 180px)",
    "left": "10px",
    "top": "150px",
    "width": "195.909px"
   },
   "toc_section_display": true,
   "toc_window_display": false
  }
 },
 "nbformat": 4,
 "nbformat_minor": 5
}
