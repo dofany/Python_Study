{
 "cells": [
  {
   "cell_type": "markdown",
   "metadata": {},
   "source": [
    "# 1. 데이터 분석 라이브러리\n",
    "\n",
    "\n",
    "+ numpy\n",
    "    - 벡터 및 행렬 연산과 관련된 편리한 기능들을 제공\n",
    "    - 특히 배열(Array)과 관련된 연산을 제공\n",
    "    - 여러가지 다양한 수학 함수 제공\n",
    "\n",
    "+ pandas\n",
    "    - Series, DataFrame 등의 자료구조를 활용하여 데이터 분석에 있어 우수한 성능을 발휘\n",
    "    - 대량의 데이터를 더욱 빠른속도로 처리\n",
    "    - 데이터 분석의 메인 도구\n",
    "    \n",
    "    \n",
    "+ matplotlib\n",
    "    - 시각화\n",
    "    \n",
    "    \n",
    "+ scipy\n",
    "    - 과학, 분석용 오픈소스 기반 라이브러리\n",
    "    - numpy의 array object위에서 구축"
   ]
  }
 ],
 "metadata": {
  "kernelspec": {
   "display_name": "Python 3",
   "language": "python",
   "name": "python3"
  },
  "language_info": {
   "codemirror_mode": {
    "name": "ipython",
    "version": 3
   },
   "file_extension": ".py",
   "mimetype": "text/x-python",
   "name": "python",
   "nbconvert_exporter": "python",
   "pygments_lexer": "ipython3",
   "version": "3.8.5"
  }
 },
 "nbformat": 4,
 "nbformat_minor": 4
}
