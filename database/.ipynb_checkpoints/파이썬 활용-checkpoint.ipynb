{
 "cells": [
  {
   "cell_type": "markdown",
   "metadata": {},
   "source": [
    "## 1. 파이썬과 MySQL 활용\n",
    "\n",
    "+ 파이썬과 MySQL을 연결해주는 모듈 : \n",
    "    - pip install mysqlclient\n",
    "    - pip install PyMySQL    "
   ]
  },
  {
   "cell_type": "code",
   "execution_count": 4,
   "metadata": {},
   "outputs": [
    {
     "name": "stdout",
     "output_type": "stream",
     "text": [
      "<_mysql.connection open to '127.0.0.1' at 0x7fad7e159210>\n"
     ]
    }
   ],
   "source": [
    "# mysqlclient 모듈 사용\n",
    "\n",
    "import MySQLdb\n",
    "\n",
    "conn = MySQLdb.connect(host=\"127.0.0.1\", user=\"root\", password=\"ehghks9580\",database=\"world\")\n",
    "print(conn)\n",
    "conn.close()\n"
   ]
  },
  {
   "cell_type": "code",
   "execution_count": 11,
   "metadata": {},
   "outputs": [
    {
     "name": "stdout",
     "output_type": "stream",
     "text": [
      "<pymysql.connections.Connection object at 0x7ff1e694d520>\n"
     ]
    }
   ],
   "source": [
    "# pymysql 모듈 사용\n",
    "\n",
    "import pymysql\n",
    "\n",
    "conn = pymysql.connect(host=\"127.0.0.1\", user = \"root\", password=\"ehghks9580\",database=\"world\")\n",
    "print(conn)\n",
    "conn.close()"
   ]
  },
  {
   "cell_type": "code",
   "execution_count": 3,
   "metadata": {},
   "outputs": [],
   "source": [
    "config = {\"host\":\"127.0.0.1\",\"user\":\"root\",\"password\":\"ehghks9580\",\"database\":\"world\"}"
   ]
  },
  {
   "cell_type": "code",
   "execution_count": 8,
   "metadata": {},
   "outputs": [
    {
     "name": "stdout",
     "output_type": "stream",
     "text": [
      "<_mysql.connection open to '127.0.0.1' at 0x7fd4e01a0610>\n"
     ]
    }
   ],
   "source": [
    "conn = MySQLdb.connect(**config)\n",
    "print(conn)\n",
    "conn.close()"
   ]
  },
  {
   "cell_type": "markdown",
   "metadata": {},
   "source": [
    "### (1) SELECT"
   ]
  },
  {
   "cell_type": "code",
   "execution_count": 38,
   "metadata": {},
   "outputs": [
    {
     "name": "stdout",
     "output_type": "stream",
     "text": [
      "(1, 'Kabul', 'AFG', 'Kabol', 1780000)\n",
      "(2, 'Qandahar', 'AFG', 'Qandahar', 237500)\n",
      "(3, 'Herat', 'AFG', 'Herat', 186800)\n",
      "(4, 'Mazar-e-Sharif', 'AFG', 'Balkh', 127800)\n",
      "(5, 'Amsterdam', 'NLD', 'Noord-Holland', 731200)\n",
      "(6, 'Rotterdam', 'NLD', 'Zuid-Holland', 593321)\n",
      "(7, 'Haag', 'NLD', 'Zuid-Holland', 440900)\n",
      "(8, 'Utrecht', 'NLD', 'Utrecht', 234323)\n",
      "(9, 'Eindhoven', 'NLD', 'Noord-Brabant', 201843)\n",
      "(10, 'Tilburg', 'NLD', 'Noord-Brabant', 193238)\n"
     ]
    }
   ],
   "source": [
    "import MySQLdb\n",
    "\n",
    "config = {\"host\":\"127.0.0.1\", \"user\":\"root\", \"password\":\"ehghks9580\", \"database\":\"world\"} # db접속\n",
    "\n",
    "conn = MySQLdb.connect(**config) # 가변인수로 주소값, 유저명, 패스워드, 데이터베이스를 받아옴\n",
    "\n",
    "sql = \"select * from city limit 10\" # 쿼리문 작성\n",
    "cur = conn.cursor() # 커서 생성\n",
    "cur.execute(sql) # 쿼리 실행\n",
    "\n",
    "# for data in cur: # 결과값 출력\n",
    "#     # print(data) => 튜플 값\n",
    "#     print(\"%d %s %s %s %d\"%data) # 문자열 값\n",
    "\n",
    "# print(\"-\"*35)\n",
    "\n",
    "# for a,b,c,d,e in cur:\n",
    "#     print(a,b,c,d,e)\n",
    "    \n",
    "# print(\"-\"*35)\n",
    "\n",
    "[result for data in cur]\n",
    "\n",
    "conn.close()\n",
    "\n",
    "for i in result:\n",
    "    print(i)\n"
   ]
  },
  {
   "cell_type": "markdown",
   "metadata": {},
   "source": [
    "### (2) INSERT"
   ]
  },
  {
   "cell_type": "code",
   "execution_count": 1,
   "metadata": {},
   "outputs": [],
   "source": [
    "import MySQLdb\n",
    "\n",
    "config = {\"host\":\"127.0.0.1\", \"user\":\"root\", \"password\":\"ehghks9580\", \"database\":\"world\"} # db접속\n",
    "\n",
    "conn = MySQLdb.connect(**config) # 가변인수로 주소값, 유저명, 패스워드, 데이터베이스를 받아옴\n",
    "\n",
    "sql = \"create table tbltest(empno int, ename varchar(10), sal int, job varchar(10))\" # 쿼리문 작성\n",
    "cur = conn.cursor() # 커서 생성\n",
    "cur.execute(sql) # 커서 실행\n",
    "\n",
    "sql = \"insert into tbltest(empno,ename,sal) values(1,'scott',5000)\"\n",
    "cur.execute(sql)\n",
    "conn.commit()\n",
    "\n",
    "conn.close()"
   ]
  },
  {
   "cell_type": "code",
   "execution_count": 2,
   "metadata": {},
   "outputs": [],
   "source": [
    "import MySQLdb\n",
    "\n",
    "empno = 2\n",
    "ename = 'miller'\n",
    "sal = 1300\n",
    "\n",
    "config = {\"host\":\"127.0.0.1\", \"user\":\"root\", \"password\":\"ehghks9580\", \"database\":\"world\"} # db접속\n",
    "\n",
    "conn = MySQLdb.connect(**config) # 가변인수로 주소값, 유저명, 패스워드, 데이터베이스를 받아옴\n",
    "cur = conn.cursor()\n",
    "\n",
    "sql = \"insert into tbltest(empno,ename,sal) values(\"+str(empno)+\",'\"+ename+\"',\"+str(sal)+\")\"\n",
    "cur.execute(sql)\n",
    "conn.commit()\n",
    "\n",
    "conn.close()"
   ]
  },
  {
   "cell_type": "code",
   "execution_count": 4,
   "metadata": {},
   "outputs": [],
   "source": [
    "import MySQLdb\n",
    "\n",
    "empno = 3\n",
    "ename = 'tom'\n",
    "sal = 2000\n",
    "\n",
    "config = {\"host\":\"127.0.0.1\", \"user\":\"root\", \"password\":\"ehghks9580\", \"database\":\"world\"} # db접속\n",
    "\n",
    "conn = MySQLdb.connect(**config) # 가변인수로 주소값, 유저명, 패스워드, 데이터베이스를 받아옴\n",
    "cur = conn.cursor()\n",
    "\n",
    "sql = \"insert into tbltest(empno,ename,sal) values(%s, %s, %s)\"\n",
    "sql_data = (str(empno), ename, str(sal))\n",
    "\n",
    "cur.execute(sql, sql_data) # 두번째 인자에 의해 매핑\n",
    "conn.commit()\n",
    "\n",
    "conn.close()"
   ]
  },
  {
   "cell_type": "code",
   "execution_count": 15,
   "metadata": {},
   "outputs": [],
   "source": [
    "# 예외처리\n",
    "\n",
    "import MySQLdb\n",
    "\n",
    "config = {\"host\":\"127.0.0.1\", \"user\":\"root\", \"password\":\"ehghks9580\", \"database\":\"world\"}\n",
    "try:\n",
    "    conn = MySQLdb.connect(**config)\n",
    "    cur = conn.cursor()\n",
    "    \n",
    "    empno = 4\n",
    "    ename = 'jerry'\n",
    "    sal = 2000\n",
    "    \n",
    "    sql = \"insert into tbltest(empno, ename, sal) values(%s, %s, %s)\"\n",
    "    sql_data = (str(empno), ename, str(sal))\n",
    "    \n",
    "    cur.execute(sql, sql_data)\n",
    "    conn.commit()\n",
    "    \n",
    "except Exception as e:\n",
    "    print(\"error : \",e)\n",
    "finally:\n",
    "    conn.close()"
   ]
  },
  {
   "cell_type": "code",
   "execution_count": 16,
   "metadata": {},
   "outputs": [],
   "source": [
    "# 데이터 여러 개 입력하기\n",
    "\n",
    "import MySQLdb\n",
    "\n",
    "config = {\"host\":\"127.0.0.1\", \"user\":\"root\", \"password\":\"ehghks9580\", \"database\":\"world\"}\n",
    "\n",
    "conn = MySQLdb.connect(**config)\n",
    "cur = conn.cursor()\n",
    "\n",
    "for i in range(10):\n",
    "    sql = \"insert into tbltest(empno, ename, sal) values(5,'jane',10000)\"\n",
    "    cur.execute(sql)\n",
    "    conn.commit()\n",
    "    \n",
    "conn.close()"
   ]
  },
  {
   "cell_type": "markdown",
   "metadata": {},
   "source": [
    "### (3) cursor 객체의 fetchall(), fetchmany(), fetchone() \n",
    "   - fetch : 실행해서 결과를 가져오는 것\n",
    "   - default는 fetchall() => 그래서 커서의 메소드를 생략하고 전체값을 가져올수 있었다.\n",
    "   - fetchall() : 값을 전부 가져오는 것\n",
    "   - fetchmany() : 불러오고 싶은 값의 개수를 지정해서 불러오는 것\n",
    "   - fetchone() : 하나의 값만 불러오는 것\n",
    "    "
   ]
  },
  {
   "cell_type": "code",
   "execution_count": 26,
   "metadata": {},
   "outputs": [
    {
     "name": "stdout",
     "output_type": "stream",
     "text": [
      "(1, 'scott', 5000, None)\n"
     ]
    }
   ],
   "source": [
    "import MySQLdb\n",
    "\n",
    "config = {\"host\":\"127.0.0.1\", \"user\":\"root\", \"password\":\"ehghks9580\", \"database\":\"world\"}\n",
    "\n",
    "try:\n",
    "    conn = MySQLdb.connect(**config)\n",
    "    cur = conn.cursor()\n",
    "    \n",
    "    cur.execute(\"select * from tbltest\")\n",
    "    \n",
    "#     for i in cur.fetchall():  # fetchall()\n",
    "#         print(i)\n",
    "#     for i in  cur.fetchmany(5): # fetchmany()\n",
    "#         print(i)\n",
    "\n",
    "    print(cur.fetchone())\n",
    "        \n",
    "finally:\n",
    "    conn.close()"
   ]
  },
  {
   "cell_type": "markdown",
   "metadata": {},
   "source": [
    "### (4) DictCursor\n",
    "   - 필드명을 인덱스 대신 키로 사용"
   ]
  },
  {
   "cell_type": "code",
   "execution_count": 3,
   "metadata": {},
   "outputs": [
    {
     "name": "stdout",
     "output_type": "stream",
     "text": [
      "1 scott 5000\n",
      "2 miller 1300\n",
      "3 tom 2000\n",
      "4 jerry 2000\n",
      "5 jane 10000\n",
      "5 jane 10000\n",
      "5 jane 10000\n",
      "5 jane 10000\n",
      "5 jane 10000\n",
      "5 jane 10000\n",
      "5 jane 10000\n",
      "5 jane 10000\n",
      "5 jane 10000\n",
      "5 jane 10000\n"
     ]
    }
   ],
   "source": [
    "import MySQLdb\n",
    "\n",
    "config = {\"host\":\"127.0.0.1\", \"user\":\"root\", \"password\":\"ehghks9580\", \"database\":\"world\"}\n",
    "\n",
    "\n",
    "try:\n",
    "    conn = MySQLdb.connect(**config)\n",
    "    cur = conn.cursor(MySQLdb.cursors.DictCursor)\n",
    "    \n",
    "    cur.execute(\"select * from tbltest\")\n",
    "    \n",
    "    for i in cur.fetchall():\n",
    "        # print(i[0], i[1], i[2])\n",
    "        print(i[\"empno\"], i[\"ename\"], i[\"sal\"])\n",
    "    \n",
    "finally:\n",
    "    conn.close()"
   ]
  },
  {
   "cell_type": "markdown",
   "metadata": {},
   "source": [
    "### (5) 응용 실습1: CSV파일을 DB에 저장"
   ]
  },
  {
   "cell_type": "code",
   "execution_count": 67,
   "metadata": {},
   "outputs": [],
   "source": [
    "'''\n",
    "\n",
    "CREATE TABLE IF NOT EXISTS suppliers( \n",
    "    Supplier_Name varchar(20), \n",
    "    Invoice_Number varchar(20), \n",
    "    Part_Number varchar(20), \n",
    "    Cost float,\n",
    "    Purchase_Date date \n",
    ");\n",
    "\n",
    "'''\n",
    "import csv\n",
    "import MySQLdb\n",
    "\n",
    "config = {\"host\":\"127.0.0.1\", \"user\":\"root\", \"password\":\"ehghks9580\", \"database\":\"world\"}\n",
    "file = csv.reader(open(\"data/input.csv\")) # 파일 불러오기\n",
    "#print(next(file) # 한 줄씩 읽기\n",
    "\n",
    "header = next(file)\n",
    "\n",
    "try:\n",
    "    conn = MySQLdb.connect(**config)\n",
    "    cur = conn.cursor()\n",
    "    \n",
    "    cur.execute(\"delete from suppliers\") # 중복 방지\n",
    "    conn.commit()\n",
    "    \n",
    "\n",
    "    for i in file:\n",
    "        # print(i)\n",
    "        cur.execute(\"insert into suppliers values(%s, %s, %s, %s, %s)\",i)\n",
    "    conn.commit()        \n",
    "finally:\n",
    "    conn.close()"
   ]
  },
  {
   "cell_type": "code",
   "execution_count": 12,
   "metadata": {},
   "outputs": [],
   "source": [
    "# 마지막 값을 날짜형식으로 받아오기\n",
    "\n",
    "import csv\n",
    "import MySQLdb\n",
    "import datetime\n",
    "\n",
    "config = {\"host\":\"127.0.0.1\", \"user\":\"root\", \"password\":\"ehghks9580\", \"database\":\"world\"}\n",
    "file = csv.reader(open(\"data/input.csv\")) # 파일 불러오기\n",
    "#print(next(file) # 한 줄씩 읽기\n",
    "\n",
    "header = next(file)\n",
    "\n",
    "try:\n",
    "    conn = MySQLdb.connect(**config)\n",
    "    cur = conn.cursor()\n",
    "    \n",
    "    cur.execute(\"delete from suppliers\") # 중복 방지\n",
    "    conn.commit()\n",
    "    \n",
    "\n",
    "    for i in file:\n",
    "        # print(i)\n",
    "        # cur.execute(\"insert into suppliers values(%s, %s, %s, %s, %s)\",i)\n",
    "        data = []\n",
    "        for col in range(len(header)): # 컬럼의 개수만큼 반복\n",
    "            if col == 4: # 컬럼의 마지막 위치\n",
    "                tmp = datetime.datetime.strptime(i[col], '%Y-%m-%d') # 날짜 형식으로 변환\n",
    "                data.append(tmp)\n",
    "            else:\n",
    "                data.append(i[col])\n",
    "                \n",
    "        cur.execute(\"insert into suppliers values(%s, %s, %s, %s, %s)\",data)        \n",
    "    conn.commit()               \n",
    "finally:\n",
    "    conn.close()"
   ]
  },
  {
   "cell_type": "markdown",
   "metadata": {},
   "source": [
    "### (5) DB에서 가져온 데이터를 파일로 저장"
   ]
  },
  {
   "cell_type": "code",
   "execution_count": 22,
   "metadata": {},
   "outputs": [],
   "source": [
    "import csv\n",
    "import MySQLdb\n",
    "\n",
    "config = {\"host\":\"127.0.0.1\", \"user\":\"root\", \"password\":\"ehghks9580\", \"database\":\"world\"}\n",
    "\n",
    "try:\n",
    "    conn = MySQLdb.connect(**config)\n",
    "    cur = conn.cursor()\n",
    "    \n",
    "    cur.execute(\"select * from suppliers where cost > 500000\")\n",
    "    file = csv.writer(open(\"data/output.csv\",\"w\"),delimiter=\",\") # 파일 저장 delimiter = ,가 아닌 다른형식으로 바꿔줌\n",
    "    header = [\"Supplier Name\",\"Invoice Number\",\"Part Number\",\"Cost\",\"Purchase Date\"] # 컬럼을 리스트 형식으로 불러오기\n",
    "    file.writerow(header)\n",
    "    \n",
    "    for i in cur: \n",
    "        file.writerow(i)\n",
    "    \n",
    "finally:\n",
    "    conn.close()"
   ]
  },
  {
   "cell_type": "markdown",
   "metadata": {},
   "source": [
    "## 2. 파이썬과 SQLite\n",
    "   - 로컬로 사용할 수 있는 DBMS\n",
    "       - Access \n",
    "       - SQLite\n",
    "       - MS-SQL Server Compact Edition\n",
    "       - Firebird Embedded Server\n",
    "       - H2\n",
    "       - HSQL\n",
    "       - Apache Derby\n",
    "       \n",
    "   - 특징\n",
    "       - 파일 기반의 DBMS, 저메모리, 빠른 처리속도\n",
    "       - 오픈 소스\n",
    "       - 별도의 DB서버가 없어도 쉽고 편리하게 사용할 수 있는 Embeded SQL DB엔진\n",
    "       - 안드로이드, 아이폰 등의 스마트폰에 기본 내장된 DB\n",
    "       - 파이썬에도 내장\n",
    "       - 표준SQL 지원\n",
    "       --------------------------------\n",
    "       - 컬럼을 삭제하거나 변경하는 것 등이 제한\n",
    "       - Left Outer Join만 지원\n",
    "       - 읽기 전용 뷰만 제공\n",
    "       \n",
    "   - 공식 사이트\n",
    "       - http://sqlite.org\n",
    "       \n",
    "   - 클라이언트 툴\n",
    "       - http://www.sqliteexpert.com\n",
    "       "
   ]
  },
  {
   "cell_type": "code",
   "execution_count": 3,
   "metadata": {},
   "outputs": [
    {
     "name": "stdout",
     "output_type": "stream",
     "text": [
      "2.6.0\n",
      "3.33.0\n",
      "<sqlite3.Connection object at 0x7fbba8e024e0>\n"
     ]
    }
   ],
   "source": [
    "import sqlite3\n",
    "\n",
    "print(sqlite3.version)\n",
    "print(sqlite3.sqlite_version)\n",
    "conn = sqlite3.connect(\"sqlite/tbl.db\")\n",
    "print(conn)\n",
    "conn.close()"
   ]
  },
  {
   "cell_type": "code",
   "execution_count": 6,
   "metadata": {},
   "outputs": [],
   "source": [
    "import sqlite3\n",
    "\n",
    "conn=sqlite3.connect(\"sqlite/tbl.db\")\n",
    "cur = conn.cursor()\n",
    "cur.execute(\"select * from tblbook\")\n",
    "for i in cur:\n",
    "    print(i)\n",
    "    "
   ]
  },
  {
   "cell_type": "code",
   "execution_count": 8,
   "metadata": {},
   "outputs": [
    {
     "name": "stdout",
     "output_type": "stream",
     "text": [
      "(1, 'gd', '2020-12-25')\n",
      "(2, 'top', '2021-04-27')\n"
     ]
    }
   ],
   "source": [
    "'''\n",
    "create table tblmember(\n",
    "    id int,\n",
    "    name varchar(10),\n",
    "    regdate datetime\n",
    ");\n",
    "\n",
    "insert into tblmember(id,name,regdate)values(1,'홍길동','2020-12-25');\n",
    "insert into tblmember(id,name,regdate)values(2,'임꺽정',date('now'));\n",
    "'''\n",
    "\n",
    "import sqlite3\n",
    "\n",
    "conn=sqlite3.connect(\"sqlite/tbl.db\")\n",
    "cur = conn.cursor()\n",
    "cur.execute(\"select * from tblmember\")\n",
    "for i in cur:\n",
    "    print(i)\n",
    "conn.close()\n",
    "    "
   ]
  },
  {
   "cell_type": "code",
   "execution_count": 2,
   "metadata": {},
   "outputs": [
    {
     "name": "stdout",
     "output_type": "stream",
     "text": [
      "(1, '홍길동')\n",
      "(1, '홍길동')\n"
     ]
    }
   ],
   "source": [
    "# 자동으로 db생성하고 테이블 생성\n",
    "\n",
    "conn = sqlite3.connect(\"sqlite/auto.db\")\n",
    "cur = conn.cursor()\n",
    "cur.execute(\"create table if not exists tblmember(id int, name varchar(10))\")\n",
    "cur.execute(\"insert into tblmember values(1,'홍길동')\")\n",
    "conn.commit()\n",
    "\n",
    "cur.execute(\"select * from tblmember\")\n",
    "for i in cur:\n",
    "    print(i)\n",
    "\n",
    "conn.close()"
   ]
  },
  {
   "cell_type": "code",
   "execution_count": 8,
   "metadata": {},
   "outputs": [
    {
     "name": "stdout",
     "output_type": "stream",
     "text": [
      "('table', 'tblmember', 'tblmember', 2, 'CREATE TABLE tblmember(id int, name varchar(10))')\n",
      "('table', 'suppliers', 'suppliers', 3, 'CREATE TABLE suppliers( \\n    Supplier_Name varchar(20), \\n    Invoice_Number varchar(20), \\n    Part_Number varchar(20), \\n    Cost float,\\n    Purchase_Date date \\n)')\n"
     ]
    }
   ],
   "source": [
    "# csv 파일을  읽어들어서 DB에 저장\n",
    "\n",
    "import sqlite3\n",
    "import csv\n",
    "\n",
    "conn = sqlite3.connect(\"sqlite/auto.db\")\n",
    "cur = conn.cursor()\n",
    "\n",
    "# 테이블 조회(mysql=desc_\n",
    "tables = cur.execute(\"select * from sqlite_master where type = 'table'\") \n",
    "for i in tables:\n",
    "    print(i)\n",
    "\n",
    "# 파일 불러오기\n",
    "file = csv.reader(open(\"data/input.csv\",\"r\"),delimiter=\",\")\n",
    "# for i in file:\n",
    "#     print(i)\n",
    "\n",
    "next(file)\n",
    "for i in file:\n",
    "    cur.execute(\"insert into suppliers values(?, ?, ?, ?, ?)\",i)\n",
    "conn.commit()\n",
    "    \n",
    "conn.close()"
   ]
  },
  {
   "cell_type": "code",
   "execution_count": 11,
   "metadata": {},
   "outputs": [
    {
     "name": "stdout",
     "output_type": "stream",
     "text": [
      "('A', '001-1001', '2341', 500000.0, '2014-01-20')\n",
      "('A', '001-1002', '2341', 500000.0, '2014-01-20')\n",
      "('A', '001-1003', '5467', 750000.0, '2014-01-20')\n",
      "('A', '001-1004', '5467', 750000.0, '2014-01-20')\n",
      "('B', '001-1005', '7009', 250000.0, '2018-01-30')\n"
     ]
    }
   ],
   "source": [
    "# expert로 확인하거나 select로 확인\n",
    "conn = sqlite3.connect(\"sqlite/auto.db\")\n",
    "cur = conn.cursor()\n",
    "\n",
    "cur.execute(\"select * from suppliers\")\n",
    "for i in cur.fetchmany(5):\n",
    "    print(i)\n",
    "conn.close()"
   ]
  },
  {
   "cell_type": "code",
   "execution_count": 18,
   "metadata": {},
   "outputs": [
    {
     "name": "stdout",
     "output_type": "stream",
     "text": [
      "<sqlite3.Connection object at 0x7ffe567004e0>\n",
      "('tom', '010-111-1111')\n",
      "('Johnson', '010-222-2222')\n",
      "('jane', '010-333-3333')\n",
      "('jerry', '010-444-4444')\n",
      "('marry', '010-555-5555')\n"
     ]
    }
   ],
   "source": [
    "# Memory DB\n",
    "\n",
    "conn = sqlite3.connect(\":memory:\") # 메모리로 db생성(실제 파일로 저장 x)\n",
    "print(conn)\n",
    "cur = conn.cursor()\n",
    "\n",
    "cur.execute(\"create table phonebook(name varchar(10), phoneNum text);\")\n",
    "cur.execute(\"insert into phonebook values(?,?);\",(\"tom\",\"010-111-1111\"))\n",
    "\n",
    "# 입력 데이터 인자를 변수명으로 처리\n",
    "sql = \"insert into phonebook values(:vName, :vPhone)\"\n",
    "cur.execute(sql,{\"vPhone\":\"010-222-2222\",\"vName\":\"Johnson\"})\n",
    "\n",
    "# 여러 개의 데이터를 한번에 입력\n",
    "datalist = (('jane','010-333-3333'),('jerry','010-444-4444'),('marry','010-555-5555'))\n",
    "cur.executemany(\"insert into phonebook values(?,?)\",datalist)\n",
    "\n",
    "cur.execute(\"select * from phonebook\")\n",
    "for i in cur:\n",
    "    print(i)\n",
    "    \n",
    "# 지금 작업 내용을 script로 저장\n",
    "f = open(\"data/dump.sql\",\"w\")\n",
    "for line in conn.iterdump(): \n",
    "    f.write(\"{}\\n\".format(line))\n",
    "    \n",
    "f.close()\n",
    "conn.close()"
   ]
  },
  {
   "cell_type": "code",
   "execution_count": 5,
   "metadata": {},
   "outputs": [
    {
     "ename": "NameError",
     "evalue": "name 'sqlite3' is not defined",
     "output_type": "error",
     "traceback": [
      "\u001b[0;31m---------------------------------------------------------------------------\u001b[0m",
      "\u001b[0;31mNameError\u001b[0m                                 Traceback (most recent call last)",
      "\u001b[0;32m<ipython-input-5-a34290e2f7e8>\u001b[0m in \u001b[0;36m<module>\u001b[0;34m\u001b[0m\n\u001b[1;32m      1\u001b[0m \u001b[0;31m# 스크립트 불러오기\u001b[0m\u001b[0;34m\u001b[0m\u001b[0;34m\u001b[0m\u001b[0;34m\u001b[0m\u001b[0m\n\u001b[0;32m----> 2\u001b[0;31m \u001b[0mconn\u001b[0m \u001b[0;34m=\u001b[0m \u001b[0msqlite3\u001b[0m\u001b[0;34m.\u001b[0m\u001b[0mconnect\u001b[0m\u001b[0;34m(\u001b[0m\u001b[0;34m\"sqlite/auto.db\"\u001b[0m\u001b[0;34m)\u001b[0m\u001b[0;34m\u001b[0m\u001b[0;34m\u001b[0m\u001b[0m\n\u001b[0m\u001b[1;32m      3\u001b[0m \u001b[0mcur\u001b[0m \u001b[0;34m=\u001b[0m \u001b[0mconn\u001b[0m\u001b[0;34m.\u001b[0m\u001b[0mcursor\u001b[0m\u001b[0;34m(\u001b[0m\u001b[0;34m)\u001b[0m\u001b[0;34m\u001b[0m\u001b[0;34m\u001b[0m\u001b[0m\n\u001b[1;32m      4\u001b[0m \u001b[0;34m\u001b[0m\u001b[0m\n\u001b[1;32m      5\u001b[0m \u001b[0mfile\u001b[0m \u001b[0;34m=\u001b[0m \u001b[0mopen\u001b[0m\u001b[0;34m(\u001b[0m\u001b[0;34m\"data/dump.sql\"\u001b[0m\u001b[0;34m,\u001b[0m \u001b[0;34m\"r\"\u001b[0m\u001b[0;34m)\u001b[0m\u001b[0;34m\u001b[0m\u001b[0;34m\u001b[0m\u001b[0m\n",
      "\u001b[0;31mNameError\u001b[0m: name 'sqlite3' is not defined"
     ]
    }
   ],
   "source": [
    "# 스크립트 불러오기\n",
    "conn = sqlite3.connect(\"sqlite/auto.db\")\n",
    "cur = conn.cursor()\n",
    "\n",
    "file = open(\"data/dump.sql\", \"r\")\n",
    "script = file.read()\n",
    "print(script)\n",
    "\n",
    "cur.executescript(script)\n",
    "\n",
    "conn.close()"
   ]
  },
  {
   "cell_type": "markdown",
   "metadata": {},
   "source": [
    "---\n",
    "## 3. 파이썬과 MongoDB 연동\n",
    "+ pip install mymongo"
   ]
  },
  {
   "cell_type": "markdown",
   "metadata": {},
   "source": [
    "### (1) 서버 연결"
   ]
  },
  {
   "cell_type": "code",
   "execution_count": 9,
   "metadata": {},
   "outputs": [
    {
     "ename": "NameError",
     "evalue": "name 'pymongo' is not defined",
     "output_type": "error",
     "traceback": [
      "\u001b[0;31m---------------------------------------------------------------------------\u001b[0m",
      "\u001b[0;31mNameError\u001b[0m                                 Traceback (most recent call last)",
      "\u001b[0;32m<ipython-input-9-dc5aa2669790>\u001b[0m in \u001b[0;36m<module>\u001b[0;34m\u001b[0m\n\u001b[1;32m      1\u001b[0m \u001b[0;31m# import pymongo\u001b[0m\u001b[0;34m\u001b[0m\u001b[0;34m\u001b[0m\u001b[0;34m\u001b[0m\u001b[0m\n\u001b[1;32m      2\u001b[0m \u001b[0;32mfrom\u001b[0m \u001b[0mpymongo\u001b[0m \u001b[0;32mimport\u001b[0m \u001b[0mMongoClient\u001b[0m\u001b[0;34m\u001b[0m\u001b[0;34m\u001b[0m\u001b[0m\n\u001b[0;32m----> 3\u001b[0;31m \u001b[0mconn\u001b[0m \u001b[0;34m=\u001b[0m \u001b[0mpymongo\u001b[0m\u001b[0;34m.\u001b[0m\u001b[0mMongoClient\u001b[0m\u001b[0;34m(\u001b[0m\u001b[0;34m\"127.0.0.1\"\u001b[0m\u001b[0;34m,\u001b[0m\u001b[0;36m27017\u001b[0m\u001b[0;34m)\u001b[0m \u001b[0;31m# 27017: mongod로 port번호 확인\u001b[0m\u001b[0;34m\u001b[0m\u001b[0;34m\u001b[0m\u001b[0m\n\u001b[0m\u001b[1;32m      4\u001b[0m \u001b[0mprint\u001b[0m\u001b[0;34m(\u001b[0m\u001b[0mconn\u001b[0m\u001b[0;34m)\u001b[0m\u001b[0;34m\u001b[0m\u001b[0;34m\u001b[0m\u001b[0m\n\u001b[1;32m      5\u001b[0m \u001b[0mconn\u001b[0m\u001b[0;34m.\u001b[0m\u001b[0mclose\u001b[0m\u001b[0;34m(\u001b[0m\u001b[0;34m)\u001b[0m\u001b[0;34m\u001b[0m\u001b[0;34m\u001b[0m\u001b[0m\n",
      "\u001b[0;31mNameError\u001b[0m: name 'pymongo' is not defined"
     ]
    }
   ],
   "source": [
    "# import pymongo\n",
    "from pymongo import MongoClient\n",
    "conn = pymongo.MongoClient(\"127.0.0.1\",27017) # 27017: mongod로 port번호 확인\n",
    "print(conn)\n",
    "conn.close()"
   ]
  },
  {
   "cell_type": "markdown",
   "metadata": {},
   "source": [
    "### (2) DB 연결"
   ]
  },
  {
   "cell_type": "code",
   "execution_count": 8,
   "metadata": {},
   "outputs": [
    {
     "name": "stdout",
     "output_type": "stream",
     "text": [
      "Database(MongoClient(host=['127.0.0.1:27017'], document_class=dict, tz_aware=False, connect=True), 'test')\n"
     ]
    }
   ],
   "source": [
    "conn = MongoClient(\"127.0.0.1\",27017)\n",
    "\n",
    "# dbname = conn.get_database(\"test\")\n",
    "# dbname = conn.test\n",
    "# dbname = conn.test2\n",
    "\n",
    "dbname = conn[\"test\"]\n",
    "print(dbname)\n",
    "\n",
    "conn.close()"
   ]
  },
  {
   "cell_type": "markdown",
   "metadata": {},
   "source": [
    "### (3) Collenction 연결"
   ]
  },
  {
   "cell_type": "code",
   "execution_count": 10,
   "metadata": {},
   "outputs": [
    {
     "name": "stdout",
     "output_type": "stream",
     "text": [
      "Collection(Database(MongoClient(host=['127.0.0.1:27017'], document_class=dict, tz_aware=False, connect=True), 'test'), 'articles')\n"
     ]
    }
   ],
   "source": [
    "conn = MongoClient(\"127.0.0.1\",27017)\n",
    "dbname = conn.test\n",
    "\n",
    "# collect = dbname.articles\n",
    "collect = dbname[\"articles\"]\n",
    "print(collect)\n",
    "\n",
    "conn.close()"
   ]
  },
  {
   "cell_type": "markdown",
   "metadata": {},
   "source": [
    "### (4) 데이터 입력(1개)"
   ]
  },
  {
   "cell_type": "code",
   "execution_count": 18,
   "metadata": {
    "scrolled": true
   },
   "outputs": [
    {
     "name": "stdout",
     "output_type": "stream",
     "text": [
      "7\n",
      "{'_id': ObjectId('608a592b8797955239964eca'), 'name': 'Abet', 'age': 20.0, 'score': 10.0}\n",
      "{'_id': ObjectId('608a592b8797955239964ecb'), 'name': 'Betty', 'age': 20.0, 'score': 10.0}\n",
      "{'_id': ObjectId('608a592b8797955239964ecc'), 'name': 'Charlie', 'age': 23.0, 'skills': ['mongodb', 'nodejs', 'pyhon'], 'c': ['c++']}\n",
      "{'_id': ObjectId('608a592b8797955239964ecd'), 'name': 'David', 'age': 23.0, 'score': 20.0}\n",
      "{'_id': ObjectId('608a627581e0a674cee112a0'), 'name': 'Elly', 'age': 17.0, 'score': 10.0}\n",
      "{'_id': ObjectId('608b571563079fa4922a6669'), 'author': 'Mike', 'text': 'my first blog post!', 'tag': ['mongodb', 'python']}\n",
      "{'_id': ObjectId('608b58d963079fa4922a666b'), 'author': 'Tom', 'text': 'my first blog post!', 'tag': ['mongodb', 'python']}\n"
     ]
    }
   ],
   "source": [
    "conn = MongoClient(\"127.0.0.1\",27017)\n",
    "dbname = conn.test\n",
    "collect = dbname.people\n",
    "\n",
    "# data = {\"author\":\"Mike\",\"text\":\"my first blog post!\",\"tag\":[\"mongodb\",\"python\"]}\n",
    "# collect.insert_one(data) # insert_one : 모듈에서 제공하는 입력함수\n",
    "\n",
    "# 입력하면서 id 가져오기\n",
    "# data = {\"author\":\"Tom\",\"text\":\"my first blog post!\",\"tag\":[\"mongodb\",\"python\"]}\n",
    "# post_id = collect.insert_one(data).inserted_id\n",
    "# print(post_id)\n",
    "\n",
    "print(collect.count_documents({})) # document 개수\n",
    "\n",
    "for i in collect.find():\n",
    "    print(i)\n",
    "\n",
    "\n",
    "conn.close()"
   ]
  },
  {
   "cell_type": "markdown",
   "metadata": {},
   "source": [
    "### (5) 데이터 입력(여러 개)"
   ]
  },
  {
   "cell_type": "code",
   "execution_count": 23,
   "metadata": {},
   "outputs": [
    {
     "name": "stdout",
     "output_type": "stream",
     "text": [
      "7\n",
      "17\n"
     ]
    }
   ],
   "source": [
    "conn = MongoClient(\"127.0.0.1\",27017)\n",
    "dbname = conn.test\n",
    "collect = dbname.people\n",
    "\n",
    "print(collect.count_documents({})) # document 개수\n",
    "\n",
    "collect.insert_many([{\"number\":i}for i in range(10)])# insert_many() : 여러개 입력 함수\n",
    "\n",
    "print(collect.count_documents({}))\n",
    "\n",
    "conn.close()"
   ]
  },
  {
   "cell_type": "code",
   "execution_count": 29,
   "metadata": {},
   "outputs": [
    {
     "name": "stdout",
     "output_type": "stream",
     "text": [
      "[{'number': 0}, {'number': 1}, {'number': 2}, {'number': 3}, {'number': 4}, {'number': 5}, {'number': 6}, {'number': 7}, {'number': 8}, {'number': 9}]\n"
     ]
    }
   ],
   "source": [
    "datas = []\n",
    "for i in range(10):\n",
    "    data = {\"number\" : i}\n",
    "    datas.append(data)\n",
    "print(datas)"
   ]
  },
  {
   "cell_type": "code",
   "execution_count": 31,
   "metadata": {},
   "outputs": [],
   "source": [
    "conn = MongoClient(\"127.0.0.1\",27017)\n",
    "dbname = conn.test\n",
    "collect = dbname.people\n",
    "\n",
    "data = list()\n",
    "data.append({\"name\":\"aron\",\"age\":20})\n",
    "data.append({\"name\":\"tom\",\"age\":21})\n",
    "data.append({\"name\":\"jane\",\"age\":22})\n",
    "data.append({\"name\":\"jerry\",\"age\":23})\n",
    "\n",
    "collect.insert_many(data)\n",
    "conn.close()"
   ]
  },
  {
   "cell_type": "markdown",
   "metadata": {},
   "source": [
    "### (6) 조회"
   ]
  },
  {
   "cell_type": "code",
   "execution_count": 53,
   "metadata": {},
   "outputs": [
    {
     "name": "stdout",
     "output_type": "stream",
     "text": [
      "{'_id': ObjectId('608a592b8797955239964eca'), 'name': 'Abet', 'age': 20.0, 'score': 10.0}\n",
      "{'_id': ObjectId('608a592b8797955239964ecb'), 'name': 'Betty', 'age': 20.0, 'score': 10.0}\n",
      "{'_id': ObjectId('608b5eab63079fa4922a667e'), 'name': 'aron', 'age': 20}\n",
      "----------------------------------------------------------------------------------------------------\n",
      "{'_id': ObjectId('608a592b8797955239964ecc'), 'name': 'Charlie', 'age': 23.0, 'skills': ['mongodb', 'nodejs', 'pyhon'], 'c': ['c++']}\n",
      "{'_id': ObjectId('608a592b8797955239964ecd'), 'name': 'David', 'age': 23.0, 'score': 20.0}\n",
      "{'_id': ObjectId('608b5eab63079fa4922a6681'), 'name': 'jerry', 'age': 23}\n",
      "----------------------------------------------------------------------------------------------------\n",
      "{'_id': ObjectId('608a592b8797955239964eca'), 'name': 'Abet', 'age': 20.0, 'score': 10.0}\n",
      "{'_id': ObjectId('608a592b8797955239964ecc'), 'name': 'Charlie', 'age': 23.0, 'skills': ['mongodb', 'nodejs', 'pyhon'], 'c': ['c++']}\n"
     ]
    }
   ],
   "source": [
    "conn = MongoClient(\"127.0.0.1\",27017)\n",
    "dbname = conn.test\n",
    "collect = dbname.people\n",
    "\n",
    "# # 전체 조회\n",
    "# for i in collect.find():\n",
    "#     print(i)\n",
    "    \n",
    "# 나이가 20살인 documents 조회\n",
    "for i in collect.find({\"age\":20}):\n",
    "    print(i)\n",
    "    \n",
    "print(\"-\"*100)\n",
    "    \n",
    "# 나이가 23세 이상인 document 조회\n",
    "for i in collect.find({\"age\":{\"$gte\":23}}):\n",
    "    print(i)\n",
    "    \n",
    "print(\"-\"*100)\n",
    "\n",
    "print(collect.find_one())\n",
    "print(collect.find_one({\"age\":{\"$gte\":23}}))\n",
    "    \n",
    "    \n",
    "conn.close()"
   ]
  },
  {
   "cell_type": "markdown",
   "metadata": {},
   "source": [
    "### (7) 수정"
   ]
  },
  {
   "cell_type": "code",
   "execution_count": 10,
   "metadata": {},
   "outputs": [
    {
     "ename": "SyntaxError",
     "evalue": "unexpected EOF while parsing (<ipython-input-10-c05688fd1e24>, line 13)",
     "output_type": "error",
     "traceback": [
      "\u001b[0;36m  File \u001b[0;32m\"<ipython-input-10-c05688fd1e24>\"\u001b[0;36m, line \u001b[0;32m13\u001b[0m\n\u001b[0;31m    print(collect.find_one({\"author\":\"Tom\"})\u001b[0m\n\u001b[0m                                            ^\u001b[0m\n\u001b[0;31mSyntaxError\u001b[0m\u001b[0;31m:\u001b[0m unexpected EOF while parsing\n"
     ]
    }
   ],
   "source": [
    "conn = MongoClient(\"127.0.0.1\",27017)\n",
    "dbname = conn.test\n",
    "collect = dbname.people\n",
    "\n",
    "print(collect.find_one({\"author\":\"Tom\"}))\n",
    "\n",
    "collect.update_one({\"author\":\"Tom\"},{\"$set\":{\"text\":\"my second blog post!\"}})\n",
    "\n",
    "print(collect.find_one({\"author\":\"Tom\"}))\n",
    "\n",
    "conn.close()\n",
    "\n"
   ]
  }
 ],
 "metadata": {
  "kernelspec": {
   "display_name": "Python 3",
   "language": "python",
   "name": "python3"
  },
  "language_info": {
   "codemirror_mode": {
    "name": "ipython",
    "version": 3
   },
   "file_extension": ".py",
   "mimetype": "text/x-python",
   "name": "python",
   "nbconvert_exporter": "python",
   "pygments_lexer": "ipython3",
   "version": "3.8.5"
  }
 },
 "nbformat": 4,
 "nbformat_minor": 4
}
